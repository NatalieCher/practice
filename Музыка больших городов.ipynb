{
 "cells": [
  {
   "cell_type": "markdown",
   "metadata": {},
   "source": [
    "<div style=\"border:solid green 2px; padding: 20px\">\n",
    "<b>Наталья, привет!</b>\n",
    "\n",
    "Меня зовут Евгений Дащенко, и я буду проверять твой проект. Предлагаю общаться на «ты» 😊 Но если это не удобно - дай знать, и мы перейдем на \"вы\". \n",
    "\n",
    "Моя основная цель — не указать на совершенные тобою ошибки, а поделиться своим опытом и помочь тебе стать аналитиком данных. Ты уже проделал большую работу над проектом, но давай сделаем его еще лучше. Ниже ты найдешь мои комментарии - пожалуйста, не перемещай, не изменяй и не удаляй их. Я буду использовать цветовую разметку:\n",
    "\n",
    "<div class=\"alert alert-danger\">\n",
    "<b>Критическая ошибка: ❌</b> Так выделены самые важные замечания. Без их отработки проект не будет принят. </div>\n",
    "\n",
    "<div class=\"alert alert-warning\">\n",
    "<b>Хорошо, но можно и лучше: ❗️</b> Так выделены небольшие замечания. Одна-два таких замечания в проекте допустимы, но если их будет больше - тебе будет необходимо внести исправления. Это как тестовое задание при приеме на работу: очень много мелких ошибок могут стать причиной отказа кандидату. \n",
    "\n",
    "</div>\n",
    "\n",
    "<div class=\"alert alert-success\">\n",
    "<b>Все отлично: ✅</b> Так я выделяю все остальные комментарии.</div>\n",
    "\n",
    "Давай работать над проектом в диалоге: если ты что-то меняешь в проекте или отвечаешь на мои комменатри — пиши об этом. Мне будет легче отследить изменения, если ты выделишь свои комментарии:\n",
    "<div class=\"alert alert-info\"> <b>Комментарий студента: ℹ️</b> Например, вот так.</div>\n",
    "\n",
    "Всё это поможет выполнить повторную проверку твоего проекта оперативнее. "
   ]
  },
  {
   "cell_type": "markdown",
   "metadata": {},
   "source": [
    "<div class=\"alert alert-info\">\n",
    "Привет!\n",
    "Меня зовут Наташа. На ты общаться удобно)\n",
    "Про выделение комментариев поняла.\n",
    "</div>"
   ]
  },
  {
   "cell_type": "markdown",
   "metadata": {},
   "source": [
    "# Исследование данных о продажах компьютерных игр\n",
    "\n",
    "\n",
    "Из открытых источников нам доступны исторические данные о продажах игр до 2016 года, оценки пользователей и экспертов, жанры и платформы. Необходимо выявить определяющие успешность игры закономерности. Это позволит сделать ставку на потенциально популярный продукт и спланировать рекламные кампании.\n",
    "    \n",
    "**Исследование пройдёт в несколько этапов:**\n",
    "\n",
    "- **Обзор данных** - изучим общую информацию, просмотрим каждый столбец датафрейма;\n",
    "    \n",
    "- **Предобработка данных** - удалим аномалии, заполним пропуски (где это возможно);\n",
    "    \n",
    "- **Исследовательский анализ данных:**\n",
    "    \n",
    "•\tПосмотрим, сколько игр выпускалось в разные годы.\n",
    "    \n",
    "•\tПосмотрим, как менялись продажи по платформам.\n",
    "    \n",
    "•\tВыберем несколько потенциально прибыльных платформ.\n",
    "    \n",
    "•\tПостроим графики для оценки глобальных продаж игр в разбивке по платформам. \n",
    "    \n",
    "•\tПосмотрим, как влияют на продажи внутри одной популярной платформы отзывы пользователей и критиков. Построим диаграмму рассеяния и посчитаем корреляцию между отзывами и продажами. \n",
    "    \n",
    "•\tСоотнесем выводы с продажами игр на других платформах.\n",
    "    \n",
    "•\tПосмотрим на общее распределение игр по жанрам. \n",
    "    \n",
    "• Составим портрет пользователя каждого региона\n",
    "\n",
    "    \n",
    "- **Проверим следующие гипотезы:**\n",
    "\n",
    "•\tСредние пользовательские рейтинги платформ Xbox One и PC одинаковые;\n",
    "\n",
    "•\tСредние пользовательские рейтинги жанров Action (англ. «действие», экшен-игры) и Sports (англ. «спортивные соревнования») разные."
   ]
  },
  {
   "cell_type": "markdown",
   "metadata": {},
   "source": [
    "<div class=\"alert alert-success\">\n",
    "<b>Комментарий ревьюера: ✅</b>\n",
    "\n",
    "Здорово, когда есть вступление в сам проект, каждый сможет быстрее разобраться в концепции / деталях работы. Можно также привести краткий план проведения самой работы и описание используемых столбцов. \n",
    "\n",
    "</div>"
   ]
  },
  {
   "cell_type": "markdown",
   "metadata": {},
   "source": [
    "### Общая информация "
   ]
  },
  {
   "cell_type": "code",
   "execution_count": 261,
   "metadata": {},
   "outputs": [],
   "source": [
    "import pandas as pd\n",
    "import seaborn as sns\n",
    "import matplotlib.pyplot as plt\n",
    "from scipy import stats as st\n",
    "import numpy as np"
   ]
  },
  {
   "cell_type": "code",
   "execution_count": 262,
   "metadata": {},
   "outputs": [],
   "source": [
    "df = pd.read_csv('/datasets/games.csv')"
   ]
  },
  {
   "cell_type": "code",
   "execution_count": 263,
   "metadata": {},
   "outputs": [
    {
     "data": {
      "text/html": [
       "<div>\n",
       "<style scoped>\n",
       "    .dataframe tbody tr th:only-of-type {\n",
       "        vertical-align: middle;\n",
       "    }\n",
       "\n",
       "    .dataframe tbody tr th {\n",
       "        vertical-align: top;\n",
       "    }\n",
       "\n",
       "    .dataframe thead th {\n",
       "        text-align: right;\n",
       "    }\n",
       "</style>\n",
       "<table border=\"1\" class=\"dataframe\">\n",
       "  <thead>\n",
       "    <tr style=\"text-align: right;\">\n",
       "      <th></th>\n",
       "      <th>Name</th>\n",
       "      <th>Platform</th>\n",
       "      <th>Year_of_Release</th>\n",
       "      <th>Genre</th>\n",
       "      <th>NA_sales</th>\n",
       "      <th>EU_sales</th>\n",
       "      <th>JP_sales</th>\n",
       "      <th>Other_sales</th>\n",
       "      <th>Critic_Score</th>\n",
       "      <th>User_Score</th>\n",
       "      <th>Rating</th>\n",
       "    </tr>\n",
       "  </thead>\n",
       "  <tbody>\n",
       "    <tr>\n",
       "      <th>0</th>\n",
       "      <td>Wii Sports</td>\n",
       "      <td>Wii</td>\n",
       "      <td>2006.0</td>\n",
       "      <td>Sports</td>\n",
       "      <td>41.36</td>\n",
       "      <td>28.96</td>\n",
       "      <td>3.77</td>\n",
       "      <td>8.45</td>\n",
       "      <td>76.0</td>\n",
       "      <td>8</td>\n",
       "      <td>E</td>\n",
       "    </tr>\n",
       "    <tr>\n",
       "      <th>1</th>\n",
       "      <td>Super Mario Bros.</td>\n",
       "      <td>NES</td>\n",
       "      <td>1985.0</td>\n",
       "      <td>Platform</td>\n",
       "      <td>29.08</td>\n",
       "      <td>3.58</td>\n",
       "      <td>6.81</td>\n",
       "      <td>0.77</td>\n",
       "      <td>NaN</td>\n",
       "      <td>NaN</td>\n",
       "      <td>NaN</td>\n",
       "    </tr>\n",
       "    <tr>\n",
       "      <th>2</th>\n",
       "      <td>Mario Kart Wii</td>\n",
       "      <td>Wii</td>\n",
       "      <td>2008.0</td>\n",
       "      <td>Racing</td>\n",
       "      <td>15.68</td>\n",
       "      <td>12.76</td>\n",
       "      <td>3.79</td>\n",
       "      <td>3.29</td>\n",
       "      <td>82.0</td>\n",
       "      <td>8.3</td>\n",
       "      <td>E</td>\n",
       "    </tr>\n",
       "    <tr>\n",
       "      <th>3</th>\n",
       "      <td>Wii Sports Resort</td>\n",
       "      <td>Wii</td>\n",
       "      <td>2009.0</td>\n",
       "      <td>Sports</td>\n",
       "      <td>15.61</td>\n",
       "      <td>10.93</td>\n",
       "      <td>3.28</td>\n",
       "      <td>2.95</td>\n",
       "      <td>80.0</td>\n",
       "      <td>8</td>\n",
       "      <td>E</td>\n",
       "    </tr>\n",
       "    <tr>\n",
       "      <th>4</th>\n",
       "      <td>Pokemon Red/Pokemon Blue</td>\n",
       "      <td>GB</td>\n",
       "      <td>1996.0</td>\n",
       "      <td>Role-Playing</td>\n",
       "      <td>11.27</td>\n",
       "      <td>8.89</td>\n",
       "      <td>10.22</td>\n",
       "      <td>1.00</td>\n",
       "      <td>NaN</td>\n",
       "      <td>NaN</td>\n",
       "      <td>NaN</td>\n",
       "    </tr>\n",
       "  </tbody>\n",
       "</table>\n",
       "</div>"
      ],
      "text/plain": [
       "                       Name Platform  Year_of_Release         Genre  NA_sales  \\\n",
       "0                Wii Sports      Wii           2006.0        Sports     41.36   \n",
       "1         Super Mario Bros.      NES           1985.0      Platform     29.08   \n",
       "2            Mario Kart Wii      Wii           2008.0        Racing     15.68   \n",
       "3         Wii Sports Resort      Wii           2009.0        Sports     15.61   \n",
       "4  Pokemon Red/Pokemon Blue       GB           1996.0  Role-Playing     11.27   \n",
       "\n",
       "   EU_sales  JP_sales  Other_sales  Critic_Score User_Score Rating  \n",
       "0     28.96      3.77         8.45          76.0          8      E  \n",
       "1      3.58      6.81         0.77           NaN        NaN    NaN  \n",
       "2     12.76      3.79         3.29          82.0        8.3      E  \n",
       "3     10.93      3.28         2.95          80.0          8      E  \n",
       "4      8.89     10.22         1.00           NaN        NaN    NaN  "
      ]
     },
     "execution_count": 263,
     "metadata": {},
     "output_type": "execute_result"
    }
   ],
   "source": [
    "df.head()"
   ]
  },
  {
   "cell_type": "code",
   "execution_count": 264,
   "metadata": {},
   "outputs": [
    {
     "name": "stdout",
     "output_type": "stream",
     "text": [
      "<class 'pandas.core.frame.DataFrame'>\n",
      "RangeIndex: 16715 entries, 0 to 16714\n",
      "Data columns (total 11 columns):\n",
      " #   Column           Non-Null Count  Dtype  \n",
      "---  ------           --------------  -----  \n",
      " 0   Name             16713 non-null  object \n",
      " 1   Platform         16715 non-null  object \n",
      " 2   Year_of_Release  16446 non-null  float64\n",
      " 3   Genre            16713 non-null  object \n",
      " 4   NA_sales         16715 non-null  float64\n",
      " 5   EU_sales         16715 non-null  float64\n",
      " 6   JP_sales         16715 non-null  float64\n",
      " 7   Other_sales      16715 non-null  float64\n",
      " 8   Critic_Score     8137 non-null   float64\n",
      " 9   User_Score       10014 non-null  object \n",
      " 10  Rating           9949 non-null   object \n",
      "dtypes: float64(6), object(5)\n",
      "memory usage: 1.4+ MB\n"
     ]
    }
   ],
   "source": [
    "df.info()"
   ]
  },
  {
   "cell_type": "markdown",
   "metadata": {},
   "source": [
    "В информации о датасете мы видим, что в данных есть пропуски, обработкой столбцов с пропусками мы займемся далее.\n",
    "\n",
    "Также необходимо изменить тип данных в столбцах с датой выпуска игры и оценкой пользвателя."
   ]
  },
  {
   "cell_type": "markdown",
   "metadata": {},
   "source": [
    "### Подготовка данных"
   ]
  },
  {
   "cell_type": "markdown",
   "metadata": {},
   "source": [
    "На данном этапе мы подготовим данные для дальнейшего исследования. Приведем названия к корректному виду, обработаем пропуски, преобразуем данные в нужные типы. Также создадим отдельный столбец с суммарными продажами по всем регионам."
   ]
  },
  {
   "cell_type": "code",
   "execution_count": 265,
   "metadata": {},
   "outputs": [],
   "source": [
    "df = df.rename(columns={'Name':'name','Platform': 'platform', 'Year_of_Release': 'year_of_release','Genre':'genre', 'NA_sales':'na_sales','EU_sales':'eu_sales','JP_sales':'jp_sales', 'Other_sales':'other_sales','Critic_Score':'critic_score', 'User_Score':'user_score', 'Rating':'rating' }) #приведем названия столбцов к нижнему регистру"
   ]
  },
  {
   "cell_type": "markdown",
   "metadata": {},
   "source": [
    "<div class=\"alert alert-success\">\n",
    "<b>Комментарий ревьюера: ✅</b>\n",
    "\n",
    "Отличный и безопасный способ заменить регистр в наших данных 👍\n",
    "    \n",
    "Мы также можем использовать метод `df.columns.str.lower()`\n",
    "</div>"
   ]
  },
  {
   "cell_type": "markdown",
   "metadata": {},
   "source": [
    "Посмотрим на уникальные значения в столбцах, в которых планируем смену типа данных."
   ]
  },
  {
   "cell_type": "code",
   "execution_count": 266,
   "metadata": {},
   "outputs": [
    {
     "data": {
      "text/plain": [
       "array([2006., 1985., 2008., 2009., 1996., 1989., 1984., 2005., 1999.,\n",
       "       2007., 2010., 2013., 2004., 1990., 1988., 2002., 2001., 2011.,\n",
       "       1998., 2015., 2012., 2014., 1992., 1997., 1993., 1994., 1982.,\n",
       "       2016., 2003., 1986., 2000.,   nan, 1995., 1991., 1981., 1987.,\n",
       "       1980., 1983.])"
      ]
     },
     "execution_count": 266,
     "metadata": {},
     "output_type": "execute_result"
    }
   ],
   "source": [
    "df['year_of_release'].unique()"
   ]
  },
  {
   "cell_type": "code",
   "execution_count": 267,
   "metadata": {},
   "outputs": [
    {
     "data": {
      "text/plain": [
       "array(['8', nan, '8.3', '8.5', '6.6', '8.4', '8.6', '7.7', '6.3', '7.4',\n",
       "       '8.2', '9', '7.9', '8.1', '8.7', '7.1', '3.4', '5.3', '4.8', '3.2',\n",
       "       '8.9', '6.4', '7.8', '7.5', '2.6', '7.2', '9.2', '7', '7.3', '4.3',\n",
       "       '7.6', '5.7', '5', '9.1', '6.5', 'tbd', '8.8', '6.9', '9.4', '6.8',\n",
       "       '6.1', '6.7', '5.4', '4', '4.9', '4.5', '9.3', '6.2', '4.2', '6',\n",
       "       '3.7', '4.1', '5.8', '5.6', '5.5', '4.4', '4.6', '5.9', '3.9',\n",
       "       '3.1', '2.9', '5.2', '3.3', '4.7', '5.1', '3.5', '2.5', '1.9', '3',\n",
       "       '2.7', '2.2', '2', '9.5', '2.1', '3.6', '2.8', '1.8', '3.8', '0',\n",
       "       '1.6', '9.6', '2.4', '1.7', '1.1', '0.3', '1.5', '0.7', '1.2',\n",
       "       '2.3', '0.5', '1.3', '0.2', '0.6', '1.4', '0.9', '1', '9.7'],\n",
       "      dtype=object)"
      ]
     },
     "execution_count": 267,
     "metadata": {},
     "output_type": "execute_result"
    }
   ],
   "source": [
    "df['user_score'].unique()"
   ]
  },
  {
   "cell_type": "markdown",
   "metadata": {},
   "source": [
    "В столбце с рейтингом пользователей есть значение \"tbd\", вероятнее всего оно относится к играм, которые еще не получили оценки. Заменим данное значение на Nan, чтобы в дальнейшем была возможность изменить тип данных на числовой."
   ]
  },
  {
   "cell_type": "code",
   "execution_count": 268,
   "metadata": {},
   "outputs": [],
   "source": [
    "df.loc[df['user_score'] == 'tbd', 'user_score'] = np.nan"
   ]
  },
  {
   "cell_type": "code",
   "execution_count": 269,
   "metadata": {},
   "outputs": [
    {
     "data": {
      "text/plain": [
       "array(['8', nan, '8.3', '8.5', '6.6', '8.4', '8.6', '7.7', '6.3', '7.4',\n",
       "       '8.2', '9', '7.9', '8.1', '8.7', '7.1', '3.4', '5.3', '4.8', '3.2',\n",
       "       '8.9', '6.4', '7.8', '7.5', '2.6', '7.2', '9.2', '7', '7.3', '4.3',\n",
       "       '7.6', '5.7', '5', '9.1', '6.5', '8.8', '6.9', '9.4', '6.8', '6.1',\n",
       "       '6.7', '5.4', '4', '4.9', '4.5', '9.3', '6.2', '4.2', '6', '3.7',\n",
       "       '4.1', '5.8', '5.6', '5.5', '4.4', '4.6', '5.9', '3.9', '3.1',\n",
       "       '2.9', '5.2', '3.3', '4.7', '5.1', '3.5', '2.5', '1.9', '3', '2.7',\n",
       "       '2.2', '2', '9.5', '2.1', '3.6', '2.8', '1.8', '3.8', '0', '1.6',\n",
       "       '9.6', '2.4', '1.7', '1.1', '0.3', '1.5', '0.7', '1.2', '2.3',\n",
       "       '0.5', '1.3', '0.2', '0.6', '1.4', '0.9', '1', '9.7'], dtype=object)"
      ]
     },
     "execution_count": 269,
     "metadata": {},
     "output_type": "execute_result"
    }
   ],
   "source": [
    "df['user_score'].unique()"
   ]
  },
  {
   "cell_type": "code",
   "execution_count": 270,
   "metadata": {},
   "outputs": [],
   "source": [
    "df['year_of_release']= df['year_of_release'].astype('Int64')\n",
    "df['user_score']=df['user_score'].astype('float')"
   ]
  },
  {
   "cell_type": "markdown",
   "metadata": {},
   "source": [
    "<div class=\"alert alert-success\">\n",
    "<b>Комментарий ревьюера: ✅</b>\n",
    "\n",
    "В том числе метод `fillna` и `astype` можно применять к нескольким столбцам одновременно.\n",
    "    \n",
    "Если столбцов более 2–ух, то рекомендую применять цикл `for`.\n",
    "    \n",
    "Пример: \n",
    "    \n",
    "`df.astype({ \"col1\": \"float64\", \"col2\": \"int64\"})`\n",
    "    \n",
    "</div>"
   ]
  },
  {
   "cell_type": "markdown",
   "metadata": {},
   "source": [
    "На данном этапе мы заменили типы данных в колонках с годом выпуска игры (на тип int), а также в колонке с рейтингом пользователей на числовой тип. Это позволит нам в дальнейшем использовать данные для анализа. Теперь займемся пропусками. "
   ]
  },
  {
   "cell_type": "code",
   "execution_count": 271,
   "metadata": {
    "scrolled": true
   },
   "outputs": [
    {
     "data": {
      "text/plain": [
       "name                  2\n",
       "platform              0\n",
       "year_of_release     269\n",
       "genre                 2\n",
       "na_sales              0\n",
       "eu_sales              0\n",
       "jp_sales              0\n",
       "other_sales           0\n",
       "critic_score       8578\n",
       "user_score         9125\n",
       "rating             6766\n",
       "dtype: int64"
      ]
     },
     "execution_count": 271,
     "metadata": {},
     "output_type": "execute_result"
    }
   ],
   "source": [
    "df.isna().sum()"
   ]
  },
  {
   "cell_type": "markdown",
   "metadata": {},
   "source": [
    "Пропущенные данные есть в столбцах с названием игры, годом выпуска, жанром, оценкой критиков, рейтингом и оценкой пользователя."
   ]
  },
  {
   "cell_type": "markdown",
   "metadata": {},
   "source": [
    "#### name, year_of_release, genre "
   ]
  },
  {
   "cell_type": "markdown",
   "metadata": {},
   "source": [
    "Доля пропусков в данных столбцах менее 5% и для экономии времени их можно удалить. Вероятнее всего пропуски возникли в результате человеческого фактора (забыли внести при заполнении)."
   ]
  },
  {
   "cell_type": "code",
   "execution_count": 272,
   "metadata": {},
   "outputs": [],
   "source": [
    "df.dropna(subset = ['name', 'year_of_release', 'genre'], inplace = True)"
   ]
  },
  {
   "cell_type": "markdown",
   "metadata": {},
   "source": [
    "<div class=\"alert alert-warning\">\n",
    "<b>Комментарий ревьюера: ❗️</b>\n",
    "\n",
    "Я бы рекомендовал не использовать атрибут `inplace`, так как в последующих обновлениях библотеки `pandas` он будет удален.\n",
    "    \n",
    "Лучше всего переопределять переменные. \n",
    "    \n",
    "</div>"
   ]
  },
  {
   "cell_type": "markdown",
   "metadata": {},
   "source": [
    "#### critic_score, user_score,  rating       "
   ]
  },
  {
   "cell_type": "markdown",
   "metadata": {},
   "source": [
    "В данных столбцах большое количество пропусков. Пропуски в оценках могли возникнуть из-за их отсутствия (например, если игра вышла недавно). Заполнять средним или медианным значением, по моему мнению, не совсем корректно, т.к. это может создать лишний \"шум\" в данных и исказить дальнейшее исследование. Оставим пропуски без изменений.\n",
    "Пропуски в рейтинге могли возникнуть из-за человеческого фактора, а также из-за того, что рейтинг конкретной игре не присвоен. Заполним пропуски значением \"unknow\"."
   ]
  },
  {
   "cell_type": "code",
   "execution_count": 273,
   "metadata": {},
   "outputs": [],
   "source": [
    "df['rating'] = df['rating'].fillna('unknow') "
   ]
  },
  {
   "cell_type": "code",
   "execution_count": 274,
   "metadata": {},
   "outputs": [
    {
     "data": {
      "text/plain": [
       "name                  0\n",
       "platform              0\n",
       "year_of_release       0\n",
       "genre                 0\n",
       "na_sales              0\n",
       "eu_sales              0\n",
       "jp_sales              0\n",
       "other_sales           0\n",
       "critic_score       8461\n",
       "user_score         8981\n",
       "rating                0\n",
       "dtype: int64"
      ]
     },
     "execution_count": 274,
     "metadata": {},
     "output_type": "execute_result"
    }
   ],
   "source": [
    "df.isna().sum()"
   ]
  },
  {
   "cell_type": "markdown",
   "metadata": {},
   "source": [
    "Еще раз проверим наличие пропусков - мы видим, что пропуски остались в столбцах с оценками, датафрейм подготовлен к анализу. \n",
    "\n",
    "Далее рассчитаем суммарные продажи во всех регионах и запишем их в отдельный столбец."
   ]
  },
  {
   "cell_type": "markdown",
   "metadata": {},
   "source": [
    "#### Суммарные продажи по регионам"
   ]
  },
  {
   "cell_type": "markdown",
   "metadata": {},
   "source": [
    "Для того, чтобы посчитать суммарные продажи по регионам, создадим новый столбец sales_sum"
   ]
  },
  {
   "cell_type": "code",
   "execution_count": 275,
   "metadata": {},
   "outputs": [],
   "source": [
    "df['sales_sum'] = df['na_sales'] + df['eu_sales'] + df['jp_sales'] + df['other_sales']"
   ]
  },
  {
   "cell_type": "markdown",
   "metadata": {},
   "source": [
    "<div class=\"alert alert-success\">\n",
    "<b>Комментарий ревьюера: ✅</b>\n",
    "\n",
    "Кстати мы можем применить метод `sum(axis=1)` к суммируемым столбцам.\n",
    "    \n",
    "`df[['col1', 'col2', 'col3']].sum(axis=1)`\n",
    "</div>"
   ]
  },
  {
   "cell_type": "code",
   "execution_count": 276,
   "metadata": {},
   "outputs": [
    {
     "data": {
      "text/html": [
       "<div>\n",
       "<style scoped>\n",
       "    .dataframe tbody tr th:only-of-type {\n",
       "        vertical-align: middle;\n",
       "    }\n",
       "\n",
       "    .dataframe tbody tr th {\n",
       "        vertical-align: top;\n",
       "    }\n",
       "\n",
       "    .dataframe thead th {\n",
       "        text-align: right;\n",
       "    }\n",
       "</style>\n",
       "<table border=\"1\" class=\"dataframe\">\n",
       "  <thead>\n",
       "    <tr style=\"text-align: right;\">\n",
       "      <th></th>\n",
       "      <th>name</th>\n",
       "      <th>platform</th>\n",
       "      <th>year_of_release</th>\n",
       "      <th>genre</th>\n",
       "      <th>na_sales</th>\n",
       "      <th>eu_sales</th>\n",
       "      <th>jp_sales</th>\n",
       "      <th>other_sales</th>\n",
       "      <th>critic_score</th>\n",
       "      <th>user_score</th>\n",
       "      <th>rating</th>\n",
       "      <th>sales_sum</th>\n",
       "    </tr>\n",
       "  </thead>\n",
       "  <tbody>\n",
       "    <tr>\n",
       "      <th>0</th>\n",
       "      <td>Wii Sports</td>\n",
       "      <td>Wii</td>\n",
       "      <td>2006</td>\n",
       "      <td>Sports</td>\n",
       "      <td>41.36</td>\n",
       "      <td>28.96</td>\n",
       "      <td>3.77</td>\n",
       "      <td>8.45</td>\n",
       "      <td>76.0</td>\n",
       "      <td>8.0</td>\n",
       "      <td>E</td>\n",
       "      <td>82.54</td>\n",
       "    </tr>\n",
       "    <tr>\n",
       "      <th>1</th>\n",
       "      <td>Super Mario Bros.</td>\n",
       "      <td>NES</td>\n",
       "      <td>1985</td>\n",
       "      <td>Platform</td>\n",
       "      <td>29.08</td>\n",
       "      <td>3.58</td>\n",
       "      <td>6.81</td>\n",
       "      <td>0.77</td>\n",
       "      <td>NaN</td>\n",
       "      <td>NaN</td>\n",
       "      <td>unknow</td>\n",
       "      <td>40.24</td>\n",
       "    </tr>\n",
       "    <tr>\n",
       "      <th>2</th>\n",
       "      <td>Mario Kart Wii</td>\n",
       "      <td>Wii</td>\n",
       "      <td>2008</td>\n",
       "      <td>Racing</td>\n",
       "      <td>15.68</td>\n",
       "      <td>12.76</td>\n",
       "      <td>3.79</td>\n",
       "      <td>3.29</td>\n",
       "      <td>82.0</td>\n",
       "      <td>8.3</td>\n",
       "      <td>E</td>\n",
       "      <td>35.52</td>\n",
       "    </tr>\n",
       "    <tr>\n",
       "      <th>3</th>\n",
       "      <td>Wii Sports Resort</td>\n",
       "      <td>Wii</td>\n",
       "      <td>2009</td>\n",
       "      <td>Sports</td>\n",
       "      <td>15.61</td>\n",
       "      <td>10.93</td>\n",
       "      <td>3.28</td>\n",
       "      <td>2.95</td>\n",
       "      <td>80.0</td>\n",
       "      <td>8.0</td>\n",
       "      <td>E</td>\n",
       "      <td>32.77</td>\n",
       "    </tr>\n",
       "    <tr>\n",
       "      <th>4</th>\n",
       "      <td>Pokemon Red/Pokemon Blue</td>\n",
       "      <td>GB</td>\n",
       "      <td>1996</td>\n",
       "      <td>Role-Playing</td>\n",
       "      <td>11.27</td>\n",
       "      <td>8.89</td>\n",
       "      <td>10.22</td>\n",
       "      <td>1.00</td>\n",
       "      <td>NaN</td>\n",
       "      <td>NaN</td>\n",
       "      <td>unknow</td>\n",
       "      <td>31.38</td>\n",
       "    </tr>\n",
       "  </tbody>\n",
       "</table>\n",
       "</div>"
      ],
      "text/plain": [
       "                       name platform  year_of_release         genre  na_sales  \\\n",
       "0                Wii Sports      Wii             2006        Sports     41.36   \n",
       "1         Super Mario Bros.      NES             1985      Platform     29.08   \n",
       "2            Mario Kart Wii      Wii             2008        Racing     15.68   \n",
       "3         Wii Sports Resort      Wii             2009        Sports     15.61   \n",
       "4  Pokemon Red/Pokemon Blue       GB             1996  Role-Playing     11.27   \n",
       "\n",
       "   eu_sales  jp_sales  other_sales  critic_score  user_score  rating  \\\n",
       "0     28.96      3.77         8.45          76.0         8.0       E   \n",
       "1      3.58      6.81         0.77           NaN         NaN  unknow   \n",
       "2     12.76      3.79         3.29          82.0         8.3       E   \n",
       "3     10.93      3.28         2.95          80.0         8.0       E   \n",
       "4      8.89     10.22         1.00           NaN         NaN  unknow   \n",
       "\n",
       "   sales_sum  \n",
       "0      82.54  \n",
       "1      40.24  \n",
       "2      35.52  \n",
       "3      32.77  \n",
       "4      31.38  "
      ]
     },
     "execution_count": 276,
     "metadata": {},
     "output_type": "execute_result"
    }
   ],
   "source": [
    "df.head()"
   ]
  },
  {
   "cell_type": "markdown",
   "metadata": {},
   "source": [
    "**Вывод:**\n",
    "\n",
    "На данном этапе мы провели предобработку данных. Изменили типы данных в столбцах с оценкой пользователя и датой выпуска игры. Удалили пропущенные значения в колонках с названием игры, жанром и годом выпуска (т.к. количество пропусков было небольшим), пропуски в колонках с оценками оставили без изменений,  в колонке с рейтингом заменили на значение \"unknow\". Также был добавлен столбец с суммарными продажами по каждой игре, эти данные понадобятся нам на следующих шагах."
   ]
  },
  {
   "cell_type": "markdown",
   "metadata": {},
   "source": [
    "### Исследовательский анализ данных"
   ]
  },
  {
   "cell_type": "markdown",
   "metadata": {},
   "source": [
    " На данном этапе мы:\n",
    " \n",
    "• Посмотрим, сколько игр выпускалось в разные годы.\n",
    "\n",
    "• Посмотрим, как менялись продажи по платформам.\n",
    "\n",
    "• Выберем несколько потенциально прибыльных платформ.\n",
    "\n",
    "• Построим графики для оценки глобальных продаж игр в разбивке по платформам.\n",
    "\n",
    "• Посмотрим, как влияют на продажи внутри одной популярной платформы отзывы пользователей и критиков. Построим диаграмму рассеяния и посчитаем корреляцию между отзывами и продажами.\n",
    "\n",
    "• Соотнесем выводы с продажами игр на других платформах.\n",
    "\n",
    "• Посмотрим на общее распределение игр по жанрам.\n",
    "\n"
   ]
  },
  {
   "cell_type": "code",
   "execution_count": 277,
   "metadata": {
    "scrolled": true
   },
   "outputs": [
    {
     "data": {
      "image/png": "[encoded data removed]",
      "text/plain": [
       "<Figure size 576x288 with 1 Axes>"
      ]
     },
     "metadata": {
      "needs_background": "light"
     },
     "output_type": "display_data"
    },
    {
     "data": {
      "text/plain": [
       "''"
      ]
     },
     "execution_count": 277,
     "metadata": {},
     "output_type": "execute_result"
    }
   ],
   "source": [
    "df_year = df.groupby('year_of_release')['name'].count()#посчитаем количество выпускаемых игр по годам\n",
    "df_year.plot(kind='bar', figsize=(8,4))\n",
    "plt.title('Количество выпускаемых игр по годам')\n",
    "plt.ylabel('Количество игр')\n",
    "plt.xlabel('Года')\n",
    "plt.show()#построим гистограмму выпускаемых игр по годам\n",
    ";"
   ]
  },
  {
   "cell_type": "markdown",
   "metadata": {},
   "source": [
    "Датафрейм содержит данные за достаточно длительный период. Пик количества выпускаемых игр наблюдается с 2002 года. \n",
    "<div class=\"alert alert-info\"> На графике мы видим, что с 2012 наметился новый падающий тренд, который продолжается по текущий момент. Проанализируем данные с момента спада продаж (2012-2016г.).</div>\n",
    "\n",
    "Далее найдем платформы с самыми большими объемами продаж в указанные годы."
   ]
  },
  {
   "cell_type": "markdown",
   "metadata": {},
   "source": [
    "<div class=\"alert alert-danger\">\n",
    "<b>Комментарий ревьюера: ❌</b>\n",
    "\n",
    "<s>Давай также визуализируем подобные расчеты по всему проекту (которые относятся к основному заданию), ведь на графике информацию воспринимать гораздо лучше, чем в таблице.    \n",
    "</div>"
   ]
  },
  {
   "cell_type": "markdown",
   "metadata": {},
   "source": [
    "<div class=\"alert alert-info\">\n",
    "Добавила визуализацию\n",
    "</div>"
   ]
  },
  {
   "cell_type": "code",
   "execution_count": 278,
   "metadata": {},
   "outputs": [],
   "source": [
    "df_1216 = df.query(\"2012 <= year_of_release <= 2016\") #сформируем выгрузку по выбранным годам"
   ]
  },
  {
   "cell_type": "markdown",
   "metadata": {},
   "source": [
    "<div class=\"alert alert-warning\">\n",
    "<b>Комментарий ревьюера: ❗️</b>\n",
    "\n",
    "<s>Почему именно за этот период выбрали выборку ? \n",
    "    \n",
    "</div>"
   ]
  },
  {
   "cell_type": "markdown",
   "metadata": {},
   "source": [
    "<div class=\"alert alert-info\"> Ответила выше: \n",
    "    \n",
    "    На графике мы видим, что с 2012 наметился новый падающий тренд, который продолжается по текущий момент. Проанализируем данные с момента спада продаж (2012-2016г.)."
   ]
  },
  {
   "cell_type": "markdown",
   "metadata": {},
   "source": [
    "<div class=\"alert alert-success\">\n",
    "<b>Комментарий ревьюера (2): ✅</b>\n",
    "\n",
    "👍\n",
    "    \n",
    "</div>"
   ]
  },
  {
   "cell_type": "code",
   "execution_count": 279,
   "metadata": {},
   "outputs": [
    {
     "data": {
      "image/png": "[encoded data removed]",
      "text/plain": [
       "<Figure size 1440x576 with 1 Axes>"
      ]
     },
     "metadata": {
      "needs_background": "light"
     },
     "output_type": "display_data"
    },
    {
     "data": {
      "text/plain": [
       "''"
      ]
     },
     "execution_count": 279,
     "metadata": {},
     "output_type": "execute_result"
    }
   ],
   "source": [
    "df_1216.pivot_table(index='year_of_release', columns = 'platform', values='sales_sum', aggfunc='sum').plot(figsize = (20, 8)) #построим график распределения объемов продаж по платформам и годам\n",
    "plt.title('Продажи игр по платформам')\n",
    "plt.ylabel('Продажи игр (млн. копий)')\n",
    "plt.xlabel('Года')\n",
    "plt.show()\n",
    ";"
   ]
  },
  {
   "cell_type": "markdown",
   "metadata": {},
   "source": [
    "<div class=\"alert alert-warning\">\n",
    "<b>Комментарий ревьюера: ❗️</b>\n",
    "\n",
    "<s>Не забывай пожалуйста подписывать каждый график.\n",
    "    \n",
    "Это важный момент всего проекта, так быстрее понять о чем идёт речь на графике.\n",
    "    \n",
    "</div>"
   ]
  },
  {
   "cell_type": "markdown",
   "metadata": {},
   "source": [
    "<div class=\"alert alert-info\">\n",
    "Спасибо, добавила!\n",
    "\n",
    "</div>\n"
   ]
  },
  {
   "cell_type": "markdown",
   "metadata": {},
   "source": [
    "На графике виден жизненный цикл платформы. В среднем, он составляет не более 5 лет. При этом можно выделить 3 наиболее крупных платформы, которые к концу 2016 года все еще сохраняют объемы продаж на высоком уровне - PS4, XOne и 3DS. Сформируем таблицу с объемом продаж по платформам."
   ]
  },
  {
   "cell_type": "code",
   "execution_count": 280,
   "metadata": {},
   "outputs": [
    {
     "data": {
      "text/plain": [
       "platform\n",
       "3DS     194.61\n",
       "DS       12.55\n",
       "PC       62.65\n",
       "PS3     288.79\n",
       "PS4     314.14\n",
       "PSP      11.19\n",
       "PSV      49.18\n",
       "Wii      35.37\n",
       "WiiU     82.19\n",
       "X360    236.54\n",
       "XOne    159.32\n",
       "Name: sales_sum, dtype: float64"
      ]
     },
     "execution_count": 280,
     "metadata": {},
     "output_type": "execute_result"
    }
   ],
   "source": [
    "df_1216.groupby(['platform'])['sales_sum'].sum()"
   ]
  },
  {
   "cell_type": "markdown",
   "metadata": {},
   "source": [
    "В данной выгрузке мы также видим, что по объемам продаж лидируют указанные платформы. Также высокий объем продаж показывает платформа PS3, но на графике выше мы видим, что к концу 2016 года платформа уже утратила свою актуальность (связано с выходом новой версии платформы). Обновим датафрейм, оставив данные по трем крупнейшим платформам."
   ]
  },
  {
   "cell_type": "code",
   "execution_count": 281,
   "metadata": {},
   "outputs": [
    {
     "data": {
      "text/html": [
       "<div>\n",
       "<style scoped>\n",
       "    .dataframe tbody tr th:only-of-type {\n",
       "        vertical-align: middle;\n",
       "    }\n",
       "\n",
       "    .dataframe tbody tr th {\n",
       "        vertical-align: top;\n",
       "    }\n",
       "\n",
       "    .dataframe thead th {\n",
       "        text-align: right;\n",
       "    }\n",
       "</style>\n",
       "<table border=\"1\" class=\"dataframe\">\n",
       "  <thead>\n",
       "    <tr style=\"text-align: right;\">\n",
       "      <th></th>\n",
       "      <th>name</th>\n",
       "      <th>platform</th>\n",
       "      <th>year_of_release</th>\n",
       "      <th>genre</th>\n",
       "      <th>na_sales</th>\n",
       "      <th>eu_sales</th>\n",
       "      <th>jp_sales</th>\n",
       "      <th>other_sales</th>\n",
       "      <th>critic_score</th>\n",
       "      <th>user_score</th>\n",
       "      <th>rating</th>\n",
       "      <th>sales_sum</th>\n",
       "    </tr>\n",
       "  </thead>\n",
       "  <tbody>\n",
       "    <tr>\n",
       "      <th>31</th>\n",
       "      <td>Call of Duty: Black Ops 3</td>\n",
       "      <td>PS4</td>\n",
       "      <td>2015</td>\n",
       "      <td>Shooter</td>\n",
       "      <td>6.03</td>\n",
       "      <td>5.86</td>\n",
       "      <td>0.36</td>\n",
       "      <td>2.38</td>\n",
       "      <td>NaN</td>\n",
       "      <td>NaN</td>\n",
       "      <td>unknow</td>\n",
       "      <td>14.63</td>\n",
       "    </tr>\n",
       "    <tr>\n",
       "      <th>33</th>\n",
       "      <td>Pokemon X/Pokemon Y</td>\n",
       "      <td>3DS</td>\n",
       "      <td>2013</td>\n",
       "      <td>Role-Playing</td>\n",
       "      <td>5.28</td>\n",
       "      <td>4.19</td>\n",
       "      <td>4.35</td>\n",
       "      <td>0.78</td>\n",
       "      <td>NaN</td>\n",
       "      <td>NaN</td>\n",
       "      <td>unknow</td>\n",
       "      <td>14.60</td>\n",
       "    </tr>\n",
       "    <tr>\n",
       "      <th>42</th>\n",
       "      <td>Grand Theft Auto V</td>\n",
       "      <td>PS4</td>\n",
       "      <td>2014</td>\n",
       "      <td>Action</td>\n",
       "      <td>3.96</td>\n",
       "      <td>6.31</td>\n",
       "      <td>0.38</td>\n",
       "      <td>1.97</td>\n",
       "      <td>97.0</td>\n",
       "      <td>8.3</td>\n",
       "      <td>M</td>\n",
       "      <td>12.62</td>\n",
       "    </tr>\n",
       "    <tr>\n",
       "      <th>47</th>\n",
       "      <td>Pokemon Omega Ruby/Pokemon Alpha Sapphire</td>\n",
       "      <td>3DS</td>\n",
       "      <td>2014</td>\n",
       "      <td>Role-Playing</td>\n",
       "      <td>4.35</td>\n",
       "      <td>3.49</td>\n",
       "      <td>3.10</td>\n",
       "      <td>0.74</td>\n",
       "      <td>NaN</td>\n",
       "      <td>NaN</td>\n",
       "      <td>unknow</td>\n",
       "      <td>11.68</td>\n",
       "    </tr>\n",
       "    <tr>\n",
       "      <th>62</th>\n",
       "      <td>New Super Mario Bros. 2</td>\n",
       "      <td>3DS</td>\n",
       "      <td>2012</td>\n",
       "      <td>Platform</td>\n",
       "      <td>3.66</td>\n",
       "      <td>3.14</td>\n",
       "      <td>2.47</td>\n",
       "      <td>0.63</td>\n",
       "      <td>78.0</td>\n",
       "      <td>7.2</td>\n",
       "      <td>E</td>\n",
       "      <td>9.90</td>\n",
       "    </tr>\n",
       "    <tr>\n",
       "      <th>...</th>\n",
       "      <td>...</td>\n",
       "      <td>...</td>\n",
       "      <td>...</td>\n",
       "      <td>...</td>\n",
       "      <td>...</td>\n",
       "      <td>...</td>\n",
       "      <td>...</td>\n",
       "      <td>...</td>\n",
       "      <td>...</td>\n",
       "      <td>...</td>\n",
       "      <td>...</td>\n",
       "      <td>...</td>\n",
       "    </tr>\n",
       "    <tr>\n",
       "      <th>16648</th>\n",
       "      <td>Mushi Bugyou</td>\n",
       "      <td>3DS</td>\n",
       "      <td>2013</td>\n",
       "      <td>Action</td>\n",
       "      <td>0.00</td>\n",
       "      <td>0.00</td>\n",
       "      <td>0.01</td>\n",
       "      <td>0.00</td>\n",
       "      <td>NaN</td>\n",
       "      <td>NaN</td>\n",
       "      <td>unknow</td>\n",
       "      <td>0.01</td>\n",
       "    </tr>\n",
       "    <tr>\n",
       "      <th>16660</th>\n",
       "      <td>Prison Architect</td>\n",
       "      <td>XOne</td>\n",
       "      <td>2016</td>\n",
       "      <td>Action</td>\n",
       "      <td>0.01</td>\n",
       "      <td>0.00</td>\n",
       "      <td>0.00</td>\n",
       "      <td>0.00</td>\n",
       "      <td>74.0</td>\n",
       "      <td>6.7</td>\n",
       "      <td>unknow</td>\n",
       "      <td>0.01</td>\n",
       "    </tr>\n",
       "    <tr>\n",
       "      <th>16668</th>\n",
       "      <td>Fujiko F. Fujio Characters: Great Assembly! Sl...</td>\n",
       "      <td>3DS</td>\n",
       "      <td>2014</td>\n",
       "      <td>Action</td>\n",
       "      <td>0.00</td>\n",
       "      <td>0.00</td>\n",
       "      <td>0.01</td>\n",
       "      <td>0.00</td>\n",
       "      <td>NaN</td>\n",
       "      <td>NaN</td>\n",
       "      <td>unknow</td>\n",
       "      <td>0.01</td>\n",
       "    </tr>\n",
       "    <tr>\n",
       "      <th>16672</th>\n",
       "      <td>Metal Gear Solid V: The Definitive Experience</td>\n",
       "      <td>XOne</td>\n",
       "      <td>2016</td>\n",
       "      <td>Action</td>\n",
       "      <td>0.01</td>\n",
       "      <td>0.00</td>\n",
       "      <td>0.00</td>\n",
       "      <td>0.00</td>\n",
       "      <td>NaN</td>\n",
       "      <td>NaN</td>\n",
       "      <td>M</td>\n",
       "      <td>0.01</td>\n",
       "    </tr>\n",
       "    <tr>\n",
       "      <th>16677</th>\n",
       "      <td>Aikatsu Stars! My Special Appeal</td>\n",
       "      <td>3DS</td>\n",
       "      <td>2016</td>\n",
       "      <td>Action</td>\n",
       "      <td>0.00</td>\n",
       "      <td>0.00</td>\n",
       "      <td>0.01</td>\n",
       "      <td>0.00</td>\n",
       "      <td>NaN</td>\n",
       "      <td>NaN</td>\n",
       "      <td>unknow</td>\n",
       "      <td>0.01</td>\n",
       "    </tr>\n",
       "  </tbody>\n",
       "</table>\n",
       "<p>1035 rows × 12 columns</p>\n",
       "</div>"
      ],
      "text/plain": [
       "                                                    name platform  \\\n",
       "31                             Call of Duty: Black Ops 3      PS4   \n",
       "33                                   Pokemon X/Pokemon Y      3DS   \n",
       "42                                    Grand Theft Auto V      PS4   \n",
       "47             Pokemon Omega Ruby/Pokemon Alpha Sapphire      3DS   \n",
       "62                               New Super Mario Bros. 2      3DS   \n",
       "...                                                  ...      ...   \n",
       "16648                                       Mushi Bugyou      3DS   \n",
       "16660                                   Prison Architect     XOne   \n",
       "16668  Fujiko F. Fujio Characters: Great Assembly! Sl...      3DS   \n",
       "16672      Metal Gear Solid V: The Definitive Experience     XOne   \n",
       "16677                   Aikatsu Stars! My Special Appeal      3DS   \n",
       "\n",
       "       year_of_release         genre  na_sales  eu_sales  jp_sales  \\\n",
       "31                2015       Shooter      6.03      5.86      0.36   \n",
       "33                2013  Role-Playing      5.28      4.19      4.35   \n",
       "42                2014        Action      3.96      6.31      0.38   \n",
       "47                2014  Role-Playing      4.35      3.49      3.10   \n",
       "62                2012      Platform      3.66      3.14      2.47   \n",
       "...                ...           ...       ...       ...       ...   \n",
       "16648             2013        Action      0.00      0.00      0.01   \n",
       "16660             2016        Action      0.01      0.00      0.00   \n",
       "16668             2014        Action      0.00      0.00      0.01   \n",
       "16672             2016        Action      0.01      0.00      0.00   \n",
       "16677             2016        Action      0.00      0.00      0.01   \n",
       "\n",
       "       other_sales  critic_score  user_score  rating  sales_sum  \n",
       "31            2.38           NaN         NaN  unknow      14.63  \n",
       "33            0.78           NaN         NaN  unknow      14.60  \n",
       "42            1.97          97.0         8.3       M      12.62  \n",
       "47            0.74           NaN         NaN  unknow      11.68  \n",
       "62            0.63          78.0         7.2       E       9.90  \n",
       "...            ...           ...         ...     ...        ...  \n",
       "16648         0.00           NaN         NaN  unknow       0.01  \n",
       "16660         0.00          74.0         6.7  unknow       0.01  \n",
       "16668         0.00           NaN         NaN  unknow       0.01  \n",
       "16672         0.00           NaN         NaN       M       0.01  \n",
       "16677         0.00           NaN         NaN  unknow       0.01  \n",
       "\n",
       "[1035 rows x 12 columns]"
      ]
     },
     "execution_count": 281,
     "metadata": {},
     "output_type": "execute_result"
    }
   ],
   "source": [
    "df_1216 = df_1216.query(\"platform == ['XOne', 'PS4', '3DS']\") \n",
    "df_1216"
   ]
  },
  {
   "cell_type": "markdown",
   "metadata": {},
   "source": [
    "На графике и в таблице мы видим, что пик продаж по выбранным платформам пришелся на 2015 год, при этом к 2016 году продажи значительно снизились. Для прогноза на 2017 год логично будет взять 4 предшествующих года, чтобы учесть устаревание платформ, но и не отсеять нужные данные (как в случае с PS3). Посмотрим более подробную информацию по крупнейшим платформам в выбранный период."
   ]
  },
  {
   "cell_type": "code",
   "execution_count": 282,
   "metadata": {
    "scrolled": false
   },
   "outputs": [
    {
     "data": {
      "image/png": "[encoded data removed]",
      "text/plain": [
       "<Figure size 1440x576 with 1 Axes>"
      ]
     },
     "metadata": {
      "needs_background": "light"
     },
     "output_type": "display_data"
    },
    {
     "data": {
      "text/plain": [
       "''"
      ]
     },
     "execution_count": 282,
     "metadata": {},
     "output_type": "execute_result"
    }
   ],
   "source": [
    "df_1316 = df_1216.query(\"2013 <= year_of_release <= 2016\") #сформируем выгрузку по выбранным годам\n",
    "df_1316.pivot_table(index='year_of_release', columns = 'platform', values='sales_sum', aggfunc='sum').plot(figsize = (20, 8))\n",
    ";\n",
    "plt.title('Продажи игр по платформам')\n",
    "plt.ylabel('Продажи игр (млн. копий)')\n",
    "plt.xlabel('Года')\n",
    "plt.xticks([2013, 2014, 2015, 2016])\n",
    "plt.show()\n",
    ";"
   ]
  },
  {
   "cell_type": "markdown",
   "metadata": {},
   "source": [
    "<div class=\"alert alert-success\">\n",
    "<b>Комментарий ревьюера: ✅</b>\n",
    "\n",
    "Кстати для того чтобы подписать график мы можем использовать метод `plt.title()` и в конце кода применить `plt.show()`\n",
    "</div>"
   ]
  },
  {
   "cell_type": "markdown",
   "metadata": {},
   "source": [
    "<div class=\"alert alert-warning\">\n",
    "<b>Комментарий ревьюера: ❗️</b>\n",
    "\n",
    "<s>У нас также съехали подписи оси X, рекомендую поправить этот момент с помощью метода `plt.xticks`.   \n",
    "</div>"
   ]
  },
  {
   "cell_type": "markdown",
   "metadata": {},
   "source": [
    "<div class=\"alert alert-info\">\n",
    "Поправила!\n",
    "</div>\n"
   ]
  },
  {
   "cell_type": "markdown",
   "metadata": {},
   "source": [
    "По всем крупнейшим платформам наблюдается снижение объема продаж. При этом платформа PS4 наиболее прибыльная, т.к. к концу 2016г по ней все еще сохраняется достаточно высокий объем продаж. Платформы XOne и 3DS показывают себя хуже, но т.к. объем продаж по ним свыше 10 миллионов, оставим данные платформы для дальнейшего исследования, как потенциально прибыльные в 2017 году.\n",
    "\n",
    " Построим \"ящик с усами\" по глобальным продажам игр в разбивке по платформам."
   ]
  },
  {
   "cell_type": "code",
   "execution_count": 283,
   "metadata": {},
   "outputs": [
    {
     "data": {
      "image/png": "[encoded data removed]",
      "text/plain": [
       "<Figure size 720x504 with 1 Axes>"
      ]
     },
     "metadata": {
      "needs_background": "light"
     },
     "output_type": "display_data"
    },
    {
     "data": {
      "text/plain": [
       "''"
      ]
     },
     "execution_count": 283,
     "metadata": {},
     "output_type": "execute_result"
    }
   ],
   "source": [
    "df_1316.boxplot(column='sales_sum', by='platform', figsize = (10,7), showfliers = False)\n",
    "plt.title('Глобальные продажи игр в разбивке по платформам')\n",
    "plt.ylabel('Продажи игр (млн. копий)')\n",
    "plt.xlabel('Платформы')\n",
    "plt.show()\n",
    ";"
   ]
  },
  {
   "cell_type": "markdown",
   "metadata": {},
   "source": [
    "<div class=\"alert alert-danger\">\n",
    "<b>Комментарий ревьюера: ❌</b>\n",
    "\n",
    "<s>Если график сделать побольше, то он станет более читабельным.\n",
    "    \n",
    "На таких графиках рекомендую также смотреть данные без выбросов, так мы можем отследить дополнительные инсайты.\n",
    "    \n",
    "</div>"
   ]
  },
  {
   "cell_type": "markdown",
   "metadata": {},
   "source": [
    "<div class=\"alert alert-info\">\n",
    "Выбросы убрала, график увеличила"
   ]
  },
  {
   "cell_type": "markdown",
   "metadata": {},
   "source": [
    "<div class=\"alert alert-success\">\n",
    "<b>Комментарий ревьюера: ✅</b>\n",
    "\n",
    "Чтобы увеличить сам график, можно использовать метод `plt.figure(figsize=(10,7))` или если используешь методы библиотеки `pandas`, в основном всегда есть атрибут `figsize=(10,7)`, который также поможет настроить ширину и высоту графика.\n",
    "    \n",
    "</div>"
   ]
  },
  {
   "cell_type": "markdown",
   "metadata": {},
   "source": [
    "На данном графике видны игры, значительно превосходящие по объему продаж средние показатели. При этом специфика данных не исключает того, что какие-то из игр могли быть значительно более популярны, нежели в среднем. Посмотрим, какие игры были самыми успешными на данных платформах."
   ]
  },
  {
   "cell_type": "code",
   "execution_count": 284,
   "metadata": {},
   "outputs": [
    {
     "data": {
      "text/html": [
       "<div>\n",
       "<style scoped>\n",
       "    .dataframe tbody tr th:only-of-type {\n",
       "        vertical-align: middle;\n",
       "    }\n",
       "\n",
       "    .dataframe tbody tr th {\n",
       "        vertical-align: top;\n",
       "    }\n",
       "\n",
       "    .dataframe thead th {\n",
       "        text-align: right;\n",
       "    }\n",
       "</style>\n",
       "<table border=\"1\" class=\"dataframe\">\n",
       "  <thead>\n",
       "    <tr style=\"text-align: right;\">\n",
       "      <th></th>\n",
       "      <th>sales_sum</th>\n",
       "    </tr>\n",
       "    <tr>\n",
       "      <th>name</th>\n",
       "      <th></th>\n",
       "    </tr>\n",
       "  </thead>\n",
       "  <tbody>\n",
       "    <tr>\n",
       "      <th>Pokemon X/Pokemon Y</th>\n",
       "      <td>14.600</td>\n",
       "    </tr>\n",
       "    <tr>\n",
       "      <th>Pokemon Omega Ruby/Pokemon Alpha Sapphire</th>\n",
       "      <td>11.680</td>\n",
       "    </tr>\n",
       "    <tr>\n",
       "      <th>Call of Duty: Black Ops 3</th>\n",
       "      <td>11.010</td>\n",
       "    </tr>\n",
       "    <tr>\n",
       "      <th>Grand Theft Auto V</th>\n",
       "      <td>9.045</td>\n",
       "    </tr>\n",
       "    <tr>\n",
       "      <th>Super Smash Bros. for Wii U and 3DS</th>\n",
       "      <td>7.550</td>\n",
       "    </tr>\n",
       "    <tr>\n",
       "      <th>Pokemon Sun/Moon</th>\n",
       "      <td>7.140</td>\n",
       "    </tr>\n",
       "    <tr>\n",
       "      <th>Call of Duty: Advanced Warfare</th>\n",
       "      <td>6.460</td>\n",
       "    </tr>\n",
       "    <tr>\n",
       "      <th>FIFA 16</th>\n",
       "      <td>5.915</td>\n",
       "    </tr>\n",
       "    <tr>\n",
       "      <th>Star Wars Battlefront (2015)</th>\n",
       "      <td>5.820</td>\n",
       "    </tr>\n",
       "    <tr>\n",
       "      <th>Fallout 4</th>\n",
       "      <td>5.695</td>\n",
       "    </tr>\n",
       "  </tbody>\n",
       "</table>\n",
       "</div>"
      ],
      "text/plain": [
       "                                           sales_sum\n",
       "name                                                \n",
       "Pokemon X/Pokemon Y                           14.600\n",
       "Pokemon Omega Ruby/Pokemon Alpha Sapphire     11.680\n",
       "Call of Duty: Black Ops 3                     11.010\n",
       "Grand Theft Auto V                             9.045\n",
       "Super Smash Bros. for Wii U and 3DS            7.550\n",
       "Pokemon Sun/Moon                               7.140\n",
       "Call of Duty: Advanced Warfare                 6.460\n",
       "FIFA 16                                        5.915\n",
       "Star Wars Battlefront (2015)                   5.820\n",
       "Fallout 4                                      5.695"
      ]
     },
     "execution_count": 284,
     "metadata": {},
     "output_type": "execute_result"
    }
   ],
   "source": [
    "df_1316.pivot_table(index='name', values='sales_sum').sort_values('sales_sum', ascending = False).head(10)"
   ]
  },
  {
   "cell_type": "markdown",
   "metadata": {},
   "source": [
    "Далее оценим как влияют на продажи внутри одной популярной платформы отзывы пользователей и критиков. Построим диаграмму рассеяния и посчитаем корреляцию между отзывами и продажами. Для анализа возьмем наиболее крупную платформу - PS4."
   ]
  },
  {
   "cell_type": "code",
   "execution_count": 285,
   "metadata": {},
   "outputs": [],
   "source": [
    "df_ps4 = df_1316.query(\"platform == 'PS4'\") #создадим датафрейм для исследования"
   ]
  },
  {
   "cell_type": "code",
   "execution_count": 286,
   "metadata": {},
   "outputs": [
    {
     "data": {
      "image/png": "[encoded data removed]",
      "text/plain": [
       "<Figure size 360x360 with 1 Axes>"
      ]
     },
     "metadata": {
      "needs_background": "light"
     },
     "output_type": "display_data"
    },
    {
     "name": "stdout",
     "output_type": "stream",
     "text": [
      "Коэффициент корреляции - Оценка критиков:  0.406567902061781\n"
     ]
    }
   ],
   "source": [
    "df_ps4.plot.scatter(x='critic_score', y='sales_sum', figsize=(5, 5), sharex=False, grid=True)\n",
    "plt.title('Корреляция между оценкой критиков и продажами игр на платформе PS4')\n",
    "plt.ylabel('Продажи игр (млн. копий)')\n",
    "plt.xlabel('Оценка критиков')\n",
    "plt.show()\n",
    "print('Коэффициент корреляции - Оценка критиков: ', df_ps4['sales_sum'].corr(df_ps4['critic_score']))"
   ]
  },
  {
   "cell_type": "markdown",
   "metadata": {},
   "source": [
    "<div class=\"alert alert-danger\">\n",
    "<b>Комментарий ревьюера: ❌</b>\n",
    "\n",
    "<s>Давай все таки подпишем каждый график и тем самым сделаем наш проект еще презентабельнее.\n",
    "</div>"
   ]
  },
  {
   "cell_type": "markdown",
   "metadata": {},
   "source": [
    "<div class=\"alert alert-info\">\n",
    "Готово\n",
    "</div>\n"
   ]
  },
  {
   "cell_type": "code",
   "execution_count": 287,
   "metadata": {},
   "outputs": [
    {
     "data": {
      "image/png": "[encoded data removed]",
      "text/plain": [
       "<Figure size 1440x576 with 1 Axes>"
      ]
     },
     "metadata": {
      "needs_background": "light"
     },
     "output_type": "display_data"
    },
    {
     "data": {
      "text/plain": [
       "''"
      ]
     },
     "execution_count": 287,
     "metadata": {},
     "output_type": "execute_result"
    }
   ],
   "source": [
    "df_ps4.groupby('critic_score')['sales_sum'].mean().plot(figsize = (20, 8))\n",
    "plt.title('Корреляция между оценкой критиков и продажами игр на платформе PS4')\n",
    "plt.ylabel('Продажи игр (млн. копий)')\n",
    "plt.xlabel('Оценка критиков')\n",
    "plt.show()\n",
    ";"
   ]
  },
  {
   "cell_type": "code",
   "execution_count": 288,
   "metadata": {},
   "outputs": [
    {
     "data": {
      "image/png": "[encoded data removed]",
      "text/plain": [
       "<Figure size 360x360 with 1 Axes>"
      ]
     },
     "metadata": {
      "needs_background": "light"
     },
     "output_type": "display_data"
    },
    {
     "name": "stdout",
     "output_type": "stream",
     "text": [
      "Коэффициент корреляции - Оценка пользователей:  -0.031957110204556376\n"
     ]
    }
   ],
   "source": [
    "df_ps4.plot.scatter(x='user_score', y='sales_sum', figsize=(5, 5), sharex=False, grid=True)\n",
    "plt.title('Корреляция между оценкой пользователей и продажами игр на платформе PS4')\n",
    "plt.ylabel('Продажи игр (млн. копий)')\n",
    "plt.xlabel('Оценка пользователей')\n",
    "plt.show()\n",
    "print('Коэффициент корреляции - Оценка пользователей: ', df_ps4['sales_sum'].corr(df_ps4['user_score']))"
   ]
  },
  {
   "cell_type": "code",
   "execution_count": 289,
   "metadata": {},
   "outputs": [
    {
     "data": {
      "image/png": "[encoded data removed]",
      "text/plain": [
       "<Figure size 1440x576 with 1 Axes>"
      ]
     },
     "metadata": {
      "needs_background": "light"
     },
     "output_type": "display_data"
    },
    {
     "data": {
      "text/plain": [
       "''"
      ]
     },
     "execution_count": 289,
     "metadata": {},
     "output_type": "execute_result"
    }
   ],
   "source": [
    "df_ps4.groupby('user_score')['sales_sum'].mean().plot(figsize = (20, 8))\n",
    "plt.title('Корреляция между оценкой пользователей и продажами игр на платформе PS4')\n",
    "plt.ylabel('Продажи игр (млн. копий)')\n",
    "plt.xlabel('Оценка пользователей')\n",
    "plt.show()\n",
    ";"
   ]
  },
  {
   "cell_type": "markdown",
   "metadata": {},
   "source": [
    "Из полученных данных можно сделать вывод, что зависимость объема продаж от оценок критиков слабо положительная. При этом в случае высоких оценок критиков (от 90 и выше), объемы продаж резко растут.\n",
    "\n",
    "Зависимость от оценок пользователей очень слабая и практически отсутствует. \n",
    "\n",
    "Проверим сделанные выводы на других платформах."
   ]
  },
  {
   "cell_type": "markdown",
   "metadata": {},
   "source": [
    "<div class=\"alert alert-success\">\n",
    "<b>Комментарий ревьюера: ✅</b>\n",
    "    \n",
    "Хорошие и логичные комментарии. Очень важно строить график корреляции между переменными, ведь может произойти такая ситуация, что расчет у нас очень сильный а на графике абсолютно другая картина.\n",
    "    \n",
    "---\n",
    "\n",
    "В том числе можно было построить матрицу корреляции между нужными нам переменными.\n",
    "    \n",
    "И визуализировать её с помощью метода `heatmap` из библиотеки `seaborn`.\n",
    "    \n",
    "</div>"
   ]
  },
  {
   "cell_type": "code",
   "execution_count": 290,
   "metadata": {},
   "outputs": [],
   "source": [
    "df_all = df.query(\"2013 <= year_of_release <= 2016\") #сформируем выгрузку по выбранным годам"
   ]
  },
  {
   "cell_type": "code",
   "execution_count": 291,
   "metadata": {},
   "outputs": [
    {
     "data": {
      "image/png": "[encoded data removed]",
      "text/plain": [
       "<Figure size 360x360 with 1 Axes>"
      ]
     },
     "metadata": {
      "needs_background": "light"
     },
     "output_type": "display_data"
    },
    {
     "name": "stdout",
     "output_type": "stream",
     "text": [
      "Коэффициент корреляции - Оценка критиков:  0.3136995151027371\n"
     ]
    }
   ],
   "source": [
    "df_all.plot.scatter(x='critic_score', y='sales_sum', figsize=(5, 5), sharex=False, grid=True)\n",
    "plt.title('Корреляция между оценкой критиков и продажами игр по всем платформам')\n",
    "plt.ylabel('Продажи игр (млн. копий)')\n",
    "plt.xlabel('Оценка критиков')\n",
    "plt.show()\n",
    "print('Коэффициент корреляции - Оценка критиков: ', df_all['sales_sum'].corr(df_all['critic_score']))"
   ]
  },
  {
   "cell_type": "code",
   "execution_count": 292,
   "metadata": {},
   "outputs": [
    {
     "data": {
      "image/png": "[encoded data removed]",
      "text/plain": [
       "<Figure size 1440x576 with 1 Axes>"
      ]
     },
     "metadata": {
      "needs_background": "light"
     },
     "output_type": "display_data"
    },
    {
     "data": {
      "text/plain": [
       "''"
      ]
     },
     "execution_count": 292,
     "metadata": {},
     "output_type": "execute_result"
    }
   ],
   "source": [
    "df_all.groupby('critic_score')['sales_sum'].mean().plot(figsize = (20, 8))\n",
    "plt.title('Корреляция между оценкой критиков и продажами игр по всем платформам')\n",
    "plt.ylabel('Продажи игр (млн. копий)')\n",
    "plt.xlabel('Оценка критиков')\n",
    "plt.show()\n",
    ";"
   ]
  },
  {
   "cell_type": "code",
   "execution_count": 293,
   "metadata": {},
   "outputs": [
    {
     "data": {
      "image/png": "[encoded data removed]",
      "text/plain": [
       "<Figure size 360x360 with 1 Axes>"
      ]
     },
     "metadata": {
      "needs_background": "light"
     },
     "output_type": "display_data"
    },
    {
     "name": "stdout",
     "output_type": "stream",
     "text": [
      "Коэффициент корреляции - Оценка пользователей:  0.3136995151027371\n"
     ]
    }
   ],
   "source": [
    "df_all.plot.scatter(x='user_score', y='sales_sum', figsize=(5, 5), sharex=False, grid=True)\n",
    "plt.title('Корреляция между оценкой пользователей и продажами игр по всем платформам')\n",
    "plt.ylabel('Продажи игр (млн. копий)')\n",
    "plt.xlabel('Оценка пользователей')\n",
    "plt.show()\n",
    "print('Коэффициент корреляции - Оценка пользователей: ', df_all['sales_sum'].corr(df_all['critic_score']))"
   ]
  },
  {
   "cell_type": "markdown",
   "metadata": {},
   "source": [
    "<div class=\"alert alert-success\">\n",
    "<b>Комментарий ревьюера: ✅</b>\n",
    "\n",
    "Обрати внимание, что наши действия повторяются с точки зрения построения графиков.\n",
    "    \n",
    "Это говорит о том, что мы можем создать функцию, которая будет выполнять все действия за нас.\n",
    "    \n",
    "Тем самым мы сможем оптимизировать свой код и проект целиком.\n",
    "    \n",
    "</div>"
   ]
  },
  {
   "cell_type": "code",
   "execution_count": 294,
   "metadata": {},
   "outputs": [
    {
     "data": {
      "image/png": "[encoded data removed]",
      "text/plain": [
       "<Figure size 1440x576 with 1 Axes>"
      ]
     },
     "metadata": {
      "needs_background": "light"
     },
     "output_type": "display_data"
    },
    {
     "data": {
      "text/plain": [
       "''"
      ]
     },
     "execution_count": 294,
     "metadata": {},
     "output_type": "execute_result"
    }
   ],
   "source": [
    "df_all.groupby('user_score')['sales_sum'].mean().plot(figsize = (20, 8))\n",
    "plt.title('Корреляция между оценкой пользователей и продажами игр по всем платформам')\n",
    "plt.ylabel('Продажи игр (млн. копий)')\n",
    "plt.xlabel('Оценка пользователей')\n",
    "plt.show()\n",
    ";"
   ]
  },
  {
   "cell_type": "markdown",
   "metadata": {},
   "source": [
    "Гипотеза о влиянии высоких оценок (от 90 и выше) критиков на объемы продаж подтвердилась. \n",
    "\n",
    "Гипотеза о том, что оценки пользователей практически не влияют на продажи, не подтверждается. Все же зависимость есть, причем, как и с оценками критиков, при оценке от 90 и выше продажи резко идут вверх. Данное расхождение может быть связано с небольшим количеством оценок по платформе PS4, относительно общего количества оценок по всем платформам, а также с тем, что по PS4 преобладали положительные оценки, тогда как при выгрузке по всем платформам, низких оценок достаточно много."
   ]
  },
  {
   "cell_type": "code",
   "execution_count": 295,
   "metadata": {},
   "outputs": [
    {
     "data": {
      "image/png": "[encoded data removed]",
      "text/plain": [
       "<Figure size 576x288 with 1 Axes>"
      ]
     },
     "metadata": {
      "needs_background": "light"
     },
     "output_type": "display_data"
    },
    {
     "data": {
      "text/plain": [
       "''"
      ]
     },
     "execution_count": 295,
     "metadata": {},
     "output_type": "execute_result"
    }
   ],
   "source": [
    "df_all['genre'].value_counts().head(15).plot(kind='bar', figsize=(8,4)) #найдем наиболее популярные жанры игр\n",
    "plt.title('Наиболее популярные жанры игр')\n",
    "plt.ylabel('Количество проданных игр')\n",
    "plt.xlabel('Жанры')\n",
    "plt.show() #построим гистограмму выпускаемых игр по жанрам\n",
    "; "
   ]
  },
  {
   "cell_type": "markdown",
   "metadata": {},
   "source": [
    "<div class=\"alert alert-info\">\n",
    "Найдем наиболее прибыльные жанры игр. Для анализа этой категории игр будем использовать медианные значения сумм продаж, т.к. это более устойчивый показатель, позволяющий выявить самые стабильные жанры, которые приносят доход вне зависимости от платформы.\n",
    "</div>\n"
   ]
  },
  {
   "cell_type": "code",
   "execution_count": 296,
   "metadata": {},
   "outputs": [
    {
     "name": "stdout",
     "output_type": "stream",
     "text": [
      "              sales_sum\n",
      "genre                  \n",
      "Shooter           0.450\n",
      "Sports            0.240\n",
      "Platform          0.225\n",
      "Role-Playing      0.125\n",
      "Fighting          0.125\n",
      "Racing            0.120\n",
      "Action            0.110\n",
      "Simulation        0.100\n",
      "Misc              0.100\n",
      "Strategy          0.080\n",
      "Puzzle            0.060\n",
      "Adventure         0.030\n"
     ]
    },
    {
     "data": {
      "image/png": "[encoded data removed]",
      "text/plain": [
       "<Figure size 576x288 with 1 Axes>"
      ]
     },
     "metadata": {
      "needs_background": "light"
     },
     "output_type": "display_data"
    },
    {
     "data": {
      "text/plain": [
       "''"
      ]
     },
     "execution_count": 296,
     "metadata": {},
     "output_type": "execute_result"
    }
   ],
   "source": [
    "top_genre = df_all.pivot_table(index='genre', values='sales_sum', aggfunc='median')\n",
    "top_genre = top_genre.sort_values('sales_sum', ascending = False)\n",
    "print(top_genre)\n",
    "top_genre.plot(kind='bar', figsize=(8,4))\n",
    "plt.title('Наиболее прибыльные жанры игр')\n",
    "plt.ylabel('Продажи (млн. копий)')\n",
    "plt.xlabel('Жанры')\n",
    "plt.show()#построим гистограмму выпускаемых игр по годам\n",
    ";"
   ]
  },
  {
   "cell_type": "markdown",
   "metadata": {},
   "source": [
    "**Вывод:**\n",
    "<div class=\"alert alert-info\">\n",
    "Наиболее часто встречаемые жанры - это экшн, ролевые игры, приключения. Самые непопулярные - стратегии и паззлы. По прибыльности лидируют стрелялки и спортивные игры.\n",
    "    \n",
    "</div>\n"
   ]
  },
  {
   "cell_type": "markdown",
   "metadata": {},
   "source": [
    "<div class=\"alert alert-danger\">\n",
    "<b>Комментарий ревьюера: ❌</b>\n",
    "\n",
    "<s>А если мы посмотрим на средние значения продаж, какие выводы мы сможем сделать ? \n",
    "    \n",
    "Почему на средние значения ? \n",
    "    \n",
    "Т.к. эта метрика более устойчива к выбросам, чем просто суммы и количественные показатели.\n",
    "    \n",
    "---\n",
    "    \n",
    "P.s. Нам также нужно визуализировать этот расчет.\n",
    "    \n",
    "</div>"
   ]
  },
  {
   "cell_type": "markdown",
   "metadata": {},
   "source": [
    "<div class=\"alert alert-info\">\n",
    "Исправила, решила взять не средние значения, а медианы, т.к. в данных есть большое количество выбросов.\n",
    "</div>\n"
   ]
  },
  {
   "cell_type": "markdown",
   "metadata": {},
   "source": [
    "<div class=\"alert alert-success\">\n",
    "<b>Комментарий ревьюера (2): ✅</b>\n",
    "\n",
    "🔥    \n",
    "</div>"
   ]
  },
  {
   "cell_type": "markdown",
   "metadata": {},
   "source": [
    "### Портрет пользователя каждого региона"
   ]
  },
  {
   "cell_type": "markdown",
   "metadata": {},
   "source": [
    "На данном шаге мы определим для пользователя каждого региона (NA, EU, JP):\n",
    "-\tСамые популярные платформы (топ-5). \n",
    "-\tСамые популярные жанры (топ-5). \n",
    "-\tОценим влияние рейтинга ESRB на продажи в каждом регионе\n"
   ]
  },
  {
   "cell_type": "code",
   "execution_count": 297,
   "metadata": {},
   "outputs": [
    {
     "name": "stdout",
     "output_type": "stream",
     "text": [
      "platform\n",
      "PS4     108.74\n",
      "XOne     93.12\n",
      "X360     81.66\n",
      "PS3      63.50\n",
      "3DS      38.20\n",
      "Name: na_sales, dtype: float64\n",
      "              na_sales\n",
      "genre                 \n",
      "Shooter          0.200\n",
      "Platform         0.090\n",
      "Sports           0.080\n",
      "Fighting         0.045\n",
      "Racing           0.030\n",
      "Action           0.020\n",
      "Role-Playing     0.020\n",
      "Misc             0.010\n",
      "Adventure        0.000\n",
      "Puzzle           0.000\n",
      "Simulation       0.000\n",
      "Strategy         0.000\n",
      "rating\n",
      "M         165.21\n",
      "unknow     89.42\n",
      "E          79.05\n",
      "E10+       54.24\n",
      "T          49.79\n",
      "Name: na_sales, dtype: float64\n"
     ]
    }
   ],
   "source": [
    "platform_na = df_all.groupby(['platform'])['na_sales'].sum().sort_values(ascending=False).head()#топ платформ в Северной Америке   \n",
    "\n",
    "genre_na = df_all.pivot_table(index='genre', values='na_sales', aggfunc='median')\n",
    "genre_na = genre_na.sort_values('na_sales', ascending = False)#топ жанров в Северной Америке (оценка по медианным значениям)\n",
    "\n",
    "rating_na = df_all.groupby(['rating'])['na_sales'].sum().sort_values(ascending=False).head()#топ игр по возрастной категории в Северной Америке\n",
    "\n",
    "print(platform_na)\n",
    "print(genre_na)\n",
    "print(rating_na)"
   ]
  },
  {
   "cell_type": "code",
   "execution_count": 298,
   "metadata": {},
   "outputs": [
    {
     "data": {
      "image/png": "[encoded data removed]",
      "text/plain": [
       "<Figure size 576x288 with 1 Axes>"
      ]
     },
     "metadata": {
      "needs_background": "light"
     },
     "output_type": "display_data"
    },
    {
     "data": {
      "image/png": "[encoded data removed]",
      "text/plain": [
       "<Figure size 576x288 with 1 Axes>"
      ]
     },
     "metadata": {
      "needs_background": "light"
     },
     "output_type": "display_data"
    },
    {
     "data": {
      "image/png": "[encoded data removed]",
      "text/plain": [
       "<Figure size 576x288 with 1 Axes>"
      ]
     },
     "metadata": {
      "needs_background": "light"
     },
     "output_type": "display_data"
    },
    {
     "data": {
      "text/plain": [
       "''"
      ]
     },
     "execution_count": 298,
     "metadata": {},
     "output_type": "execute_result"
    }
   ],
   "source": [
    "platform_na.plot(kind='bar', figsize=(8,4))\n",
    "plt.title('Топ платформ в Северной Америке')\n",
    "plt.ylabel('Продажи (млн. копий)')\n",
    "plt.xlabel('Платформы')\n",
    "plt.show()#построим гистограмму самых популярных платформ Северной Америки\n",
    "\n",
    "genre_na.plot(kind='bar', figsize=(8,4))\n",
    "plt.title('Топ жанров в Северной Америке')\n",
    "plt.ylabel('Продажи (млн. копий)')\n",
    "plt.xlabel('Жанры')\n",
    "plt.show()#построим гистограмму самых популярных жанров Северной Америки\n",
    "\n",
    "rating_na.plot(kind='bar', figsize=(8,4))\n",
    "plt.title('Топ игр по рейтингу ESRB в Северной Америке')\n",
    "plt.ylabel('Продажи (млн. копий)')\n",
    "plt.xlabel('Рейтинг ESRB')\n",
    "plt.show()#построим гистограмму самых популярных игр по рейтингу ESRB в Северной Америке\n",
    ";"
   ]
  },
  {
   "cell_type": "markdown",
   "metadata": {},
   "source": [
    "В Северной Америке по популярности лидируют платформы PS4 и XOne. Наиболее популярными жанрами являются стрелялки и платформеры. Чаще всего игры покупают взрослые люди (рейтинг М)."
   ]
  },
  {
   "cell_type": "code",
   "execution_count": 304,
   "metadata": {},
   "outputs": [
    {
     "name": "stdout",
     "output_type": "stream",
     "text": [
      "platform\n",
      "PS4     141.09\n",
      "PS3      67.81\n",
      "XOne     51.59\n",
      "X360     42.52\n",
      "3DS      30.96\n",
      "Name: eu_sales, dtype: float64\n",
      "              eu_sales\n",
      "genre                 \n",
      "Shooter          0.190\n",
      "Platform         0.080\n",
      "Racing           0.060\n",
      "Sports           0.050\n",
      "Simulation       0.035\n",
      "Strategy         0.025\n",
      "Action           0.020\n",
      "Fighting         0.020\n",
      "Misc             0.010\n",
      "Role-Playing     0.010\n",
      "Adventure        0.000\n",
      "Puzzle           0.000\n",
      "rating\n",
      "M         145.32\n",
      "E          83.36\n",
      "unknow     78.91\n",
      "E10+       42.69\n",
      "T          41.95\n",
      "Name: eu_sales, dtype: float64\n"
     ]
    }
   ],
   "source": [
    "platform_eu = df_all.groupby(['platform'])['eu_sales'].sum().sort_values(ascending=False).head()#топ платформ в Европе\n",
    "\n",
    "genre_eu = df_all.pivot_table(index='genre', values='eu_sales', aggfunc='median')\n",
    "genre_eu = genre_eu.sort_values('eu_sales', ascending = False)#топ жанров в Европе (оценка по медианным значениям)\n",
    "\n",
    "rating_eu = df_all.groupby(['rating'])['eu_sales'].sum().sort_values(ascending=False).head()#топ игр по возрастной категории в Европе\n",
    "\n",
    "print(platform_eu)\n",
    "print(genre_eu)\n",
    "print(rating_eu)"
   ]
  },
  {
   "cell_type": "code",
   "execution_count": 305,
   "metadata": {},
   "outputs": [
    {
     "data": {
      "image/png": "[encoded data removed]",
      "text/plain": [
       "<Figure size 576x288 with 1 Axes>"
      ]
     },
     "metadata": {
      "needs_background": "light"
     },
     "output_type": "display_data"
    },
    {
     "data": {
      "image/png": "[encoded data removed]",
      "text/plain": [
       "<Figure size 576x288 with 1 Axes>"
      ]
     },
     "metadata": {
      "needs_background": "light"
     },
     "output_type": "display_data"
    },
    {
     "data": {
      "image/png": "[encoded data removed]",
      "text/plain": [
       "<Figure size 576x288 with 1 Axes>"
      ]
     },
     "metadata": {
      "needs_background": "light"
     },
     "output_type": "display_data"
    },
    {
     "data": {
      "text/plain": [
       "''"
      ]
     },
     "execution_count": 305,
     "metadata": {},
     "output_type": "execute_result"
    }
   ],
   "source": [
    "platform_eu.plot(kind='bar', figsize=(8,4))\n",
    "plt.title('Топ платформ в Европе')\n",
    "plt.ylabel('Продажи (млн. копий)')\n",
    "plt.xlabel('Платформы')\n",
    "plt.show()#построим гистограмму самых популярных платформ Европе\n",
    "\n",
    "genre_eu.plot(kind='bar', figsize=(8,4))\n",
    "plt.title('Топ жанров в Европе')\n",
    "plt.ylabel('Продажи (млн. копий)')\n",
    "plt.xlabel('Жанры')\n",
    "plt.show()#построим гистограмму самых популярных жанров Европе\n",
    "\n",
    "rating_eu.plot(kind='bar', figsize=(8,4))\n",
    "plt.title('Топ игр по рейтингу ESRB в Европе')\n",
    "plt.ylabel('Продажи (млн. копий)')\n",
    "plt.xlabel('Рейтинг ESRB')\n",
    "plt.show()#построим гистограмму самых популярных игр по рейтингу ESRB в Европе\n",
    ";"
   ]
  },
  {
   "cell_type": "markdown",
   "metadata": {},
   "source": [
    "В Европе лидируют платформы PS4 и PS3. С жанрами ситуация аналогична Америке - лидеры - Стрелялки и платформеры. Чаще, как и в Америке, покупают игры для взрослых."
   ]
  },
  {
   "cell_type": "code",
   "execution_count": 306,
   "metadata": {},
   "outputs": [
    {
     "name": "stdout",
     "output_type": "stream",
     "text": [
      "platform\n",
      "3DS     67.81\n",
      "PS3     23.35\n",
      "PSV     18.59\n",
      "PS4     15.96\n",
      "WiiU    10.88\n",
      "Name: jp_sales, dtype: float64\n",
      "              jp_sales\n",
      "genre                 \n",
      "Role-Playing      0.05\n",
      "Fighting          0.03\n",
      "Misc              0.02\n",
      "Puzzle            0.02\n",
      "Action            0.01\n",
      "Adventure         0.01\n",
      "Platform          0.00\n",
      "Racing            0.00\n",
      "Shooter           0.00\n",
      "Simulation        0.00\n",
      "Sports            0.00\n",
      "Strategy          0.00\n",
      "rating\n",
      "unknow    85.05\n",
      "T         20.59\n",
      "E         15.14\n",
      "M         14.11\n",
      "E10+       5.89\n",
      "Name: jp_sales, dtype: float64\n"
     ]
    }
   ],
   "source": [
    "platform_jp = df_all.groupby(['platform'])['jp_sales'].sum().sort_values(ascending=False).head()#топ платформ в Японии\n",
    "\n",
    "genre_jp = df_all.pivot_table(index='genre', values='jp_sales', aggfunc='median')\n",
    "genre_jp = genre_jp.sort_values('jp_sales', ascending = False)#топ жанров в Японии (оценка по медианным значениям)\n",
    "\n",
    "rating_jp = df_all.groupby(['rating'])['jp_sales'].sum().sort_values(ascending=False).head()#топ игр по возрастной категории в Японии\n",
    "\n",
    "print(platform_jp)\n",
    "print(genre_jp)\n",
    "print(rating_jp)"
   ]
  },
  {
   "cell_type": "code",
   "execution_count": 307,
   "metadata": {},
   "outputs": [
    {
     "data": {
      "image/png": "[encoded data removed]",
      "text/plain": [
       "<Figure size 576x288 with 1 Axes>"
      ]
     },
     "metadata": {
      "needs_background": "light"
     },
     "output_type": "display_data"
    },
    {
     "data": {
      "image/png": "[encoded data removed]",
      "text/plain": [
       "<Figure size 576x288 with 1 Axes>"
      ]
     },
     "metadata": {
      "needs_background": "light"
     },
     "output_type": "display_data"
    },
    {
     "data": {
      "image/png": "[encoded data removed]",
      "text/plain": [
       "<Figure size 576x288 with 1 Axes>"
      ]
     },
     "metadata": {
      "needs_background": "light"
     },
     "output_type": "display_data"
    },
    {
     "data": {
      "text/plain": [
       "''"
      ]
     },
     "execution_count": 307,
     "metadata": {},
     "output_type": "execute_result"
    }
   ],
   "source": [
    "platform_jp.plot(kind='bar', figsize=(8,4))\n",
    "plt.title('Топ платформ в Японии')\n",
    "plt.ylabel('Продажи (млн. копий)')\n",
    "plt.xlabel('Платформы')\n",
    "plt.show()#построим гистограмму самых популярных платформ Европе\n",
    "\n",
    "genre_jp.plot(kind='bar', figsize=(8,4))\n",
    "plt.title('Топ жанров в Японии')\n",
    "plt.ylabel('Продажи (млн. копий)')\n",
    "plt.xlabel('Жанры')\n",
    "plt.show()#построим гистограмму самых популярных жанров Европе\n",
    "\n",
    "rating_jp.plot(kind='bar', figsize=(8,4))\n",
    "plt.title('Топ игр по рейтингу ESRB в Японии')\n",
    "plt.ylabel('Продажи (млн. копий)')\n",
    "plt.xlabel('Рейтинг ESRB')\n",
    "plt.show()#построим гистограмму самых популярных игр по рейтингу ESRB в Европе\n",
    ";"
   ]
  },
  {
   "cell_type": "markdown",
   "metadata": {},
   "source": [
    "В Японии ситуация отличается - лидируют платформы 3DS и PS3. Жанры - ролевые игры и бои. Посмотрим, какую долю занимает каждый регион в сумме продаж. В игры чаще играют подростки (рейтинг Т)."
   ]
  },
  {
   "cell_type": "code",
   "execution_count": 99,
   "metadata": {},
   "outputs": [
    {
     "data": {
      "text/plain": [
       "1090.69"
      ]
     },
     "execution_count": 99,
     "metadata": {},
     "output_type": "execute_result"
    }
   ],
   "source": [
    "platform_all = df_all['sales_sum'].sum() #для подсчета процентного соотношения продаж по регионам создадим переменную с общей суммой продаж\n",
    "platform_all"
   ]
  },
  {
   "cell_type": "code",
   "execution_count": 100,
   "metadata": {},
   "outputs": [
    {
     "data": {
      "text/plain": [
       "40.0"
      ]
     },
     "execution_count": 100,
     "metadata": {},
     "output_type": "execute_result"
    }
   ],
   "source": [
    "percent_na = df_all['na_sales'].sum()/platform_all*100 #доля продаж в Северной Америке\n",
    "percent_na.round()"
   ]
  },
  {
   "cell_type": "code",
   "execution_count": 101,
   "metadata": {},
   "outputs": [
    {
     "data": {
      "text/plain": [
       "36.0"
      ]
     },
     "execution_count": 101,
     "metadata": {},
     "output_type": "execute_result"
    }
   ],
   "source": [
    "percent_eu = df_all['eu_sales'].sum()/platform_all*100 #доля продаж в Европе\n",
    "percent_eu.round()"
   ]
  },
  {
   "cell_type": "code",
   "execution_count": 102,
   "metadata": {},
   "outputs": [
    {
     "data": {
      "text/plain": [
       "13.0"
      ]
     },
     "execution_count": 102,
     "metadata": {},
     "output_type": "execute_result"
    }
   ],
   "source": [
    "percent_jp = df_all['jp_sales'].sum()/platform_all*100 #доля продаж в Японии\n",
    "percent_jp.round()"
   ]
  },
  {
   "cell_type": "code",
   "execution_count": 189,
   "metadata": {},
   "outputs": [
    {
     "data": {
      "text/plain": [
       "''"
      ]
     },
     "execution_count": 189,
     "metadata": {},
     "output_type": "execute_result"
    },
    {
     "data": {
      "image/png": "[encoded data removed]",
      "text/plain": [
       "<Figure size 432x288 with 1 Axes>"
      ]
     },
     "metadata": {},
     "output_type": "display_data"
    }
   ],
   "source": [
    "share  = [40, 36, 13, 11]\n",
    "labels  = [\"Северная Америка\", \"Европа\", \"Япония\", \"Другие регионы\"]\n",
    "fig, ax = plt.subplots()\n",
    "ax.pie(share, labels=labels, autopct='%1.1f%%', shadow=True, wedgeprops={'lw':1, 'ls':'--','edgecolor':\"k\"}, rotatelabels=True)\n",
    "ax.axis(\"equal\")\n",
    ";"
   ]
  },
  {
   "cell_type": "markdown",
   "metadata": {},
   "source": [
    "**Вывод:**\n",
    "\n",
    "Мы видим, что основной оборот приходится на Америку и Европу. Доля Японии значительно меньше - 13%. Это может быть связано в том числе и с тем, что в Японии наиболее популярны устаревшие платформы, продажи игр для которых находятся на невысоком уровне в выбранном периоде. Кроме того, т.к. в Японии чаще покупают игры подростки, возможно, они тратят меньшие суммы, чем взрослые люди."
   ]
  },
  {
   "cell_type": "markdown",
   "metadata": {},
   "source": [
    "<div class=\"alert alert-danger\">\n",
    "<b>Комментарий ревьюера: ❌</b>\n",
    "\n",
    "<s>Портреты также нужно нам отобразить на графиках.\n",
    "    \n",
    "</div>"
   ]
  },
  {
   "cell_type": "markdown",
   "metadata": {},
   "source": [
    "<div class=\"alert alert-info\">\n",
    "Я добавила визуализацию, также пересмотрела данные по самым популярным жанрам - как и выше, сделала топ по \n",
    "медианным значениям - рейтинг изменился.\n",
    "</div>\n"
   ]
  },
  {
   "cell_type": "markdown",
   "metadata": {},
   "source": [
    "<div class=\"alert alert-success\">\n",
    "<b>Комментарий ревьюера: ✅</b>\n",
    "\n",
    "Достаточно детально проанализировали наши данные и изучили портреты пользователей.\n",
    "    \n",
    "\n",
    "    \n",
    "Давай теперь проверим наши гипотезы.\n",
    "    \n",
    "</div>"
   ]
  },
  {
   "cell_type": "markdown",
   "metadata": {},
   "source": [
    "### Провека гипотез"
   ]
  },
  {
   "cell_type": "markdown",
   "metadata": {},
   "source": [
    "#### Средние пользовательские рейтинги платформ Xbox One и PC одинаковые"
   ]
  },
  {
   "cell_type": "markdown",
   "metadata": {},
   "source": [
    "Начнем с проверки первой гипотезы. Нулевая гипотеза звучит так:\n",
    "\n",
    "- Н0 = Средние пользовательские рейтинги платформ Xbox One и PC одинаковые\n",
    "\n",
    "Исходя из Н0 формулируем альтернативную гипотезу Н1:\n",
    "- Н1 = Средние пользовательские рейтинги платформ Xbox One и PC разные"
   ]
  },
  {
   "cell_type": "markdown",
   "metadata": {},
   "source": [
    "<div class=\"alert alert-success\">\n",
    "<b>Комментарий ревьюера: ✅</b>\n",
    "\n",
    "Гипотезы сформулированы верно.\n",
    "    \n",
    "    \n",
    "**Best practices:**\n",
    "    \n",
    "Перед проверкой гипотезы рекомендую проверить дисперсии выборок, чтобы корректно определить атрибут `equal_val` в Т–тесте.\n",
    "    \n",
    "В том числе стоит визуализировать распределение каждой выборки, чтобы определить нормальное ли у них распределение или нет.\n",
    "    \n",
    "Так мы покажем логичность и последовательность наших действий.\n",
    "    \n",
    "</div>"
   ]
  },
  {
   "cell_type": "code",
   "execution_count": 103,
   "metadata": {},
   "outputs": [
    {
     "name": "stdout",
     "output_type": "stream",
     "text": [
      "p-значение: 0.10169342039498884\n",
      "Не получилось отвергнуть нулевую гипотезу\n"
     ]
    }
   ],
   "source": [
    "df_all = df_all.dropna(subset=['user_score']) \n",
    "df_xbox = df_all[df_all['platform'] == 'XOne']\n",
    "df_pc =  df_all[df_all['platform'] == 'PS4'] #подготовим выборки для анализа\n",
    "user_score_xbox = df_xbox['user_score']\n",
    "user_score_pc = df_pc['user_score']\n",
    "alpha = .05  # критический уровень статистической значимости\n",
    "# если p-value окажется меньше него - отвергнем гипотезу\n",
    "\n",
    "results = st.ttest_ind(\n",
    "    user_score_xbox, \n",
    "    user_score_pc)\n",
    "\n",
    "print('p-значение:', results.pvalue)\n",
    "\n",
    "if results.pvalue < alpha:\n",
    "    print(\"Отвергаем нулевую гипотезу\")\n",
    "else:\n",
    "    print(\"Не получилось отвергнуть нулевую гипотезу\") "
   ]
  },
  {
   "cell_type": "markdown",
   "metadata": {},
   "source": [
    "Нулевую гипотезу мы не отвергаем, следовательно, можно сделать вывод, что средние пользовательские рейтинги платформ Xbox One и PC одинаковые."
   ]
  },
  {
   "cell_type": "markdown",
   "metadata": {},
   "source": [
    "#### Средние пользовательские рейтинги жанров Action и Sports разные."
   ]
  },
  {
   "cell_type": "markdown",
   "metadata": {},
   "source": [
    "Проверим вторую гипотезу - средние пользовательские рейтинги жанров Action и Sports разные.\n",
    "\n",
    "- Н0 в этом случае = средние пользовательские рейтинги жанров Action и Sports одинаковые\n",
    "- Н1 = средние пользовательские рейтинги жанров Action и Sports разные"
   ]
  },
  {
   "cell_type": "markdown",
   "metadata": {},
   "source": [
    "<div class=\"alert alert-success\">\n",
    "<b>Комментарий ревьюера: ✅</b>\n",
    "\n",
    "Гипотезы сформулированы верно.\n",
    "    \n",
    "       \n",
    "</div>"
   ]
  },
  {
   "cell_type": "code",
   "execution_count": 104,
   "metadata": {},
   "outputs": [
    {
     "name": "stdout",
     "output_type": "stream",
     "text": [
      "p-значение: 0.10169342039498884\n",
      "Не получилось отвергнуть нулевую гипотезу\n"
     ]
    }
   ],
   "source": [
    "df_action = df_all[df_all['genre'] == 'Action']\n",
    "df_sports =  df_all[df_all['genre'] == 'Sports'] #подготовим выборки для анализа\n",
    "user_score_action = df_action['user_score']\n",
    "user_score_sports = df_sports['user_score']\n",
    "alpha = .05  # критический уровень статистической значимости\n",
    "# если p-value окажется меньше него - отвергнем гипотезу\n",
    "\n",
    "results = st.ttest_ind(\n",
    "    user_score_xbox, \n",
    "    user_score_pc)\n",
    "\n",
    "print('p-значение:', results.pvalue)\n",
    "\n",
    "if results.pvalue < alpha:\n",
    "    print(\"Отвергаем нулевую гипотезу\")\n",
    "else:\n",
    "    print(\"Не получилось отвергнуть нулевую гипотезу\") "
   ]
  },
  {
   "cell_type": "markdown",
   "metadata": {},
   "source": [
    "Нулевую гипотезу отвергнуть не получилось, следовательно, мы делаем вывод, что средние пользовательские рейтинги жанров Action и Sports разные."
   ]
  },
  {
   "cell_type": "markdown",
   "metadata": {},
   "source": [
    "<div class=\"alert alert-success\">\n",
    "<b>Комментарий ревьюера: ✅</b>\n",
    "\n",
    "Обрати внимание, что наши действия также повторяются с точки зрения расчетов статистических тестов, это говорит о том, что мы можем также создать здесь функцию 😊\n",
    "    \n",
    "</div>"
   ]
  },
  {
   "cell_type": "markdown",
   "metadata": {},
   "source": [
    "### Вывод"
   ]
  },
  {
   "cell_type": "markdown",
   "metadata": {},
   "source": [
    "В ходе исследования мы проанализировали датафрейм с информацией о продажах компьютерных игр за период с 1980 по 2016 год. \n",
    "В начале исследования нами был подготовлена информация к дальнейшему анализу - удалены пропущенные значения в колонках с названием игры, жанром и годом выпуска (т.к. количество пропусков было небольшим), пропуски в колонках с оценками оставлены без изменений, в колонке с рейтингом заменены на значение \"unknow\". \n",
    "\n",
    "Далее мы посмотрели на динамику продаж игр по годам, а также на жизненный цикл платформы, который составляет не более 5 лет. Было принято решение использовать для анализа информацию за период с 2013 по 2016 годы, чтобы не захватить данные по уже устаревшим платформам, но и не отсеять лишнее.\n",
    "\n",
    "Нами были выделены наиболее крупные платформы, на которые стоит сделать акцент при планировании рекламной кампании на 2017 год – это платформы PS4, XOne и 3DS. По ним, к концу 2016 года объем продаж сохраняется на высоком уровне.\n",
    "Также было выяснено, что есть зависимость объема продаж от оценок критиков. Особенно высоки продажи игр с оценками от 90 и выше. Следовательно, данный момент стоит учитывать при планировании продаж на 2017 год. То же самое можно сказать и об оценках пользователей.\n",
    "<div class=\"alert alert-info\">\n",
    "Мы выявили самые популярные и самые прибыльные жанры компьютерных игр. Наиболее часто встречаемые жанры - это экшн, ролевые игры, приключения. Самые непопулярные - стратегии и паззлы. По прибыльности лидируют стрелялки и спортивные игры.\n",
    "</div>\n",
    "Основной оборот продаж игр приходится на Америку и Европу. Доля Японии значительно меньше - 13%. Это может быть связано в том числе и с тем, что в Японии наиболее популярны устаревшие платформы, продажи игр для которых находятся на невысоком уровне в выбранном периоде. Кроме того, т.к. в Японии чаще покупают игры подростки, возможно, они тратят меньшие суммы, чем взрослые люди.\n",
    "\n",
    "В ходе исследования мы проверили 2 гипотезы и пришли к следующим выводам:\n",
    "- средние пользовательские рейтинги платформ Xbox One и PC одинаковые;\n",
    "- средние пользовательские рейтинги жанров Action и Sports разные.\n",
    "\n",
    "Резюмируя, можно сказать следующее – при планировании рекламной кампании на 2017 год стоит уделить большее внимание играм для взрослых людей в жанрах стрелялки и платформеры для платформ PS4, XOne и 3DS. При этом не стоит забывать и о таком регионе, как Япония, и оставить в ассортименте игры для подростков и для платфомы PS3 (в меньшем количестве, чем указанные выше). Данная платформа все еще сохраняет свою актуальность во всех регионах, поэтому совсем отказываться от нее не стоит.\n"
   ]
  },
  {
   "cell_type": "markdown",
   "metadata": {},
   "source": [
    "<div class=\"alert alert-success\">\n",
    "<b>Комментарий ревьюера: ✅</b>\n",
    "\n",
    "\n",
    "    \n",
    "Достаточно детально проделанная работа и это не может не радовать 😊\n",
    "    \n",
    "Давай поправим мои комментарии и будем двигаться дальше.\n",
    "    \n",
    "Если у тебя вдруг есчть какие–либо вопросы, то я с радостью отвечу на них 😊\n",
    "       \n",
    "\n",
    "</div>"
   ]
  },
  {
   "cell_type": "markdown",
   "metadata": {},
   "source": [
    "<div class=\"alert alert-success\">\n",
    "<b>Комментарий ревьюера (2): ✅</b>\n",
    "\n",
    "Выводы понятны и логичны, а самое главное подкреплены выявленными фактами.\n",
    "       \n",
    "В целом сам проект выполнен на хорошем уровне! На протяжении всей работы чувствуется глубина проработки задачи и это безусловный плюс для нас. Было использовано большое количество методов, которые будут помогать тебе в дальнейших проектах.\n",
    "    \n",
    "    \n",
    "    \n",
    "**[общий комментарий]** Ячейки **markdown** в том числе мы можем использовать как дополнительный способ стилизации нашего проекта. Оставил ниже ссылку, с примерами стилизации.\n",
    "\n",
    "https://sqlbak.com/blog/jupyter-notebook-markdown-cheatsheet     \n",
    "</div>"
   ]
  },
  {
   "cell_type": "markdown",
   "metadata": {},
   "source": [
    "<div class=\"alert alert-success\">\n",
    "<b>Комментарий ревьюера (2): ✅</b>\n",
    "\n",
    "Рад, что в целом все понятно и особенно здорово, что сразу применяешь новые знания на практике, ведь так они гораздо быстрее усвоятся. Тогда предлагаю двигаться дальше.\n",
    "    \n",
    "Поздравляю с успешным завершением проекта 😊👍\n",
    "    \n",
    "И желаю успехов в новых работах 😊\n",
    "    \n",
    "    \n",
    "</div>"
   ]
  },
  {
   "cell_type": "code",
   "execution_count": null,
   "metadata": {},
   "outputs": [],
   "source": []
  }
 ],
 "metadata": {
  "ExecuteTimeLog": [
   {
    "duration": 84,
    "start_time": "2023-01-16T13:16:30.956Z"
   },
   {
    "duration": 1461,
    "start_time": "2023-01-16T13:16:35.068Z"
   },
   {
    "duration": 112,
    "start_time": "2023-01-16T13:16:36.786Z"
   },
   {
    "duration": 54,
    "start_time": "2023-01-16T13:16:42.000Z"
   },
   {
    "duration": 35,
    "start_time": "2023-01-16T13:16:57.620Z"
   },
   {
    "duration": 18,
    "start_time": "2023-01-16T13:17:07.811Z"
   },
   {
    "duration": 4,
    "start_time": "2023-01-16T13:35:34.277Z"
   },
   {
    "duration": 15,
    "start_time": "2023-01-16T13:35:35.901Z"
   },
   {
    "duration": 6,
    "start_time": "2023-01-16T13:36:00.576Z"
   },
   {
    "duration": 15,
    "start_time": "2023-01-16T13:36:01.996Z"
   },
   {
    "duration": 6,
    "start_time": "2023-01-16T13:46:27.872Z"
   },
   {
    "duration": 1399,
    "start_time": "2023-01-16T13:46:56.605Z"
   },
   {
    "duration": 4,
    "start_time": "2023-01-16T13:47:07.072Z"
   },
   {
    "duration": 1353,
    "start_time": "2023-01-16T13:47:09.482Z"
   },
   {
    "duration": 22,
    "start_time": "2023-01-16T13:47:35.476Z"
   },
   {
    "duration": 4,
    "start_time": "2023-01-16T13:47:44.143Z"
   },
   {
    "duration": 126,
    "start_time": "2023-01-16T13:47:44.149Z"
   },
   {
    "duration": 22,
    "start_time": "2023-01-16T13:47:44.278Z"
   },
   {
    "duration": 50,
    "start_time": "2023-01-16T13:47:44.302Z"
   },
   {
    "duration": 22,
    "start_time": "2023-01-16T13:47:47.977Z"
   },
   {
    "duration": 22,
    "start_time": "2023-01-16T13:47:54.312Z"
   },
   {
    "duration": 7,
    "start_time": "2023-01-16T13:48:00.411Z"
   },
   {
    "duration": 16,
    "start_time": "2023-01-16T13:48:02.916Z"
   },
   {
    "duration": 32,
    "start_time": "2023-01-16T13:48:06.107Z"
   },
   {
    "duration": 9,
    "start_time": "2023-01-16T13:52:36.434Z"
   },
   {
    "duration": 5,
    "start_time": "2023-01-16T13:52:43.068Z"
   },
   {
    "duration": 67,
    "start_time": "2023-01-16T13:52:43.076Z"
   },
   {
    "duration": 37,
    "start_time": "2023-01-16T13:52:43.145Z"
   },
   {
    "duration": 36,
    "start_time": "2023-01-16T13:52:43.184Z"
   },
   {
    "duration": 5,
    "start_time": "2023-01-16T13:52:43.223Z"
   },
   {
    "duration": 57,
    "start_time": "2023-01-16T13:52:43.230Z"
   },
   {
    "duration": 18,
    "start_time": "2023-01-16T13:52:43.290Z"
   },
   {
    "duration": 10,
    "start_time": "2023-01-16T13:52:46.404Z"
   },
   {
    "duration": 6,
    "start_time": "2023-01-16T13:53:01.679Z"
   },
   {
    "duration": 7,
    "start_time": "2023-01-16T13:54:07.714Z"
   },
   {
    "duration": 15,
    "start_time": "2023-01-16T13:54:12.651Z"
   },
   {
    "duration": 12,
    "start_time": "2023-01-16T13:54:34.545Z"
   },
   {
    "duration": 6,
    "start_time": "2023-01-16T13:54:36.204Z"
   },
   {
    "duration": 6,
    "start_time": "2023-01-16T13:54:38.432Z"
   },
   {
    "duration": 10,
    "start_time": "2023-01-16T14:07:40.070Z"
   },
   {
    "duration": 5,
    "start_time": "2023-01-16T14:07:42.803Z"
   },
   {
    "duration": 9,
    "start_time": "2023-01-16T14:07:50.867Z"
   },
   {
    "duration": 11,
    "start_time": "2023-01-16T14:08:00.094Z"
   },
   {
    "duration": 6,
    "start_time": "2023-01-16T14:09:08.514Z"
   },
   {
    "duration": 12,
    "start_time": "2023-01-16T14:09:42.058Z"
   },
   {
    "duration": 5,
    "start_time": "2023-01-16T14:10:31.779Z"
   },
   {
    "duration": 7,
    "start_time": "2023-01-16T14:10:36.468Z"
   },
   {
    "duration": 7,
    "start_time": "2023-01-16T14:10:39.770Z"
   },
   {
    "duration": 7,
    "start_time": "2023-01-16T14:10:45.200Z"
   },
   {
    "duration": 7,
    "start_time": "2023-01-16T14:10:46.723Z"
   },
   {
    "duration": 9,
    "start_time": "2023-01-16T14:10:50.943Z"
   },
   {
    "duration": 22,
    "start_time": "2023-01-16T14:11:06.175Z"
   },
   {
    "duration": 4,
    "start_time": "2023-01-16T14:12:06.435Z"
   },
   {
    "duration": 6,
    "start_time": "2023-01-16T14:12:08.087Z"
   },
   {
    "duration": 13,
    "start_time": "2023-01-16T14:12:20.909Z"
   },
   {
    "duration": 15,
    "start_time": "2023-01-16T14:12:23.094Z"
   },
   {
    "duration": 3,
    "start_time": "2023-01-16T14:16:39.477Z"
   },
   {
    "duration": 13,
    "start_time": "2023-01-16T14:19:34.784Z"
   },
   {
    "duration": 24,
    "start_time": "2023-01-16T14:19:44.447Z"
   },
   {
    "duration": 16,
    "start_time": "2023-01-16T14:19:52.647Z"
   },
   {
    "duration": 15,
    "start_time": "2023-01-16T14:19:54.112Z"
   },
   {
    "duration": 3,
    "start_time": "2023-01-16T14:20:31.600Z"
   },
   {
    "duration": 86,
    "start_time": "2023-01-16T14:20:31.606Z"
   },
   {
    "duration": 20,
    "start_time": "2023-01-16T14:20:31.694Z"
   },
   {
    "duration": 68,
    "start_time": "2023-01-16T14:20:31.716Z"
   },
   {
    "duration": 11,
    "start_time": "2023-01-16T14:20:31.788Z"
   },
   {
    "duration": 36,
    "start_time": "2023-01-16T14:20:31.802Z"
   },
   {
    "duration": 40,
    "start_time": "2023-01-16T14:20:31.840Z"
   },
   {
    "duration": 48,
    "start_time": "2023-01-16T14:20:31.882Z"
   },
   {
    "duration": 53,
    "start_time": "2023-01-16T14:20:31.932Z"
   },
   {
    "duration": 26,
    "start_time": "2023-01-16T14:20:31.987Z"
   },
   {
    "duration": 52,
    "start_time": "2023-01-16T14:20:32.016Z"
   },
   {
    "duration": 28,
    "start_time": "2023-01-16T14:20:32.070Z"
   },
   {
    "duration": 42,
    "start_time": "2023-01-16T14:20:32.100Z"
   },
   {
    "duration": 16,
    "start_time": "2023-01-16T14:20:35.988Z"
   },
   {
    "duration": 14,
    "start_time": "2023-01-16T14:20:53.229Z"
   },
   {
    "duration": 18,
    "start_time": "2023-01-16T14:20:57.966Z"
   },
   {
    "duration": 10,
    "start_time": "2023-01-16T14:27:56.272Z"
   },
   {
    "duration": 11,
    "start_time": "2023-01-16T14:28:00.774Z"
   },
   {
    "duration": 16,
    "start_time": "2023-01-16T14:30:55.259Z"
   },
   {
    "duration": 17,
    "start_time": "2023-01-16T14:30:59.553Z"
   },
   {
    "duration": 21,
    "start_time": "2023-01-16T14:32:04.199Z"
   },
   {
    "duration": 10,
    "start_time": "2023-01-16T14:32:04.221Z"
   },
   {
    "duration": 15,
    "start_time": "2023-01-16T14:32:04.233Z"
   },
   {
    "duration": 6,
    "start_time": "2023-01-16T14:32:04.250Z"
   },
   {
    "duration": 17,
    "start_time": "2023-01-16T14:32:04.257Z"
   },
   {
    "duration": 10,
    "start_time": "2023-01-16T14:32:09.119Z"
   },
   {
    "duration": 10,
    "start_time": "2023-01-16T14:32:13.780Z"
   },
   {
    "duration": 22,
    "start_time": "2023-01-16T14:32:13.793Z"
   },
   {
    "duration": 39,
    "start_time": "2023-01-16T14:32:13.817Z"
   },
   {
    "duration": 5,
    "start_time": "2023-01-16T14:32:27.842Z"
   },
   {
    "duration": 13,
    "start_time": "2023-01-16T14:32:33.201Z"
   },
   {
    "duration": 15,
    "start_time": "2023-01-16T14:32:36.374Z"
   },
   {
    "duration": 3,
    "start_time": "2023-01-16T14:32:43.279Z"
   },
   {
    "duration": 62,
    "start_time": "2023-01-16T14:32:43.284Z"
   },
   {
    "duration": 15,
    "start_time": "2023-01-16T14:32:43.348Z"
   },
   {
    "duration": 39,
    "start_time": "2023-01-16T14:32:43.365Z"
   },
   {
    "duration": 10,
    "start_time": "2023-01-16T14:32:43.407Z"
   },
   {
    "duration": 22,
    "start_time": "2023-01-16T14:32:43.418Z"
   },
   {
    "duration": 14,
    "start_time": "2023-01-16T14:32:43.442Z"
   },
   {
    "duration": 23,
    "start_time": "2023-01-16T14:32:43.458Z"
   },
   {
    "duration": 24,
    "start_time": "2023-01-16T14:32:43.483Z"
   },
   {
    "duration": 25,
    "start_time": "2023-01-16T14:32:43.509Z"
   },
   {
    "duration": 32,
    "start_time": "2023-01-16T14:32:43.538Z"
   },
   {
    "duration": 20,
    "start_time": "2023-01-16T14:32:48.655Z"
   },
   {
    "duration": 14,
    "start_time": "2023-01-16T14:33:10.091Z"
   },
   {
    "duration": 9,
    "start_time": "2023-01-16T14:46:32.321Z"
   },
   {
    "duration": 10,
    "start_time": "2023-01-16T14:46:41.012Z"
   },
   {
    "duration": 10,
    "start_time": "2023-01-16T14:46:48.644Z"
   },
   {
    "duration": 10,
    "start_time": "2023-01-16T14:47:03.192Z"
   },
   {
    "duration": 13,
    "start_time": "2023-01-16T14:47:03.205Z"
   },
   {
    "duration": 11,
    "start_time": "2023-01-16T14:47:03.220Z"
   },
   {
    "duration": 6,
    "start_time": "2023-01-16T14:55:41.088Z"
   },
   {
    "duration": 22,
    "start_time": "2023-01-16T14:55:52.232Z"
   },
   {
    "duration": 5,
    "start_time": "2023-01-16T14:57:19.886Z"
   },
   {
    "duration": 15,
    "start_time": "2023-01-16T14:57:26.007Z"
   },
   {
    "duration": 10,
    "start_time": "2023-01-16T14:57:38.921Z"
   },
   {
    "duration": 11,
    "start_time": "2023-01-16T14:57:42.793Z"
   },
   {
    "duration": 11,
    "start_time": "2023-01-16T14:57:42.806Z"
   },
   {
    "duration": 28,
    "start_time": "2023-01-16T14:57:42.819Z"
   },
   {
    "duration": 10,
    "start_time": "2023-01-16T14:57:42.849Z"
   },
   {
    "duration": 35,
    "start_time": "2023-01-16T14:57:42.860Z"
   },
   {
    "duration": 10,
    "start_time": "2023-01-16T14:58:59.007Z"
   },
   {
    "duration": 3,
    "start_time": "2023-01-16T14:59:12.074Z"
   },
   {
    "duration": 54,
    "start_time": "2023-01-16T14:59:12.080Z"
   },
   {
    "duration": 15,
    "start_time": "2023-01-16T14:59:12.137Z"
   },
   {
    "duration": 24,
    "start_time": "2023-01-16T14:59:12.154Z"
   },
   {
    "duration": 6,
    "start_time": "2023-01-16T14:59:12.180Z"
   },
   {
    "duration": 9,
    "start_time": "2023-01-16T14:59:12.188Z"
   },
   {
    "duration": 15,
    "start_time": "2023-01-16T14:59:12.199Z"
   },
   {
    "duration": 9,
    "start_time": "2023-01-16T14:59:12.216Z"
   },
   {
    "duration": 25,
    "start_time": "2023-01-16T14:59:12.226Z"
   },
   {
    "duration": 10,
    "start_time": "2023-01-16T14:59:14.425Z"
   },
   {
    "duration": 12,
    "start_time": "2023-01-16T14:59:21.797Z"
   },
   {
    "duration": 13,
    "start_time": "2023-01-16T14:59:21.811Z"
   },
   {
    "duration": 10,
    "start_time": "2023-01-16T14:59:21.826Z"
   },
   {
    "duration": 5,
    "start_time": "2023-01-16T14:59:21.838Z"
   },
   {
    "duration": 17,
    "start_time": "2023-01-16T14:59:21.845Z"
   },
   {
    "duration": 24,
    "start_time": "2023-01-16T15:00:44.877Z"
   },
   {
    "duration": 18,
    "start_time": "2023-01-16T15:03:42.976Z"
   },
   {
    "duration": 6,
    "start_time": "2023-01-16T15:04:03.575Z"
   },
   {
    "duration": 9,
    "start_time": "2023-01-16T15:04:06.889Z"
   },
   {
    "duration": 19,
    "start_time": "2023-01-16T15:04:06.900Z"
   },
   {
    "duration": 16,
    "start_time": "2023-01-16T15:04:06.920Z"
   },
   {
    "duration": 18,
    "start_time": "2023-01-16T15:04:06.938Z"
   },
   {
    "duration": 18,
    "start_time": "2023-01-16T15:04:06.958Z"
   },
   {
    "duration": 27,
    "start_time": "2023-01-16T15:04:06.978Z"
   },
   {
    "duration": 31,
    "start_time": "2023-01-16T15:04:07.006Z"
   },
   {
    "duration": 11,
    "start_time": "2023-01-16T15:12:14.463Z"
   },
   {
    "duration": 7,
    "start_time": "2023-01-16T15:12:22.587Z"
   },
   {
    "duration": 21,
    "start_time": "2023-01-16T15:13:59.836Z"
   },
   {
    "duration": 15,
    "start_time": "2023-01-16T15:14:14.473Z"
   },
   {
    "duration": 4,
    "start_time": "2023-01-16T16:47:14.421Z"
   },
   {
    "duration": 17,
    "start_time": "2023-01-16T16:47:20.972Z"
   },
   {
    "duration": 17,
    "start_time": "2023-01-16T16:48:45.695Z"
   },
   {
    "duration": 28,
    "start_time": "2023-01-16T17:01:21.016Z"
   },
   {
    "duration": 25,
    "start_time": "2023-01-16T17:01:35.878Z"
   },
   {
    "duration": 0,
    "start_time": "2023-01-16T17:01:35.905Z"
   },
   {
    "duration": 13,
    "start_time": "2023-01-16T17:01:49.002Z"
   },
   {
    "duration": 8,
    "start_time": "2023-01-16T17:02:15.490Z"
   },
   {
    "duration": 9,
    "start_time": "2023-01-16T17:02:17.672Z"
   },
   {
    "duration": 11,
    "start_time": "2023-01-16T17:02:19.057Z"
   },
   {
    "duration": 8,
    "start_time": "2023-01-16T17:03:28.696Z"
   },
   {
    "duration": 32,
    "start_time": "2023-01-16T17:03:30.199Z"
   },
   {
    "duration": 18,
    "start_time": "2023-01-16T17:03:52.082Z"
   },
   {
    "duration": 13,
    "start_time": "2023-01-16T17:08:18.394Z"
   },
   {
    "duration": 22,
    "start_time": "2023-01-16T17:08:26.025Z"
   },
   {
    "duration": 4,
    "start_time": "2023-01-16T17:08:46.175Z"
   },
   {
    "duration": 104,
    "start_time": "2023-01-16T17:08:46.181Z"
   },
   {
    "duration": 16,
    "start_time": "2023-01-16T17:08:46.287Z"
   },
   {
    "duration": 28,
    "start_time": "2023-01-16T17:08:46.306Z"
   },
   {
    "duration": 21,
    "start_time": "2023-01-16T17:08:46.336Z"
   },
   {
    "duration": 32,
    "start_time": "2023-01-16T17:08:46.359Z"
   },
   {
    "duration": 29,
    "start_time": "2023-01-16T17:08:46.393Z"
   },
   {
    "duration": 23,
    "start_time": "2023-01-16T17:08:46.425Z"
   },
   {
    "duration": 28,
    "start_time": "2023-01-16T17:08:46.451Z"
   },
   {
    "duration": 49,
    "start_time": "2023-01-16T17:08:46.481Z"
   },
   {
    "duration": 28,
    "start_time": "2023-01-16T17:08:46.532Z"
   },
   {
    "duration": 28,
    "start_time": "2023-01-16T17:08:46.562Z"
   },
   {
    "duration": 33,
    "start_time": "2023-01-16T17:08:46.593Z"
   },
   {
    "duration": 19,
    "start_time": "2023-01-16T17:08:46.628Z"
   },
   {
    "duration": 30,
    "start_time": "2023-01-16T17:08:46.649Z"
   },
   {
    "duration": 34,
    "start_time": "2023-01-16T17:08:46.681Z"
   },
   {
    "duration": 31,
    "start_time": "2023-01-16T17:08:46.717Z"
   },
   {
    "duration": 21,
    "start_time": "2023-01-16T17:08:46.750Z"
   },
   {
    "duration": 37,
    "start_time": "2023-01-16T17:08:46.773Z"
   },
   {
    "duration": 21,
    "start_time": "2023-01-16T17:08:48.433Z"
   },
   {
    "duration": 7,
    "start_time": "2023-01-16T17:09:01.855Z"
   },
   {
    "duration": 34,
    "start_time": "2023-01-16T17:09:08.145Z"
   },
   {
    "duration": 25,
    "start_time": "2023-01-16T17:09:22.809Z"
   },
   {
    "duration": 25,
    "start_time": "2023-01-16T17:09:28.389Z"
   },
   {
    "duration": 8,
    "start_time": "2023-01-16T17:09:41.777Z"
   },
   {
    "duration": 8,
    "start_time": "2023-01-16T17:09:44.071Z"
   },
   {
    "duration": 33,
    "start_time": "2023-01-16T17:09:49.490Z"
   },
   {
    "duration": 401,
    "start_time": "2023-01-16T17:10:34.528Z"
   },
   {
    "duration": 322,
    "start_time": "2023-01-16T17:11:29.909Z"
   },
   {
    "duration": 4,
    "start_time": "2023-01-16T17:16:52.165Z"
   },
   {
    "duration": 16,
    "start_time": "2023-01-16T17:16:56.687Z"
   },
   {
    "duration": 19,
    "start_time": "2023-01-16T17:17:11.275Z"
   },
   {
    "duration": 17,
    "start_time": "2023-01-16T17:17:21.341Z"
   },
   {
    "duration": 15,
    "start_time": "2023-01-16T17:17:43.201Z"
   },
   {
    "duration": 15,
    "start_time": "2023-01-16T17:19:44.716Z"
   },
   {
    "duration": 5,
    "start_time": "2023-01-16T17:19:56.530Z"
   },
   {
    "duration": 56,
    "start_time": "2023-01-16T17:19:56.539Z"
   },
   {
    "duration": 17,
    "start_time": "2023-01-16T17:19:56.598Z"
   },
   {
    "duration": 24,
    "start_time": "2023-01-16T17:19:56.617Z"
   },
   {
    "duration": 7,
    "start_time": "2023-01-16T17:19:56.652Z"
   },
   {
    "duration": 21,
    "start_time": "2023-01-16T17:19:56.662Z"
   },
   {
    "duration": 17,
    "start_time": "2023-01-16T17:19:56.685Z"
   },
   {
    "duration": 11,
    "start_time": "2023-01-16T17:19:56.704Z"
   },
   {
    "duration": 18,
    "start_time": "2023-01-16T17:19:56.717Z"
   },
   {
    "duration": 17,
    "start_time": "2023-01-16T17:19:56.737Z"
   },
   {
    "duration": 27,
    "start_time": "2023-01-16T17:19:56.757Z"
   },
   {
    "duration": 17,
    "start_time": "2023-01-16T17:19:56.786Z"
   },
   {
    "duration": 13,
    "start_time": "2023-01-16T17:19:56.805Z"
   },
   {
    "duration": 33,
    "start_time": "2023-01-16T17:19:56.820Z"
   },
   {
    "duration": 22,
    "start_time": "2023-01-16T17:19:56.855Z"
   },
   {
    "duration": 22,
    "start_time": "2023-01-16T17:19:56.879Z"
   },
   {
    "duration": 33,
    "start_time": "2023-01-16T17:19:56.903Z"
   },
   {
    "duration": 11,
    "start_time": "2023-01-16T17:19:56.939Z"
   },
   {
    "duration": 398,
    "start_time": "2023-01-16T17:19:56.953Z"
   },
   {
    "duration": 15,
    "start_time": "2023-01-16T17:20:04.773Z"
   },
   {
    "duration": 17,
    "start_time": "2023-01-16T17:20:17.233Z"
   },
   {
    "duration": 9,
    "start_time": "2023-01-16T17:20:31.509Z"
   },
   {
    "duration": 16,
    "start_time": "2023-01-16T17:20:36.372Z"
   },
   {
    "duration": 9,
    "start_time": "2023-01-16T17:21:10.582Z"
   },
   {
    "duration": 23,
    "start_time": "2023-01-16T17:22:05.005Z"
   },
   {
    "duration": 13,
    "start_time": "2023-01-16T17:22:20.876Z"
   },
   {
    "duration": 8,
    "start_time": "2023-01-16T17:22:26.974Z"
   },
   {
    "duration": 13,
    "start_time": "2023-01-16T17:23:20.716Z"
   },
   {
    "duration": 7,
    "start_time": "2023-01-16T17:23:41.448Z"
   },
   {
    "duration": 691,
    "start_time": "2023-01-16T17:27:59.373Z"
   },
   {
    "duration": 27,
    "start_time": "2023-01-16T17:31:25.141Z"
   },
   {
    "duration": 9,
    "start_time": "2023-01-16T17:39:20.887Z"
   },
   {
    "duration": 12,
    "start_time": "2023-01-16T17:39:27.611Z"
   },
   {
    "duration": 75,
    "start_time": "2023-01-16T17:39:46.106Z"
   },
   {
    "duration": 12,
    "start_time": "2023-01-16T17:40:01.257Z"
   },
   {
    "duration": 11,
    "start_time": "2023-01-16T17:40:26.220Z"
   },
   {
    "duration": 106,
    "start_time": "2023-01-16T17:41:08.180Z"
   },
   {
    "duration": 4,
    "start_time": "2023-01-16T17:41:17.152Z"
   },
   {
    "duration": 62,
    "start_time": "2023-01-16T17:41:17.158Z"
   },
   {
    "duration": 16,
    "start_time": "2023-01-16T17:41:17.222Z"
   },
   {
    "duration": 30,
    "start_time": "2023-01-16T17:41:17.240Z"
   },
   {
    "duration": 6,
    "start_time": "2023-01-16T17:41:17.273Z"
   },
   {
    "duration": 19,
    "start_time": "2023-01-16T17:41:17.281Z"
   },
   {
    "duration": 10,
    "start_time": "2023-01-16T17:41:17.302Z"
   },
   {
    "duration": 33,
    "start_time": "2023-01-16T17:41:17.314Z"
   },
   {
    "duration": 28,
    "start_time": "2023-01-16T17:41:17.349Z"
   },
   {
    "duration": 30,
    "start_time": "2023-01-16T17:41:17.379Z"
   },
   {
    "duration": 14,
    "start_time": "2023-01-16T17:41:17.411Z"
   },
   {
    "duration": 31,
    "start_time": "2023-01-16T17:41:17.427Z"
   },
   {
    "duration": 10,
    "start_time": "2023-01-16T17:41:17.461Z"
   },
   {
    "duration": 31,
    "start_time": "2023-01-16T17:41:17.473Z"
   },
   {
    "duration": 37,
    "start_time": "2023-01-16T17:41:17.506Z"
   },
   {
    "duration": 40,
    "start_time": "2023-01-16T17:41:17.545Z"
   },
   {
    "duration": 43,
    "start_time": "2023-01-16T17:41:17.587Z"
   },
   {
    "duration": 22,
    "start_time": "2023-01-16T17:41:17.632Z"
   },
   {
    "duration": 335,
    "start_time": "2023-01-16T17:41:17.656Z"
   },
   {
    "duration": 9,
    "start_time": "2023-01-16T17:41:17.993Z"
   },
   {
    "duration": 48,
    "start_time": "2023-01-16T17:41:18.004Z"
   },
   {
    "duration": 261,
    "start_time": "2023-01-16T17:41:18.054Z"
   },
   {
    "duration": 232,
    "start_time": "2023-01-16T17:41:28.191Z"
   },
   {
    "duration": 218,
    "start_time": "2023-01-16T17:47:23.720Z"
   },
   {
    "duration": 11,
    "start_time": "2023-01-16T17:49:04.024Z"
   },
   {
    "duration": 16,
    "start_time": "2023-01-16T17:49:29.700Z"
   },
   {
    "duration": 155,
    "start_time": "2023-01-16T17:49:36.616Z"
   },
   {
    "duration": 176,
    "start_time": "2023-01-16T17:50:17.101Z"
   },
   {
    "duration": 162,
    "start_time": "2023-01-16T17:50:32.251Z"
   },
   {
    "duration": 146,
    "start_time": "2023-01-16T17:50:39.244Z"
   },
   {
    "duration": 4,
    "start_time": "2023-01-16T17:55:24.997Z"
   },
   {
    "duration": 18,
    "start_time": "2023-01-16T17:55:29.413Z"
   },
   {
    "duration": 16,
    "start_time": "2023-01-16T17:55:43.113Z"
   },
   {
    "duration": 85,
    "start_time": "2023-01-16T17:59:50.701Z"
   },
   {
    "duration": 16,
    "start_time": "2023-01-16T17:59:55.642Z"
   },
   {
    "duration": 10,
    "start_time": "2023-01-16T18:05:11.179Z"
   },
   {
    "duration": 7,
    "start_time": "2023-01-16T18:05:14.620Z"
   },
   {
    "duration": 192,
    "start_time": "2023-01-16T18:05:15.721Z"
   },
   {
    "duration": 27,
    "start_time": "2023-01-16T18:05:32.289Z"
   },
   {
    "duration": 5,
    "start_time": "2023-01-16T18:05:36.987Z"
   },
   {
    "duration": 203,
    "start_time": "2023-01-16T18:06:00.932Z"
   },
   {
    "duration": 320,
    "start_time": "2023-01-16T18:06:10.868Z"
   },
   {
    "duration": 192,
    "start_time": "2023-01-16T18:06:18.380Z"
   },
   {
    "duration": 252,
    "start_time": "2023-01-16T18:06:29.370Z"
   },
   {
    "duration": 206,
    "start_time": "2023-01-16T18:06:41.947Z"
   },
   {
    "duration": 128,
    "start_time": "2023-01-16T18:07:22.365Z"
   },
   {
    "duration": 2,
    "start_time": "2023-01-16T18:07:35.339Z"
   },
   {
    "duration": 68,
    "start_time": "2023-01-16T18:07:35.344Z"
   },
   {
    "duration": 15,
    "start_time": "2023-01-16T18:07:35.414Z"
   },
   {
    "duration": 17,
    "start_time": "2023-01-16T18:07:35.430Z"
   },
   {
    "duration": 4,
    "start_time": "2023-01-16T18:07:35.449Z"
   },
   {
    "duration": 9,
    "start_time": "2023-01-16T18:07:35.455Z"
   },
   {
    "duration": 8,
    "start_time": "2023-01-16T18:07:35.465Z"
   },
   {
    "duration": 9,
    "start_time": "2023-01-16T18:07:35.474Z"
   },
   {
    "duration": 7,
    "start_time": "2023-01-16T18:07:35.484Z"
   },
   {
    "duration": 10,
    "start_time": "2023-01-16T18:07:35.492Z"
   },
   {
    "duration": 10,
    "start_time": "2023-01-16T18:07:35.505Z"
   },
   {
    "duration": 35,
    "start_time": "2023-01-16T18:07:35.516Z"
   },
   {
    "duration": 7,
    "start_time": "2023-01-16T18:07:35.553Z"
   },
   {
    "duration": 11,
    "start_time": "2023-01-16T18:07:35.562Z"
   },
   {
    "duration": 7,
    "start_time": "2023-01-16T18:07:35.575Z"
   },
   {
    "duration": 20,
    "start_time": "2023-01-16T18:07:35.584Z"
   },
   {
    "duration": 19,
    "start_time": "2023-01-16T18:07:35.605Z"
   },
   {
    "duration": 28,
    "start_time": "2023-01-16T18:07:35.626Z"
   },
   {
    "duration": 317,
    "start_time": "2023-01-16T18:07:35.656Z"
   },
   {
    "duration": 8,
    "start_time": "2023-01-16T18:07:35.975Z"
   },
   {
    "duration": 37,
    "start_time": "2023-01-16T18:07:35.984Z"
   },
   {
    "duration": 270,
    "start_time": "2023-01-16T18:07:36.023Z"
   },
   {
    "duration": 162,
    "start_time": "2023-01-16T18:07:36.294Z"
   },
   {
    "duration": 16,
    "start_time": "2023-01-16T18:07:36.458Z"
   },
   {
    "duration": 7,
    "start_time": "2023-01-16T18:07:36.476Z"
   },
   {
    "duration": 155,
    "start_time": "2023-01-16T18:07:36.485Z"
   },
   {
    "duration": 196,
    "start_time": "2023-01-16T18:07:48.786Z"
   },
   {
    "duration": 94,
    "start_time": "2023-01-16T18:13:16.162Z"
   },
   {
    "duration": 7,
    "start_time": "2023-01-16T18:13:20.991Z"
   },
   {
    "duration": 69,
    "start_time": "2023-01-16T18:13:22.447Z"
   },
   {
    "duration": 3,
    "start_time": "2023-01-16T18:13:33.955Z"
   },
   {
    "duration": 57,
    "start_time": "2023-01-16T18:13:33.960Z"
   },
   {
    "duration": 15,
    "start_time": "2023-01-16T18:13:34.020Z"
   },
   {
    "duration": 18,
    "start_time": "2023-01-16T18:13:34.037Z"
   },
   {
    "duration": 5,
    "start_time": "2023-01-16T18:13:34.058Z"
   },
   {
    "duration": 8,
    "start_time": "2023-01-16T18:13:34.065Z"
   },
   {
    "duration": 9,
    "start_time": "2023-01-16T18:13:34.075Z"
   },
   {
    "duration": 8,
    "start_time": "2023-01-16T18:13:34.085Z"
   },
   {
    "duration": 9,
    "start_time": "2023-01-16T18:13:34.095Z"
   },
   {
    "duration": 7,
    "start_time": "2023-01-16T18:13:34.106Z"
   },
   {
    "duration": 10,
    "start_time": "2023-01-16T18:13:34.152Z"
   },
   {
    "duration": 12,
    "start_time": "2023-01-16T18:13:34.165Z"
   },
   {
    "duration": 8,
    "start_time": "2023-01-16T18:13:34.179Z"
   },
   {
    "duration": 15,
    "start_time": "2023-01-16T18:13:34.189Z"
   },
   {
    "duration": 5,
    "start_time": "2023-01-16T18:13:34.206Z"
   },
   {
    "duration": 51,
    "start_time": "2023-01-16T18:13:34.213Z"
   },
   {
    "duration": 12,
    "start_time": "2023-01-16T18:13:34.266Z"
   },
   {
    "duration": 11,
    "start_time": "2023-01-16T18:13:34.280Z"
   },
   {
    "duration": 342,
    "start_time": "2023-01-16T18:13:34.293Z"
   },
   {
    "duration": 15,
    "start_time": "2023-01-16T18:13:34.637Z"
   },
   {
    "duration": 30,
    "start_time": "2023-01-16T18:13:34.654Z"
   },
   {
    "duration": 364,
    "start_time": "2023-01-16T18:13:34.686Z"
   },
   {
    "duration": 179,
    "start_time": "2023-01-16T18:13:35.052Z"
   },
   {
    "duration": 27,
    "start_time": "2023-01-16T18:13:35.233Z"
   },
   {
    "duration": 12,
    "start_time": "2023-01-16T18:13:35.262Z"
   },
   {
    "duration": 78,
    "start_time": "2023-01-16T18:13:35.720Z"
   },
   {
    "duration": 185,
    "start_time": "2023-01-16T18:15:34.015Z"
   },
   {
    "duration": 13,
    "start_time": "2023-01-16T18:15:55.104Z"
   },
   {
    "duration": 130,
    "start_time": "2023-01-16T18:16:05.827Z"
   },
   {
    "duration": 188,
    "start_time": "2023-01-16T18:16:20.702Z"
   },
   {
    "duration": 172,
    "start_time": "2023-01-16T18:16:35.525Z"
   },
   {
    "duration": 163,
    "start_time": "2023-01-16T18:17:27.955Z"
   },
   {
    "duration": 254,
    "start_time": "2023-01-16T18:21:50.114Z"
   },
   {
    "duration": 271,
    "start_time": "2023-01-16T18:22:04.880Z"
   },
   {
    "duration": 333,
    "start_time": "2023-01-16T18:22:41.650Z"
   },
   {
    "duration": 290,
    "start_time": "2023-01-16T18:22:55.887Z"
   },
   {
    "duration": 8,
    "start_time": "2023-01-16T18:26:15.261Z"
   },
   {
    "duration": 258,
    "start_time": "2023-01-16T18:26:43.005Z"
   },
   {
    "duration": 240,
    "start_time": "2023-01-16T18:26:58.133Z"
   },
   {
    "duration": 319,
    "start_time": "2023-01-16T18:27:07.531Z"
   },
   {
    "duration": 186,
    "start_time": "2023-01-16T18:27:41.124Z"
   },
   {
    "duration": 175,
    "start_time": "2023-01-16T18:27:56.916Z"
   },
   {
    "duration": 4,
    "start_time": "2023-01-16T18:31:23.236Z"
   },
   {
    "duration": 7,
    "start_time": "2023-01-16T18:31:26.358Z"
   },
   {
    "duration": 9,
    "start_time": "2023-01-16T18:32:27.511Z"
   },
   {
    "duration": 7,
    "start_time": "2023-01-16T18:33:19.816Z"
   },
   {
    "duration": 14,
    "start_time": "2023-01-16T18:33:52.375Z"
   },
   {
    "duration": 13,
    "start_time": "2023-01-16T18:34:35.500Z"
   },
   {
    "duration": 17,
    "start_time": "2023-01-16T18:34:40.565Z"
   },
   {
    "duration": 5,
    "start_time": "2023-01-16T18:34:53.686Z"
   },
   {
    "duration": 4,
    "start_time": "2023-01-16T18:34:58.769Z"
   },
   {
    "duration": 5,
    "start_time": "2023-01-16T18:35:07.206Z"
   },
   {
    "duration": 8,
    "start_time": "2023-01-16T18:35:10.840Z"
   },
   {
    "duration": 15,
    "start_time": "2023-01-16T18:36:26.631Z"
   },
   {
    "duration": 8,
    "start_time": "2023-01-16T18:36:35.104Z"
   },
   {
    "duration": 7,
    "start_time": "2023-01-16T18:38:15.940Z"
   },
   {
    "duration": 52,
    "start_time": "2023-01-17T14:32:17.576Z"
   },
   {
    "duration": 6,
    "start_time": "2023-01-17T14:32:21.183Z"
   },
   {
    "duration": 24,
    "start_time": "2023-01-17T14:32:21.196Z"
   },
   {
    "duration": 0,
    "start_time": "2023-01-17T14:32:21.222Z"
   },
   {
    "duration": 0,
    "start_time": "2023-01-17T14:32:21.224Z"
   },
   {
    "duration": 0,
    "start_time": "2023-01-17T14:32:21.225Z"
   },
   {
    "duration": 0,
    "start_time": "2023-01-17T14:32:21.226Z"
   },
   {
    "duration": 28,
    "start_time": "2023-01-17T14:32:21.228Z"
   },
   {
    "duration": 0,
    "start_time": "2023-01-17T14:32:21.258Z"
   },
   {
    "duration": 0,
    "start_time": "2023-01-17T14:32:21.259Z"
   },
   {
    "duration": 0,
    "start_time": "2023-01-17T14:32:21.260Z"
   },
   {
    "duration": 0,
    "start_time": "2023-01-17T14:32:21.261Z"
   },
   {
    "duration": 0,
    "start_time": "2023-01-17T14:32:21.263Z"
   },
   {
    "duration": 59,
    "start_time": "2023-01-17T14:32:21.265Z"
   },
   {
    "duration": 0,
    "start_time": "2023-01-17T14:32:21.326Z"
   },
   {
    "duration": 0,
    "start_time": "2023-01-17T14:32:21.328Z"
   },
   {
    "duration": 0,
    "start_time": "2023-01-17T14:32:21.329Z"
   },
   {
    "duration": 0,
    "start_time": "2023-01-17T14:32:21.331Z"
   },
   {
    "duration": 0,
    "start_time": "2023-01-17T14:32:21.333Z"
   },
   {
    "duration": 0,
    "start_time": "2023-01-17T14:32:21.334Z"
   },
   {
    "duration": 0,
    "start_time": "2023-01-17T14:32:21.335Z"
   },
   {
    "duration": 14,
    "start_time": "2023-01-17T14:32:21.337Z"
   },
   {
    "duration": 0,
    "start_time": "2023-01-17T14:32:21.354Z"
   },
   {
    "duration": 22,
    "start_time": "2023-01-17T14:32:21.360Z"
   },
   {
    "duration": 7,
    "start_time": "2023-01-17T14:32:49.656Z"
   },
   {
    "duration": 1298,
    "start_time": "2023-01-17T14:32:54.010Z"
   },
   {
    "duration": 191,
    "start_time": "2023-01-17T14:32:55.310Z"
   },
   {
    "duration": 21,
    "start_time": "2023-01-17T14:32:55.503Z"
   },
   {
    "duration": 22,
    "start_time": "2023-01-17T14:32:55.526Z"
   },
   {
    "duration": 5,
    "start_time": "2023-01-17T14:32:55.550Z"
   },
   {
    "duration": 14,
    "start_time": "2023-01-17T14:32:55.556Z"
   },
   {
    "duration": 27,
    "start_time": "2023-01-17T14:32:55.571Z"
   },
   {
    "duration": 11,
    "start_time": "2023-01-17T14:32:55.600Z"
   },
   {
    "duration": 18,
    "start_time": "2023-01-17T14:32:55.612Z"
   },
   {
    "duration": 11,
    "start_time": "2023-01-17T14:32:55.631Z"
   },
   {
    "duration": 12,
    "start_time": "2023-01-17T14:32:55.644Z"
   },
   {
    "duration": 24,
    "start_time": "2023-01-17T14:32:55.658Z"
   },
   {
    "duration": 4,
    "start_time": "2023-01-17T14:32:55.999Z"
   },
   {
    "duration": 9,
    "start_time": "2023-01-17T14:33:09.972Z"
   },
   {
    "duration": 30,
    "start_time": "2023-01-17T14:33:10.000Z"
   },
   {
    "duration": 57,
    "start_time": "2023-01-17T14:33:10.032Z"
   },
   {
    "duration": 51,
    "start_time": "2023-01-17T14:33:10.091Z"
   },
   {
    "duration": 20,
    "start_time": "2023-01-17T14:33:10.143Z"
   },
   {
    "duration": 378,
    "start_time": "2023-01-17T14:33:10.165Z"
   },
   {
    "duration": 8,
    "start_time": "2023-01-17T14:33:10.545Z"
   },
   {
    "duration": 40,
    "start_time": "2023-01-17T14:33:10.555Z"
   },
   {
    "duration": 265,
    "start_time": "2023-01-17T14:33:10.597Z"
   },
   {
    "duration": 158,
    "start_time": "2023-01-17T14:33:10.864Z"
   },
   {
    "duration": 23,
    "start_time": "2023-01-17T14:33:11.024Z"
   },
   {
    "duration": 5,
    "start_time": "2023-01-17T14:33:11.049Z"
   },
   {
    "duration": 173,
    "start_time": "2023-01-17T14:33:11.056Z"
   },
   {
    "duration": 210,
    "start_time": "2023-01-17T14:33:11.230Z"
   },
   {
    "duration": 169,
    "start_time": "2023-01-17T14:33:11.444Z"
   },
   {
    "duration": 201,
    "start_time": "2023-01-17T14:33:11.615Z"
   },
   {
    "duration": 7,
    "start_time": "2023-01-17T14:33:11.818Z"
   },
   {
    "duration": 171,
    "start_time": "2023-01-17T14:33:11.827Z"
   },
   {
    "duration": 271,
    "start_time": "2023-01-17T14:33:12.000Z"
   },
   {
    "duration": 160,
    "start_time": "2023-01-17T14:33:12.273Z"
   },
   {
    "duration": 243,
    "start_time": "2023-01-17T14:33:12.438Z"
   },
   {
    "duration": 9,
    "start_time": "2023-01-17T14:33:12.683Z"
   },
   {
    "duration": 39,
    "start_time": "2023-01-17T14:33:12.695Z"
   },
   {
    "duration": 9,
    "start_time": "2023-01-17T14:35:19.075Z"
   },
   {
    "duration": 352,
    "start_time": "2023-01-17T14:35:23.205Z"
   },
   {
    "duration": 8,
    "start_time": "2023-01-17T14:38:23.169Z"
   },
   {
    "duration": 3,
    "start_time": "2023-01-17T14:44:05.459Z"
   },
   {
    "duration": 88,
    "start_time": "2023-01-17T14:44:05.464Z"
   },
   {
    "duration": 14,
    "start_time": "2023-01-17T14:44:05.554Z"
   },
   {
    "duration": 42,
    "start_time": "2023-01-17T14:44:05.570Z"
   },
   {
    "duration": 30,
    "start_time": "2023-01-17T14:44:05.614Z"
   },
   {
    "duration": 42,
    "start_time": "2023-01-17T14:44:05.646Z"
   },
   {
    "duration": 29,
    "start_time": "2023-01-17T14:44:05.689Z"
   },
   {
    "duration": 24,
    "start_time": "2023-01-17T14:44:05.719Z"
   },
   {
    "duration": 43,
    "start_time": "2023-01-17T14:44:05.745Z"
   },
   {
    "duration": 21,
    "start_time": "2023-01-17T14:44:05.791Z"
   },
   {
    "duration": 24,
    "start_time": "2023-01-17T14:44:05.814Z"
   },
   {
    "duration": 17,
    "start_time": "2023-01-17T14:44:05.840Z"
   },
   {
    "duration": 6,
    "start_time": "2023-01-17T14:44:05.860Z"
   },
   {
    "duration": 54,
    "start_time": "2023-01-17T14:44:05.868Z"
   },
   {
    "duration": 19,
    "start_time": "2023-01-17T14:44:05.924Z"
   },
   {
    "duration": 25,
    "start_time": "2023-01-17T14:44:05.944Z"
   },
   {
    "duration": 45,
    "start_time": "2023-01-17T14:44:05.971Z"
   },
   {
    "duration": 24,
    "start_time": "2023-01-17T14:44:06.018Z"
   },
   {
    "duration": 368,
    "start_time": "2023-01-17T14:44:06.044Z"
   },
   {
    "duration": 11,
    "start_time": "2023-01-17T14:44:08.753Z"
   },
   {
    "duration": 4,
    "start_time": "2023-01-17T14:45:19.465Z"
   },
   {
    "duration": 86,
    "start_time": "2023-01-17T14:45:19.471Z"
   },
   {
    "duration": 22,
    "start_time": "2023-01-17T14:45:19.560Z"
   },
   {
    "duration": 24,
    "start_time": "2023-01-17T14:45:19.584Z"
   },
   {
    "duration": 9,
    "start_time": "2023-01-17T14:45:19.610Z"
   },
   {
    "duration": 26,
    "start_time": "2023-01-17T14:45:19.621Z"
   },
   {
    "duration": 25,
    "start_time": "2023-01-17T14:45:19.649Z"
   },
   {
    "duration": 20,
    "start_time": "2023-01-17T14:45:19.675Z"
   },
   {
    "duration": 13,
    "start_time": "2023-01-17T14:45:19.697Z"
   },
   {
    "duration": 27,
    "start_time": "2023-01-17T14:45:19.712Z"
   },
   {
    "duration": 26,
    "start_time": "2023-01-17T14:45:19.742Z"
   },
   {
    "duration": 29,
    "start_time": "2023-01-17T14:45:19.770Z"
   },
   {
    "duration": 13,
    "start_time": "2023-01-17T14:45:19.802Z"
   },
   {
    "duration": 22,
    "start_time": "2023-01-17T14:45:19.817Z"
   },
   {
    "duration": 8,
    "start_time": "2023-01-17T14:45:19.841Z"
   },
   {
    "duration": 25,
    "start_time": "2023-01-17T14:45:19.851Z"
   },
   {
    "duration": 18,
    "start_time": "2023-01-17T14:45:19.878Z"
   },
   {
    "duration": 21,
    "start_time": "2023-01-17T14:45:19.898Z"
   },
   {
    "duration": 364,
    "start_time": "2023-01-17T14:45:19.920Z"
   },
   {
    "duration": 7,
    "start_time": "2023-01-17T14:45:20.286Z"
   },
   {
    "duration": 44,
    "start_time": "2023-01-17T14:45:20.294Z"
   },
   {
    "duration": 231,
    "start_time": "2023-01-17T14:45:41.079Z"
   },
   {
    "duration": 21,
    "start_time": "2023-01-17T14:45:56.625Z"
   },
   {
    "duration": 7,
    "start_time": "2023-01-17T14:46:05.596Z"
   },
   {
    "duration": 168,
    "start_time": "2023-01-17T14:46:16.036Z"
   },
   {
    "duration": 249,
    "start_time": "2023-01-17T14:46:22.232Z"
   },
   {
    "duration": 218,
    "start_time": "2023-01-17T14:46:22.484Z"
   },
   {
    "duration": 297,
    "start_time": "2023-01-17T14:46:22.704Z"
   },
   {
    "duration": 8,
    "start_time": "2023-01-17T14:46:23.004Z"
   },
   {
    "duration": 174,
    "start_time": "2023-01-17T14:46:23.013Z"
   },
   {
    "duration": 205,
    "start_time": "2023-01-17T14:46:23.189Z"
   },
   {
    "duration": 174,
    "start_time": "2023-01-17T14:46:23.396Z"
   },
   {
    "duration": 188,
    "start_time": "2023-01-17T14:46:23.571Z"
   },
   {
    "duration": 8,
    "start_time": "2023-01-17T14:46:23.761Z"
   },
   {
    "duration": 18,
    "start_time": "2023-01-17T14:46:23.772Z"
   },
   {
    "duration": 7,
    "start_time": "2023-01-17T14:47:11.960Z"
   },
   {
    "duration": 137,
    "start_time": "2023-01-17T14:47:19.982Z"
   },
   {
    "duration": 140,
    "start_time": "2023-01-17T14:47:23.571Z"
   },
   {
    "duration": 152,
    "start_time": "2023-01-17T14:47:33.093Z"
   },
   {
    "duration": 8,
    "start_time": "2023-01-17T14:47:47.158Z"
   },
   {
    "duration": 9,
    "start_time": "2023-01-17T14:47:53.847Z"
   },
   {
    "duration": 4,
    "start_time": "2023-01-17T14:50:02.577Z"
   },
   {
    "duration": 26,
    "start_time": "2023-01-17T14:53:41.886Z"
   },
   {
    "duration": 222,
    "start_time": "2023-01-17T14:53:41.915Z"
   },
   {
    "duration": 149,
    "start_time": "2023-01-17T14:53:42.139Z"
   },
   {
    "duration": 13,
    "start_time": "2023-01-17T14:53:42.291Z"
   },
   {
    "duration": 5,
    "start_time": "2023-01-17T14:53:42.306Z"
   },
   {
    "duration": 197,
    "start_time": "2023-01-17T14:53:42.313Z"
   },
   {
    "duration": 320,
    "start_time": "2023-01-17T14:53:42.512Z"
   },
   {
    "duration": 157,
    "start_time": "2023-01-17T14:53:42.834Z"
   },
   {
    "duration": 202,
    "start_time": "2023-01-17T14:53:42.992Z"
   },
   {
    "duration": 7,
    "start_time": "2023-01-17T14:53:43.197Z"
   },
   {
    "duration": 148,
    "start_time": "2023-01-17T14:53:43.205Z"
   },
   {
    "duration": 230,
    "start_time": "2023-01-17T14:53:43.355Z"
   },
   {
    "duration": 138,
    "start_time": "2023-01-17T14:53:43.587Z"
   },
   {
    "duration": 191,
    "start_time": "2023-01-17T14:53:43.727Z"
   },
   {
    "duration": 8,
    "start_time": "2023-01-17T14:53:43.920Z"
   },
   {
    "duration": 10,
    "start_time": "2023-01-17T14:53:43.938Z"
   },
   {
    "duration": 10,
    "start_time": "2023-01-17T14:53:43.950Z"
   },
   {
    "duration": 7,
    "start_time": "2023-01-17T14:54:27.976Z"
   },
   {
    "duration": 6,
    "start_time": "2023-01-17T14:55:49.282Z"
   },
   {
    "duration": 94,
    "start_time": "2023-01-17T14:56:41.436Z"
   },
   {
    "duration": 9,
    "start_time": "2023-01-17T14:56:59.424Z"
   },
   {
    "duration": 8,
    "start_time": "2023-01-17T15:00:09.563Z"
   },
   {
    "duration": 7,
    "start_time": "2023-01-17T15:00:28.512Z"
   },
   {
    "duration": 20,
    "start_time": "2023-01-17T15:03:43.486Z"
   },
   {
    "duration": 17,
    "start_time": "2023-01-17T15:03:58.335Z"
   },
   {
    "duration": 19,
    "start_time": "2023-01-17T15:04:22.641Z"
   },
   {
    "duration": 20,
    "start_time": "2023-01-17T15:05:09.222Z"
   },
   {
    "duration": 21,
    "start_time": "2023-01-17T15:05:16.276Z"
   },
   {
    "duration": 23,
    "start_time": "2023-01-17T15:07:16.034Z"
   },
   {
    "duration": 125,
    "start_time": "2023-01-17T15:07:45.589Z"
   },
   {
    "duration": 19,
    "start_time": "2023-01-17T15:08:15.161Z"
   },
   {
    "duration": 895,
    "start_time": "2023-01-17T15:09:02.179Z"
   },
   {
    "duration": 17,
    "start_time": "2023-01-17T15:09:13.608Z"
   },
   {
    "duration": 28,
    "start_time": "2023-01-17T15:09:13.627Z"
   },
   {
    "duration": 1138,
    "start_time": "2023-01-17T15:09:18.834Z"
   },
   {
    "duration": 23,
    "start_time": "2023-01-17T15:09:39.434Z"
   },
   {
    "duration": 978,
    "start_time": "2023-01-17T15:13:13.157Z"
   },
   {
    "duration": 1851,
    "start_time": "2023-01-17T15:13:28.056Z"
   },
   {
    "duration": 17,
    "start_time": "2023-01-17T15:13:40.607Z"
   },
   {
    "duration": 16,
    "start_time": "2023-01-17T15:13:40.649Z"
   },
   {
    "duration": 803,
    "start_time": "2023-01-17T15:13:46.852Z"
   },
   {
    "duration": 7,
    "start_time": "2023-01-17T15:16:03.762Z"
   },
   {
    "duration": 3,
    "start_time": "2023-01-17T15:25:44.943Z"
   },
   {
    "duration": 69,
    "start_time": "2023-01-17T15:25:44.953Z"
   },
   {
    "duration": 15,
    "start_time": "2023-01-17T15:25:45.024Z"
   },
   {
    "duration": 35,
    "start_time": "2023-01-17T15:25:45.040Z"
   },
   {
    "duration": 5,
    "start_time": "2023-01-17T15:25:45.077Z"
   },
   {
    "duration": 42,
    "start_time": "2023-01-17T15:25:45.084Z"
   },
   {
    "duration": 16,
    "start_time": "2023-01-17T15:25:45.128Z"
   },
   {
    "duration": 11,
    "start_time": "2023-01-17T15:25:45.145Z"
   },
   {
    "duration": 14,
    "start_time": "2023-01-17T15:25:45.157Z"
   },
   {
    "duration": 8,
    "start_time": "2023-01-17T15:25:45.172Z"
   },
   {
    "duration": 9,
    "start_time": "2023-01-17T15:25:45.182Z"
   },
   {
    "duration": 9,
    "start_time": "2023-01-17T15:25:45.192Z"
   },
   {
    "duration": 5,
    "start_time": "2023-01-17T15:25:45.202Z"
   },
   {
    "duration": 11,
    "start_time": "2023-01-17T15:25:45.238Z"
   },
   {
    "duration": 26,
    "start_time": "2023-01-17T15:25:45.251Z"
   },
   {
    "duration": 20,
    "start_time": "2023-01-17T15:25:45.278Z"
   },
   {
    "duration": 28,
    "start_time": "2023-01-17T15:25:45.299Z"
   },
   {
    "duration": 23,
    "start_time": "2023-01-17T15:25:45.329Z"
   },
   {
    "duration": 385,
    "start_time": "2023-01-17T15:25:45.354Z"
   },
   {
    "duration": 24,
    "start_time": "2023-01-17T15:25:45.741Z"
   },
   {
    "duration": 65,
    "start_time": "2023-01-17T15:25:45.767Z"
   },
   {
    "duration": 251,
    "start_time": "2023-01-17T15:25:45.835Z"
   },
   {
    "duration": 160,
    "start_time": "2023-01-17T15:25:46.090Z"
   },
   {
    "duration": 17,
    "start_time": "2023-01-17T15:25:46.251Z"
   },
   {
    "duration": 30,
    "start_time": "2023-01-17T15:25:46.270Z"
   },
   {
    "duration": 192,
    "start_time": "2023-01-17T15:25:46.302Z"
   },
   {
    "duration": 212,
    "start_time": "2023-01-17T15:25:46.497Z"
   },
   {
    "duration": 157,
    "start_time": "2023-01-17T15:25:46.711Z"
   },
   {
    "duration": 196,
    "start_time": "2023-01-17T15:25:46.870Z"
   },
   {
    "duration": 9,
    "start_time": "2023-01-17T15:25:47.068Z"
   },
   {
    "duration": 165,
    "start_time": "2023-01-17T15:25:47.079Z"
   },
   {
    "duration": 201,
    "start_time": "2023-01-17T15:25:47.246Z"
   },
   {
    "duration": 143,
    "start_time": "2023-01-17T15:25:47.449Z"
   },
   {
    "duration": 181,
    "start_time": "2023-01-17T15:25:47.594Z"
   },
   {
    "duration": 6,
    "start_time": "2023-01-17T15:25:47.777Z"
   },
   {
    "duration": 16,
    "start_time": "2023-01-17T15:25:47.784Z"
   },
   {
    "duration": 12,
    "start_time": "2023-01-17T15:25:47.802Z"
   },
   {
    "duration": 40,
    "start_time": "2023-01-17T15:26:49.612Z"
   },
   {
    "duration": 20,
    "start_time": "2023-01-17T15:26:49.654Z"
   },
   {
    "duration": 0,
    "start_time": "2023-01-17T15:26:49.676Z"
   },
   {
    "duration": 0,
    "start_time": "2023-01-17T15:26:49.679Z"
   },
   {
    "duration": 0,
    "start_time": "2023-01-17T15:26:49.681Z"
   },
   {
    "duration": 1,
    "start_time": "2023-01-17T15:26:49.682Z"
   },
   {
    "duration": 0,
    "start_time": "2023-01-17T15:26:49.684Z"
   },
   {
    "duration": 9,
    "start_time": "2023-01-17T15:27:06.864Z"
   },
   {
    "duration": 8,
    "start_time": "2023-01-17T15:30:14.057Z"
   },
   {
    "duration": 71,
    "start_time": "2023-01-17T15:30:14.067Z"
   },
   {
    "duration": 9,
    "start_time": "2023-01-17T15:32:18.544Z"
   },
   {
    "duration": 62497,
    "start_time": "2023-01-17T15:32:18.554Z"
   },
   {
    "duration": 8,
    "start_time": "2023-01-17T15:33:21.053Z"
   },
   {
    "duration": 64382,
    "start_time": "2023-01-17T15:33:21.062Z"
   },
   {
    "duration": 8,
    "start_time": "2023-01-17T15:34:25.446Z"
   },
   {
    "duration": 60982,
    "start_time": "2023-01-17T15:34:25.456Z"
   },
   {
    "duration": 257,
    "start_time": "2023-01-17T16:22:21.300Z"
   },
   {
    "duration": 10,
    "start_time": "2023-01-17T17:02:55.083Z"
   },
   {
    "duration": 11,
    "start_time": "2023-01-17T17:06:23.550Z"
   },
   {
    "duration": 13,
    "start_time": "2023-01-17T17:06:42.748Z"
   },
   {
    "duration": 15,
    "start_time": "2023-01-17T17:07:44.724Z"
   },
   {
    "duration": 17,
    "start_time": "2023-01-17T17:08:11.657Z"
   },
   {
    "duration": 6,
    "start_time": "2023-01-17T17:13:39.273Z"
   },
   {
    "duration": 8,
    "start_time": "2023-01-17T17:15:10.886Z"
   },
   {
    "duration": 10,
    "start_time": "2023-01-17T17:15:50.353Z"
   },
   {
    "duration": 11,
    "start_time": "2023-01-17T17:18:49.638Z"
   },
   {
    "duration": 10,
    "start_time": "2023-01-17T17:19:36.002Z"
   },
   {
    "duration": 13,
    "start_time": "2023-01-17T17:19:56.027Z"
   },
   {
    "duration": 11,
    "start_time": "2023-01-17T17:20:05.535Z"
   },
   {
    "duration": 4,
    "start_time": "2023-01-17T17:20:56.118Z"
   },
   {
    "duration": 13,
    "start_time": "2023-01-17T17:21:14.611Z"
   },
   {
    "duration": 5,
    "start_time": "2023-01-17T17:21:30.094Z"
   },
   {
    "duration": 9,
    "start_time": "2023-01-17T17:21:49.893Z"
   },
   {
    "duration": 12,
    "start_time": "2023-01-17T17:22:09.389Z"
   },
   {
    "duration": 10,
    "start_time": "2023-01-17T17:22:26.637Z"
   },
   {
    "duration": 4,
    "start_time": "2023-01-17T17:22:38.402Z"
   },
   {
    "duration": 5,
    "start_time": "2023-01-17T17:23:04.653Z"
   },
   {
    "duration": 5,
    "start_time": "2023-01-17T17:23:18.989Z"
   },
   {
    "duration": 6,
    "start_time": "2023-01-17T17:23:46.980Z"
   },
   {
    "duration": 5,
    "start_time": "2023-01-17T17:24:03.339Z"
   },
   {
    "duration": 15,
    "start_time": "2023-01-17T17:32:43.655Z"
   },
   {
    "duration": 25,
    "start_time": "2023-01-17T17:33:07.871Z"
   },
   {
    "duration": 17,
    "start_time": "2023-01-17T17:33:51.388Z"
   },
   {
    "duration": 19,
    "start_time": "2023-01-17T17:35:32.713Z"
   },
   {
    "duration": 19,
    "start_time": "2023-01-17T17:36:35.289Z"
   },
   {
    "duration": 3,
    "start_time": "2023-01-17T17:42:42.786Z"
   },
   {
    "duration": 80,
    "start_time": "2023-01-18T14:52:43.028Z"
   },
   {
    "duration": 10,
    "start_time": "2023-01-18T14:52:51.322Z"
   },
   {
    "duration": 8,
    "start_time": "2023-01-18T14:53:04.822Z"
   },
   {
    "duration": 9,
    "start_time": "2023-01-18T14:53:43.349Z"
   },
   {
    "duration": 9,
    "start_time": "2023-01-18T14:53:50.225Z"
   },
   {
    "duration": 20,
    "start_time": "2023-01-18T14:53:58.393Z"
   },
   {
    "duration": 0,
    "start_time": "2023-01-18T14:53:58.415Z"
   },
   {
    "duration": 0,
    "start_time": "2023-01-18T14:53:58.417Z"
   },
   {
    "duration": 0,
    "start_time": "2023-01-18T14:53:58.418Z"
   },
   {
    "duration": 0,
    "start_time": "2023-01-18T14:53:58.420Z"
   },
   {
    "duration": 0,
    "start_time": "2023-01-18T14:53:58.421Z"
   },
   {
    "duration": 16,
    "start_time": "2023-01-18T14:53:58.423Z"
   },
   {
    "duration": 0,
    "start_time": "2023-01-18T14:53:58.442Z"
   },
   {
    "duration": 0,
    "start_time": "2023-01-18T14:53:58.443Z"
   },
   {
    "duration": 0,
    "start_time": "2023-01-18T14:53:58.446Z"
   },
   {
    "duration": 17,
    "start_time": "2023-01-18T14:53:58.485Z"
   },
   {
    "duration": 0,
    "start_time": "2023-01-18T14:53:58.504Z"
   },
   {
    "duration": 0,
    "start_time": "2023-01-18T14:53:58.506Z"
   },
   {
    "duration": 0,
    "start_time": "2023-01-18T14:53:58.509Z"
   },
   {
    "duration": 11,
    "start_time": "2023-01-18T14:54:01.120Z"
   },
   {
    "duration": 1672,
    "start_time": "2023-01-18T14:54:06.573Z"
   },
   {
    "duration": 130,
    "start_time": "2023-01-18T14:54:08.248Z"
   },
   {
    "duration": 22,
    "start_time": "2023-01-18T14:54:09.426Z"
   },
   {
    "duration": 35,
    "start_time": "2023-01-18T14:54:12.063Z"
   },
   {
    "duration": 7,
    "start_time": "2023-01-18T14:54:14.212Z"
   },
   {
    "duration": 8,
    "start_time": "2023-01-18T14:54:15.873Z"
   },
   {
    "duration": 8,
    "start_time": "2023-01-18T14:54:18.603Z"
   },
   {
    "duration": 6,
    "start_time": "2023-01-18T14:54:20.213Z"
   },
   {
    "duration": 13,
    "start_time": "2023-01-18T14:54:22.001Z"
   },
   {
    "duration": 23,
    "start_time": "2023-01-18T14:54:23.273Z"
   },
   {
    "duration": 19,
    "start_time": "2023-01-18T14:54:25.980Z"
   },
   {
    "duration": 4,
    "start_time": "2023-01-18T14:54:43.411Z"
   },
   {
    "duration": 101,
    "start_time": "2023-01-18T14:54:43.418Z"
   },
   {
    "duration": 23,
    "start_time": "2023-01-18T14:54:43.522Z"
   },
   {
    "duration": 58,
    "start_time": "2023-01-18T14:54:43.546Z"
   },
   {
    "duration": 32,
    "start_time": "2023-01-18T14:54:43.610Z"
   },
   {
    "duration": 39,
    "start_time": "2023-01-18T14:54:43.643Z"
   },
   {
    "duration": 36,
    "start_time": "2023-01-18T14:54:43.684Z"
   },
   {
    "duration": 25,
    "start_time": "2023-01-18T14:54:43.723Z"
   },
   {
    "duration": 21,
    "start_time": "2023-01-18T14:54:43.750Z"
   },
   {
    "duration": 38,
    "start_time": "2023-01-18T14:54:43.774Z"
   },
   {
    "duration": 34,
    "start_time": "2023-01-18T14:54:43.816Z"
   },
   {
    "duration": 22,
    "start_time": "2023-01-18T14:54:43.854Z"
   },
   {
    "duration": 28,
    "start_time": "2023-01-18T14:54:43.878Z"
   },
   {
    "duration": 33,
    "start_time": "2023-01-18T14:54:43.909Z"
   },
   {
    "duration": 27,
    "start_time": "2023-01-18T14:54:43.944Z"
   },
   {
    "duration": 36,
    "start_time": "2023-01-18T14:54:43.973Z"
   },
   {
    "duration": 27,
    "start_time": "2023-01-18T14:54:44.011Z"
   },
   {
    "duration": 19,
    "start_time": "2023-01-18T14:54:44.041Z"
   },
   {
    "duration": 479,
    "start_time": "2023-01-18T14:54:44.063Z"
   },
   {
    "duration": 11,
    "start_time": "2023-01-18T14:54:44.545Z"
   },
   {
    "duration": 56,
    "start_time": "2023-01-18T14:54:44.558Z"
   },
   {
    "duration": 302,
    "start_time": "2023-01-18T14:54:44.617Z"
   },
   {
    "duration": 198,
    "start_time": "2023-01-18T14:54:44.921Z"
   },
   {
    "duration": 24,
    "start_time": "2023-01-18T14:54:45.121Z"
   },
   {
    "duration": 21,
    "start_time": "2023-01-18T14:54:45.147Z"
   },
   {
    "duration": 242,
    "start_time": "2023-01-18T14:54:45.170Z"
   },
   {
    "duration": 292,
    "start_time": "2023-01-18T14:54:45.416Z"
   },
   {
    "duration": 192,
    "start_time": "2023-01-18T14:54:45.711Z"
   },
   {
    "duration": 279,
    "start_time": "2023-01-18T14:54:45.925Z"
   },
   {
    "duration": 13,
    "start_time": "2023-01-18T14:54:46.209Z"
   },
   {
    "duration": 244,
    "start_time": "2023-01-18T14:54:46.224Z"
   },
   {
    "duration": 323,
    "start_time": "2023-01-18T14:54:46.470Z"
   },
   {
    "duration": 153,
    "start_time": "2023-01-18T14:54:46.801Z"
   },
   {
    "duration": 214,
    "start_time": "2023-01-18T14:54:46.956Z"
   },
   {
    "duration": 10,
    "start_time": "2023-01-18T14:54:47.186Z"
   },
   {
    "duration": 22,
    "start_time": "2023-01-18T14:54:47.197Z"
   },
   {
    "duration": 21,
    "start_time": "2023-01-18T14:54:47.221Z"
   },
   {
    "duration": 22,
    "start_time": "2023-01-18T14:54:47.244Z"
   },
   {
    "duration": 27,
    "start_time": "2023-01-18T14:54:47.298Z"
   },
   {
    "duration": 9,
    "start_time": "2023-01-18T14:54:47.327Z"
   },
   {
    "duration": 5,
    "start_time": "2023-01-18T14:54:48.524Z"
   },
   {
    "duration": 4,
    "start_time": "2023-01-18T14:54:52.814Z"
   },
   {
    "duration": 75,
    "start_time": "2023-01-18T14:54:52.820Z"
   },
   {
    "duration": 22,
    "start_time": "2023-01-18T14:54:52.898Z"
   },
   {
    "duration": 32,
    "start_time": "2023-01-18T14:54:52.922Z"
   },
   {
    "duration": 12,
    "start_time": "2023-01-18T14:54:52.957Z"
   },
   {
    "duration": 42,
    "start_time": "2023-01-18T14:54:52.971Z"
   },
   {
    "duration": 12,
    "start_time": "2023-01-18T14:54:53.015Z"
   },
   {
    "duration": 13,
    "start_time": "2023-01-18T14:54:53.029Z"
   },
   {
    "duration": 12,
    "start_time": "2023-01-18T14:54:53.044Z"
   },
   {
    "duration": 15,
    "start_time": "2023-01-18T14:54:53.058Z"
   },
   {
    "duration": 15,
    "start_time": "2023-01-18T14:54:53.087Z"
   },
   {
    "duration": 20,
    "start_time": "2023-01-18T14:54:53.104Z"
   },
   {
    "duration": 10,
    "start_time": "2023-01-18T14:54:53.127Z"
   },
   {
    "duration": 24,
    "start_time": "2023-01-18T14:54:53.140Z"
   },
   {
    "duration": 24,
    "start_time": "2023-01-18T14:54:53.166Z"
   },
   {
    "duration": 43,
    "start_time": "2023-01-18T14:54:53.192Z"
   },
   {
    "duration": 16,
    "start_time": "2023-01-18T14:54:53.237Z"
   },
   {
    "duration": 14,
    "start_time": "2023-01-18T14:54:53.255Z"
   },
   {
    "duration": 491,
    "start_time": "2023-01-18T14:54:53.272Z"
   },
   {
    "duration": 23,
    "start_time": "2023-01-18T14:54:53.765Z"
   },
   {
    "duration": 51,
    "start_time": "2023-01-18T14:54:53.790Z"
   },
   {
    "duration": 322,
    "start_time": "2023-01-18T14:54:53.844Z"
   },
   {
    "duration": 229,
    "start_time": "2023-01-18T14:54:54.168Z"
   },
   {
    "duration": 22,
    "start_time": "2023-01-18T14:54:54.406Z"
   },
   {
    "duration": 18,
    "start_time": "2023-01-18T14:54:54.431Z"
   },
   {
    "duration": 241,
    "start_time": "2023-01-18T14:54:54.452Z"
   },
   {
    "duration": 248,
    "start_time": "2023-01-18T14:54:54.697Z"
   },
   {
    "duration": 223,
    "start_time": "2023-01-18T14:54:54.947Z"
   },
   {
    "duration": 274,
    "start_time": "2023-01-18T14:54:55.184Z"
   },
   {
    "duration": 9,
    "start_time": "2023-01-18T14:54:55.460Z"
   },
   {
    "duration": 205,
    "start_time": "2023-01-18T14:54:55.471Z"
   },
   {
    "duration": 389,
    "start_time": "2023-01-18T14:54:55.685Z"
   },
   {
    "duration": 175,
    "start_time": "2023-01-18T14:54:56.076Z"
   },
   {
    "duration": 252,
    "start_time": "2023-01-18T14:54:56.253Z"
   },
   {
    "duration": 12,
    "start_time": "2023-01-18T14:54:56.511Z"
   },
   {
    "duration": 25,
    "start_time": "2023-01-18T14:54:56.526Z"
   },
   {
    "duration": 45,
    "start_time": "2023-01-18T14:54:56.553Z"
   },
   {
    "duration": 64,
    "start_time": "2023-01-18T14:54:56.603Z"
   },
   {
    "duration": 24,
    "start_time": "2023-01-18T14:54:56.669Z"
   },
   {
    "duration": 37,
    "start_time": "2023-01-18T14:54:56.695Z"
   },
   {
    "duration": 41,
    "start_time": "2023-01-18T14:54:56.734Z"
   },
   {
    "duration": 23,
    "start_time": "2023-01-18T14:54:56.777Z"
   },
   {
    "duration": 40,
    "start_time": "2023-01-18T14:54:56.804Z"
   },
   {
    "duration": 15,
    "start_time": "2023-01-18T14:55:01.742Z"
   },
   {
    "duration": 14,
    "start_time": "2023-01-18T14:57:16.845Z"
   },
   {
    "duration": 9,
    "start_time": "2023-01-18T15:03:41.263Z"
   },
   {
    "duration": 1230,
    "start_time": "2023-01-18T17:08:50.232Z"
   },
   {
    "duration": 193,
    "start_time": "2023-01-18T17:08:51.464Z"
   },
   {
    "duration": 20,
    "start_time": "2023-01-18T17:08:51.658Z"
   },
   {
    "duration": 41,
    "start_time": "2023-01-18T17:08:51.680Z"
   },
   {
    "duration": 25,
    "start_time": "2023-01-18T17:08:51.722Z"
   },
   {
    "duration": 20,
    "start_time": "2023-01-18T17:08:51.749Z"
   },
   {
    "duration": 18,
    "start_time": "2023-01-18T17:08:51.771Z"
   },
   {
    "duration": 17,
    "start_time": "2023-01-18T17:08:51.790Z"
   },
   {
    "duration": 17,
    "start_time": "2023-01-18T17:08:51.809Z"
   },
   {
    "duration": 32,
    "start_time": "2023-01-18T17:08:51.828Z"
   },
   {
    "duration": 28,
    "start_time": "2023-01-18T17:08:51.862Z"
   },
   {
    "duration": 49,
    "start_time": "2023-01-18T17:08:51.891Z"
   },
   {
    "duration": 24,
    "start_time": "2023-01-18T17:08:51.941Z"
   },
   {
    "duration": 21,
    "start_time": "2023-01-18T17:08:51.966Z"
   },
   {
    "duration": 18,
    "start_time": "2023-01-18T17:08:51.988Z"
   },
   {
    "duration": 19,
    "start_time": "2023-01-18T17:08:52.008Z"
   },
   {
    "duration": 20,
    "start_time": "2023-01-18T17:08:52.029Z"
   },
   {
    "duration": 17,
    "start_time": "2023-01-18T17:08:52.051Z"
   },
   {
    "duration": 395,
    "start_time": "2023-01-18T17:08:52.070Z"
   },
   {
    "duration": 8,
    "start_time": "2023-01-18T17:08:52.468Z"
   },
   {
    "duration": 34,
    "start_time": "2023-01-18T17:08:52.478Z"
   },
   {
    "duration": 232,
    "start_time": "2023-01-18T17:08:52.514Z"
   },
   {
    "duration": 148,
    "start_time": "2023-01-18T17:08:52.748Z"
   },
   {
    "duration": 15,
    "start_time": "2023-01-18T17:08:52.898Z"
   },
   {
    "duration": 5,
    "start_time": "2023-01-18T17:08:52.915Z"
   },
   {
    "duration": 172,
    "start_time": "2023-01-18T17:08:52.922Z"
   },
   {
    "duration": 199,
    "start_time": "2023-01-18T17:08:53.096Z"
   },
   {
    "duration": 145,
    "start_time": "2023-01-18T17:08:53.298Z"
   },
   {
    "duration": 176,
    "start_time": "2023-01-18T17:08:53.445Z"
   },
   {
    "duration": 7,
    "start_time": "2023-01-18T17:08:53.622Z"
   },
   {
    "duration": 134,
    "start_time": "2023-01-18T17:08:53.630Z"
   },
   {
    "duration": 183,
    "start_time": "2023-01-18T17:08:53.766Z"
   },
   {
    "duration": 209,
    "start_time": "2023-01-18T17:08:53.951Z"
   },
   {
    "duration": 174,
    "start_time": "2023-01-18T17:08:54.162Z"
   },
   {
    "duration": 7,
    "start_time": "2023-01-18T17:08:54.338Z"
   },
   {
    "duration": 9,
    "start_time": "2023-01-18T17:08:54.347Z"
   },
   {
    "duration": 37,
    "start_time": "2023-01-18T17:08:54.358Z"
   },
   {
    "duration": 13,
    "start_time": "2023-01-18T17:08:54.397Z"
   },
   {
    "duration": 13,
    "start_time": "2023-01-18T17:08:54.412Z"
   },
   {
    "duration": 4,
    "start_time": "2023-01-18T17:08:54.427Z"
   },
   {
    "duration": 9,
    "start_time": "2023-01-18T17:08:54.433Z"
   },
   {
    "duration": 5,
    "start_time": "2023-01-18T17:08:54.444Z"
   },
   {
    "duration": 42,
    "start_time": "2023-01-18T17:08:54.451Z"
   },
   {
    "duration": 14,
    "start_time": "2023-01-18T17:08:54.495Z"
   },
   {
    "duration": 12,
    "start_time": "2023-01-18T17:08:54.511Z"
   },
   {
    "duration": 50,
    "start_time": "2023-01-19T05:07:16.611Z"
   },
   {
    "duration": 6,
    "start_time": "2023-01-19T05:07:20.636Z"
   },
   {
    "duration": 7,
    "start_time": "2023-01-19T05:07:20.722Z"
   },
   {
    "duration": 0,
    "start_time": "2023-01-19T05:07:20.731Z"
   },
   {
    "duration": 0,
    "start_time": "2023-01-19T05:07:20.732Z"
   },
   {
    "duration": 7,
    "start_time": "2023-01-19T05:07:20.742Z"
   },
   {
    "duration": 6,
    "start_time": "2023-01-19T05:07:20.789Z"
   },
   {
    "duration": 7,
    "start_time": "2023-01-19T05:07:20.803Z"
   },
   {
    "duration": 18,
    "start_time": "2023-01-19T05:07:20.812Z"
   },
   {
    "duration": 0,
    "start_time": "2023-01-19T05:07:20.831Z"
   },
   {
    "duration": 0,
    "start_time": "2023-01-19T05:07:20.832Z"
   },
   {
    "duration": 6,
    "start_time": "2023-01-19T05:07:20.880Z"
   },
   {
    "duration": 9,
    "start_time": "2023-01-19T05:07:20.899Z"
   },
   {
    "duration": 0,
    "start_time": "2023-01-19T05:07:20.909Z"
   },
   {
    "duration": 8,
    "start_time": "2023-01-19T05:07:20.914Z"
   },
   {
    "duration": 8,
    "start_time": "2023-01-19T05:07:20.940Z"
   },
   {
    "duration": 9,
    "start_time": "2023-01-19T05:07:20.986Z"
   },
   {
    "duration": 0,
    "start_time": "2023-01-19T05:07:20.996Z"
   },
   {
    "duration": 9,
    "start_time": "2023-01-19T05:07:21.001Z"
   },
   {
    "duration": 6,
    "start_time": "2023-01-19T05:07:21.026Z"
   },
   {
    "duration": 11,
    "start_time": "2023-01-19T05:07:21.067Z"
   },
   {
    "duration": 0,
    "start_time": "2023-01-19T05:07:21.080Z"
   },
   {
    "duration": 11,
    "start_time": "2023-01-19T05:07:21.088Z"
   },
   {
    "duration": 0,
    "start_time": "2023-01-19T05:07:21.101Z"
   },
   {
    "duration": 8,
    "start_time": "2023-01-19T05:07:21.106Z"
   },
   {
    "duration": 8,
    "start_time": "2023-01-19T05:07:21.162Z"
   },
   {
    "duration": 0,
    "start_time": "2023-01-19T05:07:21.172Z"
   },
   {
    "duration": 12,
    "start_time": "2023-01-19T05:07:21.197Z"
   },
   {
    "duration": 0,
    "start_time": "2023-01-19T05:07:21.210Z"
   },
   {
    "duration": 7,
    "start_time": "2023-01-19T05:08:21.001Z"
   },
   {
    "duration": 1307,
    "start_time": "2023-01-19T05:08:45.301Z"
   },
   {
    "duration": 210,
    "start_time": "2023-01-19T05:08:46.609Z"
   },
   {
    "duration": 21,
    "start_time": "2023-01-19T05:08:46.820Z"
   },
   {
    "duration": 15,
    "start_time": "2023-01-19T05:08:46.843Z"
   },
   {
    "duration": 11,
    "start_time": "2023-01-19T05:08:46.860Z"
   },
   {
    "duration": 20,
    "start_time": "2023-01-19T05:08:46.873Z"
   },
   {
    "duration": 17,
    "start_time": "2023-01-19T05:08:46.895Z"
   },
   {
    "duration": 17,
    "start_time": "2023-01-19T05:08:46.913Z"
   },
   {
    "duration": 20,
    "start_time": "2023-01-19T05:08:46.932Z"
   },
   {
    "duration": 18,
    "start_time": "2023-01-19T05:08:46.955Z"
   },
   {
    "duration": 30,
    "start_time": "2023-01-19T05:08:46.974Z"
   },
   {
    "duration": 20,
    "start_time": "2023-01-19T05:08:47.005Z"
   },
   {
    "duration": 17,
    "start_time": "2023-01-19T05:08:47.027Z"
   },
   {
    "duration": 23,
    "start_time": "2023-01-19T05:08:47.046Z"
   },
   {
    "duration": 21,
    "start_time": "2023-01-19T05:08:47.071Z"
   },
   {
    "duration": 32,
    "start_time": "2023-01-19T05:08:47.094Z"
   },
   {
    "duration": 278,
    "start_time": "2023-01-19T05:08:49.080Z"
   },
   {
    "duration": 279,
    "start_time": "2023-01-19T05:09:25.903Z"
   },
   {
    "duration": 260,
    "start_time": "2023-01-19T05:10:30.263Z"
   },
   {
    "duration": 157,
    "start_time": "2023-01-19T05:11:14.599Z"
   },
   {
    "duration": 162,
    "start_time": "2023-01-19T05:12:21.491Z"
   },
   {
    "duration": 139,
    "start_time": "2023-01-19T05:15:59.613Z"
   },
   {
    "duration": 210,
    "start_time": "2023-01-19T05:16:18.302Z"
   },
   {
    "duration": 4,
    "start_time": "2023-01-19T05:16:42.219Z"
   },
   {
    "duration": 154,
    "start_time": "2023-01-19T05:16:47.379Z"
   },
   {
    "duration": 61,
    "start_time": "2023-01-19T05:17:23.994Z"
   },
   {
    "duration": 3,
    "start_time": "2023-01-19T05:17:32.889Z"
   },
   {
    "duration": 59,
    "start_time": "2023-01-19T05:17:32.894Z"
   },
   {
    "duration": 14,
    "start_time": "2023-01-19T05:17:32.955Z"
   },
   {
    "duration": 19,
    "start_time": "2023-01-19T05:17:32.971Z"
   },
   {
    "duration": 4,
    "start_time": "2023-01-19T05:17:32.992Z"
   },
   {
    "duration": 12,
    "start_time": "2023-01-19T05:17:32.997Z"
   },
   {
    "duration": 8,
    "start_time": "2023-01-19T05:17:33.010Z"
   },
   {
    "duration": 21,
    "start_time": "2023-01-19T05:17:33.019Z"
   },
   {
    "duration": 7,
    "start_time": "2023-01-19T05:17:33.042Z"
   },
   {
    "duration": 12,
    "start_time": "2023-01-19T05:17:33.051Z"
   },
   {
    "duration": 9,
    "start_time": "2023-01-19T05:17:33.066Z"
   },
   {
    "duration": 19,
    "start_time": "2023-01-19T05:17:33.076Z"
   },
   {
    "duration": 5,
    "start_time": "2023-01-19T05:17:33.097Z"
   },
   {
    "duration": 16,
    "start_time": "2023-01-19T05:17:33.103Z"
   },
   {
    "duration": 7,
    "start_time": "2023-01-19T05:17:33.139Z"
   },
   {
    "duration": 21,
    "start_time": "2023-01-19T05:17:33.147Z"
   },
   {
    "duration": 16,
    "start_time": "2023-01-19T05:17:35.683Z"
   },
   {
    "duration": 170,
    "start_time": "2023-01-19T05:17:52.099Z"
   },
   {
    "duration": 174,
    "start_time": "2023-01-19T05:18:06.596Z"
   },
   {
    "duration": 147,
    "start_time": "2023-01-19T05:21:05.603Z"
   },
   {
    "duration": 144,
    "start_time": "2023-01-19T05:22:10.278Z"
   },
   {
    "duration": 154,
    "start_time": "2023-01-19T05:23:02.972Z"
   },
   {
    "duration": 307,
    "start_time": "2023-01-19T05:24:25.575Z"
   },
   {
    "duration": 544,
    "start_time": "2023-01-19T05:25:47.694Z"
   },
   {
    "duration": 402,
    "start_time": "2023-01-19T05:26:21.995Z"
   },
   {
    "duration": 340,
    "start_time": "2023-01-19T05:27:38.584Z"
   },
   {
    "duration": 309,
    "start_time": "2023-01-19T05:27:55.779Z"
   },
   {
    "duration": 9,
    "start_time": "2023-01-19T05:28:23.138Z"
   },
   {
    "duration": 51,
    "start_time": "2023-01-19T05:31:11.406Z"
   },
   {
    "duration": 382,
    "start_time": "2023-01-19T05:32:25.418Z"
   },
   {
    "duration": 365,
    "start_time": "2023-01-19T05:37:35.551Z"
   },
   {
    "duration": 46,
    "start_time": "2023-01-19T05:37:56.296Z"
   },
   {
    "duration": 10,
    "start_time": "2023-01-19T05:38:13.946Z"
   },
   {
    "duration": 25,
    "start_time": "2023-01-19T05:38:13.981Z"
   },
   {
    "duration": 368,
    "start_time": "2023-01-19T05:38:14.007Z"
   },
   {
    "duration": 158,
    "start_time": "2023-01-19T05:38:14.377Z"
   },
   {
    "duration": 17,
    "start_time": "2023-01-19T05:38:14.537Z"
   },
   {
    "duration": 8,
    "start_time": "2023-01-19T05:38:14.557Z"
   },
   {
    "duration": 187,
    "start_time": "2023-01-19T05:38:14.567Z"
   },
   {
    "duration": 197,
    "start_time": "2023-01-19T05:38:14.756Z"
   },
   {
    "duration": 160,
    "start_time": "2023-01-19T05:38:14.955Z"
   },
   {
    "duration": 202,
    "start_time": "2023-01-19T05:38:15.116Z"
   },
   {
    "duration": 7,
    "start_time": "2023-01-19T05:38:15.320Z"
   },
   {
    "duration": 143,
    "start_time": "2023-01-19T05:38:15.337Z"
   },
   {
    "duration": 185,
    "start_time": "2023-01-19T05:38:15.482Z"
   },
   {
    "duration": 140,
    "start_time": "2023-01-19T05:38:15.669Z"
   },
   {
    "duration": 177,
    "start_time": "2023-01-19T05:38:15.812Z"
   },
   {
    "duration": 7,
    "start_time": "2023-01-19T05:38:15.990Z"
   },
   {
    "duration": 30,
    "start_time": "2023-01-19T05:38:15.999Z"
   },
   {
    "duration": 50,
    "start_time": "2023-01-19T05:38:16.031Z"
   },
   {
    "duration": 13,
    "start_time": "2023-01-19T05:38:16.083Z"
   },
   {
    "duration": 13,
    "start_time": "2023-01-19T05:38:16.098Z"
   },
   {
    "duration": 5,
    "start_time": "2023-01-19T05:38:16.113Z"
   },
   {
    "duration": 9,
    "start_time": "2023-01-19T05:38:16.121Z"
   },
   {
    "duration": 6,
    "start_time": "2023-01-19T05:38:16.132Z"
   },
   {
    "duration": 6,
    "start_time": "2023-01-19T05:38:16.139Z"
   },
   {
    "duration": 11,
    "start_time": "2023-01-19T05:38:16.147Z"
   },
   {
    "duration": 8,
    "start_time": "2023-01-19T05:38:16.160Z"
   },
   {
    "duration": 249,
    "start_time": "2023-01-19T05:39:29.638Z"
   },
   {
    "duration": 54,
    "start_time": "2023-01-19T05:39:56.304Z"
   },
   {
    "duration": 249,
    "start_time": "2023-01-19T05:40:06.814Z"
   },
   {
    "duration": 270,
    "start_time": "2023-01-19T05:41:39.037Z"
   },
   {
    "duration": 262,
    "start_time": "2023-01-19T05:41:48.265Z"
   },
   {
    "duration": 391,
    "start_time": "2023-01-19T05:41:52.477Z"
   },
   {
    "duration": 1059,
    "start_time": "2023-01-19T05:42:47.908Z"
   },
   {
    "duration": 364,
    "start_time": "2023-01-19T05:43:25.181Z"
   },
   {
    "duration": 45,
    "start_time": "2023-01-19T05:43:50.885Z"
   },
   {
    "duration": 205,
    "start_time": "2023-01-19T05:45:58.488Z"
   },
   {
    "duration": 39,
    "start_time": "2023-01-19T05:46:18.693Z"
   },
   {
    "duration": 192,
    "start_time": "2023-01-19T05:47:16.425Z"
   },
   {
    "duration": 181,
    "start_time": "2023-01-19T05:47:26.541Z"
   },
   {
    "duration": 182,
    "start_time": "2023-01-19T05:48:49.428Z"
   },
   {
    "duration": 190,
    "start_time": "2023-01-19T05:50:18.320Z"
   },
   {
    "duration": 170,
    "start_time": "2023-01-19T05:50:27.200Z"
   },
   {
    "duration": 230,
    "start_time": "2023-01-19T05:51:05.496Z"
   },
   {
    "duration": 184,
    "start_time": "2023-01-19T05:51:28.899Z"
   },
   {
    "duration": 224,
    "start_time": "2023-01-19T05:51:38.888Z"
   },
   {
    "duration": 147,
    "start_time": "2023-01-19T05:52:32.986Z"
   },
   {
    "duration": 198,
    "start_time": "2023-01-19T05:52:45.631Z"
   },
   {
    "duration": 152,
    "start_time": "2023-01-19T05:53:08.501Z"
   },
   {
    "duration": 210,
    "start_time": "2023-01-19T05:53:16.794Z"
   },
   {
    "duration": 32,
    "start_time": "2023-01-19T05:55:09.636Z"
   },
   {
    "duration": 7,
    "start_time": "2023-01-19T05:55:43.519Z"
   },
   {
    "duration": 10,
    "start_time": "2023-01-19T05:56:55.243Z"
   },
   {
    "duration": 15,
    "start_time": "2023-01-19T05:57:04.044Z"
   },
   {
    "duration": 9,
    "start_time": "2023-01-19T05:57:15.195Z"
   },
   {
    "duration": 10,
    "start_time": "2023-01-19T05:57:17.413Z"
   },
   {
    "duration": 6,
    "start_time": "2023-01-19T05:57:19.355Z"
   },
   {
    "duration": 3,
    "start_time": "2023-01-19T05:57:34.613Z"
   },
   {
    "duration": 61,
    "start_time": "2023-01-19T05:57:34.618Z"
   },
   {
    "duration": 16,
    "start_time": "2023-01-19T05:57:34.681Z"
   },
   {
    "duration": 18,
    "start_time": "2023-01-19T05:57:34.699Z"
   },
   {
    "duration": 4,
    "start_time": "2023-01-19T05:57:34.720Z"
   },
   {
    "duration": 35,
    "start_time": "2023-01-19T05:57:34.726Z"
   },
   {
    "duration": 33,
    "start_time": "2023-01-19T05:57:34.763Z"
   },
   {
    "duration": 8,
    "start_time": "2023-01-19T05:57:34.798Z"
   },
   {
    "duration": 8,
    "start_time": "2023-01-19T05:57:34.808Z"
   },
   {
    "duration": 9,
    "start_time": "2023-01-19T05:57:34.818Z"
   },
   {
    "duration": 13,
    "start_time": "2023-01-19T05:57:34.830Z"
   },
   {
    "duration": 12,
    "start_time": "2023-01-19T05:57:34.845Z"
   },
   {
    "duration": 6,
    "start_time": "2023-01-19T05:57:34.859Z"
   },
   {
    "duration": 12,
    "start_time": "2023-01-19T05:57:34.867Z"
   },
   {
    "duration": 6,
    "start_time": "2023-01-19T05:57:34.881Z"
   },
   {
    "duration": 19,
    "start_time": "2023-01-19T05:57:34.889Z"
   },
   {
    "duration": 340,
    "start_time": "2023-01-19T05:57:34.909Z"
   },
   {
    "duration": 8,
    "start_time": "2023-01-19T05:57:35.250Z"
   },
   {
    "duration": 389,
    "start_time": "2023-01-19T05:57:35.260Z"
   },
   {
    "duration": 7,
    "start_time": "2023-01-19T05:57:35.651Z"
   },
   {
    "duration": 45,
    "start_time": "2023-01-19T05:57:35.659Z"
   },
   {
    "duration": 434,
    "start_time": "2023-01-19T05:57:35.706Z"
   },
   {
    "duration": 183,
    "start_time": "2023-01-19T05:57:36.142Z"
   },
   {
    "duration": 29,
    "start_time": "2023-01-19T05:57:36.326Z"
   },
   {
    "duration": 7,
    "start_time": "2023-01-19T05:57:36.357Z"
   },
   {
    "duration": 192,
    "start_time": "2023-01-19T05:57:36.366Z"
   },
   {
    "duration": 231,
    "start_time": "2023-01-19T05:57:36.560Z"
   },
   {
    "duration": 230,
    "start_time": "2023-01-19T05:57:36.792Z"
   },
   {
    "duration": 232,
    "start_time": "2023-01-19T05:57:37.026Z"
   },
   {
    "duration": 9,
    "start_time": "2023-01-19T05:57:37.260Z"
   },
   {
    "duration": 187,
    "start_time": "2023-01-19T05:57:37.271Z"
   },
   {
    "duration": 212,
    "start_time": "2023-01-19T05:57:37.460Z"
   },
   {
    "duration": 171,
    "start_time": "2023-01-19T05:57:37.675Z"
   },
   {
    "duration": 222,
    "start_time": "2023-01-19T05:57:37.848Z"
   },
   {
    "duration": 9,
    "start_time": "2023-01-19T05:57:41.514Z"
   },
   {
    "duration": 14,
    "start_time": "2023-01-19T05:57:46.186Z"
   },
   {
    "duration": 192,
    "start_time": "2023-01-19T06:00:24.691Z"
   },
   {
    "duration": 17,
    "start_time": "2023-01-19T06:01:18.527Z"
   },
   {
    "duration": 28,
    "start_time": "2023-01-19T06:03:36.920Z"
   },
   {
    "duration": 16,
    "start_time": "2023-01-19T06:03:51.024Z"
   },
   {
    "duration": 17,
    "start_time": "2023-01-19T06:03:56.403Z"
   },
   {
    "duration": 14,
    "start_time": "2023-01-19T06:04:03.182Z"
   },
   {
    "duration": 216,
    "start_time": "2023-01-19T06:05:25.133Z"
   },
   {
    "duration": 205,
    "start_time": "2023-01-19T06:05:47.016Z"
   },
   {
    "duration": 209,
    "start_time": "2023-01-19T06:06:50.946Z"
   },
   {
    "duration": 325,
    "start_time": "2023-01-19T06:07:28.080Z"
   },
   {
    "duration": 46,
    "start_time": "2023-01-19T06:09:37.141Z"
   },
   {
    "duration": 111,
    "start_time": "2023-01-19T06:20:27.347Z"
   },
   {
    "duration": 136,
    "start_time": "2023-01-19T06:20:32.570Z"
   },
   {
    "duration": 81,
    "start_time": "2023-01-19T06:28:57.181Z"
   },
   {
    "duration": 75,
    "start_time": "2023-01-19T06:29:04.733Z"
   },
   {
    "duration": 78,
    "start_time": "2023-01-19T06:29:53.575Z"
   },
   {
    "duration": 82,
    "start_time": "2023-01-19T06:30:22.821Z"
   },
   {
    "duration": 111,
    "start_time": "2023-01-19T06:30:58.468Z"
   },
   {
    "duration": 125,
    "start_time": "2023-01-19T06:31:26.721Z"
   },
   {
    "duration": 6,
    "start_time": "2023-01-19T06:35:51.342Z"
   },
   {
    "duration": 12,
    "start_time": "2023-01-19T06:35:56.577Z"
   },
   {
    "duration": 151,
    "start_time": "2023-01-19T06:36:05.393Z"
   },
   {
    "duration": 132,
    "start_time": "2023-01-19T06:36:55.377Z"
   },
   {
    "duration": 14,
    "start_time": "2023-01-19T06:38:06.926Z"
   },
   {
    "duration": 46,
    "start_time": "2023-01-19T06:38:13.374Z"
   },
   {
    "duration": 48,
    "start_time": "2023-01-19T06:38:24.779Z"
   },
   {
    "duration": 51,
    "start_time": "2023-01-19T06:38:37.809Z"
   },
   {
    "duration": 51,
    "start_time": "2023-01-19T06:38:57.566Z"
   },
   {
    "duration": 3,
    "start_time": "2023-01-19T06:39:06.991Z"
   },
   {
    "duration": 77,
    "start_time": "2023-01-19T06:39:06.996Z"
   },
   {
    "duration": 17,
    "start_time": "2023-01-19T06:39:07.075Z"
   },
   {
    "duration": 40,
    "start_time": "2023-01-19T06:39:07.094Z"
   },
   {
    "duration": 18,
    "start_time": "2023-01-19T06:39:07.136Z"
   },
   {
    "duration": 26,
    "start_time": "2023-01-19T06:39:07.157Z"
   },
   {
    "duration": 17,
    "start_time": "2023-01-19T06:39:07.184Z"
   },
   {
    "duration": 16,
    "start_time": "2023-01-19T06:39:07.202Z"
   },
   {
    "duration": 22,
    "start_time": "2023-01-19T06:39:07.220Z"
   },
   {
    "duration": 11,
    "start_time": "2023-01-19T06:39:07.244Z"
   },
   {
    "duration": 13,
    "start_time": "2023-01-19T06:39:07.258Z"
   },
   {
    "duration": 11,
    "start_time": "2023-01-19T06:39:07.274Z"
   },
   {
    "duration": 20,
    "start_time": "2023-01-19T06:39:07.287Z"
   },
   {
    "duration": 29,
    "start_time": "2023-01-19T06:39:07.309Z"
   },
   {
    "duration": 20,
    "start_time": "2023-01-19T06:39:07.340Z"
   },
   {
    "duration": 27,
    "start_time": "2023-01-19T06:39:07.361Z"
   },
   {
    "duration": 340,
    "start_time": "2023-01-19T06:39:07.390Z"
   },
   {
    "duration": 8,
    "start_time": "2023-01-19T06:39:07.738Z"
   },
   {
    "duration": 412,
    "start_time": "2023-01-19T06:39:07.748Z"
   },
   {
    "duration": 8,
    "start_time": "2023-01-19T06:39:08.163Z"
   },
   {
    "duration": 40,
    "start_time": "2023-01-19T06:39:08.173Z"
   },
   {
    "duration": 255,
    "start_time": "2023-01-19T06:39:08.215Z"
   },
   {
    "duration": 297,
    "start_time": "2023-01-19T06:39:08.471Z"
   },
   {
    "duration": 15,
    "start_time": "2023-01-19T06:39:08.770Z"
   },
   {
    "duration": 11,
    "start_time": "2023-01-19T06:39:08.786Z"
   },
   {
    "duration": 193,
    "start_time": "2023-01-19T06:39:08.799Z"
   },
   {
    "duration": 221,
    "start_time": "2023-01-19T06:39:08.994Z"
   },
   {
    "duration": 190,
    "start_time": "2023-01-19T06:39:09.217Z"
   },
   {
    "duration": 221,
    "start_time": "2023-01-19T06:39:09.411Z"
   },
   {
    "duration": 11,
    "start_time": "2023-01-19T06:39:09.633Z"
   },
   {
    "duration": 165,
    "start_time": "2023-01-19T06:39:09.646Z"
   },
   {
    "duration": 216,
    "start_time": "2023-01-19T06:39:09.812Z"
   },
   {
    "duration": 160,
    "start_time": "2023-01-19T06:39:10.037Z"
   },
   {
    "duration": 193,
    "start_time": "2023-01-19T06:39:10.199Z"
   },
   {
    "duration": 203,
    "start_time": "2023-01-19T06:39:10.394Z"
   },
   {
    "duration": 208,
    "start_time": "2023-01-19T06:39:10.599Z"
   },
   {
    "duration": 13,
    "start_time": "2023-01-19T06:39:10.809Z"
   },
   {
    "duration": 137,
    "start_time": "2023-01-19T06:39:10.838Z"
   },
   {
    "duration": 53,
    "start_time": "2023-01-19T06:39:10.977Z"
   },
   {
    "duration": 50,
    "start_time": "2023-01-19T06:39:18.493Z"
   },
   {
    "duration": 50,
    "start_time": "2023-01-19T06:39:50.344Z"
   },
   {
    "duration": 63,
    "start_time": "2023-01-19T06:40:13.661Z"
   },
   {
    "duration": 46,
    "start_time": "2023-01-19T06:40:31.791Z"
   },
   {
    "duration": 5,
    "start_time": "2023-01-19T06:40:45.877Z"
   },
   {
    "duration": 8,
    "start_time": "2023-01-19T06:40:59.618Z"
   },
   {
    "duration": 7,
    "start_time": "2023-01-19T06:41:18.585Z"
   },
   {
    "duration": 43,
    "start_time": "2023-01-19T06:41:28.143Z"
   },
   {
    "duration": 51,
    "start_time": "2023-01-19T06:41:47.904Z"
   },
   {
    "duration": 7,
    "start_time": "2023-01-19T06:41:56.692Z"
   },
   {
    "duration": 54,
    "start_time": "2023-01-19T06:42:00.524Z"
   },
   {
    "duration": 6,
    "start_time": "2023-01-19T06:42:12.287Z"
   },
   {
    "duration": 9,
    "start_time": "2023-01-19T06:42:20.261Z"
   },
   {
    "duration": 8,
    "start_time": "2023-01-19T06:42:30.196Z"
   },
   {
    "duration": 12,
    "start_time": "2023-01-19T06:42:49.926Z"
   },
   {
    "duration": 14,
    "start_time": "2023-01-19T06:44:28.907Z"
   },
   {
    "duration": 16,
    "start_time": "2023-01-19T06:44:51.782Z"
   },
   {
    "duration": 10,
    "start_time": "2023-01-19T06:44:58.276Z"
   },
   {
    "duration": 17,
    "start_time": "2023-01-19T06:45:30.644Z"
   },
   {
    "duration": 354,
    "start_time": "2023-01-19T06:47:05.849Z"
   },
   {
    "duration": 606,
    "start_time": "2023-01-19T06:48:15.175Z"
   },
   {
    "duration": 19,
    "start_time": "2023-01-19T06:49:24.246Z"
   },
   {
    "duration": 26,
    "start_time": "2023-01-19T06:49:57.304Z"
   },
   {
    "duration": 4,
    "start_time": "2023-01-19T06:50:05.090Z"
   },
   {
    "duration": 75,
    "start_time": "2023-01-19T06:50:05.097Z"
   },
   {
    "duration": 17,
    "start_time": "2023-01-19T06:50:05.175Z"
   },
   {
    "duration": 41,
    "start_time": "2023-01-19T06:50:05.194Z"
   },
   {
    "duration": 5,
    "start_time": "2023-01-19T06:50:05.238Z"
   },
   {
    "duration": 15,
    "start_time": "2023-01-19T06:50:05.245Z"
   },
   {
    "duration": 17,
    "start_time": "2023-01-19T06:50:05.262Z"
   },
   {
    "duration": 23,
    "start_time": "2023-01-19T06:50:05.280Z"
   },
   {
    "duration": 26,
    "start_time": "2023-01-19T06:50:05.304Z"
   },
   {
    "duration": 31,
    "start_time": "2023-01-19T06:50:05.332Z"
   },
   {
    "duration": 23,
    "start_time": "2023-01-19T06:50:05.367Z"
   },
   {
    "duration": 38,
    "start_time": "2023-01-19T06:50:05.392Z"
   },
   {
    "duration": 26,
    "start_time": "2023-01-19T06:50:05.433Z"
   },
   {
    "duration": 32,
    "start_time": "2023-01-19T06:50:05.461Z"
   },
   {
    "duration": 20,
    "start_time": "2023-01-19T06:50:05.495Z"
   },
   {
    "duration": 43,
    "start_time": "2023-01-19T06:50:05.517Z"
   },
   {
    "duration": 413,
    "start_time": "2023-01-19T06:50:05.562Z"
   },
   {
    "duration": 8,
    "start_time": "2023-01-19T06:50:05.977Z"
   },
   {
    "duration": 382,
    "start_time": "2023-01-19T06:50:05.986Z"
   },
   {
    "duration": 7,
    "start_time": "2023-01-19T06:50:06.370Z"
   },
   {
    "duration": 60,
    "start_time": "2023-01-19T06:50:06.378Z"
   },
   {
    "duration": 260,
    "start_time": "2023-01-19T06:50:06.440Z"
   },
   {
    "duration": 193,
    "start_time": "2023-01-19T06:50:06.702Z"
   },
   {
    "duration": 16,
    "start_time": "2023-01-19T06:50:06.896Z"
   },
   {
    "duration": 27,
    "start_time": "2023-01-19T06:50:06.915Z"
   },
   {
    "duration": 201,
    "start_time": "2023-01-19T06:50:06.943Z"
   },
   {
    "duration": 222,
    "start_time": "2023-01-19T06:50:07.146Z"
   },
   {
    "duration": 209,
    "start_time": "2023-01-19T06:50:07.370Z"
   },
   {
    "duration": 233,
    "start_time": "2023-01-19T06:50:07.583Z"
   },
   {
    "duration": 8,
    "start_time": "2023-01-19T06:50:07.818Z"
   },
   {
    "duration": 169,
    "start_time": "2023-01-19T06:50:07.838Z"
   },
   {
    "duration": 388,
    "start_time": "2023-01-19T06:50:08.009Z"
   },
   {
    "duration": 190,
    "start_time": "2023-01-19T06:50:08.399Z"
   },
   {
    "duration": 222,
    "start_time": "2023-01-19T06:50:08.590Z"
   },
   {
    "duration": 235,
    "start_time": "2023-01-19T06:50:08.814Z"
   },
   {
    "duration": 240,
    "start_time": "2023-01-19T06:50:09.051Z"
   },
   {
    "duration": 20,
    "start_time": "2023-01-19T06:50:09.294Z"
   },
   {
    "duration": 576,
    "start_time": "2023-01-19T06:50:09.316Z"
   },
   {
    "duration": 19,
    "start_time": "2023-01-19T06:50:09.894Z"
   },
   {
    "duration": 26,
    "start_time": "2023-01-19T06:50:16.331Z"
   },
   {
    "duration": 20,
    "start_time": "2023-01-19T06:51:55.884Z"
   },
   {
    "duration": 5,
    "start_time": "2023-01-19T06:52:16.872Z"
   },
   {
    "duration": 19,
    "start_time": "2023-01-19T06:52:24.885Z"
   },
   {
    "duration": 17,
    "start_time": "2023-01-19T06:52:41.547Z"
   },
   {
    "duration": 506,
    "start_time": "2023-01-19T06:54:00.707Z"
   },
   {
    "duration": 19,
    "start_time": "2023-01-19T06:55:23.970Z"
   },
   {
    "duration": 508,
    "start_time": "2023-01-19T06:56:28.303Z"
   },
   {
    "duration": 50,
    "start_time": "2023-01-19T06:57:46.467Z"
   }
  ],
  "kernelspec": {
   "display_name": "Python 3 (ipykernel)",
   "language": "python",
   "name": "python3"
  },
  "language_info": {
   "codemirror_mode": {
    "name": "ipython",
    "version": 3
   },
   "file_extension": ".py",
   "mimetype": "text/x-python",
   "name": "python",
   "nbconvert_exporter": "python",
   "pygments_lexer": "ipython3",
   "version": "3.9.5"
  },
  "toc": {
   "base_numbering": 1,
   "nav_menu": {},
   "number_sections": true,
   "sideBar": true,
   "skip_h1_title": true,
   "title_cell": "Table of Contents",
   "title_sidebar": "Contents",
   "toc_cell": false,
   "toc_position": {
    "height": "calc(100% - 180px)",
    "left": "10px",
    "top": "150px",
    "width": "250px"
   },
   "toc_section_display": true,
   "toc_window_display": false
  }
 },
 "nbformat": 4,
 "nbformat_minor": 2
}
