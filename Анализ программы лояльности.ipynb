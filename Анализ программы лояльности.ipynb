{
 "cells": [
  {
   "cell_type": "markdown",
   "metadata": {},
   "source": [
    "<div class=\"alert alert-success\">\n",
    "    \n",
    "**Комментарий ревьюера**\n",
    "\n",
    "Привет! Меня зовут Сысоева Вера.\n",
    "    \n",
    "Далее в файле мои комментарии ты сможешь найти в ячейках, аналогичных данной ( если рамки комментария зелёные и отмечены **#ок** - всё сделано правильно; жёлтые и отмечены **#можно лучше** - есть замечания, но не критично; красные с пометкой **#ошибка** - нужно переделать). Не удаляй эти комментарии и постарайся учесть их в ходе выполнения проекта.\n",
    "    \n",
    "    \n",
    "Я буду поддерживать версионность комментариев, и при следующих итерациях комментарии будут выделены, как \"Комментраии ревьюера - 2 (3 и.т.д.)\"\n",
    "    \n",
    "Если у тебя есть замечания, возражения и вопросы, ты можешь писать свои комментарии, по возможности выделяй их так же цветом (например, синим), чтоб их можно было легко отделить от текста проекта. \n",
    "    \n",
    "Кстати, предлагаю сразу общаться на \"ты\".\n",
    "    \n",
    "Увидев у тебя ошибку, в первый раз я лишь укажу на ее наличие и дам тебе возможность самостоятельно найти и исправить ее. На реальной работе твой начальник будет поступать так же, а я пытаюсь подготовить тебя именно к работе аналитиком. Но если ты пока не справишься с такой задачей - при следующей проверке я дам более точную подсказку.\n",
    "    \n",
    "</div>"
   ]
  },
  {
   "cell_type": "markdown",
   "metadata": {},
   "source": [
    "<div class=\"alert alert-block alert-info\">\n",
    "Привет, Вера, меня зовут Наташа.\n",
    "Спасибо за комментарии. Постаралась все максимально учесть.\n",
    "</div>"
   ]
  },
  {
   "cell_type": "markdown",
   "metadata": {},
   "source": [
    "**Ритейл - Анализ программы лояльности.**"
   ]
  },
  {
   "cell_type": "markdown",
   "metadata": {},
   "source": [
    "В данном проекте необходимо проанализировать программу лояльности магазина строительных материалов «Строили, строили и наконец построили». \n",
    "Условия программы лояльности - За 200 рублей в месяц покупатели могут стать участниками программы лояльности. В программу включены скидки, специальные предложения, подарки.\n",
    "\n",
    "План исследования:\n",
    "- Загрузка данных и подготовка к исследованию;\n",
    "- Исследовательский анализ данных - на данном этапе составим портрет покупателя ;\n",
    "- Проведем анализ программы лояльности;\n",
    "- Проверим статистические гипотезы:\n",
    "    - покупатели - участники программы лояльности приносят больше выручки, чем не участвующие.\n",
    "    - покупатели - участники программы лояльности совершают покупки чаще, чем не участвующие.\n",
    "\n",
    "\n",
    "**Описание данных:**\n",
    "\n",
    "\n",
    "Файл retail_dataset.csv:\n",
    "\n",
    "- purchaseId — id чека;\n",
    "- item_ID — id товара;\n",
    "- purchasedate — дата покупки;\n",
    "- Quantity — количество товара;\n",
    "- CustomerID — id покупателя;\n",
    "- ShopID — id магазина;\n",
    "- loyalty_program — участвует ли покупатель в программе лояльности;\n",
    "\n",
    "Файл product_codes.csv:\n",
    "\n",
    "- productID — id товара;\n",
    "- price_per_one — стоимость одной единицы товара;\n",
    "\n"
   ]
  },
  {
   "cell_type": "markdown",
   "metadata": {},
   "source": [
    "### Загрузка данных и подготовка к исследованию."
   ]
  },
  {
   "cell_type": "markdown",
   "metadata": {},
   "source": [
    "На данном этапе будут произведены следующие действия:\n",
    "- Импорт необходимых библиотек и загрузка данных;\n",
    "- Исследование пропущенных значений;\n",
    "- Исследование соответствия типов данных;\n",
    "- Исследование дубликатов;\n",
    "- Проверка корректности наименований колонок.\n"
   ]
  },
  {
   "cell_type": "code",
   "execution_count": 1,
   "metadata": {},
   "outputs": [],
   "source": [
    "import pandas as pd\n",
    "from datetime import datetime, timedelta\n",
    "import matplotlib.pyplot as plt\n",
    "from pandas.plotting import register_matplotlib_converters\n",
    "import warnings\n",
    "import scipy.stats as stats\n",
    "from plotly import graph_objects as go\n",
    "from scipy import stats as st\n",
    "import numpy as np\n",
    "import math as mth\n",
    "import seaborn as sns\n",
    "plt.rcParams[\"figure.figsize\"] = (12,6)"
   ]
  },
  {
   "cell_type": "code",
   "execution_count": 2,
   "metadata": {},
   "outputs": [],
   "source": [
    "retail_dataset = pd.read_csv('/datasets/retail_dataset.csv')\n",
    "product_codes = pd.read_csv('/datasets/product_codes.csv')"
   ]
  },
  {
   "cell_type": "code",
   "execution_count": 3,
   "metadata": {},
   "outputs": [
    {
     "name": "stdout",
     "output_type": "stream",
     "text": [
      "<class 'pandas.core.frame.DataFrame'>\n",
      "RangeIndex: 105335 entries, 0 to 105334\n",
      "Data columns (total 7 columns):\n",
      " #   Column           Non-Null Count   Dtype  \n",
      "---  ------           --------------   -----  \n",
      " 0   purchaseid       105335 non-null  object \n",
      " 1   item_ID          105335 non-null  object \n",
      " 2   Quantity         105335 non-null  int64  \n",
      " 3   purchasedate     105335 non-null  object \n",
      " 4   CustomerID       69125 non-null   float64\n",
      " 5   ShopID           105335 non-null  object \n",
      " 6   loyalty_program  105335 non-null  float64\n",
      "dtypes: float64(2), int64(1), object(4)\n",
      "memory usage: 5.6+ MB\n",
      "None\n"
     ]
    },
    {
     "data": {
      "text/html": [
       "<div>\n",
       "<style scoped>\n",
       "    .dataframe tbody tr th:only-of-type {\n",
       "        vertical-align: middle;\n",
       "    }\n",
       "\n",
       "    .dataframe tbody tr th {\n",
       "        vertical-align: top;\n",
       "    }\n",
       "\n",
       "    .dataframe thead th {\n",
       "        text-align: right;\n",
       "    }\n",
       "</style>\n",
       "<table border=\"1\" class=\"dataframe\">\n",
       "  <thead>\n",
       "    <tr style=\"text-align: right;\">\n",
       "      <th></th>\n",
       "      <th>purchaseid</th>\n",
       "      <th>item_ID</th>\n",
       "      <th>Quantity</th>\n",
       "      <th>purchasedate</th>\n",
       "      <th>CustomerID</th>\n",
       "      <th>ShopID</th>\n",
       "      <th>loyalty_program</th>\n",
       "    </tr>\n",
       "  </thead>\n",
       "  <tbody>\n",
       "    <tr>\n",
       "      <th>0</th>\n",
       "      <td>538280</td>\n",
       "      <td>21873</td>\n",
       "      <td>11</td>\n",
       "      <td>2016-12-10 12:50:00</td>\n",
       "      <td>18427.0</td>\n",
       "      <td>Shop 0</td>\n",
       "      <td>0.0</td>\n",
       "    </tr>\n",
       "    <tr>\n",
       "      <th>1</th>\n",
       "      <td>538862</td>\n",
       "      <td>22195</td>\n",
       "      <td>0</td>\n",
       "      <td>2016-12-14 14:11:00</td>\n",
       "      <td>22389.0</td>\n",
       "      <td>Shop 0</td>\n",
       "      <td>1.0</td>\n",
       "    </tr>\n",
       "    <tr>\n",
       "      <th>2</th>\n",
       "      <td>538855</td>\n",
       "      <td>21239</td>\n",
       "      <td>7</td>\n",
       "      <td>2016-12-14 13:50:00</td>\n",
       "      <td>22182.0</td>\n",
       "      <td>Shop 0</td>\n",
       "      <td>1.0</td>\n",
       "    </tr>\n",
       "    <tr>\n",
       "      <th>3</th>\n",
       "      <td>543543</td>\n",
       "      <td>22271</td>\n",
       "      <td>0</td>\n",
       "      <td>2017-02-09 15:33:00</td>\n",
       "      <td>23522.0</td>\n",
       "      <td>Shop 0</td>\n",
       "      <td>1.0</td>\n",
       "    </tr>\n",
       "    <tr>\n",
       "      <th>4</th>\n",
       "      <td>543812</td>\n",
       "      <td>79321</td>\n",
       "      <td>0</td>\n",
       "      <td>2017-02-13 14:40:00</td>\n",
       "      <td>23151.0</td>\n",
       "      <td>Shop 0</td>\n",
       "      <td>1.0</td>\n",
       "    </tr>\n",
       "  </tbody>\n",
       "</table>\n",
       "</div>"
      ],
      "text/plain": [
       "  purchaseid item_ID  Quantity         purchasedate  CustomerID  ShopID  \\\n",
       "0     538280   21873        11  2016-12-10 12:50:00     18427.0  Shop 0   \n",
       "1     538862   22195         0  2016-12-14 14:11:00     22389.0  Shop 0   \n",
       "2     538855   21239         7  2016-12-14 13:50:00     22182.0  Shop 0   \n",
       "3     543543   22271         0  2017-02-09 15:33:00     23522.0  Shop 0   \n",
       "4     543812   79321         0  2017-02-13 14:40:00     23151.0  Shop 0   \n",
       "\n",
       "   loyalty_program  \n",
       "0              0.0  \n",
       "1              1.0  \n",
       "2              1.0  \n",
       "3              1.0  \n",
       "4              1.0  "
      ]
     },
     "execution_count": 3,
     "metadata": {},
     "output_type": "execute_result"
    }
   ],
   "source": [
    "print(retail_dataset.info())\n",
    "retail_dataset.head()"
   ]
  },
  {
   "cell_type": "markdown",
   "metadata": {},
   "source": [
    "Начнем с первого датасета. Он содержит 105335 строк. При этом мы видим пропуски в столбце CustomerID - id покупателя. Возможно, данные пропуски связаны с тем, что id есть только у участников программы лояльности. Проверим, так ли это. "
   ]
  },
  {
   "cell_type": "code",
   "execution_count": 4,
   "metadata": {},
   "outputs": [
    {
     "data": {
      "text/plain": [
       "0"
      ]
     },
     "execution_count": 4,
     "metadata": {},
     "output_type": "execute_result"
    }
   ],
   "source": [
    "missed = retail_dataset[retail_dataset['CustomerID'].isnull()] #сформируем датасет с покупателями, у которых пропущен id\n",
    "missed.query('loyalty_program == 1')['CustomerID'].count() #посчитаем, сколько среди них участников программы лояльности"
   ]
  },
  {
   "cell_type": "markdown",
   "metadata": {},
   "source": [
    "Все верно - пропуски связаны с работой программы лояльности. В данном случае заполнить их мы не можем, <div class=\"alert alert-block alert-info\">\n",
    "Заменим пропуски на заглушки - нули.\n",
    "   \n",
    "</div>.\n"
   ]
  },
  {
   "cell_type": "code",
   "execution_count": 5,
   "metadata": {},
   "outputs": [],
   "source": [
    "retail_dataset = retail_dataset.fillna('0')"
   ]
  },
  {
   "cell_type": "markdown",
   "metadata": {},
   "source": [
    "Далее необходимо изменить названия столбцов - привести их к нижнему регистру, у столбцов purchaseid, purchasedate, CustomerID, ShopID - разделить слова нижним подчеркиванием.\n",
    "\n",
    "Также необходимо заменить тип данных в столбцах с датой и отметкой об участии в программе лояльности на корректный."
   ]
  },
  {
   "cell_type": "code",
   "execution_count": 6,
   "metadata": {},
   "outputs": [],
   "source": [
    "# Заменим названия столбцов на более удобные для работы\n",
    "retail_dataset.columns = retail_dataset.columns.str.lower()\n",
    "\n",
    "retail_dataset.rename({\n",
    "                       'purchaseid': 'purchase_id',\n",
    "                       'purchasedate': 'purchase_date',\n",
    "                       'customerid': 'customer_id',\n",
    "                       'shopid': 'shop_id'\n",
    "                      }, axis=1, inplace=True)"
   ]
  },
  {
   "cell_type": "code",
   "execution_count": 7,
   "metadata": {},
   "outputs": [],
   "source": [
    "# Изменим типы данных на корректные\n",
    "retail_dataset['purchase_date'] = pd.to_datetime(retail_dataset['purchase_date'], format = '%Y-%m-%d')\n",
    "retail_dataset['loyalty_program'] = retail_dataset['loyalty_program'].astype('bool')"
   ]
  },
  {
   "cell_type": "code",
   "execution_count": 8,
   "metadata": {},
   "outputs": [
    {
     "name": "stdout",
     "output_type": "stream",
     "text": [
      "<class 'pandas.core.frame.DataFrame'>\n",
      "RangeIndex: 9969 entries, 0 to 9968\n",
      "Data columns (total 2 columns):\n",
      " #   Column         Non-Null Count  Dtype  \n",
      "---  ------         --------------  -----  \n",
      " 0   productID      9969 non-null   object \n",
      " 1   price_per_one  9969 non-null   float64\n",
      "dtypes: float64(1), object(1)\n",
      "memory usage: 155.9+ KB\n",
      "None\n"
     ]
    },
    {
     "data": {
      "text/html": [
       "<div>\n",
       "<style scoped>\n",
       "    .dataframe tbody tr th:only-of-type {\n",
       "        vertical-align: middle;\n",
       "    }\n",
       "\n",
       "    .dataframe tbody tr th {\n",
       "        vertical-align: top;\n",
       "    }\n",
       "\n",
       "    .dataframe thead th {\n",
       "        text-align: right;\n",
       "    }\n",
       "</style>\n",
       "<table border=\"1\" class=\"dataframe\">\n",
       "  <thead>\n",
       "    <tr style=\"text-align: right;\">\n",
       "      <th></th>\n",
       "      <th>productID</th>\n",
       "      <th>price_per_one</th>\n",
       "    </tr>\n",
       "  </thead>\n",
       "  <tbody>\n",
       "    <tr>\n",
       "      <th>0</th>\n",
       "      <td>85123A</td>\n",
       "      <td>2.55</td>\n",
       "    </tr>\n",
       "    <tr>\n",
       "      <th>1</th>\n",
       "      <td>71053</td>\n",
       "      <td>3.39</td>\n",
       "    </tr>\n",
       "    <tr>\n",
       "      <th>2</th>\n",
       "      <td>84406B</td>\n",
       "      <td>2.75</td>\n",
       "    </tr>\n",
       "    <tr>\n",
       "      <th>3</th>\n",
       "      <td>84029G</td>\n",
       "      <td>3.39</td>\n",
       "    </tr>\n",
       "    <tr>\n",
       "      <th>4</th>\n",
       "      <td>84029E</td>\n",
       "      <td>3.39</td>\n",
       "    </tr>\n",
       "  </tbody>\n",
       "</table>\n",
       "</div>"
      ],
      "text/plain": [
       "  productID  price_per_one\n",
       "0    85123A           2.55\n",
       "1     71053           3.39\n",
       "2    84406B           2.75\n",
       "3    84029G           3.39\n",
       "4    84029E           3.39"
      ]
     },
     "execution_count": 8,
     "metadata": {},
     "output_type": "execute_result"
    }
   ],
   "source": [
    "print(product_codes.info())\n",
    "product_codes.head()"
   ]
  },
  {
   "cell_type": "markdown",
   "metadata": {},
   "source": [
    "Во втором датасете пропусков нет. Типы данных корректны. Заменим название столбца productID на корректное."
   ]
  },
  {
   "cell_type": "code",
   "execution_count": 9,
   "metadata": {},
   "outputs": [],
   "source": [
    "product_codes = product_codes.rename(columns={'productID': 'product_id'})"
   ]
  },
  {
   "cell_type": "code",
   "execution_count": 10,
   "metadata": {},
   "outputs": [
    {
     "name": "stdout",
     "output_type": "stream",
     "text": [
      "1033\n"
     ]
    },
    {
     "data": {
      "text/plain": [
       "0"
      ]
     },
     "execution_count": 10,
     "metadata": {},
     "output_type": "execute_result"
    }
   ],
   "source": [
    "# Проверим, есть ли в таблицах дублируещиеся строки\n",
    "print(retail_dataset.duplicated().sum())\n",
    "product_codes.duplicated().sum()"
   ]
  },
  {
   "cell_type": "markdown",
   "metadata": {},
   "source": [
    "В таблице retail_dataset присутствует 1033 дубликата, что составляет примерно 1% от общего количества строк и существенно не повлияет на ход исследования. Удалим дублирующиеся строки."
   ]
  },
  {
   "cell_type": "code",
   "execution_count": 11,
   "metadata": {},
   "outputs": [],
   "source": [
    "retail_dataset = retail_dataset.drop_duplicates()"
   ]
  },
  {
   "cell_type": "markdown",
   "metadata": {},
   "source": [
    "Для дальнейшего исследования нам необходимо объединить две имеющиеся таблицы по столбцу c id товара. Убедимся, что каждой позиции товара в таблице с ценами соответсвует одно значение цены."
   ]
  },
  {
   "cell_type": "code",
   "execution_count": 12,
   "metadata": {},
   "outputs": [
    {
     "data": {
      "text/plain": [
       "3159"
      ]
     },
     "execution_count": 12,
     "metadata": {},
     "output_type": "execute_result"
    }
   ],
   "source": [
    "product_codes['product_id'].nunique()"
   ]
  },
  {
   "cell_type": "markdown",
   "metadata": {},
   "source": [
    "Цен в таблице больше, чем наименований товаров. Возможно, цены разнятся в разных торговых точках, либо изменяются в зависимости от даты поставки, курса валяют и т.д.\n",
    "\n",
    "Для дальнейшего исследования заменим данные в таблице с ценами на медианное значение (чтобы снизить вероятность искажений в случае больших колебаний цен)."
   ]
  },
  {
   "cell_type": "code",
   "execution_count": 13,
   "metadata": {},
   "outputs": [],
   "source": [
    "product_codes = product_codes.groupby('product_id').agg({'price_per_one' : 'median'})"
   ]
  },
  {
   "cell_type": "code",
   "execution_count": 14,
   "metadata": {},
   "outputs": [
    {
     "data": {
      "text/html": [
       "<div>\n",
       "<style scoped>\n",
       "    .dataframe tbody tr th:only-of-type {\n",
       "        vertical-align: middle;\n",
       "    }\n",
       "\n",
       "    .dataframe tbody tr th {\n",
       "        vertical-align: top;\n",
       "    }\n",
       "\n",
       "    .dataframe thead th {\n",
       "        text-align: right;\n",
       "    }\n",
       "</style>\n",
       "<table border=\"1\" class=\"dataframe\">\n",
       "  <thead>\n",
       "    <tr style=\"text-align: right;\">\n",
       "      <th></th>\n",
       "      <th>purchase_id</th>\n",
       "      <th>item_id</th>\n",
       "      <th>quantity</th>\n",
       "      <th>purchase_date</th>\n",
       "      <th>customer_id</th>\n",
       "      <th>shop_id</th>\n",
       "      <th>loyalty_program</th>\n",
       "      <th>price_per_one</th>\n",
       "    </tr>\n",
       "  </thead>\n",
       "  <tbody>\n",
       "    <tr>\n",
       "      <th>0</th>\n",
       "      <td>538280</td>\n",
       "      <td>21873</td>\n",
       "      <td>11</td>\n",
       "      <td>2016-12-10 12:50:00</td>\n",
       "      <td>18427.0</td>\n",
       "      <td>Shop 0</td>\n",
       "      <td>False</td>\n",
       "      <td>1.63</td>\n",
       "    </tr>\n",
       "    <tr>\n",
       "      <th>1</th>\n",
       "      <td>541104</td>\n",
       "      <td>21873</td>\n",
       "      <td>0</td>\n",
       "      <td>2017-01-13 14:29:00</td>\n",
       "      <td>0</td>\n",
       "      <td>Shop 0</td>\n",
       "      <td>False</td>\n",
       "      <td>1.63</td>\n",
       "    </tr>\n",
       "    <tr>\n",
       "      <th>2</th>\n",
       "      <td>540418</td>\n",
       "      <td>21873</td>\n",
       "      <td>1</td>\n",
       "      <td>2017-01-07 11:04:00</td>\n",
       "      <td>0</td>\n",
       "      <td>Shop 0</td>\n",
       "      <td>False</td>\n",
       "      <td>1.63</td>\n",
       "    </tr>\n",
       "    <tr>\n",
       "      <th>3</th>\n",
       "      <td>541516</td>\n",
       "      <td>21873</td>\n",
       "      <td>2</td>\n",
       "      <td>2017-01-18 17:34:00</td>\n",
       "      <td>0</td>\n",
       "      <td>Shop 0</td>\n",
       "      <td>False</td>\n",
       "      <td>1.63</td>\n",
       "    </tr>\n",
       "    <tr>\n",
       "      <th>4</th>\n",
       "      <td>541566</td>\n",
       "      <td>21873</td>\n",
       "      <td>35</td>\n",
       "      <td>2017-01-19 11:50:00</td>\n",
       "      <td>23401.0</td>\n",
       "      <td>Shop 0</td>\n",
       "      <td>True</td>\n",
       "      <td>1.63</td>\n",
       "    </tr>\n",
       "  </tbody>\n",
       "</table>\n",
       "</div>"
      ],
      "text/plain": [
       "  purchase_id item_id  quantity       purchase_date customer_id shop_id  \\\n",
       "0      538280   21873        11 2016-12-10 12:50:00     18427.0  Shop 0   \n",
       "1      541104   21873         0 2017-01-13 14:29:00           0  Shop 0   \n",
       "2      540418   21873         1 2017-01-07 11:04:00           0  Shop 0   \n",
       "3      541516   21873         2 2017-01-18 17:34:00           0  Shop 0   \n",
       "4      541566   21873        35 2017-01-19 11:50:00     23401.0  Shop 0   \n",
       "\n",
       "   loyalty_program  price_per_one  \n",
       "0            False           1.63  \n",
       "1            False           1.63  \n",
       "2            False           1.63  \n",
       "3            False           1.63  \n",
       "4             True           1.63  "
      ]
     },
     "execution_count": 14,
     "metadata": {},
     "output_type": "execute_result"
    }
   ],
   "source": [
    "# Перейдем к объединению таблиц \n",
    "df = retail_dataset.merge(product_codes, left_on = 'item_id', right_on = 'product_id', how = 'inner')\n",
    "df.head()"
   ]
  },
  {
   "cell_type": "markdown",
   "metadata": {},
   "source": [
    "<div class=\"alert alert-block alert-info\">\n",
    "Для дальнейшего анализа нам понадобится информация о стоимости товаров в чеке. Добавим столбец.\n",
    "   \n",
    "</div>"
   ]
  },
  {
   "cell_type": "code",
   "execution_count": 15,
   "metadata": {},
   "outputs": [],
   "source": [
    "#Создадим столбец с общей стоимостью каждой позиции товара в чеке\n",
    "df['amount_good'] = df['quantity']*df['price_per_one']"
   ]
  },
  {
   "cell_type": "markdown",
   "metadata": {},
   "source": [
    "<div class=\"alert alert-block alert-info\">\n",
    "Проверим новый столбец на наличие выбросов и аномалий.\n",
    "   \n",
    "</div>"
   ]
  },
  {
   "cell_type": "code",
   "execution_count": 16,
   "metadata": {},
   "outputs": [
    {
     "data": {
      "image/png": "[encoded data removed]",
      "text/plain": [
       "<Figure size 864x432 with 1 Axes>"
      ]
     },
     "metadata": {
      "needs_background": "light"
     },
     "output_type": "display_data"
    }
   ],
   "source": [
    "#Построим график, показывающий распределение стоимостей товаров в чеке для анализа выбросов\n",
    "df.boxplot(column = 'amount_good')\n",
    "plt.ylabel('Стоимость товара')\n",
    "plt.title('Распределение стоимостей товаров в чеке')\n",
    "plt.show() "
   ]
  },
  {
   "cell_type": "markdown",
   "metadata": {},
   "source": [
    "<div class=\"alert alert-block alert-info\">\n",
    "В данных мы видим отрицательные значения стоимостей товаров - вероятно, это возвраты. Также есть аномально большие значения - около 80000р., которые могут исказить статистику. Отбросим отрицательные значения и те, что выше 20000р.\n",
    "</div>"
   ]
  },
  {
   "cell_type": "code",
   "execution_count": 17,
   "metadata": {},
   "outputs": [],
   "source": [
    "df = df.query('amount_good > 0  and amount_good <= 20000' )"
   ]
  },
  {
   "cell_type": "code",
   "execution_count": 18,
   "metadata": {},
   "outputs": [
    {
     "data": {
      "image/png": "[encoded data removed]",
      "text/plain": [
       "<Figure size 864x432 with 1 Axes>"
      ]
     },
     "metadata": {
      "needs_background": "light"
     },
     "output_type": "display_data"
    }
   ],
   "source": [
    "#Аналогичным образом проверим на выбросы и аномилии столбец с количеством товара\n",
    "df.boxplot(column = 'quantity')\n",
    "plt.ylabel('Количество товара')\n",
    "plt.title('Распределение количества товара')\n",
    "plt.show() "
   ]
  },
  {
   "cell_type": "markdown",
   "metadata": {},
   "source": [
    "<div class=\"alert alert-block alert-info\">\n",
    "Здесь также есть отрицательные значения и аномально большие цифры. Отсчечем данные от 0 до 3000.\n",
    "</div>"
   ]
  },
  {
   "cell_type": "code",
   "execution_count": 19,
   "metadata": {},
   "outputs": [],
   "source": [
    "df = df.query('quantity > 0  and quantity <= 3000' )"
   ]
  },
  {
   "cell_type": "markdown",
   "metadata": {},
   "source": [
    "**Вывод:**\n",
    "\n",
    "На данном этапе мы подготовили таблицу, необходимую для анализа. \n",
    "\n",
    "- Были заменены типы данных в колонках с датой покупки и отметкой об участии в программе лояльности. \n",
    "- Данные проверены на дубликаты - удалена 1033 дублирующих строки из датасета retail_dataset.\n",
    "- Названия столбцов изменены на удобные для анализа.\n",
    "- В датасете product_codes цены на товары заменены на медианные значения.\n",
    "- Оба датасета объединены в итоговую таблицу.\n",
    "- <div class=\"alert alert-block alert-info\">\n",
    "Удалены выбросы и аномальные значения.\n",
    "</div>"
   ]
  },
  {
   "cell_type": "markdown",
   "metadata": {},
   "source": [
    "<div class=\"alert alert-success\">\n",
    "    \n",
    "**Комментарий ревьюера**\n",
    "\n",
    "**#ок**\n",
    "\n",
    "Хорошо. В общем предобработка выполнена правильно\n",
    "\n",
    "Я бы пропуски еще заполнила заглушками\n",
    "</div>"
   ]
  },
  {
   "cell_type": "markdown",
   "metadata": {},
   "source": [
    "### Исследовательский анализ данных"
   ]
  },
  {
   "cell_type": "markdown",
   "metadata": {},
   "source": [
    "На данном этапе будет составлен \"портрет\" типичного покупателя магазина. Исследуем данные по основным параметрам - средний чек, среднее количество товаров в чеке, сколько в среднем покупок совершает каждый покупатель за исследуемый период.\n",
    "\n",
    "Для начала изучим, за какой период времени данные мы имеем."
   ]
  },
  {
   "cell_type": "code",
   "execution_count": 20,
   "metadata": {},
   "outputs": [
    {
     "name": "stdout",
     "output_type": "stream",
     "text": [
      "Начало периода 2016-12-01 08:26:00\n",
      "Конец периода 2017-02-28 17:01:00\n"
     ]
    }
   ],
   "source": [
    "print('Начало периода', df['purchase_date'].min())\n",
    "print('Конец периода', df['purchase_date'].max())"
   ]
  },
  {
   "cell_type": "code",
   "execution_count": 21,
   "metadata": {},
   "outputs": [
    {
     "data": {
      "text/plain": [
       "1670"
      ]
     },
     "execution_count": 21,
     "metadata": {},
     "output_type": "execute_result"
    }
   ],
   "source": [
    "#проверим, сколько уникальных покупателей в датасете\n",
    "len(df['customer_id'].value_counts())"
   ]
  },
  {
   "cell_type": "code",
   "execution_count": 22,
   "metadata": {},
   "outputs": [
    {
     "data": {
      "text/plain": [
       "33.532934131736525"
      ]
     },
     "execution_count": 22,
     "metadata": {},
     "output_type": "execute_result"
    }
   ],
   "source": [
    "#проверим,какой % покупателей участвует в программе лояльности\n",
    "members = df.query('loyalty_program == 1')['customer_id']\n",
    "members.nunique() / len(df['customer_id'].value_counts()) * 100"
   ]
  },
  {
   "cell_type": "code",
   "execution_count": 23,
   "metadata": {},
   "outputs": [
    {
     "data": {
      "text/plain": [
       "''"
      ]
     },
     "execution_count": 23,
     "metadata": {},
     "output_type": "execute_result"
    },
    {
     "data": {
      "image/png": "[encoded data removed]",
      "text/plain": [
       "<Figure size 864x432 with 1 Axes>"
      ]
     },
     "metadata": {},
     "output_type": "display_data"
    }
   ],
   "source": [
    "no_members = len(df['customer_id'].value_counts()) - members.nunique()\n",
    "df_group =  pd.DataFrame({'Группы': ['Участвуют в ПЛ', 'Не участвуют в ПЛ'], 'Количество': [members.nunique(), no_members]})\n",
    "df_group.groupby(['Группы']).sum().plot(kind='pie', y='Количество', autopct='%1.0f%%', colors = ['green', 'steelblue'], title='Распределение покупателей по группам')\n",
    ";"
   ]
  },
  {
   "cell_type": "markdown",
   "metadata": {},
   "source": [
    "<div class=\"alert alert-success\">\n",
    "    \n",
    "**Комментарий ревьюера**\n",
    "\n",
    "**#ок**\n",
    "\n",
    "Да, эта картина в целом согласуется с тестовым периодом программы лояльности\n",
    "</div>"
   ]
  },
  {
   "cell_type": "markdown",
   "metadata": {},
   "source": [
    "В программе лояльности участует 33,6% от общего количества покупателей."
   ]
  },
  {
   "cell_type": "code",
   "execution_count": 24,
   "metadata": {},
   "outputs": [],
   "source": [
    "#Создадим таблицу для расчета суммы покупки по каждому чеку\n",
    "average_check = df.groupby('purchase_id').agg({'amount_good' : 'sum'}).reset_index()\n",
    "average_check.columns = ['purchase_id', 'sum_check']"
   ]
  },
  {
   "cell_type": "code",
   "execution_count": 25,
   "metadata": {},
   "outputs": [
    {
     "data": {
      "image/png": "[encoded data removed]",
      "text/plain": [
       "<Figure size 864x432 with 1 Axes>"
      ]
     },
     "metadata": {
      "needs_background": "light"
     },
     "output_type": "display_data"
    }
   ],
   "source": [
    "#Построим график, показывающий распределение сумм покупок для анализа выбросов\n",
    "average_check.boxplot(column = 'sum_check')\n",
    "plt.ylabel('Сумма покупки')\n",
    "plt.title('Распределение сумм покупок')\n",
    "plt.show() "
   ]
  },
  {
   "cell_type": "markdown",
   "metadata": {},
   "source": [
    "<div class=\"alert alert-block alert-info\">\n",
    "На графике мы видим, что распределение сумм покупок довольно неоднородно. Чтобы получить более объективную картину, корректнее использовать для расчета чека медиану.\n",
    "</div>"
   ]
  },
  {
   "cell_type": "code",
   "execution_count": 26,
   "metadata": {},
   "outputs": [
    {
     "data": {
      "text/plain": [
       "325.8275000000001"
      ]
     },
     "execution_count": 26,
     "metadata": {},
     "output_type": "execute_result"
    }
   ],
   "source": [
    "#Посчитаем средний чек по всем покупкам. Т.к. данные крайне неоднородны, считаю целесообразным использовать для расчета медиану.\n",
    "average_check['sum_check'].median()"
   ]
  },
  {
   "cell_type": "markdown",
   "metadata": {},
   "source": [
    "Медианные данные показателя чека составляют 325р."
   ]
  },
  {
   "cell_type": "code",
   "execution_count": 27,
   "metadata": {},
   "outputs": [],
   "source": [
    "# Для расчета среднего количества товаров в каждом чеке создадим таблицу\n",
    "quantity_check = df.groupby('purchase_id').agg({'quantity' : 'sum'}).reset_index()\n",
    "quantity_check.columns = ['purchase_id', 'quantity_check']"
   ]
  },
  {
   "cell_type": "code",
   "execution_count": 28,
   "metadata": {},
   "outputs": [
    {
     "data": {
      "image/png": "[encoded data removed]",
      "text/plain": [
       "<Figure size 864x432 with 1 Axes>"
      ]
     },
     "metadata": {
      "needs_background": "light"
     },
     "output_type": "display_data"
    }
   ],
   "source": [
    "#Построим график, показывающий распределение количества товаров в чеке для анализа выбросов\n",
    "quantity_check.boxplot(column = 'quantity_check')\n",
    "plt.ylabel('Количество товаров в чеке')\n",
    "plt.title('Распределение количества товаров в чеке')\n",
    "plt.show() "
   ]
  },
  {
   "cell_type": "markdown",
   "metadata": {},
   "source": [
    "<div class=\"alert alert-block alert-info\">\n",
    "Здесь мы также видим неравномерное распределение количества товаров. Будем использовать медианное значение для расчета.\n",
    "</div>"
   ]
  },
  {
   "cell_type": "code",
   "execution_count": 29,
   "metadata": {},
   "outputs": [
    {
     "data": {
      "text/plain": [
       "110.0"
      ]
     },
     "execution_count": 29,
     "metadata": {},
     "output_type": "execute_result"
    }
   ],
   "source": [
    "#Посчитаем среднее количества товаров по всем покупкам.\n",
    "quantity_check['quantity_check'].median()"
   ]
  },
  {
   "cell_type": "markdown",
   "metadata": {},
   "source": [
    "<div class=\"alert alert-danger\">\n",
    "    \n",
    "**Комментарий ревьюера**\n",
    "\n",
    "**#ошибка**\n",
    "\n",
    "Давай определимся, что мы делаем с выбросамси и аномалиями. \n",
    "\n",
    "Не правильно, для каждого расчета заново делать какие-то фильтры. \n",
    "\n",
    "Если какие-то значения искажают общую картину и их нужно отбросить, то это нужно сделать один раз и далее анализировать чистые данные\n",
    "</div>"
   ]
  },
  {
   "cell_type": "markdown",
   "metadata": {},
   "source": [
    "<div class=\"alert alert-block alert-info\">\n",
    "Спасибо, Вера, перенесла работу с выбросами и аномалиями в предобработку. Выводы скорректировала.\n",
    "</div>"
   ]
  },
  {
   "cell_type": "markdown",
   "metadata": {},
   "source": [
    "<div class=\"alert alert-success\">\n",
    "    \n",
    "**Комментарий ревьюера - 2**\n",
    "\n",
    "**#ок**\n",
    "\n",
    "Хорошо, но в общем для фильтрации лучше использовать какие-то перцентили, а не абсолютные величины\n",
    "</div>"
   ]
  },
  {
   "cell_type": "markdown",
   "metadata": {},
   "source": [
    "В среднем в каждом чеке содержится 110 товаров."
   ]
  },
  {
   "cell_type": "code",
   "execution_count": 30,
   "metadata": {},
   "outputs": [
    {
     "data": {
      "text/plain": [
       "purchase_id    2.0\n",
       "dtype: float64"
      ]
     },
     "execution_count": 30,
     "metadata": {},
     "output_type": "execute_result"
    }
   ],
   "source": [
    "#cколько в среднем покупок приходится на одного покупателя\n",
    "number_purchases = round(df.groupby('customer_id').agg({'purchase_id': 'nunique'}).mean(),0)\n",
    "number_purchases"
   ]
  },
  {
   "cell_type": "markdown",
   "metadata": {},
   "source": [
    "В среднем каждый покупатель совершил 2 покупки в магазине."
   ]
  },
  {
   "cell_type": "markdown",
   "metadata": {},
   "source": [
    "**Вывод:**\n",
    "\n",
    "В датасете содержится информация о покупках 1669 клиентов магазина за период с 1 декабря 2016 года по 28 февраля 2017 года. \n",
    "\n",
    "33,6% из них являются участниками программы лояльности. \n",
    "\n",
    "Данные крайне неоднородны - вероятно, в магазине совершают покупки как оптовики, так и простые покупатели. Для того, чтобы снизить искажение показателей, для расчета среднего чека и количества товаров использована медиана. \n",
    "\n",
    "Медианный чек составляет 325р.\n",
    "\n",
    "Количество товаров в чеке 110шт.\n",
    "\n",
    "В среднем каждый покупатель совершает 2 покупки в магазине за исследуемый период.\n",
    "\n",
    "На следующем этапе проверим эти же показатели для каждой из групп покупателей - участвующих и не участвующих в программе лояльности.\n"
   ]
  },
  {
   "cell_type": "markdown",
   "metadata": {},
   "source": [
    "### Aнализ программы лояльности"
   ]
  },
  {
   "cell_type": "markdown",
   "metadata": {},
   "source": [
    "На данном этапе разделим покупателей на группы – «участвуют в программе лояльности» и «не участвуют в программе лояльности» и посчитаем для каждой группы средний чек, среднее количество товаров в чеке и среднее количество посещений магазина. "
   ]
  },
  {
   "cell_type": "code",
   "execution_count": 31,
   "metadata": {},
   "outputs": [],
   "source": [
    "# Разделим покупателей на 2 группы:\n",
    "group_loyal = df.query('loyalty_program == 1')\n",
    "group_disloyal = df.query('loyalty_program != 1')"
   ]
  },
  {
   "cell_type": "code",
   "execution_count": 32,
   "metadata": {},
   "outputs": [
    {
     "name": "stdout",
     "output_type": "stream",
     "text": [
      "Медианное значение чека у участников программы лояльности:  296.36\n",
      "Медианное значение чека у остальных покупателей:  351.27500000000003\n"
     ]
    }
   ],
   "source": [
    "#Создадим таблицу для расчета суммы покупки по каждому чеку. Посчитаем медиану.\n",
    "average_check_loyal = group_loyal.groupby('purchase_id').agg({'amount_good' : 'sum'}).reset_index()\n",
    "average_check_loyal.columns = ['purchase_id', 'sum_check']\n",
    "print('Медианное значение чека у участников программы лояльности: ', average_check_loyal['sum_check'].median())\n",
    "\n",
    "average_check_disloyal = group_disloyal.groupby('purchase_id').agg({'amount_good' : 'sum'}).reset_index()\n",
    "average_check_disloyal.columns = ['purchase_id', 'sum_check']\n",
    "print('Медианное значение чека у остальных покупателей: ', average_check_disloyal['sum_check'].median())"
   ]
  },
  {
   "cell_type": "code",
   "execution_count": 33,
   "metadata": {},
   "outputs": [
    {
     "data": {
      "image/png": "[encoded data removed]",
      "text/plain": [
       "<Figure size 864x432 with 1 Axes>"
      ]
     },
     "metadata": {
      "needs_background": "light"
     },
     "output_type": "display_data"
    }
   ],
   "source": [
    "df_average_check = pd.DataFrame({'group': ['loyal', 'disloyal'], 'average_check': [average_check_loyal['sum_check'].median(), average_check_disloyal['sum_check'].median()]})\n",
    "plt.title('Медианное значение чека по группам покупателей')\n",
    "sns.barplot(x = 'group', y = 'average_check', data=df_average_check).set(ylabel='Сумма чека', xlabel='Группа покупателей')\n",
    "plt.show()"
   ]
  },
  {
   "cell_type": "markdown",
   "metadata": {},
   "source": [
    "Медианное значение чека выше у группы покупателей, не участвующих в программе лояльности."
   ]
  },
  {
   "cell_type": "code",
   "execution_count": 34,
   "metadata": {},
   "outputs": [
    {
     "name": "stdout",
     "output_type": "stream",
     "text": [
      "Медианное значение количества товаров в чеке у участников программы лояльности:  97.0\n",
      "Медианное значение количества товаров в чеке у остальных покупателей:  117.0\n"
     ]
    }
   ],
   "source": [
    "# Для расчета среднего количества товаров в каждом чеке создадим таблицу. Посчитаем медиану.\n",
    "quantity_check_loyal = group_loyal.groupby('purchase_id').agg({'quantity' : 'sum'}).reset_index()\n",
    "quantity_check_loyal.columns = ['purchase_id', 'quantity_check']\n",
    "print('Медианное значение количества товаров в чеке у участников программы лояльности: ', quantity_check_loyal['quantity_check'].median())\n",
    "\n",
    "quantity_check_disloyal = group_disloyal.groupby('purchase_id').agg({'quantity' : 'sum'}).reset_index()\n",
    "quantity_check_disloyal.columns = ['purchase_id', 'quantity_check']\n",
    "print('Медианное значение количества товаров в чеке у остальных покупателей: ', quantity_check_disloyal['quantity_check'].median())"
   ]
  },
  {
   "cell_type": "code",
   "execution_count": 35,
   "metadata": {},
   "outputs": [
    {
     "data": {
      "image/png": "[encoded data removed]",
      "text/plain": [
       "<Figure size 864x432 with 1 Axes>"
      ]
     },
     "metadata": {
      "needs_background": "light"
     },
     "output_type": "display_data"
    }
   ],
   "source": [
    "df_average_check = pd.DataFrame({'group': ['loyal', 'disloyal'], 'quantity_check': [quantity_check_loyal['quantity_check'].median(), quantity_check_disloyal['quantity_check'].median()]})\n",
    "plt.title('Медианное значение количества товаров в чеке по группам покупателей')\n",
    "sns.barplot(x = 'group', y = 'quantity_check', data=df_average_check).set(ylabel='Количество товаров в чеке', xlabel='Группа покупателей')\n",
    "plt.show()"
   ]
  },
  {
   "cell_type": "markdown",
   "metadata": {},
   "source": [
    "Медианное значение количества товаров в чеке также выше у группы покупателей, не участвующих в программе лояльности."
   ]
  },
  {
   "cell_type": "code",
   "execution_count": 36,
   "metadata": {},
   "outputs": [
    {
     "name": "stdout",
     "output_type": "stream",
     "text": [
      "Среднее количество покупок у участников программы лояльности:  purchase_id    2.0\n",
      "dtype: float64\n",
      "Среднее количество покупок у остальных покупателей:  purchase_id    2.0\n",
      "dtype: float64\n"
     ]
    }
   ],
   "source": [
    "#cколько в среднем покупок приходится на одного покупателя\n",
    "number_purchases_loyal = round(group_loyal.groupby('customer_id').agg({'purchase_id': 'nunique'}).mean(),0)\n",
    "print('Среднее количество покупок у участников программы лояльности: ', number_purchases_loyal)\n",
    "\n",
    "number_purchases_disloyal = round(group_disloyal.groupby('customer_id').agg({'purchase_id': 'nunique'}).mean(),0)\n",
    "print('Среднее количество покупок у остальных покупателей: ', number_purchases_disloyal)"
   ]
  },
  {
   "cell_type": "markdown",
   "metadata": {},
   "source": [
    "<div class=\"alert alert-success\">\n",
    "    \n",
    "**Комментарий ревьюера**\n",
    "\n",
    "**#ок**\n",
    "\n",
    "Хорошо, средний чек и  количество товаров мы посмотрели.\n",
    "</div>"
   ]
  },
  {
   "cell_type": "markdown",
   "metadata": {},
   "source": [
    "<div class=\"alert alert-danger\">\n",
    "    \n",
    "**Комментарий ревьюера**\n",
    "\n",
    "**#ошибка**\n",
    "\n",
    "Но это очень скудный анализ получился.\n",
    "    \n",
    "Необходимо как минимум еще рассчитать LTV за 45 дней для двух групп и сравнить\n",
    "</div>"
   ]
  },
  {
   "cell_type": "markdown",
   "metadata": {},
   "source": [
    "<div class=\"alert alert-block alert-info\">\n",
    "Рассчитаем среднее значение LTV, а также среднее количество покупок для двух групп. Т.к. специфика строительного магазина такова, что покупатели совершают покупки не очень часто, в качестве горизонта анализа возьмем 45 дней. \n",
    "</div>"
   ]
  },
  {
   "cell_type": "code",
   "execution_count": 37,
   "metadata": {},
   "outputs": [
    {
     "data": {
      "text/html": [
       "<div>\n",
       "<style scoped>\n",
       "    .dataframe tbody tr th:only-of-type {\n",
       "        vertical-align: middle;\n",
       "    }\n",
       "\n",
       "    .dataframe tbody tr th {\n",
       "        vertical-align: top;\n",
       "    }\n",
       "\n",
       "    .dataframe thead th {\n",
       "        text-align: right;\n",
       "    }\n",
       "</style>\n",
       "<table border=\"1\" class=\"dataframe\">\n",
       "  <thead>\n",
       "    <tr style=\"text-align: right;\">\n",
       "      <th></th>\n",
       "      <th>purchase_id</th>\n",
       "      <th>sales</th>\n",
       "      <th>customer_id</th>\n",
       "      <th>purchase_date</th>\n",
       "    </tr>\n",
       "  </thead>\n",
       "  <tbody>\n",
       "    <tr>\n",
       "      <th>0</th>\n",
       "      <td>536365</td>\n",
       "      <td>186.515</td>\n",
       "      <td>23529.0</td>\n",
       "      <td>2016-12-01 08:26:00</td>\n",
       "    </tr>\n",
       "    <tr>\n",
       "      <th>1</th>\n",
       "      <td>536366</td>\n",
       "      <td>19.750</td>\n",
       "      <td>23529.0</td>\n",
       "      <td>2016-12-01 08:28:00</td>\n",
       "    </tr>\n",
       "    <tr>\n",
       "      <th>2</th>\n",
       "      <td>536372</td>\n",
       "      <td>19.750</td>\n",
       "      <td>23529.0</td>\n",
       "      <td>2016-12-01 09:01:00</td>\n",
       "    </tr>\n",
       "    <tr>\n",
       "      <th>3</th>\n",
       "      <td>536373</td>\n",
       "      <td>367.365</td>\n",
       "      <td>23529.0</td>\n",
       "      <td>2016-12-01 09:02:00</td>\n",
       "    </tr>\n",
       "    <tr>\n",
       "      <th>4</th>\n",
       "      <td>536375</td>\n",
       "      <td>367.365</td>\n",
       "      <td>23529.0</td>\n",
       "      <td>2016-12-01 09:32:00</td>\n",
       "    </tr>\n",
       "  </tbody>\n",
       "</table>\n",
       "</div>"
      ],
      "text/plain": [
       "  purchase_id    sales  customer_id       purchase_date\n",
       "0      536365  186.515      23529.0 2016-12-01 08:26:00\n",
       "1      536366   19.750      23529.0 2016-12-01 08:28:00\n",
       "2      536372   19.750      23529.0 2016-12-01 09:01:00\n",
       "3      536373  367.365      23529.0 2016-12-01 09:02:00\n",
       "4      536375  367.365      23529.0 2016-12-01 09:32:00"
      ]
     },
     "execution_count": 37,
     "metadata": {},
     "output_type": "execute_result"
    }
   ],
   "source": [
    "# Подготовим таблицу для расчета - добавим столбец с общей суммой покупки по чеку\n",
    "group_loyal = group_loyal.groupby('purchase_id').agg({'amount_good':'sum','customer_id':'min', 'purchase_date':'min'}).reset_index()\n",
    "group_loyal.rename(columns = {'amount_good':'sales'}, inplace = True )\n",
    "group_loyal.head()"
   ]
  },
  {
   "cell_type": "code",
   "execution_count": 38,
   "metadata": {},
   "outputs": [
    {
     "data": {
      "text/html": [
       "<div>\n",
       "<style scoped>\n",
       "    .dataframe tbody tr th:only-of-type {\n",
       "        vertical-align: middle;\n",
       "    }\n",
       "\n",
       "    .dataframe tbody tr th {\n",
       "        vertical-align: top;\n",
       "    }\n",
       "\n",
       "    .dataframe thead th {\n",
       "        text-align: right;\n",
       "    }\n",
       "</style>\n",
       "<table border=\"1\" class=\"dataframe\">\n",
       "  <thead>\n",
       "    <tr style=\"text-align: right;\">\n",
       "      <th></th>\n",
       "      <th>sum</th>\n",
       "      <th>count</th>\n",
       "    </tr>\n",
       "    <tr>\n",
       "      <th>customer_id</th>\n",
       "      <th></th>\n",
       "      <th></th>\n",
       "    </tr>\n",
       "  </thead>\n",
       "  <tbody>\n",
       "    <tr>\n",
       "      <th>22005.0</th>\n",
       "      <td>227.325</td>\n",
       "      <td>2</td>\n",
       "    </tr>\n",
       "    <tr>\n",
       "      <th>22006.0</th>\n",
       "      <td>2171.760</td>\n",
       "      <td>2</td>\n",
       "    </tr>\n",
       "    <tr>\n",
       "      <th>22011.0</th>\n",
       "      <td>108.775</td>\n",
       "      <td>1</td>\n",
       "    </tr>\n",
       "    <tr>\n",
       "      <th>22012.0</th>\n",
       "      <td>3316.660</td>\n",
       "      <td>3</td>\n",
       "    </tr>\n",
       "    <tr>\n",
       "      <th>22018.0</th>\n",
       "      <td>9.350</td>\n",
       "      <td>1</td>\n",
       "    </tr>\n",
       "  </tbody>\n",
       "</table>\n",
       "</div>"
      ],
      "text/plain": [
       "                  sum  count\n",
       "customer_id                 \n",
       "22005.0       227.325      2\n",
       "22006.0      2171.760      2\n",
       "22011.0       108.775      1\n",
       "22012.0      3316.660      3\n",
       "22018.0         9.350      1"
      ]
     },
     "execution_count": 38,
     "metadata": {},
     "output_type": "execute_result"
    }
   ],
   "source": [
    "# Теперь посчитаем количество покупок и выручку для каждого пользователя. Сгруппируем датафрейм по полю customer_id:\n",
    "orders_loyal = group_loyal.groupby('customer_id')['sales'].agg(['sum', 'count'])\n",
    "orders_loyal.head()"
   ]
  },
  {
   "cell_type": "code",
   "execution_count": 39,
   "metadata": {},
   "outputs": [
    {
     "data": {
      "text/plain": [
       "customer_id\n",
       "22005.0   2017-01-09 12:01:00\n",
       "22006.0   2016-12-05 12:43:00\n",
       "22011.0   2017-02-07 14:16:00\n",
       "22012.0   2017-02-03 10:50:00\n",
       "22018.0   2017-02-28 13:41:00\n",
       "Name: first_order, dtype: datetime64[ns]"
      ]
     },
     "execution_count": 39,
     "metadata": {},
     "output_type": "execute_result"
    }
   ],
   "source": [
    "# Чтобы построить когорты, найдем дату первого заказа. \n",
    "#Сгруппируем данные по customer_id и найдем минимальное значение поля purchase_date. \n",
    "#Результат сохраним в переменную first_orders\n",
    "first_orders = group_loyal.groupby('customer_id')['purchase_date'].min() \n",
    "first_orders.name = 'first_order'\n",
    "first_orders.head()"
   ]
  },
  {
   "cell_type": "code",
   "execution_count": 40,
   "metadata": {},
   "outputs": [
    {
     "data": {
      "text/html": [
       "<div>\n",
       "<style scoped>\n",
       "    .dataframe tbody tr th:only-of-type {\n",
       "        vertical-align: middle;\n",
       "    }\n",
       "\n",
       "    .dataframe tbody tr th {\n",
       "        vertical-align: top;\n",
       "    }\n",
       "\n",
       "    .dataframe thead th {\n",
       "        text-align: right;\n",
       "    }\n",
       "</style>\n",
       "<table border=\"1\" class=\"dataframe\">\n",
       "  <thead>\n",
       "    <tr style=\"text-align: right;\">\n",
       "      <th></th>\n",
       "      <th>purchase_id</th>\n",
       "      <th>sales</th>\n",
       "      <th>customer_id</th>\n",
       "      <th>purchase_date</th>\n",
       "      <th>first_order</th>\n",
       "    </tr>\n",
       "  </thead>\n",
       "  <tbody>\n",
       "    <tr>\n",
       "      <th>0</th>\n",
       "      <td>536365</td>\n",
       "      <td>186.515</td>\n",
       "      <td>23529.0</td>\n",
       "      <td>2016-12-01 08:26:00</td>\n",
       "      <td>2016-12-01 08:26:00</td>\n",
       "    </tr>\n",
       "    <tr>\n",
       "      <th>1</th>\n",
       "      <td>536366</td>\n",
       "      <td>19.750</td>\n",
       "      <td>23529.0</td>\n",
       "      <td>2016-12-01 08:28:00</td>\n",
       "      <td>2016-12-01 08:26:00</td>\n",
       "    </tr>\n",
       "    <tr>\n",
       "      <th>2</th>\n",
       "      <td>536372</td>\n",
       "      <td>19.750</td>\n",
       "      <td>23529.0</td>\n",
       "      <td>2016-12-01 09:01:00</td>\n",
       "      <td>2016-12-01 08:26:00</td>\n",
       "    </tr>\n",
       "    <tr>\n",
       "      <th>3</th>\n",
       "      <td>536373</td>\n",
       "      <td>367.365</td>\n",
       "      <td>23529.0</td>\n",
       "      <td>2016-12-01 09:02:00</td>\n",
       "      <td>2016-12-01 08:26:00</td>\n",
       "    </tr>\n",
       "    <tr>\n",
       "      <th>4</th>\n",
       "      <td>536375</td>\n",
       "      <td>367.365</td>\n",
       "      <td>23529.0</td>\n",
       "      <td>2016-12-01 09:32:00</td>\n",
       "      <td>2016-12-01 08:26:00</td>\n",
       "    </tr>\n",
       "  </tbody>\n",
       "</table>\n",
       "</div>"
      ],
      "text/plain": [
       "  purchase_id    sales  customer_id       purchase_date         first_order\n",
       "0      536365  186.515      23529.0 2016-12-01 08:26:00 2016-12-01 08:26:00\n",
       "1      536366   19.750      23529.0 2016-12-01 08:28:00 2016-12-01 08:26:00\n",
       "2      536372   19.750      23529.0 2016-12-01 09:01:00 2016-12-01 08:26:00\n",
       "3      536373  367.365      23529.0 2016-12-01 09:02:00 2016-12-01 08:26:00\n",
       "4      536375  367.365      23529.0 2016-12-01 09:32:00 2016-12-01 08:26:00"
      ]
     },
     "execution_count": 40,
     "metadata": {},
     "output_type": "execute_result"
    }
   ],
   "source": [
    "#Добавим дату первой покупки с помощью метода merge() и сохраним получившийся датафрейм в переменную orders_merged\n",
    "orders_merged = group_loyal.merge(first_orders, how='inner', left_on='customer_id', right_index=True)\n",
    "orders_merged.head()"
   ]
  },
  {
   "cell_type": "code",
   "execution_count": 41,
   "metadata": {},
   "outputs": [
    {
     "data": {
      "text/html": [
       "<div>\n",
       "<style scoped>\n",
       "    .dataframe tbody tr th:only-of-type {\n",
       "        vertical-align: middle;\n",
       "    }\n",
       "\n",
       "    .dataframe tbody tr th {\n",
       "        vertical-align: top;\n",
       "    }\n",
       "\n",
       "    .dataframe thead th {\n",
       "        text-align: right;\n",
       "    }\n",
       "</style>\n",
       "<table border=\"1\" class=\"dataframe\">\n",
       "  <thead>\n",
       "    <tr style=\"text-align: right;\">\n",
       "      <th></th>\n",
       "      <th></th>\n",
       "      <th>sum</th>\n",
       "      <th>count</th>\n",
       "    </tr>\n",
       "    <tr>\n",
       "      <th>first_order</th>\n",
       "      <th>purchase_date</th>\n",
       "      <th></th>\n",
       "      <th></th>\n",
       "    </tr>\n",
       "  </thead>\n",
       "  <tbody>\n",
       "    <tr>\n",
       "      <th rowspan=\"5\" valign=\"top\">2016-12-01 08:26:00</th>\n",
       "      <th>2016-12-01 08:26:00</th>\n",
       "      <td>186.515</td>\n",
       "      <td>1</td>\n",
       "    </tr>\n",
       "    <tr>\n",
       "      <th>2016-12-01 08:28:00</th>\n",
       "      <td>19.750</td>\n",
       "      <td>1</td>\n",
       "    </tr>\n",
       "    <tr>\n",
       "      <th>2016-12-01 09:01:00</th>\n",
       "      <td>19.750</td>\n",
       "      <td>1</td>\n",
       "    </tr>\n",
       "    <tr>\n",
       "      <th>2016-12-01 09:02:00</th>\n",
       "      <td>367.365</td>\n",
       "      <td>1</td>\n",
       "    </tr>\n",
       "    <tr>\n",
       "      <th>2016-12-01 09:32:00</th>\n",
       "      <td>367.365</td>\n",
       "      <td>1</td>\n",
       "    </tr>\n",
       "  </tbody>\n",
       "</table>\n",
       "</div>"
      ],
      "text/plain": [
       "                                             sum  count\n",
       "first_order         purchase_date                      \n",
       "2016-12-01 08:26:00 2016-12-01 08:26:00  186.515      1\n",
       "                    2016-12-01 08:28:00   19.750      1\n",
       "                    2016-12-01 09:01:00   19.750      1\n",
       "                    2016-12-01 09:02:00  367.365      1\n",
       "                    2016-12-01 09:32:00  367.365      1"
      ]
     },
     "execution_count": 41,
     "metadata": {},
     "output_type": "execute_result"
    }
   ],
   "source": [
    "#Агрегируем по дате первой покупки и посчитаем нужные показатели:\n",
    "orders_merged.groupby(['first_order','purchase_date'])['sales'].agg(['sum', 'count']).head()"
   ]
  },
  {
   "cell_type": "code",
   "execution_count": 42,
   "metadata": {},
   "outputs": [
    {
     "data": {
      "text/html": [
       "<div>\n",
       "<style scoped>\n",
       "    .dataframe tbody tr th:only-of-type {\n",
       "        vertical-align: middle;\n",
       "    }\n",
       "\n",
       "    .dataframe tbody tr th {\n",
       "        vertical-align: top;\n",
       "    }\n",
       "\n",
       "    .dataframe thead th {\n",
       "        text-align: right;\n",
       "    }\n",
       "</style>\n",
       "<table border=\"1\" class=\"dataframe\">\n",
       "  <thead>\n",
       "    <tr style=\"text-align: right;\">\n",
       "      <th></th>\n",
       "      <th>purchase_id</th>\n",
       "      <th>sales</th>\n",
       "      <th>customer_id</th>\n",
       "      <th>purchase_date</th>\n",
       "      <th>first_order</th>\n",
       "    </tr>\n",
       "  </thead>\n",
       "  <tbody>\n",
       "    <tr>\n",
       "      <th>0</th>\n",
       "      <td>536365</td>\n",
       "      <td>186.515</td>\n",
       "      <td>23529.0</td>\n",
       "      <td>2016-12-01 08:26:00</td>\n",
       "      <td>2016-12-01 08:26:00</td>\n",
       "    </tr>\n",
       "    <tr>\n",
       "      <th>1</th>\n",
       "      <td>536366</td>\n",
       "      <td>19.750</td>\n",
       "      <td>23529.0</td>\n",
       "      <td>2016-12-01 08:28:00</td>\n",
       "      <td>2016-12-01 08:26:00</td>\n",
       "    </tr>\n",
       "    <tr>\n",
       "      <th>2</th>\n",
       "      <td>536372</td>\n",
       "      <td>19.750</td>\n",
       "      <td>23529.0</td>\n",
       "      <td>2016-12-01 09:01:00</td>\n",
       "      <td>2016-12-01 08:26:00</td>\n",
       "    </tr>\n",
       "    <tr>\n",
       "      <th>3</th>\n",
       "      <td>536373</td>\n",
       "      <td>367.365</td>\n",
       "      <td>23529.0</td>\n",
       "      <td>2016-12-01 09:02:00</td>\n",
       "      <td>2016-12-01 08:26:00</td>\n",
       "    </tr>\n",
       "    <tr>\n",
       "      <th>4</th>\n",
       "      <td>536375</td>\n",
       "      <td>367.365</td>\n",
       "      <td>23529.0</td>\n",
       "      <td>2016-12-01 09:32:00</td>\n",
       "      <td>2016-12-01 08:26:00</td>\n",
       "    </tr>\n",
       "  </tbody>\n",
       "</table>\n",
       "</div>"
      ],
      "text/plain": [
       "  purchase_id    sales  customer_id       purchase_date         first_order\n",
       "0      536365  186.515      23529.0 2016-12-01 08:26:00 2016-12-01 08:26:00\n",
       "1      536366   19.750      23529.0 2016-12-01 08:28:00 2016-12-01 08:26:00\n",
       "2      536372   19.750      23529.0 2016-12-01 09:01:00 2016-12-01 08:26:00\n",
       "3      536373  367.365      23529.0 2016-12-01 09:02:00 2016-12-01 08:26:00\n",
       "4      536375  367.365      23529.0 2016-12-01 09:32:00 2016-12-01 08:26:00"
      ]
     },
     "execution_count": 42,
     "metadata": {},
     "output_type": "execute_result"
    }
   ],
   "source": [
    "#Посчитаем количество дней между покупками.\n",
    "day45_filter = orders_merged['purchase_date'] - orders_merged['first_order'] <= '45 days'\n",
    "#Отфильтруем покупки\n",
    "day45_orders = orders_merged[day45_filter]\n",
    "day45_orders.head()"
   ]
  },
  {
   "cell_type": "code",
   "execution_count": 43,
   "metadata": {},
   "outputs": [
    {
     "data": {
      "text/html": [
       "<div>\n",
       "<style scoped>\n",
       "    .dataframe tbody tr th:only-of-type {\n",
       "        vertical-align: middle;\n",
       "    }\n",
       "\n",
       "    .dataframe tbody tr th {\n",
       "        vertical-align: top;\n",
       "    }\n",
       "\n",
       "    .dataframe thead th {\n",
       "        text-align: right;\n",
       "    }\n",
       "</style>\n",
       "<table border=\"1\" class=\"dataframe\">\n",
       "  <thead>\n",
       "    <tr style=\"text-align: right;\">\n",
       "      <th></th>\n",
       "      <th></th>\n",
       "      <th>sum</th>\n",
       "      <th>count</th>\n",
       "    </tr>\n",
       "    <tr>\n",
       "      <th>first_order</th>\n",
       "      <th>purchase_date</th>\n",
       "      <th></th>\n",
       "      <th></th>\n",
       "    </tr>\n",
       "  </thead>\n",
       "  <tbody>\n",
       "    <tr>\n",
       "      <th rowspan=\"5\" valign=\"top\">2016-12-01 08:26:00</th>\n",
       "      <th>2016-12-01 08:26:00</th>\n",
       "      <td>186.515</td>\n",
       "      <td>1</td>\n",
       "    </tr>\n",
       "    <tr>\n",
       "      <th>2016-12-01 08:28:00</th>\n",
       "      <td>19.750</td>\n",
       "      <td>1</td>\n",
       "    </tr>\n",
       "    <tr>\n",
       "      <th>2016-12-01 09:01:00</th>\n",
       "      <td>19.750</td>\n",
       "      <td>1</td>\n",
       "    </tr>\n",
       "    <tr>\n",
       "      <th>2016-12-01 09:02:00</th>\n",
       "      <td>367.365</td>\n",
       "      <td>1</td>\n",
       "    </tr>\n",
       "    <tr>\n",
       "      <th>2016-12-01 09:32:00</th>\n",
       "      <td>367.365</td>\n",
       "      <td>1</td>\n",
       "    </tr>\n",
       "  </tbody>\n",
       "</table>\n",
       "</div>"
      ],
      "text/plain": [
       "                                             sum  count\n",
       "first_order         purchase_date                      \n",
       "2016-12-01 08:26:00 2016-12-01 08:26:00  186.515      1\n",
       "                    2016-12-01 08:28:00   19.750      1\n",
       "                    2016-12-01 09:01:00   19.750      1\n",
       "                    2016-12-01 09:02:00  367.365      1\n",
       "                    2016-12-01 09:32:00  367.365      1"
      ]
     },
     "execution_count": 43,
     "metadata": {},
     "output_type": "execute_result"
    }
   ],
   "source": [
    "#Теперь сгруппируем заказы по дате первой покупки и посчитаем нужные метрики. Результат сохраним в переменную cohorts:\n",
    "cohorts = day45_orders.groupby(['first_order','purchase_date'])['sales'].agg(['sum', 'count'])\n",
    "cohorts.head()"
   ]
  },
  {
   "cell_type": "code",
   "execution_count": 44,
   "metadata": {},
   "outputs": [
    {
     "data": {
      "text/plain": [
       "sum      831.807446\n",
       "count      1.644404\n",
       "dtype: float64"
      ]
     },
     "execution_count": 44,
     "metadata": {},
     "output_type": "execute_result"
    }
   ],
   "source": [
    "#Посчитаем, сколько в среднем заказов и приносят клиенты \n",
    "#в течение 45 дней. Для этого сначала просуммируем показатели каждой когорты, а затем усредним значения методом mean():\n",
    "cohorts.groupby('first_order').sum().mean()"
   ]
  },
  {
   "cell_type": "markdown",
   "metadata": {},
   "source": [
    "В среднем покупатели, участвующие в программе лояльности, в течение 45 дней тратят 832 рубля. и совершают 1,6 покупок. \n",
    "<div class=\"alert alert-block alert-info\">\n",
    "При этом покупатели, участвующие в программе лояльности, также оплачивают доступ в размере 200р. в месяц. Т.к. мы исследуем данные за 45 дней, корректно будет добавить к тратам 400р. Итого эта группа тратит в среднем 1232р. за 45 дней.\n",
    "</div>\n",
    "Проверим данные для другой группы покупателей - не участвующих в программе лояльности. Для начала удалим покупателей без id."
   ]
  },
  {
   "cell_type": "code",
   "execution_count": 45,
   "metadata": {},
   "outputs": [],
   "source": [
    "group_disloyal = group_disloyal.query('customer_id != 0')"
   ]
  },
  {
   "cell_type": "code",
   "execution_count": 46,
   "metadata": {},
   "outputs": [
    {
     "data": {
      "text/html": [
       "<div>\n",
       "<style scoped>\n",
       "    .dataframe tbody tr th:only-of-type {\n",
       "        vertical-align: middle;\n",
       "    }\n",
       "\n",
       "    .dataframe tbody tr th {\n",
       "        vertical-align: top;\n",
       "    }\n",
       "\n",
       "    .dataframe thead th {\n",
       "        text-align: right;\n",
       "    }\n",
       "</style>\n",
       "<table border=\"1\" class=\"dataframe\">\n",
       "  <thead>\n",
       "    <tr style=\"text-align: right;\">\n",
       "      <th></th>\n",
       "      <th>purchase_id</th>\n",
       "      <th>sales</th>\n",
       "      <th>customer_id</th>\n",
       "      <th>purchase_date</th>\n",
       "    </tr>\n",
       "  </thead>\n",
       "  <tbody>\n",
       "    <tr>\n",
       "      <th>0</th>\n",
       "      <td>536367</td>\n",
       "      <td>285.395</td>\n",
       "      <td>18726.0</td>\n",
       "      <td>2016-12-01 08:34:00</td>\n",
       "    </tr>\n",
       "    <tr>\n",
       "      <th>1</th>\n",
       "      <td>536368</td>\n",
       "      <td>96.090</td>\n",
       "      <td>18726.0</td>\n",
       "      <td>2016-12-01 08:34:00</td>\n",
       "    </tr>\n",
       "    <tr>\n",
       "      <th>2</th>\n",
       "      <td>536369</td>\n",
       "      <td>13.200</td>\n",
       "      <td>18726.0</td>\n",
       "      <td>2016-12-01 08:35:00</td>\n",
       "    </tr>\n",
       "    <tr>\n",
       "      <th>3</th>\n",
       "      <td>536370</td>\n",
       "      <td>1261.270</td>\n",
       "      <td>18262.0</td>\n",
       "      <td>2016-12-01 08:45:00</td>\n",
       "    </tr>\n",
       "    <tr>\n",
       "      <th>4</th>\n",
       "      <td>536371</td>\n",
       "      <td>462.150</td>\n",
       "      <td>19427.0</td>\n",
       "      <td>2016-12-01 09:00:00</td>\n",
       "    </tr>\n",
       "  </tbody>\n",
       "</table>\n",
       "</div>"
      ],
      "text/plain": [
       "  purchase_id     sales customer_id       purchase_date\n",
       "0      536367   285.395     18726.0 2016-12-01 08:34:00\n",
       "1      536368    96.090     18726.0 2016-12-01 08:34:00\n",
       "2      536369    13.200     18726.0 2016-12-01 08:35:00\n",
       "3      536370  1261.270     18262.0 2016-12-01 08:45:00\n",
       "4      536371   462.150     19427.0 2016-12-01 09:00:00"
      ]
     },
     "execution_count": 46,
     "metadata": {},
     "output_type": "execute_result"
    }
   ],
   "source": [
    "# Подготовим таблицу для расчета - добавим столбец с общей суммой покупки по чеку\n",
    "group_disloyal = group_disloyal.groupby('purchase_id').agg({'amount_good':'sum','customer_id':'min', 'purchase_date':'min'}).reset_index()\n",
    "group_disloyal.rename(columns = {'amount_good':'sales'}, inplace = True )\n",
    "group_disloyal.head()"
   ]
  },
  {
   "cell_type": "code",
   "execution_count": 47,
   "metadata": {},
   "outputs": [
    {
     "data": {
      "text/html": [
       "<div>\n",
       "<style scoped>\n",
       "    .dataframe tbody tr th:only-of-type {\n",
       "        vertical-align: middle;\n",
       "    }\n",
       "\n",
       "    .dataframe tbody tr th {\n",
       "        vertical-align: top;\n",
       "    }\n",
       "\n",
       "    .dataframe thead th {\n",
       "        text-align: right;\n",
       "    }\n",
       "</style>\n",
       "<table border=\"1\" class=\"dataframe\">\n",
       "  <thead>\n",
       "    <tr style=\"text-align: right;\">\n",
       "      <th></th>\n",
       "      <th>sum</th>\n",
       "      <th>count</th>\n",
       "    </tr>\n",
       "    <tr>\n",
       "      <th>customer_id</th>\n",
       "      <th></th>\n",
       "      <th></th>\n",
       "    </tr>\n",
       "  </thead>\n",
       "  <tbody>\n",
       "    <tr>\n",
       "      <th>18026.0</th>\n",
       "      <td>1736.520</td>\n",
       "      <td>2</td>\n",
       "    </tr>\n",
       "    <tr>\n",
       "      <th>18027.0</th>\n",
       "      <td>2004.205</td>\n",
       "      <td>2</td>\n",
       "    </tr>\n",
       "    <tr>\n",
       "      <th>18029.0</th>\n",
       "      <td>386.180</td>\n",
       "      <td>1</td>\n",
       "    </tr>\n",
       "    <tr>\n",
       "      <th>18031.0</th>\n",
       "      <td>390.170</td>\n",
       "      <td>1</td>\n",
       "    </tr>\n",
       "    <tr>\n",
       "      <th>18035.0</th>\n",
       "      <td>3559.810</td>\n",
       "      <td>1</td>\n",
       "    </tr>\n",
       "  </tbody>\n",
       "</table>\n",
       "</div>"
      ],
      "text/plain": [
       "                  sum  count\n",
       "customer_id                 \n",
       "18026.0      1736.520      2\n",
       "18027.0      2004.205      2\n",
       "18029.0       386.180      1\n",
       "18031.0       390.170      1\n",
       "18035.0      3559.810      1"
      ]
     },
     "execution_count": 47,
     "metadata": {},
     "output_type": "execute_result"
    }
   ],
   "source": [
    "# Теперь посчитаем количество покупок и выручку для каждого пользователя. Сгруппируем датафрейм по полю customer_id:\n",
    "orders_disloyal = group_disloyal.groupby('customer_id')['sales'].agg(['sum', 'count'])\n",
    "orders_disloyal.head()"
   ]
  },
  {
   "cell_type": "code",
   "execution_count": 48,
   "metadata": {},
   "outputs": [
    {
     "data": {
      "text/plain": [
       "customer_id\n",
       "18026.0   2016-12-07 14:57:00\n",
       "18027.0   2016-12-16 19:09:00\n",
       "18029.0   2017-02-02 16:01:00\n",
       "18031.0   2017-02-16 12:33:00\n",
       "18035.0   2017-01-18 09:50:00\n",
       "Name: first_order, dtype: datetime64[ns]"
      ]
     },
     "execution_count": 48,
     "metadata": {},
     "output_type": "execute_result"
    }
   ],
   "source": [
    "# Чтобы построить когорты, найдем дату первого заказа. \n",
    "#Сгруппируем данные по customer_id и найдем минимальное значение поля purchase_date. \n",
    "#Результат сохраним в переменную first_orders\n",
    "first_orders_disloyal = group_disloyal.groupby('customer_id')['purchase_date'].min() \n",
    "first_orders_disloyal.name = 'first_order'\n",
    "first_orders_disloyal.head()"
   ]
  },
  {
   "cell_type": "code",
   "execution_count": 49,
   "metadata": {},
   "outputs": [],
   "source": [
    "#Добавим дату первой покупки с помощью метода merge() и сохраним получившийся датафрейм в переменную orders_merged_disloyal\n",
    "orders_merged_disloyal = group_disloyal.merge(first_orders_disloyal, how='inner', left_on='customer_id', right_index=True)"
   ]
  },
  {
   "cell_type": "code",
   "execution_count": 50,
   "metadata": {},
   "outputs": [
    {
     "data": {
      "text/html": [
       "<div>\n",
       "<style scoped>\n",
       "    .dataframe tbody tr th:only-of-type {\n",
       "        vertical-align: middle;\n",
       "    }\n",
       "\n",
       "    .dataframe tbody tr th {\n",
       "        vertical-align: top;\n",
       "    }\n",
       "\n",
       "    .dataframe thead th {\n",
       "        text-align: right;\n",
       "    }\n",
       "</style>\n",
       "<table border=\"1\" class=\"dataframe\">\n",
       "  <thead>\n",
       "    <tr style=\"text-align: right;\">\n",
       "      <th></th>\n",
       "      <th></th>\n",
       "      <th>sum</th>\n",
       "      <th>count</th>\n",
       "    </tr>\n",
       "    <tr>\n",
       "      <th>first_order</th>\n",
       "      <th>purchase_date</th>\n",
       "      <th></th>\n",
       "      <th></th>\n",
       "    </tr>\n",
       "  </thead>\n",
       "  <tbody>\n",
       "    <tr>\n",
       "      <th rowspan=\"3\" valign=\"top\">2016-12-01 08:34:00</th>\n",
       "      <th>2016-12-01 08:34:00</th>\n",
       "      <td>381.485</td>\n",
       "      <td>2</td>\n",
       "    </tr>\n",
       "    <tr>\n",
       "      <th>2016-12-01 08:35:00</th>\n",
       "      <td>13.200</td>\n",
       "      <td>1</td>\n",
       "    </tr>\n",
       "    <tr>\n",
       "      <th>2017-02-03 13:06:00</th>\n",
       "      <td>483.620</td>\n",
       "      <td>1</td>\n",
       "    </tr>\n",
       "    <tr>\n",
       "      <th rowspan=\"2\" valign=\"top\">2016-12-01 08:45:00</th>\n",
       "      <th>2016-12-01 08:45:00</th>\n",
       "      <td>1261.270</td>\n",
       "      <td>1</td>\n",
       "    </tr>\n",
       "    <tr>\n",
       "      <th>2017-01-07 12:07:00</th>\n",
       "      <td>1275.750</td>\n",
       "      <td>1</td>\n",
       "    </tr>\n",
       "  </tbody>\n",
       "</table>\n",
       "</div>"
      ],
      "text/plain": [
       "                                              sum  count\n",
       "first_order         purchase_date                       \n",
       "2016-12-01 08:34:00 2016-12-01 08:34:00   381.485      2\n",
       "                    2016-12-01 08:35:00    13.200      1\n",
       "                    2017-02-03 13:06:00   483.620      1\n",
       "2016-12-01 08:45:00 2016-12-01 08:45:00  1261.270      1\n",
       "                    2017-01-07 12:07:00  1275.750      1"
      ]
     },
     "execution_count": 50,
     "metadata": {},
     "output_type": "execute_result"
    }
   ],
   "source": [
    "#Агрегируем по дате первой покупки и посчитаем нужные показатели:\n",
    "orders_merged_disloyal.groupby(['first_order','purchase_date'])['sales'].agg(['sum', 'count']).head()"
   ]
  },
  {
   "cell_type": "code",
   "execution_count": 51,
   "metadata": {},
   "outputs": [],
   "source": [
    "#Посчитаем количество дней между покупками.\n",
    "day45_filter_disloyal = orders_merged_disloyal['purchase_date'] - orders_merged_disloyal['first_order'] <= '45 days'\n",
    "#Отфильтруем покупки\n",
    "day45_orders_disloyal = orders_merged_disloyal[day45_filter_disloyal]"
   ]
  },
  {
   "cell_type": "code",
   "execution_count": 52,
   "metadata": {},
   "outputs": [
    {
     "data": {
      "text/plain": [
       "sum      1250.909559\n",
       "count       1.840993\n",
       "dtype: float64"
      ]
     },
     "execution_count": 52,
     "metadata": {},
     "output_type": "execute_result"
    }
   ],
   "source": [
    "#Теперь сгруппируем заказы по дате первой покупки и посчитаем нужные метрики. Результат сохраним в переменную cohorts:\n",
    "cohorts_disloyal = day45_orders_disloyal.groupby(['first_order','purchase_date'])['sales'].agg(['sum', 'count'])\n",
    "#Посчитаем, сколько в среднем заказов и приносят клиенты \n",
    "#в течение 45 дней. Для этого сначала просуммируем показатели каждой когорты, а затем усредним значения методом mean():\n",
    "cohorts_disloyal.groupby('first_order').sum().mean()"
   ]
  },
  {
   "cell_type": "markdown",
   "metadata": {},
   "source": [
    "Покупатели, не участвующие в программе лояльности, в среднем совершают 1,8 покупок за 45 дней на сумму 1251р."
   ]
  },
  {
   "cell_type": "markdown",
   "metadata": {},
   "source": [
    "**Вывод:**\n",
    "\n",
    "На данном шаге мы разделили всех покупателей на группы для исследования работы программы лояльности.\n",
    "\n",
    "По результатам можно сказать, что программа лояльности требует существенных доработок, т.к. группа покупателей - участников имеет более низкий чек, меньшее количество товаров в чеке и при этом посещает магазин с такой же часто, как и те покупатели, которые в программе не участвуют.\n",
    "<div class=\"alert alert-block alert-info\">\n",
    "Анализ LTV за 45 дней и среднего количества посещений за 45 дней по когортам показал, что группа покупателей - участников программы лояльности также проигрывает второй группе и по сумме покупок, и по количеству чеков даже с учетом платы за доступ к программе.\n",
    "</div>\n",
    "\n",
    "\n",
    "На следующем этапе проверим сделанные выводы с помощью статистических гипотез."
   ]
  },
  {
   "cell_type": "markdown",
   "metadata": {},
   "source": [
    "<div class=\"alert alert-danger\">\n",
    "    \n",
    "**Комментарий ревьюера - 2**\n",
    "\n",
    "**#ошибка**\n",
    "\n",
    "При анализе LTV нужно учесть, что участие в программе лояльности платное 200 р  в месяц, это тоже относится к общей выручке от покупателя\n",
    "</div>"
   ]
  },
  {
   "cell_type": "markdown",
   "metadata": {},
   "source": [
    "<div class=\"alert alert-block alert-info\">\n",
    "Спасибо! Учла!\n",
    "</div>"
   ]
  },
  {
   "cell_type": "markdown",
   "metadata": {},
   "source": [
    "### Проверка статистических гипотез"
   ]
  },
  {
   "cell_type": "markdown",
   "metadata": {},
   "source": [
    "Т.к. нашей целью является рост выручки, сделаем акцент на двух параметрах – количестве денег, которые приносят покупатели, и росте количества чеков. В качестве исследуемого периода возьмем первый месяц исследования - декабрь 2016.\n",
    "\n",
    "Гипотезы будем проверять с помощью критерия Манна- Уитни, так как в данных есть большое количество выбросов, сильно сдвигающих параметрические результаты."
   ]
  },
  {
   "cell_type": "code",
   "execution_count": 53,
   "metadata": {},
   "outputs": [
    {
     "data": {
      "text/html": [
       "<div>\n",
       "<style scoped>\n",
       "    .dataframe tbody tr th:only-of-type {\n",
       "        vertical-align: middle;\n",
       "    }\n",
       "\n",
       "    .dataframe tbody tr th {\n",
       "        vertical-align: top;\n",
       "    }\n",
       "\n",
       "    .dataframe thead th {\n",
       "        text-align: right;\n",
       "    }\n",
       "</style>\n",
       "<table border=\"1\" class=\"dataframe\">\n",
       "  <thead>\n",
       "    <tr style=\"text-align: right;\">\n",
       "      <th></th>\n",
       "      <th>loyalty_program</th>\n",
       "      <th>customer_id</th>\n",
       "      <th>number_visits</th>\n",
       "      <th>revenue</th>\n",
       "    </tr>\n",
       "  </thead>\n",
       "  <tbody>\n",
       "    <tr>\n",
       "      <th>0</th>\n",
       "      <td>False</td>\n",
       "      <td>18026.0</td>\n",
       "      <td>2</td>\n",
       "      <td>1736.520</td>\n",
       "    </tr>\n",
       "    <tr>\n",
       "      <th>1</th>\n",
       "      <td>False</td>\n",
       "      <td>18027.0</td>\n",
       "      <td>2</td>\n",
       "      <td>2004.205</td>\n",
       "    </tr>\n",
       "    <tr>\n",
       "      <th>2</th>\n",
       "      <td>False</td>\n",
       "      <td>18029.0</td>\n",
       "      <td>1</td>\n",
       "      <td>386.180</td>\n",
       "    </tr>\n",
       "    <tr>\n",
       "      <th>3</th>\n",
       "      <td>False</td>\n",
       "      <td>18031.0</td>\n",
       "      <td>1</td>\n",
       "      <td>390.170</td>\n",
       "    </tr>\n",
       "    <tr>\n",
       "      <th>4</th>\n",
       "      <td>False</td>\n",
       "      <td>18035.0</td>\n",
       "      <td>1</td>\n",
       "      <td>3559.810</td>\n",
       "    </tr>\n",
       "  </tbody>\n",
       "</table>\n",
       "</div>"
      ],
      "text/plain": [
       "   loyalty_program customer_id  number_visits   revenue\n",
       "0            False     18026.0              2  1736.520\n",
       "1            False     18027.0              2  2004.205\n",
       "2            False     18029.0              1   386.180\n",
       "3            False     18031.0              1   390.170\n",
       "4            False     18035.0              1  3559.810"
      ]
     },
     "execution_count": 53,
     "metadata": {},
     "output_type": "execute_result"
    }
   ],
   "source": [
    "# Получим срез данных по дате\n",
    "df_stat = df.query(\"purchase_date >= '2016-12-31'\")\n",
    "# Объединим необходимую информацию в одну таблицу\n",
    "df_stat = df.groupby(['loyalty_program', 'customer_id']) \\\n",
    "                .agg({'purchase_id': 'nunique', 'amount_good': 'sum'}) \\\n",
    "                .reset_index()\n",
    "df_stat.rename({'purchase_id': 'number_visits', 'amount_good': 'revenue'}, axis=1, inplace= True)\n",
    "df_stat.head()"
   ]
  },
  {
   "cell_type": "markdown",
   "metadata": {},
   "source": [
    "<div class=\"alert alert-block alert-info\">\n",
    "Так как группа участников программы лояльности также платит 200р в месяц за доступ к программе, добавим всем участникам +200р. в столбец с выручкой.\n",
    "</div>"
   ]
  },
  {
   "cell_type": "code",
   "execution_count": 54,
   "metadata": {},
   "outputs": [
    {
     "data": {
      "text/html": [
       "<div>\n",
       "<style scoped>\n",
       "    .dataframe tbody tr th:only-of-type {\n",
       "        vertical-align: middle;\n",
       "    }\n",
       "\n",
       "    .dataframe tbody tr th {\n",
       "        vertical-align: top;\n",
       "    }\n",
       "\n",
       "    .dataframe thead th {\n",
       "        text-align: right;\n",
       "    }\n",
       "</style>\n",
       "<table border=\"1\" class=\"dataframe\">\n",
       "  <thead>\n",
       "    <tr style=\"text-align: right;\">\n",
       "      <th></th>\n",
       "      <th>loyalty_program</th>\n",
       "      <th>customer_id</th>\n",
       "      <th>number_visits</th>\n",
       "      <th>revenue</th>\n",
       "    </tr>\n",
       "  </thead>\n",
       "  <tbody>\n",
       "    <tr>\n",
       "      <th>0</th>\n",
       "      <td>False</td>\n",
       "      <td>18026.0</td>\n",
       "      <td>2</td>\n",
       "      <td>1736.520</td>\n",
       "    </tr>\n",
       "    <tr>\n",
       "      <th>1</th>\n",
       "      <td>False</td>\n",
       "      <td>18027.0</td>\n",
       "      <td>2</td>\n",
       "      <td>2004.205</td>\n",
       "    </tr>\n",
       "    <tr>\n",
       "      <th>2</th>\n",
       "      <td>False</td>\n",
       "      <td>18029.0</td>\n",
       "      <td>1</td>\n",
       "      <td>386.180</td>\n",
       "    </tr>\n",
       "    <tr>\n",
       "      <th>3</th>\n",
       "      <td>False</td>\n",
       "      <td>18031.0</td>\n",
       "      <td>1</td>\n",
       "      <td>390.170</td>\n",
       "    </tr>\n",
       "    <tr>\n",
       "      <th>4</th>\n",
       "      <td>False</td>\n",
       "      <td>18035.0</td>\n",
       "      <td>1</td>\n",
       "      <td>3559.810</td>\n",
       "    </tr>\n",
       "  </tbody>\n",
       "</table>\n",
       "</div>"
      ],
      "text/plain": [
       "   loyalty_program customer_id  number_visits   revenue\n",
       "0            False     18026.0              2  1736.520\n",
       "1            False     18027.0              2  2004.205\n",
       "2            False     18029.0              1   386.180\n",
       "3            False     18031.0              1   390.170\n",
       "4            False     18035.0              1  3559.810"
      ]
     },
     "execution_count": 54,
     "metadata": {},
     "output_type": "execute_result"
    }
   ],
   "source": [
    "df_stat.loc[df_stat['loyalty_program'] == True, 'revenue'] = df_stat['revenue'] + 200\n",
    "df_stat.head()"
   ]
  },
  {
   "cell_type": "code",
   "execution_count": 55,
   "metadata": {},
   "outputs": [
    {
     "name": "stdout",
     "output_type": "stream",
     "text": [
      "Критический уровень статистической значимости 0.05\n",
      "Значение p-value для сравнения выручки 0.00000\n",
      "Отвергаем нулевую гипотезу: есть статистически значимые различия в выручке\n"
     ]
    }
   ],
   "source": [
    "alpha = 0.05\n",
    "print('Критический уровень статистической значимости', alpha)\n",
    "\n",
    "sample = df_stat.pivot_table(index=df_stat.index, values='revenue', columns='loyalty_program')\n",
    "p_value = stats.mannwhitneyu(sample[0].dropna(), sample[1].dropna())[1]\n",
    "print(\"Значение p-value для сравнения выручки {0:.5f}\".format(p_value))\n",
    "\n",
    "if p_value < alpha:\n",
    "    print('Отвергаем нулевую гипотезу: есть статистически значимые различия в выручке')\n",
    "else:\n",
    "    print('Не получилось отвергнуть нулевую гипотезу о том, что статистически значимых различий в выручке нет')"
   ]
  },
  {
   "cell_type": "markdown",
   "metadata": {},
   "source": [
    "<div class=\"alert alert-block alert-info\">\n",
    "Покупатели из двух групп совершают покупки на разные суммы.\n",
    "</div>"
   ]
  },
  {
   "cell_type": "markdown",
   "metadata": {},
   "source": [
    "<div class=\"alert alert-danger\">\n",
    "    \n",
    "**Комментарий ревьюера - 2**\n",
    "\n",
    "**#ошибка**\n",
    "\n",
    "1. Опять же если мы говорим о выручке от **покупателя**, то нужно учитывать стоимость участия в программе\n",
    "    \n",
    "2. Выводы как-то противореяат полученному результату\n",
    "</div>"
   ]
  },
  {
   "cell_type": "markdown",
   "metadata": {},
   "source": [
    "<div class=\"alert alert-block alert-info\">\n",
    "Добавила стоимость участия, выводы скорректировала.\n",
    "</div>"
   ]
  },
  {
   "cell_type": "markdown",
   "metadata": {},
   "source": [
    "**Проверим вторую гипотезу:**\n",
    "\n",
    "\"Покупатели - участники программы лояльности совершают покупки чаще, чем не участвующие\";\n",
    "\n",
    "H_0: Среднее количество чеков покупателей - участников ПЛ в декабре = Среднему количеству чеков прочих покупателей в декабре\n",
    "\n",
    "H_1: Среднее количество чеков покупателей - участников ПЛ в декабре ≠  Среднему количеству чеков прочих покупателей в декабре\n",
    "\n",
    "alpha = 0.05"
   ]
  },
  {
   "cell_type": "markdown",
   "metadata": {},
   "source": [
    "<div class=\"alert alert-danger\">\n",
    "    \n",
    "**Комментарий ревьюера - 2**\n",
    "\n",
    "**#ошибка**\n",
    "\n",
    "Так и напиши в гипотезе среднее количество чеков(покупок).\n",
    "\n",
    "Что такое частота визитов? Как мы вообще можем визиты по нашим данным посмотреть?\n",
    "</div>"
   ]
  },
  {
   "cell_type": "markdown",
   "metadata": {},
   "source": [
    "<div class=\"alert alert-block alert-info\">\n",
    "Исправила! Частоту визитов не можем посмотреть, т.к. не любой визит заканчивается покупкой. Разницу поняла)\n",
    "</div>"
   ]
  },
  {
   "cell_type": "code",
   "execution_count": 56,
   "metadata": {},
   "outputs": [
    {
     "name": "stdout",
     "output_type": "stream",
     "text": [
      "Критический уровень статистической значимости 0.05\n",
      "Значение p-value для сравнения количества чеков 0.02868\n",
      "Отвергаем нулевую гипотезу: есть статистически значимые различия в среднем количестве чеков \n"
     ]
    }
   ],
   "source": [
    "alpha = 0.05\n",
    "print('Критический уровень статистической значимости', alpha)\n",
    "\n",
    "sample = df_stat.pivot_table(index=df_stat.index, values='number_visits', columns='loyalty_program')\n",
    "\n",
    "p_value = stats.mannwhitneyu(sample[0].dropna(), sample[1].dropna())[1]\n",
    "print(\"Значение p-value для сравнения количества чеков {0:.5f}\".format(p_value))\n",
    "\n",
    "if (p_value < alpha):\n",
    "    print(\"Отвергаем нулевую гипотезу: есть статистически значимые различия в среднем количестве чеков \")\n",
    "else:\n",
    "    print(\"Не получилось отвергнуть нулевую гипотезу о том, что статистически значимых различий в среднем количестве чеков нет\")"
   ]
  },
  {
   "cell_type": "markdown",
   "metadata": {},
   "source": [
    "<div class=\"alert alert-block alert-info\">\n",
    "Покупатели из двух групп посещают магазин с разной частотой.\n",
    "</div>"
   ]
  },
  {
   "cell_type": "markdown",
   "metadata": {},
   "source": [
    "<div class=\"alert alert-danger\">\n",
    "    \n",
    "**Комментарий ревьюера - 2**\n",
    "\n",
    "**#ошибка**\n",
    "\n",
    "И опять же выводы не соответствуют полученным результата.\n",
    "\n",
    "И не придумывай каких-то сложных терминов, тебя не правильно поймут. Периодичность посещений - это время между походами в магазин. Ты смотришь количество чеков, так и пиши\n",
    "</div>"
   ]
  },
  {
   "cell_type": "markdown",
   "metadata": {},
   "source": [
    "<div class=\"alert alert-success\">\n",
    "    \n",
    "**Комментарий ревьюера**\n",
    "\n",
    "**#ок**\n",
    "\n",
    "Гипотезы сформулированы и проверены правильно\n",
    "</div>"
   ]
  },
  {
   "cell_type": "markdown",
   "metadata": {},
   "source": [
    "<div class=\"alert alert-danger\">\n",
    "    \n",
    "**Комментарий ревьюера**\n",
    "\n",
    "**#ошибка**\n",
    "\n",
    "Но \n",
    "    \n",
    "1. Мы проверяем равенство средних, т.е. в гипотезах это нужно указать, не просто выручка и частота, а именно средние покзатели двух групп\n",
    "    \n",
    "2. Давай посмотрим на эти средние показатели, какие они, как отличаются\n",
    "    \n",
    "3. Давай сделаем какие-то существенные выводы из проверки гипотез, чтобы было понятно, почему мы именно эти гипотезы проверяли и как это повлияет на нашу задачу, на бизнес в целом\n",
    "</div>"
   ]
  },
  {
   "cell_type": "markdown",
   "metadata": {},
   "source": [
    "<div class=\"alert alert-block alert-info\">\n",
    "Спасибо! Формулировки исправила, выводы добавляю.\n",
    "</div>"
   ]
  },
  {
   "cell_type": "markdown",
   "metadata": {},
   "source": [
    "<div class=\"alert alert-block alert-info\">\n",
    "Вывод:\n",
    "    \n",
    "Программа лояльности введена в магазине для того, чтобы повышать выручку. Согласно имеющейся информации за 200р. в месяц покупатели получают доступ к скидкам и спец. предложениям. \n",
    "    \n",
    " На мой взгляд, программа лояльности может сработать в нескольких направлениях:\n",
    "- участники программы лояльности будут совершать более крупные покупки (т.е. вырастет total cost)\n",
    "- участники программы лояльности будут совершать покупки на ту же сумму, но при этом будут чаще посещать магазин (т.е. вырастет среднее количество посещений).\n",
    "    \n",
    " Исходя из этой идеи было проверено две гипотезы - о равенстве средних чеков и среднем количестве чеков между покупателями, участвующими и не участвующими в программе лояльности. В качестве периода исследования выбран первый месяц - декабрь.\n",
    "    \n",
    "Проверка гипотез показала, что группы имеют статистически значимые различия и с количестве чеков, и в суммах выручки.\n",
    "\n",
    "</div>"
   ]
  },
  {
   "cell_type": "markdown",
   "metadata": {},
   "source": [
    "### Выводы и рекоммендации"
   ]
  },
  {
   "cell_type": "markdown",
   "metadata": {},
   "source": [
    "В данном исследовании была рассмотрена работа программы лояльности строительного магазина. Условия программы -  за 200 рублей в месяц покупатели могут стать участниками программы лояльности. В программу включены скидки, специальные предложения, подарки.\n",
    "\n",
    "На первом этапе была подготовлена таблица, необходимая для анализа:\n",
    "- Были заменены типы данных в колонках с датой покупки и отметкой об участии в программе лояльности. \n",
    "- Данные проверены на дубликаты - удалена 1033 дублирующих строки из датасета retail_dataset.\n",
    "- Названия столбцов изменены на удобные для анализа.\n",
    "- В датасете product_codes цены на товары заменены на медианные значения.\n",
    "- Оба датасета объединены в итоговую таблицу. В датасете содержится информация о покупках 1670 клиентов магазина за период с 1 декабря 2016 года по 28 февраля 2017 года. 33,6% из них являются участниками программы лояльности.\n",
    "\n",
    "Далее был составлен портрет типичного покупателя магазина. \n",
    "Данные крайне неоднородны - вероятно, в магазине совершают покупки как оптовики, так и простые покупатели. Для того, чтобы снизить искажение показателей, для расчета среднего чека и количества товаров использована медиана.\n",
    "Медианный чек составляет 325р.\n",
    "Количество товаров в чеке 110шт.\n",
    "В среднем каждый покупатель совершает 2 покупки в магазине за исследуемый период.\n",
    "Далее покупатели были разделены на 2 группы – участвующие и не участвующие в программе лояльности. Для каждой группы посчитано медианное значение чека, количество товаров в чеке и частота посещений магазина за исследуемый период. \n",
    "\n",
    "Проведен анализ LTV и среднего количества посещений за 45 дней. Он показал, что группа покупателей - участников программы лояльности также проигрывает второй группе и по сумме покупок, и по количеству чеков, даже с учетом платы за участие в программе\n",
    "\n",
    "По результатам можно сказать, что программа лояльности требует существенных доработок, т.к. группа покупателей - участников имеет более низкий чек, меньшее количество товаров в чеке и при этом посещает магазин с такой же часто, как и те покупатели, которые в программе не участвуют.\n",
    "\n",
    "\n",
    "**Вывод:**  \n",
    "\n",
    "Имеющаяся программа лояльности не стимулирует покупателей совершать более крупные покупки или ходить в магазин чаще. Возможно, клиенты покупают доступ к программе ради скидки на текущую покупку (например, когда скидка на покупку получается больше, чем 200р., которые покупатель платит за участие), либо ради подарков. \n",
    "\n",
    "Вероятно, стоит пересмотреть саму систему – например, привязать уровень скидки к сумме покупки или к накопленной сумме покупок. Либо рассмотреть другие методы стимулирования продаж."
   ]
  },
  {
   "cell_type": "markdown",
   "metadata": {},
   "source": [
    "<div class=\"alert alert-success\">\n",
    "    \n",
    "**Комментарий ревьюера**\n",
    "\n",
    "**#ок**\n",
    "\n",
    "В целом выводы соответствуют целям и задачам проекта\n",
    "</div>"
   ]
  }
 ],
 "metadata": {
  "ExecuteTimeLog": [
   {
    "duration": 1224,
    "start_time": "2023-05-20T16:07:47.902Z"
   },
   {
    "duration": 131,
    "start_time": "2023-05-20T16:11:41.621Z"
   },
   {
    "duration": 35,
    "start_time": "2023-05-20T16:12:01.770Z"
   },
   {
    "duration": 5,
    "start_time": "2023-05-20T16:12:02.817Z"
   },
   {
    "duration": 44,
    "start_time": "2023-05-20T16:12:04.768Z"
   },
   {
    "duration": 290,
    "start_time": "2023-05-20T16:13:19.598Z"
   },
   {
    "duration": 11,
    "start_time": "2023-05-20T16:13:36.111Z"
   },
   {
    "duration": 25,
    "start_time": "2023-05-20T16:14:16.866Z"
   },
   {
    "duration": 22,
    "start_time": "2023-05-20T16:14:42.758Z"
   },
   {
    "duration": 31,
    "start_time": "2023-05-20T16:15:09.642Z"
   },
   {
    "duration": 741,
    "start_time": "2023-05-20T16:20:42.913Z"
   },
   {
    "duration": 10,
    "start_time": "2023-05-20T16:20:51.503Z"
   },
   {
    "duration": 58,
    "start_time": "2023-05-20T16:28:11.781Z"
   },
   {
    "duration": 4,
    "start_time": "2023-05-20T16:28:20.374Z"
   },
   {
    "duration": 4,
    "start_time": "2023-05-20T16:28:46.178Z"
   },
   {
    "duration": 25,
    "start_time": "2023-05-20T16:30:10.804Z"
   },
   {
    "duration": 31,
    "start_time": "2023-05-20T16:30:23.723Z"
   },
   {
    "duration": 15,
    "start_time": "2023-05-20T16:31:08.685Z"
   },
   {
    "duration": 47,
    "start_time": "2023-05-20T16:33:27.025Z"
   },
   {
    "duration": 20,
    "start_time": "2023-05-20T16:34:34.773Z"
   },
   {
    "duration": 15,
    "start_time": "2023-05-20T16:34:53.075Z"
   },
   {
    "duration": 5,
    "start_time": "2023-05-20T16:36:34.068Z"
   },
   {
    "duration": 16,
    "start_time": "2023-05-20T16:36:42.373Z"
   },
   {
    "duration": 4,
    "start_time": "2023-05-20T16:36:54.374Z"
   },
   {
    "duration": 17,
    "start_time": "2023-05-20T16:36:55.390Z"
   },
   {
    "duration": 4,
    "start_time": "2023-05-20T16:37:04.851Z"
   },
   {
    "duration": 14,
    "start_time": "2023-05-20T16:37:05.577Z"
   },
   {
    "duration": 46,
    "start_time": "2023-05-20T16:39:03.859Z"
   },
   {
    "duration": 48,
    "start_time": "2023-05-20T16:40:37.066Z"
   },
   {
    "duration": 43,
    "start_time": "2023-05-20T16:40:45.284Z"
   },
   {
    "duration": 736,
    "start_time": "2023-05-20T16:46:15.166Z"
   },
   {
    "duration": 7,
    "start_time": "2023-05-20T16:46:34.107Z"
   },
   {
    "duration": 7,
    "start_time": "2023-05-20T16:48:45.712Z"
   },
   {
    "duration": 7,
    "start_time": "2023-05-20T16:48:54.262Z"
   },
   {
    "duration": 18,
    "start_time": "2023-05-20T16:54:03.994Z"
   },
   {
    "duration": 3,
    "start_time": "2023-05-20T16:54:09.269Z"
   },
   {
    "duration": 123,
    "start_time": "2023-05-20T16:54:09.274Z"
   },
   {
    "duration": 33,
    "start_time": "2023-05-20T16:54:09.398Z"
   },
   {
    "duration": 9,
    "start_time": "2023-05-20T16:54:09.432Z"
   },
   {
    "duration": 3,
    "start_time": "2023-05-20T16:54:09.443Z"
   },
   {
    "duration": 27,
    "start_time": "2023-05-20T16:54:09.448Z"
   },
   {
    "duration": 14,
    "start_time": "2023-05-20T16:54:09.476Z"
   },
   {
    "duration": 4,
    "start_time": "2023-05-20T16:54:09.491Z"
   },
   {
    "duration": 47,
    "start_time": "2023-05-20T16:54:09.496Z"
   },
   {
    "duration": 65,
    "start_time": "2023-05-20T16:54:09.545Z"
   },
   {
    "duration": 5,
    "start_time": "2023-05-20T16:54:09.612Z"
   },
   {
    "duration": 8,
    "start_time": "2023-05-20T16:54:09.618Z"
   },
   {
    "duration": 49,
    "start_time": "2023-05-20T16:54:09.627Z"
   },
   {
    "duration": 34,
    "start_time": "2023-05-20T16:54:17.974Z"
   },
   {
    "duration": 42,
    "start_time": "2023-05-20T16:54:26.214Z"
   },
   {
    "duration": 13,
    "start_time": "2023-05-20T16:54:59.977Z"
   },
   {
    "duration": 5,
    "start_time": "2023-05-20T17:02:55.477Z"
   },
   {
    "duration": 8,
    "start_time": "2023-05-20T17:03:38.976Z"
   },
   {
    "duration": 678,
    "start_time": "2023-05-20T17:06:37.195Z"
   },
   {
    "duration": 8,
    "start_time": "2023-05-20T17:06:44.474Z"
   },
   {
    "duration": 7,
    "start_time": "2023-05-20T17:06:49.570Z"
   },
   {
    "duration": 8,
    "start_time": "2023-05-20T17:06:52.777Z"
   },
   {
    "duration": 539,
    "start_time": "2023-05-20T17:07:46.874Z"
   },
   {
    "duration": 581,
    "start_time": "2023-05-20T17:08:08.280Z"
   },
   {
    "duration": 9,
    "start_time": "2023-05-20T17:08:23.426Z"
   },
   {
    "duration": 14,
    "start_time": "2023-05-20T17:08:49.401Z"
   },
   {
    "duration": 19,
    "start_time": "2023-05-20T17:09:08.670Z"
   },
   {
    "duration": 23,
    "start_time": "2023-05-20T17:09:22.482Z"
   },
   {
    "duration": 19,
    "start_time": "2023-05-20T17:09:31.975Z"
   },
   {
    "duration": 17,
    "start_time": "2023-05-20T17:09:42.682Z"
   },
   {
    "duration": 15,
    "start_time": "2023-05-20T17:11:25.478Z"
   },
   {
    "duration": 23,
    "start_time": "2023-05-20T17:11:37.287Z"
   },
   {
    "duration": 46,
    "start_time": "2023-05-20T17:12:58.402Z"
   },
   {
    "duration": 17,
    "start_time": "2023-05-20T17:13:07.877Z"
   },
   {
    "duration": 52,
    "start_time": "2023-05-21T08:09:31.068Z"
   },
   {
    "duration": 1225,
    "start_time": "2023-05-21T08:09:39.760Z"
   },
   {
    "duration": 838,
    "start_time": "2023-05-21T08:09:40.987Z"
   },
   {
    "duration": 34,
    "start_time": "2023-05-21T08:09:41.826Z"
   },
   {
    "duration": 10,
    "start_time": "2023-05-21T08:09:41.862Z"
   },
   {
    "duration": 4,
    "start_time": "2023-05-21T08:09:41.874Z"
   },
   {
    "duration": 38,
    "start_time": "2023-05-21T08:09:41.879Z"
   },
   {
    "duration": 13,
    "start_time": "2023-05-21T08:09:41.919Z"
   },
   {
    "duration": 4,
    "start_time": "2023-05-21T08:09:41.933Z"
   },
   {
    "duration": 44,
    "start_time": "2023-05-21T08:09:41.939Z"
   },
   {
    "duration": 72,
    "start_time": "2023-05-21T08:09:41.985Z"
   },
   {
    "duration": 6,
    "start_time": "2023-05-21T08:09:42.058Z"
   },
   {
    "duration": 8,
    "start_time": "2023-05-21T08:09:42.065Z"
   },
   {
    "duration": 59,
    "start_time": "2023-05-21T08:09:42.074Z"
   },
   {
    "duration": 4,
    "start_time": "2023-05-21T08:09:42.136Z"
   },
   {
    "duration": 5,
    "start_time": "2023-05-21T08:09:42.142Z"
   },
   {
    "duration": 21,
    "start_time": "2023-05-21T08:09:42.148Z"
   },
   {
    "duration": 8,
    "start_time": "2023-05-21T08:09:42.170Z"
   },
   {
    "duration": 28,
    "start_time": "2023-05-21T08:09:42.180Z"
   },
   {
    "duration": 26,
    "start_time": "2023-05-21T08:11:21.948Z"
   },
   {
    "duration": 17,
    "start_time": "2023-05-21T08:14:23.289Z"
   },
   {
    "duration": 16,
    "start_time": "2023-05-21T08:17:31.186Z"
   },
   {
    "duration": 21,
    "start_time": "2023-05-21T08:17:35.493Z"
   },
   {
    "duration": 21,
    "start_time": "2023-05-21T08:18:30.160Z"
   },
   {
    "duration": 25,
    "start_time": "2023-05-21T08:20:01.790Z"
   },
   {
    "duration": 51,
    "start_time": "2023-05-21T08:21:26.552Z"
   },
   {
    "duration": 48,
    "start_time": "2023-05-21T08:22:13.360Z"
   },
   {
    "duration": 105,
    "start_time": "2023-05-21T08:23:03.577Z"
   },
   {
    "duration": 50,
    "start_time": "2023-05-21T08:23:23.898Z"
   },
   {
    "duration": 80,
    "start_time": "2023-05-21T08:24:17.783Z"
   },
   {
    "duration": 69,
    "start_time": "2023-05-21T08:24:22.174Z"
   },
   {
    "duration": 15,
    "start_time": "2023-05-21T08:24:49.402Z"
   },
   {
    "duration": 1027,
    "start_time": "2023-05-21T08:24:57.277Z"
   },
   {
    "duration": 124,
    "start_time": "2023-05-21T08:24:58.306Z"
   },
   {
    "duration": 35,
    "start_time": "2023-05-21T08:24:58.432Z"
   },
   {
    "duration": 11,
    "start_time": "2023-05-21T08:24:58.469Z"
   },
   {
    "duration": 4,
    "start_time": "2023-05-21T08:24:58.482Z"
   },
   {
    "duration": 40,
    "start_time": "2023-05-21T08:24:58.487Z"
   },
   {
    "duration": 16,
    "start_time": "2023-05-21T08:24:58.529Z"
   },
   {
    "duration": 3,
    "start_time": "2023-05-21T08:24:58.547Z"
   },
   {
    "duration": 45,
    "start_time": "2023-05-21T08:24:58.552Z"
   },
   {
    "duration": 68,
    "start_time": "2023-05-21T08:24:58.598Z"
   },
   {
    "duration": 7,
    "start_time": "2023-05-21T08:24:58.667Z"
   },
   {
    "duration": 10,
    "start_time": "2023-05-21T08:24:58.676Z"
   },
   {
    "duration": 60,
    "start_time": "2023-05-21T08:24:58.687Z"
   },
   {
    "duration": 6,
    "start_time": "2023-05-21T08:24:58.750Z"
   },
   {
    "duration": 7,
    "start_time": "2023-05-21T08:24:58.758Z"
   },
   {
    "duration": 51,
    "start_time": "2023-05-21T08:24:58.767Z"
   },
   {
    "duration": 4,
    "start_time": "2023-05-21T08:24:58.820Z"
   },
   {
    "duration": 65,
    "start_time": "2023-05-21T08:24:58.826Z"
   },
   {
    "duration": 9,
    "start_time": "2023-05-21T08:24:58.893Z"
   },
   {
    "duration": 31,
    "start_time": "2023-05-21T08:24:58.903Z"
   },
   {
    "duration": 17,
    "start_time": "2023-05-21T08:26:53.007Z"
   },
   {
    "duration": 89,
    "start_time": "2023-05-21T08:28:09.185Z"
   },
   {
    "duration": 134,
    "start_time": "2023-05-21T08:28:18.876Z"
   },
   {
    "duration": 41,
    "start_time": "2023-05-21T08:28:54.400Z"
   },
   {
    "duration": 55,
    "start_time": "2023-05-21T08:29:02.892Z"
   },
   {
    "duration": 1140,
    "start_time": "2023-05-21T08:29:12.579Z"
   },
   {
    "duration": 175,
    "start_time": "2023-05-21T08:29:13.722Z"
   },
   {
    "duration": 49,
    "start_time": "2023-05-21T08:29:13.899Z"
   },
   {
    "duration": 12,
    "start_time": "2023-05-21T08:29:13.950Z"
   },
   {
    "duration": 14,
    "start_time": "2023-05-21T08:29:13.964Z"
   },
   {
    "duration": 35,
    "start_time": "2023-05-21T08:29:13.980Z"
   },
   {
    "duration": 17,
    "start_time": "2023-05-21T08:29:14.018Z"
   },
   {
    "duration": 8,
    "start_time": "2023-05-21T08:29:14.037Z"
   },
   {
    "duration": 77,
    "start_time": "2023-05-21T08:29:14.047Z"
   },
   {
    "duration": 55,
    "start_time": "2023-05-21T08:29:14.126Z"
   },
   {
    "duration": 5,
    "start_time": "2023-05-21T08:29:14.183Z"
   },
   {
    "duration": 54,
    "start_time": "2023-05-21T08:29:14.190Z"
   },
   {
    "duration": 43,
    "start_time": "2023-05-21T08:29:14.245Z"
   },
   {
    "duration": 5,
    "start_time": "2023-05-21T08:29:14.290Z"
   },
   {
    "duration": 16,
    "start_time": "2023-05-21T08:29:14.296Z"
   },
   {
    "duration": 24,
    "start_time": "2023-05-21T08:29:14.314Z"
   },
   {
    "duration": 61,
    "start_time": "2023-05-21T08:29:14.339Z"
   },
   {
    "duration": 31,
    "start_time": "2023-05-21T08:29:14.402Z"
   },
   {
    "duration": 10,
    "start_time": "2023-05-21T08:29:14.435Z"
   },
   {
    "duration": 31,
    "start_time": "2023-05-21T08:29:14.446Z"
   },
   {
    "duration": 16,
    "start_time": "2023-05-21T08:30:28.397Z"
   },
   {
    "duration": 21,
    "start_time": "2023-05-21T08:30:37.678Z"
   },
   {
    "duration": 19,
    "start_time": "2023-05-21T08:31:36.164Z"
   },
   {
    "duration": 29,
    "start_time": "2023-05-21T08:31:41.817Z"
   },
   {
    "duration": 17,
    "start_time": "2023-05-21T08:32:03.260Z"
   },
   {
    "duration": 22,
    "start_time": "2023-05-21T08:47:59.783Z"
   },
   {
    "duration": 21,
    "start_time": "2023-05-21T08:48:07.312Z"
   },
   {
    "duration": 1061,
    "start_time": "2023-05-21T08:49:11.898Z"
   },
   {
    "duration": 125,
    "start_time": "2023-05-21T08:49:12.961Z"
   },
   {
    "duration": 36,
    "start_time": "2023-05-21T08:49:13.087Z"
   },
   {
    "duration": 11,
    "start_time": "2023-05-21T08:49:13.125Z"
   },
   {
    "duration": 4,
    "start_time": "2023-05-21T08:49:13.138Z"
   },
   {
    "duration": 28,
    "start_time": "2023-05-21T08:49:13.143Z"
   },
   {
    "duration": 14,
    "start_time": "2023-05-21T08:49:13.172Z"
   },
   {
    "duration": 4,
    "start_time": "2023-05-21T08:49:13.187Z"
   },
   {
    "duration": 68,
    "start_time": "2023-05-21T08:49:13.192Z"
   },
   {
    "duration": 60,
    "start_time": "2023-05-21T08:49:13.261Z"
   },
   {
    "duration": 6,
    "start_time": "2023-05-21T08:49:13.323Z"
   },
   {
    "duration": 116,
    "start_time": "2023-05-21T08:49:13.330Z"
   },
   {
    "duration": 36,
    "start_time": "2023-05-21T08:49:13.447Z"
   },
   {
    "duration": 5,
    "start_time": "2023-05-21T08:49:13.486Z"
   },
   {
    "duration": 7,
    "start_time": "2023-05-21T08:49:13.493Z"
   },
   {
    "duration": 28,
    "start_time": "2023-05-21T08:49:13.501Z"
   },
   {
    "duration": 25,
    "start_time": "2023-05-21T08:49:13.530Z"
   },
   {
    "duration": 117,
    "start_time": "2023-05-21T08:49:13.557Z"
   },
   {
    "duration": 0,
    "start_time": "2023-05-21T08:49:13.676Z"
   },
   {
    "duration": 0,
    "start_time": "2023-05-21T08:49:13.677Z"
   },
   {
    "duration": 21,
    "start_time": "2023-05-21T08:49:18.364Z"
   },
   {
    "duration": 146,
    "start_time": "2023-05-21T08:52:23.274Z"
   },
   {
    "duration": 166,
    "start_time": "2023-05-21T08:53:19.883Z"
   },
   {
    "duration": 123,
    "start_time": "2023-05-21T08:53:28.103Z"
   },
   {
    "duration": 194,
    "start_time": "2023-05-21T08:53:32.044Z"
   },
   {
    "duration": 9,
    "start_time": "2023-05-21T08:57:51.176Z"
   },
   {
    "duration": 52,
    "start_time": "2023-05-21T08:58:10.984Z"
   },
   {
    "duration": 123,
    "start_time": "2023-05-21T08:58:21.260Z"
   },
   {
    "duration": 103,
    "start_time": "2023-05-21T08:58:25.909Z"
   },
   {
    "duration": 18,
    "start_time": "2023-05-21T08:59:03.267Z"
   },
   {
    "duration": 167,
    "start_time": "2023-05-21T08:59:11.987Z"
   },
   {
    "duration": 112,
    "start_time": "2023-05-21T09:00:14.723Z"
   },
   {
    "duration": 125,
    "start_time": "2023-05-21T09:02:56.185Z"
   },
   {
    "duration": 134,
    "start_time": "2023-05-21T09:03:07.009Z"
   },
   {
    "duration": 127,
    "start_time": "2023-05-21T09:03:21.994Z"
   },
   {
    "duration": 121,
    "start_time": "2023-05-21T09:05:05.324Z"
   },
   {
    "duration": 140,
    "start_time": "2023-05-21T09:05:27.760Z"
   },
   {
    "duration": 21,
    "start_time": "2023-05-21T09:07:01.044Z"
   },
   {
    "duration": 17,
    "start_time": "2023-05-21T09:07:07.220Z"
   },
   {
    "duration": 144,
    "start_time": "2023-05-21T09:07:10.373Z"
   },
   {
    "duration": 150,
    "start_time": "2023-05-21T09:07:38.365Z"
   },
   {
    "duration": 4,
    "start_time": "2023-05-21T09:07:51.502Z"
   },
   {
    "duration": 6,
    "start_time": "2023-05-21T09:11:43.399Z"
   },
   {
    "duration": 4,
    "start_time": "2023-05-21T09:11:47.859Z"
   },
   {
    "duration": 122,
    "start_time": "2023-05-21T09:12:01.014Z"
   },
   {
    "duration": 5,
    "start_time": "2023-05-21T09:12:47.120Z"
   },
   {
    "duration": 10,
    "start_time": "2023-05-21T09:13:05.889Z"
   },
   {
    "duration": 1105,
    "start_time": "2023-05-21T09:13:18.793Z"
   },
   {
    "duration": 121,
    "start_time": "2023-05-21T09:13:19.900Z"
   },
   {
    "duration": 33,
    "start_time": "2023-05-21T09:13:20.022Z"
   },
   {
    "duration": 12,
    "start_time": "2023-05-21T09:13:20.056Z"
   },
   {
    "duration": 11,
    "start_time": "2023-05-21T09:13:20.070Z"
   },
   {
    "duration": 46,
    "start_time": "2023-05-21T09:13:20.083Z"
   },
   {
    "duration": 14,
    "start_time": "2023-05-21T09:13:20.131Z"
   },
   {
    "duration": 3,
    "start_time": "2023-05-21T09:13:20.147Z"
   },
   {
    "duration": 45,
    "start_time": "2023-05-21T09:13:20.151Z"
   },
   {
    "duration": 63,
    "start_time": "2023-05-21T09:13:20.198Z"
   },
   {
    "duration": 6,
    "start_time": "2023-05-21T09:13:20.262Z"
   },
   {
    "duration": 10,
    "start_time": "2023-05-21T09:13:20.270Z"
   },
   {
    "duration": 49,
    "start_time": "2023-05-21T09:13:20.282Z"
   },
   {
    "duration": 5,
    "start_time": "2023-05-21T09:13:20.334Z"
   },
   {
    "duration": 12,
    "start_time": "2023-05-21T09:13:20.340Z"
   },
   {
    "duration": 21,
    "start_time": "2023-05-21T09:13:20.354Z"
   },
   {
    "duration": 43,
    "start_time": "2023-05-21T09:13:20.377Z"
   },
   {
    "duration": 143,
    "start_time": "2023-05-21T09:13:20.421Z"
   },
   {
    "duration": 11,
    "start_time": "2023-05-21T09:13:20.565Z"
   },
   {
    "duration": 7,
    "start_time": "2023-05-21T09:13:20.577Z"
   },
   {
    "duration": 137,
    "start_time": "2023-05-21T09:13:20.585Z"
   },
   {
    "duration": 4,
    "start_time": "2023-05-21T09:13:20.723Z"
   },
   {
    "duration": 29,
    "start_time": "2023-05-21T09:13:20.728Z"
   },
   {
    "duration": 119,
    "start_time": "2023-05-21T09:14:13.382Z"
   },
   {
    "duration": 5,
    "start_time": "2023-05-21T09:15:06.264Z"
   },
   {
    "duration": 16,
    "start_time": "2023-05-21T09:18:25.693Z"
   },
   {
    "duration": 24,
    "start_time": "2023-05-21T09:18:32.466Z"
   },
   {
    "duration": 17,
    "start_time": "2023-05-21T09:19:26.348Z"
   },
   {
    "duration": 23,
    "start_time": "2023-05-21T09:19:55.314Z"
   },
   {
    "duration": 135,
    "start_time": "2023-05-21T09:20:35.862Z"
   },
   {
    "duration": 5,
    "start_time": "2023-05-21T09:21:01.970Z"
   },
   {
    "duration": 1064,
    "start_time": "2023-05-21T09:21:13.560Z"
   },
   {
    "duration": 155,
    "start_time": "2023-05-21T09:21:14.626Z"
   },
   {
    "duration": 40,
    "start_time": "2023-05-21T09:21:14.783Z"
   },
   {
    "duration": 16,
    "start_time": "2023-05-21T09:21:14.825Z"
   },
   {
    "duration": 16,
    "start_time": "2023-05-21T09:21:14.842Z"
   },
   {
    "duration": 36,
    "start_time": "2023-05-21T09:21:14.859Z"
   },
   {
    "duration": 14,
    "start_time": "2023-05-21T09:21:14.897Z"
   },
   {
    "duration": 3,
    "start_time": "2023-05-21T09:21:14.912Z"
   },
   {
    "duration": 67,
    "start_time": "2023-05-21T09:21:14.916Z"
   },
   {
    "duration": 52,
    "start_time": "2023-05-21T09:21:14.986Z"
   },
   {
    "duration": 7,
    "start_time": "2023-05-21T09:21:15.040Z"
   },
   {
    "duration": 26,
    "start_time": "2023-05-21T09:21:15.048Z"
   },
   {
    "duration": 38,
    "start_time": "2023-05-21T09:21:15.076Z"
   },
   {
    "duration": 7,
    "start_time": "2023-05-21T09:21:15.116Z"
   },
   {
    "duration": 24,
    "start_time": "2023-05-21T09:21:15.125Z"
   },
   {
    "duration": 39,
    "start_time": "2023-05-21T09:21:15.150Z"
   },
   {
    "duration": 19,
    "start_time": "2023-05-21T09:21:15.191Z"
   },
   {
    "duration": 149,
    "start_time": "2023-05-21T09:21:15.211Z"
   },
   {
    "duration": 5,
    "start_time": "2023-05-21T09:21:15.362Z"
   },
   {
    "duration": 21,
    "start_time": "2023-05-21T09:21:15.369Z"
   },
   {
    "duration": 42,
    "start_time": "2023-05-21T09:21:15.392Z"
   },
   {
    "duration": 140,
    "start_time": "2023-05-21T09:21:15.435Z"
   },
   {
    "duration": 4,
    "start_time": "2023-05-21T09:21:15.577Z"
   },
   {
    "duration": 52,
    "start_time": "2023-05-21T09:21:15.582Z"
   },
   {
    "duration": 147,
    "start_time": "2023-05-21T09:22:16.794Z"
   },
   {
    "duration": 5,
    "start_time": "2023-05-21T09:22:25.313Z"
   },
   {
    "duration": 6,
    "start_time": "2023-05-21T09:22:27.668Z"
   },
   {
    "duration": 5,
    "start_time": "2023-05-21T09:22:40.883Z"
   },
   {
    "duration": 29,
    "start_time": "2023-05-21T09:23:05.779Z"
   },
   {
    "duration": 53,
    "start_time": "2023-05-21T16:12:17.037Z"
   },
   {
    "duration": 1461,
    "start_time": "2023-05-21T16:12:59.768Z"
   },
   {
    "duration": 280,
    "start_time": "2023-05-21T16:13:01.232Z"
   },
   {
    "duration": 39,
    "start_time": "2023-05-21T16:13:01.514Z"
   },
   {
    "duration": 16,
    "start_time": "2023-05-21T16:13:01.555Z"
   },
   {
    "duration": 31,
    "start_time": "2023-05-21T16:13:01.574Z"
   },
   {
    "duration": 72,
    "start_time": "2023-05-21T16:13:01.607Z"
   },
   {
    "duration": 50,
    "start_time": "2023-05-21T16:13:01.681Z"
   },
   {
    "duration": 77,
    "start_time": "2023-05-21T16:13:01.733Z"
   },
   {
    "duration": 87,
    "start_time": "2023-05-21T16:13:01.812Z"
   },
   {
    "duration": 57,
    "start_time": "2023-05-21T16:13:01.901Z"
   },
   {
    "duration": 109,
    "start_time": "2023-05-21T16:13:01.962Z"
   },
   {
    "duration": 27,
    "start_time": "2023-05-21T16:13:02.073Z"
   },
   {
    "duration": 59,
    "start_time": "2023-05-21T16:13:02.102Z"
   },
   {
    "duration": 7,
    "start_time": "2023-05-21T16:13:02.164Z"
   },
   {
    "duration": 69,
    "start_time": "2023-05-21T16:13:02.172Z"
   },
   {
    "duration": 54,
    "start_time": "2023-05-21T16:13:02.243Z"
   },
   {
    "duration": 22,
    "start_time": "2023-05-21T16:13:02.299Z"
   },
   {
    "duration": 172,
    "start_time": "2023-05-21T16:13:02.323Z"
   },
   {
    "duration": 6,
    "start_time": "2023-05-21T16:13:02.497Z"
   },
   {
    "duration": 48,
    "start_time": "2023-05-21T16:13:02.505Z"
   },
   {
    "duration": 53,
    "start_time": "2023-05-21T16:13:02.555Z"
   },
   {
    "duration": 172,
    "start_time": "2023-05-21T16:13:02.610Z"
   },
   {
    "duration": 7,
    "start_time": "2023-05-21T16:13:02.783Z"
   },
   {
    "duration": 93,
    "start_time": "2023-05-21T16:13:02.791Z"
   },
   {
    "duration": 58,
    "start_time": "2023-05-21T16:13:02.886Z"
   },
   {
    "duration": 21,
    "start_time": "2023-05-21T16:13:02.946Z"
   },
   {
    "duration": 18,
    "start_time": "2023-05-21T16:13:46.579Z"
   },
   {
    "duration": 14,
    "start_time": "2023-05-21T16:14:05.817Z"
   },
   {
    "duration": 26,
    "start_time": "2023-05-21T16:14:22.275Z"
   },
   {
    "duration": 17,
    "start_time": "2023-05-21T16:16:31.569Z"
   },
   {
    "duration": 26,
    "start_time": "2023-05-21T16:18:44.403Z"
   },
   {
    "duration": 13,
    "start_time": "2023-05-21T16:18:56.071Z"
   },
   {
    "duration": 16,
    "start_time": "2023-05-21T16:18:58.409Z"
   },
   {
    "duration": 12,
    "start_time": "2023-05-21T16:18:59.271Z"
   },
   {
    "duration": 134,
    "start_time": "2023-05-21T16:19:17.478Z"
   },
   {
    "duration": 18,
    "start_time": "2023-05-21T16:19:56.520Z"
   },
   {
    "duration": 15,
    "start_time": "2023-05-21T16:20:38.244Z"
   },
   {
    "duration": 31,
    "start_time": "2023-05-21T16:21:23.137Z"
   },
   {
    "duration": 25,
    "start_time": "2023-05-21T16:21:29.704Z"
   },
   {
    "duration": 51,
    "start_time": "2023-05-21T16:24:25.058Z"
   },
   {
    "duration": 50,
    "start_time": "2023-05-21T16:24:35.909Z"
   },
   {
    "duration": 13,
    "start_time": "2023-05-21T16:24:43.880Z"
   },
   {
    "duration": 15,
    "start_time": "2023-05-21T16:24:58.216Z"
   },
   {
    "duration": 14,
    "start_time": "2023-05-21T16:25:07.280Z"
   },
   {
    "duration": 31,
    "start_time": "2023-05-21T16:25:57.646Z"
   },
   {
    "duration": 28,
    "start_time": "2023-05-21T16:26:33.183Z"
   },
   {
    "duration": 12,
    "start_time": "2023-05-21T16:27:58.085Z"
   },
   {
    "duration": 36,
    "start_time": "2023-05-21T16:28:37.954Z"
   },
   {
    "duration": 37,
    "start_time": "2023-05-21T16:28:47.446Z"
   },
   {
    "duration": 148,
    "start_time": "2023-05-21T16:35:48.290Z"
   },
   {
    "duration": 136,
    "start_time": "2023-05-21T16:36:44.007Z"
   },
   {
    "duration": 129,
    "start_time": "2023-05-21T16:39:43.007Z"
   },
   {
    "duration": 127,
    "start_time": "2023-05-21T16:40:12.206Z"
   },
   {
    "duration": 135,
    "start_time": "2023-05-21T16:40:29.990Z"
   },
   {
    "duration": 12,
    "start_time": "2023-05-21T16:42:32.269Z"
   },
   {
    "duration": 139,
    "start_time": "2023-05-21T16:42:44.933Z"
   },
   {
    "duration": 1109,
    "start_time": "2023-05-22T07:15:44.442Z"
   },
   {
    "duration": 1061,
    "start_time": "2023-05-22T07:15:45.554Z"
   },
   {
    "duration": 33,
    "start_time": "2023-05-22T07:15:46.616Z"
   },
   {
    "duration": 10,
    "start_time": "2023-05-22T07:15:46.652Z"
   },
   {
    "duration": 9,
    "start_time": "2023-05-22T07:15:46.663Z"
   },
   {
    "duration": 23,
    "start_time": "2023-05-22T07:15:46.673Z"
   },
   {
    "duration": 19,
    "start_time": "2023-05-22T07:15:46.698Z"
   },
   {
    "duration": 4,
    "start_time": "2023-05-22T07:15:46.719Z"
   },
   {
    "duration": 43,
    "start_time": "2023-05-22T07:15:46.724Z"
   },
   {
    "duration": 58,
    "start_time": "2023-05-22T07:15:46.771Z"
   },
   {
    "duration": 7,
    "start_time": "2023-05-22T07:15:46.831Z"
   },
   {
    "duration": 10,
    "start_time": "2023-05-22T07:15:46.839Z"
   },
   {
    "duration": 54,
    "start_time": "2023-05-22T07:15:46.850Z"
   },
   {
    "duration": 5,
    "start_time": "2023-05-22T07:15:46.905Z"
   },
   {
    "duration": 19,
    "start_time": "2023-05-22T07:15:46.912Z"
   },
   {
    "duration": 24,
    "start_time": "2023-05-22T07:15:46.933Z"
   },
   {
    "duration": 15,
    "start_time": "2023-05-22T07:15:46.959Z"
   },
   {
    "duration": 156,
    "start_time": "2023-05-22T07:15:46.975Z"
   },
   {
    "duration": 5,
    "start_time": "2023-05-22T07:15:47.133Z"
   },
   {
    "duration": 6,
    "start_time": "2023-05-22T07:15:47.139Z"
   },
   {
    "duration": 14,
    "start_time": "2023-05-22T07:15:47.147Z"
   },
   {
    "duration": 142,
    "start_time": "2023-05-22T07:15:47.163Z"
   },
   {
    "duration": 5,
    "start_time": "2023-05-22T07:15:47.306Z"
   },
   {
    "duration": 6,
    "start_time": "2023-05-22T07:15:47.312Z"
   },
   {
    "duration": 28,
    "start_time": "2023-05-22T07:15:47.319Z"
   },
   {
    "duration": 14,
    "start_time": "2023-05-22T07:15:47.348Z"
   },
   {
    "duration": 41,
    "start_time": "2023-05-22T07:15:47.363Z"
   },
   {
    "duration": 117,
    "start_time": "2023-05-22T07:15:47.406Z"
   },
   {
    "duration": 22,
    "start_time": "2023-05-22T07:15:47.525Z"
   },
   {
    "duration": 123,
    "start_time": "2023-05-22T07:15:47.549Z"
   },
   {
    "duration": 35,
    "start_time": "2023-05-22T07:15:47.674Z"
   },
   {
    "duration": 4,
    "start_time": "2023-05-22T07:22:28.134Z"
   },
   {
    "duration": 14,
    "start_time": "2023-05-22T07:23:31.670Z"
   },
   {
    "duration": 154,
    "start_time": "2023-05-22T07:24:17.103Z"
   },
   {
    "duration": 9,
    "start_time": "2023-05-22T07:24:37.249Z"
   },
   {
    "duration": 18,
    "start_time": "2023-05-22T07:25:25.567Z"
   },
   {
    "duration": 9,
    "start_time": "2023-05-22T07:26:02.512Z"
   },
   {
    "duration": 8,
    "start_time": "2023-05-22T07:26:11.308Z"
   },
   {
    "duration": 8,
    "start_time": "2023-05-22T07:26:17.904Z"
   },
   {
    "duration": 9,
    "start_time": "2023-05-22T07:26:28.830Z"
   },
   {
    "duration": 10,
    "start_time": "2023-05-22T07:26:29.693Z"
   },
   {
    "duration": 2516,
    "start_time": "2023-05-22T07:27:38.072Z"
   },
   {
    "duration": 1640,
    "start_time": "2023-05-22T07:27:46.666Z"
   },
   {
    "duration": 104,
    "start_time": "2023-05-22T07:28:05.409Z"
   },
   {
    "duration": 3,
    "start_time": "2023-05-22T07:29:28.045Z"
   },
   {
    "duration": 114,
    "start_time": "2023-05-22T07:29:35.207Z"
   },
   {
    "duration": 176,
    "start_time": "2023-05-22T07:29:46.116Z"
   },
   {
    "duration": 127,
    "start_time": "2023-05-22T07:29:59.915Z"
   },
   {
    "duration": 15,
    "start_time": "2023-05-22T07:30:30.252Z"
   },
   {
    "duration": 12,
    "start_time": "2023-05-22T07:30:33.356Z"
   },
   {
    "duration": 125,
    "start_time": "2023-05-22T07:30:45.203Z"
   },
   {
    "duration": 16,
    "start_time": "2023-05-22T07:31:03.432Z"
   },
   {
    "duration": 125,
    "start_time": "2023-05-22T07:31:07.157Z"
   },
   {
    "duration": 12,
    "start_time": "2023-05-22T07:31:26.751Z"
   },
   {
    "duration": 135,
    "start_time": "2023-05-22T07:31:41.182Z"
   },
   {
    "duration": 139,
    "start_time": "2023-05-22T07:31:49.853Z"
   },
   {
    "duration": 135,
    "start_time": "2023-05-22T07:32:53.212Z"
   },
   {
    "duration": 12,
    "start_time": "2023-05-22T07:32:58.105Z"
   },
   {
    "duration": 128,
    "start_time": "2023-05-22T07:33:00.232Z"
   },
   {
    "duration": 150,
    "start_time": "2023-05-22T07:33:08.285Z"
   },
   {
    "duration": 122,
    "start_time": "2023-05-22T07:33:17.412Z"
   },
   {
    "duration": 3,
    "start_time": "2023-05-22T07:33:34.586Z"
   },
   {
    "duration": 138,
    "start_time": "2023-05-22T07:33:46.324Z"
   },
   {
    "duration": 122,
    "start_time": "2023-05-22T07:35:12.146Z"
   },
   {
    "duration": 37,
    "start_time": "2023-05-22T07:41:20.518Z"
   },
   {
    "duration": 34,
    "start_time": "2023-05-22T07:43:40.805Z"
   },
   {
    "duration": 37,
    "start_time": "2023-05-22T07:45:12.578Z"
   },
   {
    "duration": 16,
    "start_time": "2023-05-22T07:45:23.988Z"
   },
   {
    "duration": 16,
    "start_time": "2023-05-22T07:52:57.999Z"
   },
   {
    "duration": 15,
    "start_time": "2023-05-22T07:53:11.132Z"
   },
   {
    "duration": 16,
    "start_time": "2023-05-22T07:53:38.730Z"
   },
   {
    "duration": 71,
    "start_time": "2023-05-22T07:54:23.645Z"
   },
   {
    "duration": 15,
    "start_time": "2023-05-22T07:59:43.188Z"
   },
   {
    "duration": 23,
    "start_time": "2023-05-22T08:00:31.697Z"
   },
   {
    "duration": 67,
    "start_time": "2023-05-22T08:01:13.053Z"
   },
   {
    "duration": 1236,
    "start_time": "2023-05-22T08:28:49.610Z"
   },
   {
    "duration": 121,
    "start_time": "2023-05-22T08:28:50.848Z"
   },
   {
    "duration": 33,
    "start_time": "2023-05-22T08:28:50.970Z"
   },
   {
    "duration": 15,
    "start_time": "2023-05-22T08:28:51.005Z"
   },
   {
    "duration": 5,
    "start_time": "2023-05-22T08:28:51.022Z"
   },
   {
    "duration": 65,
    "start_time": "2023-05-22T08:28:51.029Z"
   },
   {
    "duration": 23,
    "start_time": "2023-05-22T08:28:51.096Z"
   },
   {
    "duration": 10,
    "start_time": "2023-05-22T08:28:51.121Z"
   },
   {
    "duration": 50,
    "start_time": "2023-05-22T08:28:51.133Z"
   },
   {
    "duration": 45,
    "start_time": "2023-05-22T08:28:51.186Z"
   },
   {
    "duration": 7,
    "start_time": "2023-05-22T08:28:51.234Z"
   },
   {
    "duration": 22,
    "start_time": "2023-05-22T08:28:51.243Z"
   },
   {
    "duration": 45,
    "start_time": "2023-05-22T08:28:51.267Z"
   },
   {
    "duration": 5,
    "start_time": "2023-05-22T08:28:51.313Z"
   },
   {
    "duration": 23,
    "start_time": "2023-05-22T08:28:51.320Z"
   },
   {
    "duration": 21,
    "start_time": "2023-05-22T08:28:51.345Z"
   },
   {
    "duration": 188,
    "start_time": "2023-05-22T08:28:51.367Z"
   },
   {
    "duration": 17,
    "start_time": "2023-05-22T08:28:51.556Z"
   },
   {
    "duration": 134,
    "start_time": "2023-05-22T08:28:51.585Z"
   },
   {
    "duration": 6,
    "start_time": "2023-05-22T08:28:51.721Z"
   },
   {
    "duration": 12,
    "start_time": "2023-05-22T08:28:51.729Z"
   },
   {
    "duration": 24,
    "start_time": "2023-05-22T08:28:51.743Z"
   },
   {
    "duration": 137,
    "start_time": "2023-05-22T08:28:51.768Z"
   },
   {
    "duration": 5,
    "start_time": "2023-05-22T08:28:51.906Z"
   },
   {
    "duration": 8,
    "start_time": "2023-05-22T08:28:51.913Z"
   },
   {
    "duration": 28,
    "start_time": "2023-05-22T08:28:51.922Z"
   },
   {
    "duration": 37,
    "start_time": "2023-05-22T08:28:51.952Z"
   },
   {
    "duration": 24,
    "start_time": "2023-05-22T08:28:51.991Z"
   },
   {
    "duration": 129,
    "start_time": "2023-05-22T08:28:52.017Z"
   },
   {
    "duration": 37,
    "start_time": "2023-05-22T08:28:52.148Z"
   },
   {
    "duration": 158,
    "start_time": "2023-05-22T08:28:52.186Z"
   },
   {
    "duration": 43,
    "start_time": "2023-05-22T08:28:52.345Z"
   },
   {
    "duration": 67,
    "start_time": "2023-05-22T08:28:52.390Z"
   },
   {
    "duration": 21,
    "start_time": "2023-05-22T08:28:52.458Z"
   },
   {
    "duration": 22,
    "start_time": "2023-05-22T08:28:52.481Z"
   },
   {
    "duration": 49,
    "start_time": "2023-05-22T13:07:49.315Z"
   },
   {
    "duration": 1267,
    "start_time": "2023-05-22T13:07:55.912Z"
   },
   {
    "duration": 265,
    "start_time": "2023-05-22T13:07:57.181Z"
   },
   {
    "duration": 38,
    "start_time": "2023-05-22T13:07:57.448Z"
   },
   {
    "duration": 11,
    "start_time": "2023-05-22T13:07:57.488Z"
   },
   {
    "duration": 4,
    "start_time": "2023-05-22T13:07:57.501Z"
   },
   {
    "duration": 37,
    "start_time": "2023-05-22T13:07:57.507Z"
   },
   {
    "duration": 23,
    "start_time": "2023-05-22T13:07:57.546Z"
   },
   {
    "duration": 3,
    "start_time": "2023-05-22T13:07:57.571Z"
   },
   {
    "duration": 49,
    "start_time": "2023-05-22T13:07:57.576Z"
   },
   {
    "duration": 60,
    "start_time": "2023-05-22T13:07:57.627Z"
   },
   {
    "duration": 6,
    "start_time": "2023-05-22T13:07:57.689Z"
   },
   {
    "duration": 8,
    "start_time": "2023-05-22T13:07:57.696Z"
   },
   {
    "duration": 57,
    "start_time": "2023-05-22T13:07:57.706Z"
   },
   {
    "duration": 5,
    "start_time": "2023-05-22T13:07:57.765Z"
   },
   {
    "duration": 15,
    "start_time": "2023-05-22T13:07:57.772Z"
   },
   {
    "duration": 24,
    "start_time": "2023-05-22T13:07:57.789Z"
   },
   {
    "duration": 187,
    "start_time": "2023-05-22T13:07:57.815Z"
   },
   {
    "duration": 18,
    "start_time": "2023-05-22T13:07:58.003Z"
   },
   {
    "duration": 146,
    "start_time": "2023-05-22T13:07:58.022Z"
   },
   {
    "duration": 6,
    "start_time": "2023-05-22T13:07:58.169Z"
   },
   {
    "duration": 14,
    "start_time": "2023-05-22T13:07:58.176Z"
   },
   {
    "duration": 19,
    "start_time": "2023-05-22T13:07:58.191Z"
   },
   {
    "duration": 149,
    "start_time": "2023-05-22T13:07:58.212Z"
   },
   {
    "duration": 6,
    "start_time": "2023-05-22T13:07:58.362Z"
   },
   {
    "duration": 18,
    "start_time": "2023-05-22T13:07:58.370Z"
   },
   {
    "duration": 30,
    "start_time": "2023-05-22T13:07:58.390Z"
   },
   {
    "duration": 15,
    "start_time": "2023-05-22T13:07:58.422Z"
   },
   {
    "duration": 37,
    "start_time": "2023-05-22T13:07:58.441Z"
   },
   {
    "duration": 135,
    "start_time": "2023-05-22T13:07:58.480Z"
   },
   {
    "duration": 25,
    "start_time": "2023-05-22T13:07:58.617Z"
   },
   {
    "duration": 125,
    "start_time": "2023-05-22T13:07:58.657Z"
   },
   {
    "duration": 35,
    "start_time": "2023-05-22T13:07:58.784Z"
   },
   {
    "duration": 56,
    "start_time": "2023-05-22T13:07:58.821Z"
   },
   {
    "duration": 17,
    "start_time": "2023-05-22T13:07:58.879Z"
   },
   {
    "duration": 17,
    "start_time": "2023-05-22T13:07:58.897Z"
   },
   {
    "duration": 11,
    "start_time": "2023-05-22T13:07:58.916Z"
   },
   {
    "duration": 789,
    "start_time": "2023-05-22T13:08:41.073Z"
   },
   {
    "duration": 10,
    "start_time": "2023-05-22T13:08:59.611Z"
   },
   {
    "duration": 759,
    "start_time": "2023-05-22T13:09:14.531Z"
   },
   {
    "duration": 757,
    "start_time": "2023-05-22T13:09:48.861Z"
   },
   {
    "duration": 57,
    "start_time": "2023-05-23T15:44:31.001Z"
   },
   {
    "duration": 43,
    "start_time": "2023-05-23T15:45:23.967Z"
   },
   {
    "duration": 1064,
    "start_time": "2023-05-23T15:45:31.792Z"
   },
   {
    "duration": 280,
    "start_time": "2023-05-23T15:45:32.858Z"
   },
   {
    "duration": 37,
    "start_time": "2023-05-23T15:45:33.140Z"
   },
   {
    "duration": 12,
    "start_time": "2023-05-23T15:45:33.179Z"
   },
   {
    "duration": 6,
    "start_time": "2023-05-23T15:45:33.192Z"
   },
   {
    "duration": 24,
    "start_time": "2023-05-23T15:45:33.200Z"
   },
   {
    "duration": 41,
    "start_time": "2023-05-23T15:45:33.226Z"
   },
   {
    "duration": 3,
    "start_time": "2023-05-23T15:45:33.268Z"
   },
   {
    "duration": 45,
    "start_time": "2023-05-23T15:45:33.273Z"
   },
   {
    "duration": 67,
    "start_time": "2023-05-23T15:45:33.321Z"
   },
   {
    "duration": 6,
    "start_time": "2023-05-23T15:45:33.389Z"
   },
   {
    "duration": 10,
    "start_time": "2023-05-23T15:45:33.396Z"
   },
   {
    "duration": 57,
    "start_time": "2023-05-23T15:45:33.407Z"
   },
   {
    "duration": 205,
    "start_time": "2023-05-23T15:45:33.466Z"
   },
   {
    "duration": 6,
    "start_time": "2023-05-23T15:45:33.673Z"
   },
   {
    "duration": 18,
    "start_time": "2023-05-23T15:45:33.681Z"
   },
   {
    "duration": 24,
    "start_time": "2023-05-23T15:45:33.701Z"
   },
   {
    "duration": 168,
    "start_time": "2023-05-23T15:45:33.727Z"
   },
   {
    "duration": 18,
    "start_time": "2023-05-23T15:45:33.897Z"
   },
   {
    "duration": 142,
    "start_time": "2023-05-23T15:45:33.917Z"
   },
   {
    "duration": 6,
    "start_time": "2023-05-23T15:45:34.061Z"
   },
   {
    "duration": 16,
    "start_time": "2023-05-23T15:45:34.068Z"
   },
   {
    "duration": 27,
    "start_time": "2023-05-23T15:45:34.085Z"
   },
   {
    "duration": 140,
    "start_time": "2023-05-23T15:45:34.114Z"
   },
   {
    "duration": 7,
    "start_time": "2023-05-23T15:45:34.255Z"
   },
   {
    "duration": 10,
    "start_time": "2023-05-23T15:45:34.263Z"
   },
   {
    "duration": 30,
    "start_time": "2023-05-23T15:45:34.274Z"
   },
   {
    "duration": 16,
    "start_time": "2023-05-23T15:45:34.308Z"
   },
   {
    "duration": 48,
    "start_time": "2023-05-23T15:45:34.326Z"
   },
   {
    "duration": 129,
    "start_time": "2023-05-23T15:45:34.376Z"
   },
   {
    "duration": 28,
    "start_time": "2023-05-23T15:45:34.507Z"
   },
   {
    "duration": 139,
    "start_time": "2023-05-23T15:45:34.537Z"
   },
   {
    "duration": 37,
    "start_time": "2023-05-23T15:45:34.687Z"
   },
   {
    "duration": 49,
    "start_time": "2023-05-23T15:45:34.725Z"
   },
   {
    "duration": 19,
    "start_time": "2023-05-23T15:45:34.776Z"
   },
   {
    "duration": 17,
    "start_time": "2023-05-23T15:45:34.796Z"
   },
   {
    "duration": 5,
    "start_time": "2023-05-23T15:47:44.381Z"
   },
   {
    "duration": 55,
    "start_time": "2023-05-23T15:48:28.860Z"
   },
   {
    "duration": 211,
    "start_time": "2023-05-23T15:48:39.459Z"
   },
   {
    "duration": 222,
    "start_time": "2023-05-23T15:51:06.857Z"
   },
   {
    "duration": 290,
    "start_time": "2023-05-23T15:51:16.440Z"
   },
   {
    "duration": 13,
    "start_time": "2023-05-23T15:51:28.045Z"
   },
   {
    "duration": 6,
    "start_time": "2023-05-23T15:51:33.775Z"
   },
   {
    "duration": 5,
    "start_time": "2023-05-23T15:51:38.345Z"
   },
   {
    "duration": 13,
    "start_time": "2023-05-23T15:51:41.493Z"
   },
   {
    "duration": 16,
    "start_time": "2023-05-23T15:52:07.954Z"
   },
   {
    "duration": 127,
    "start_time": "2023-05-23T15:52:09.956Z"
   },
   {
    "duration": 15,
    "start_time": "2023-05-23T15:52:51.780Z"
   },
   {
    "duration": 5,
    "start_time": "2023-05-23T15:52:52.880Z"
   },
   {
    "duration": 222,
    "start_time": "2023-05-23T15:53:48.469Z"
   },
   {
    "duration": 146,
    "start_time": "2023-05-23T15:54:09.089Z"
   },
   {
    "duration": 18,
    "start_time": "2023-05-23T15:55:44.072Z"
   },
   {
    "duration": 123,
    "start_time": "2023-05-23T15:55:46.257Z"
   },
   {
    "duration": 198,
    "start_time": "2023-05-23T15:57:31.340Z"
   },
   {
    "duration": 14,
    "start_time": "2023-05-23T15:58:34.353Z"
   },
   {
    "duration": 188,
    "start_time": "2023-05-23T15:58:36.967Z"
   },
   {
    "duration": 10,
    "start_time": "2023-05-23T15:58:44.673Z"
   },
   {
    "duration": 9,
    "start_time": "2023-05-23T15:58:48.453Z"
   },
   {
    "duration": 5,
    "start_time": "2023-05-23T15:58:50.816Z"
   },
   {
    "duration": 18,
    "start_time": "2023-05-23T15:58:53.648Z"
   },
   {
    "duration": 17,
    "start_time": "2023-05-23T15:59:00.262Z"
   },
   {
    "duration": 127,
    "start_time": "2023-05-23T15:59:00.704Z"
   },
   {
    "duration": 149,
    "start_time": "2023-05-23T15:59:05.569Z"
   },
   {
    "duration": 1184,
    "start_time": "2023-05-23T15:59:13.717Z"
   },
   {
    "duration": 141,
    "start_time": "2023-05-23T15:59:14.903Z"
   },
   {
    "duration": 45,
    "start_time": "2023-05-23T15:59:15.046Z"
   },
   {
    "duration": 13,
    "start_time": "2023-05-23T15:59:15.094Z"
   },
   {
    "duration": 6,
    "start_time": "2023-05-23T15:59:15.109Z"
   },
   {
    "duration": 46,
    "start_time": "2023-05-23T15:59:15.117Z"
   },
   {
    "duration": 21,
    "start_time": "2023-05-23T15:59:15.165Z"
   },
   {
    "duration": 4,
    "start_time": "2023-05-23T15:59:15.188Z"
   },
   {
    "duration": 73,
    "start_time": "2023-05-23T15:59:15.194Z"
   },
   {
    "duration": 54,
    "start_time": "2023-05-23T15:59:15.271Z"
   },
   {
    "duration": 6,
    "start_time": "2023-05-23T15:59:15.327Z"
   },
   {
    "duration": 31,
    "start_time": "2023-05-23T15:59:15.335Z"
   },
   {
    "duration": 46,
    "start_time": "2023-05-23T15:59:15.368Z"
   },
   {
    "duration": 4,
    "start_time": "2023-05-23T15:59:15.416Z"
   },
   {
    "duration": 238,
    "start_time": "2023-05-23T15:59:15.422Z"
   },
   {
    "duration": 24,
    "start_time": "2023-05-23T15:59:15.662Z"
   },
   {
    "duration": 159,
    "start_time": "2023-05-23T15:59:15.688Z"
   },
   {
    "duration": 27,
    "start_time": "2023-05-23T15:59:15.849Z"
   },
   {
    "duration": 5,
    "start_time": "2023-05-23T15:59:15.878Z"
   },
   {
    "duration": 20,
    "start_time": "2023-05-23T15:59:15.885Z"
   },
   {
    "duration": 38,
    "start_time": "2023-05-23T15:59:15.907Z"
   },
   {
    "duration": 165,
    "start_time": "2023-05-23T15:59:15.946Z"
   },
   {
    "duration": 13,
    "start_time": "2023-05-23T15:59:16.112Z"
   },
   {
    "duration": 145,
    "start_time": "2023-05-23T15:59:16.127Z"
   },
   {
    "duration": 6,
    "start_time": "2023-05-23T15:59:16.274Z"
   },
   {
    "duration": 19,
    "start_time": "2023-05-23T15:59:16.282Z"
   },
   {
    "duration": 151,
    "start_time": "2023-05-23T15:59:16.302Z"
   },
   {
    "duration": 14,
    "start_time": "2023-05-23T15:59:16.458Z"
   },
   {
    "duration": 7,
    "start_time": "2023-05-23T15:59:16.473Z"
   },
   {
    "duration": 49,
    "start_time": "2023-05-23T15:59:16.481Z"
   },
   {
    "duration": 13,
    "start_time": "2023-05-23T15:59:16.532Z"
   },
   {
    "duration": 29,
    "start_time": "2023-05-23T15:59:16.547Z"
   },
   {
    "duration": 149,
    "start_time": "2023-05-23T15:59:16.578Z"
   },
   {
    "duration": 36,
    "start_time": "2023-05-23T15:59:16.729Z"
   },
   {
    "duration": 142,
    "start_time": "2023-05-23T15:59:16.767Z"
   },
   {
    "duration": 29,
    "start_time": "2023-05-23T15:59:16.911Z"
   },
   {
    "duration": 41,
    "start_time": "2023-05-23T15:59:16.956Z"
   },
   {
    "duration": 20,
    "start_time": "2023-05-23T15:59:16.999Z"
   },
   {
    "duration": 48,
    "start_time": "2023-05-23T15:59:17.021Z"
   },
   {
    "duration": 10,
    "start_time": "2023-05-23T15:59:30.870Z"
   },
   {
    "duration": 1224,
    "start_time": "2023-05-23T15:59:42.671Z"
   },
   {
    "duration": 140,
    "start_time": "2023-05-23T15:59:43.898Z"
   },
   {
    "duration": 43,
    "start_time": "2023-05-23T15:59:44.040Z"
   },
   {
    "duration": 12,
    "start_time": "2023-05-23T15:59:44.085Z"
   },
   {
    "duration": 5,
    "start_time": "2023-05-23T15:59:44.099Z"
   },
   {
    "duration": 29,
    "start_time": "2023-05-23T15:59:44.105Z"
   },
   {
    "duration": 40,
    "start_time": "2023-05-23T15:59:44.136Z"
   },
   {
    "duration": 7,
    "start_time": "2023-05-23T15:59:44.178Z"
   },
   {
    "duration": 57,
    "start_time": "2023-05-23T15:59:44.187Z"
   },
   {
    "duration": 71,
    "start_time": "2023-05-23T15:59:44.246Z"
   },
   {
    "duration": 5,
    "start_time": "2023-05-23T15:59:44.320Z"
   },
   {
    "duration": 11,
    "start_time": "2023-05-23T15:59:44.326Z"
   },
   {
    "duration": 63,
    "start_time": "2023-05-23T15:59:44.338Z"
   },
   {
    "duration": 4,
    "start_time": "2023-05-23T15:59:44.405Z"
   },
   {
    "duration": 258,
    "start_time": "2023-05-23T15:59:44.411Z"
   },
   {
    "duration": 21,
    "start_time": "2023-05-23T15:59:44.672Z"
   },
   {
    "duration": 187,
    "start_time": "2023-05-23T15:59:44.695Z"
   },
   {
    "duration": 13,
    "start_time": "2023-05-23T15:59:44.885Z"
   },
   {
    "duration": 18,
    "start_time": "2023-05-23T15:59:44.900Z"
   },
   {
    "duration": 22,
    "start_time": "2023-05-23T15:59:44.919Z"
   },
   {
    "duration": 23,
    "start_time": "2023-05-23T15:59:44.943Z"
   },
   {
    "duration": 177,
    "start_time": "2023-05-23T15:59:44.969Z"
   },
   {
    "duration": 34,
    "start_time": "2023-05-23T15:59:45.148Z"
   },
   {
    "duration": 141,
    "start_time": "2023-05-23T15:59:45.184Z"
   },
   {
    "duration": 6,
    "start_time": "2023-05-23T15:59:45.327Z"
   },
   {
    "duration": 48,
    "start_time": "2023-05-23T15:59:45.334Z"
   },
   {
    "duration": 130,
    "start_time": "2023-05-23T15:59:45.383Z"
   },
   {
    "duration": 6,
    "start_time": "2023-05-23T15:59:45.515Z"
   },
   {
    "duration": 6,
    "start_time": "2023-05-23T15:59:45.523Z"
   },
   {
    "duration": 43,
    "start_time": "2023-05-23T15:59:45.531Z"
   },
   {
    "duration": 13,
    "start_time": "2023-05-23T15:59:45.576Z"
   },
   {
    "duration": 27,
    "start_time": "2023-05-23T15:59:45.591Z"
   },
   {
    "duration": 162,
    "start_time": "2023-05-23T15:59:45.620Z"
   },
   {
    "duration": 24,
    "start_time": "2023-05-23T15:59:45.784Z"
   },
   {
    "duration": 160,
    "start_time": "2023-05-23T15:59:45.810Z"
   },
   {
    "duration": 28,
    "start_time": "2023-05-23T15:59:45.973Z"
   },
   {
    "duration": 32,
    "start_time": "2023-05-23T15:59:46.003Z"
   },
   {
    "duration": 40,
    "start_time": "2023-05-23T15:59:46.037Z"
   },
   {
    "duration": 21,
    "start_time": "2023-05-23T15:59:46.079Z"
   },
   {
    "duration": 6,
    "start_time": "2023-05-23T16:01:01.285Z"
   },
   {
    "duration": 55,
    "start_time": "2023-05-23T16:01:39.445Z"
   },
   {
    "duration": 23,
    "start_time": "2023-05-23T16:01:55.088Z"
   },
   {
    "duration": 20,
    "start_time": "2023-05-23T16:04:14.616Z"
   },
   {
    "duration": 21,
    "start_time": "2023-05-23T16:04:45.303Z"
   },
   {
    "duration": 52,
    "start_time": "2023-05-23T16:12:02.206Z"
   },
   {
    "duration": 7,
    "start_time": "2023-05-23T16:14:13.304Z"
   },
   {
    "duration": 4,
    "start_time": "2023-05-23T16:14:30.750Z"
   },
   {
    "duration": 13,
    "start_time": "2023-05-23T16:23:12.788Z"
   },
   {
    "duration": 99,
    "start_time": "2023-05-23T16:28:34.667Z"
   },
   {
    "duration": 36,
    "start_time": "2023-05-23T16:28:57.388Z"
   },
   {
    "duration": 48,
    "start_time": "2023-05-23T16:29:39.361Z"
   },
   {
    "duration": 34,
    "start_time": "2023-05-23T16:29:52.589Z"
   },
   {
    "duration": 45,
    "start_time": "2023-05-23T16:29:58.865Z"
   },
   {
    "duration": 14,
    "start_time": "2023-05-23T16:31:24.516Z"
   },
   {
    "duration": 21,
    "start_time": "2023-05-23T16:31:36.154Z"
   },
   {
    "duration": 14,
    "start_time": "2023-05-23T16:37:53.107Z"
   },
   {
    "duration": 98,
    "start_time": "2023-05-23T16:39:12.055Z"
   },
   {
    "duration": 9,
    "start_time": "2023-05-23T16:39:14.387Z"
   },
   {
    "duration": 4,
    "start_time": "2023-05-23T16:39:46.666Z"
   },
   {
    "duration": 3,
    "start_time": "2023-05-23T16:39:59.501Z"
   },
   {
    "duration": 22,
    "start_time": "2023-05-23T16:40:03.182Z"
   },
   {
    "duration": 9,
    "start_time": "2023-05-23T16:43:14.793Z"
   },
   {
    "duration": 55,
    "start_time": "2023-05-23T16:46:35.566Z"
   },
   {
    "duration": 45,
    "start_time": "2023-05-23T16:47:11.470Z"
   },
   {
    "duration": 65,
    "start_time": "2023-05-23T16:47:32.723Z"
   },
   {
    "duration": 56,
    "start_time": "2023-05-23T16:47:48.287Z"
   },
   {
    "duration": 61,
    "start_time": "2023-05-23T16:48:39.218Z"
   },
   {
    "duration": 51,
    "start_time": "2023-05-23T16:49:15.807Z"
   },
   {
    "duration": 1220,
    "start_time": "2023-05-23T16:49:23.032Z"
   },
   {
    "duration": 137,
    "start_time": "2023-05-23T16:49:24.264Z"
   },
   {
    "duration": 37,
    "start_time": "2023-05-23T16:49:24.402Z"
   },
   {
    "duration": 27,
    "start_time": "2023-05-23T16:49:24.440Z"
   },
   {
    "duration": 4,
    "start_time": "2023-05-23T16:49:24.474Z"
   },
   {
    "duration": 28,
    "start_time": "2023-05-23T16:49:24.480Z"
   },
   {
    "duration": 18,
    "start_time": "2023-05-23T16:49:24.510Z"
   },
   {
    "duration": 4,
    "start_time": "2023-05-23T16:49:24.531Z"
   },
   {
    "duration": 61,
    "start_time": "2023-05-23T16:49:24.537Z"
   },
   {
    "duration": 69,
    "start_time": "2023-05-23T16:49:24.600Z"
   },
   {
    "duration": 5,
    "start_time": "2023-05-23T16:49:24.671Z"
   },
   {
    "duration": 14,
    "start_time": "2023-05-23T16:49:24.677Z"
   },
   {
    "duration": 44,
    "start_time": "2023-05-23T16:49:24.693Z"
   },
   {
    "duration": 28,
    "start_time": "2023-05-23T16:49:24.740Z"
   },
   {
    "duration": 230,
    "start_time": "2023-05-23T16:49:24.771Z"
   },
   {
    "duration": 21,
    "start_time": "2023-05-23T16:49:25.003Z"
   },
   {
    "duration": 180,
    "start_time": "2023-05-23T16:49:25.026Z"
   },
   {
    "duration": 13,
    "start_time": "2023-05-23T16:49:25.208Z"
   },
   {
    "duration": 7,
    "start_time": "2023-05-23T16:49:25.223Z"
   },
   {
    "duration": 39,
    "start_time": "2023-05-23T16:49:25.232Z"
   },
   {
    "duration": 12,
    "start_time": "2023-05-23T16:49:25.272Z"
   },
   {
    "duration": 155,
    "start_time": "2023-05-23T16:49:25.286Z"
   },
   {
    "duration": 25,
    "start_time": "2023-05-23T16:49:25.443Z"
   },
   {
    "duration": 143,
    "start_time": "2023-05-23T16:49:25.470Z"
   },
   {
    "duration": 6,
    "start_time": "2023-05-23T16:49:25.616Z"
   },
   {
    "duration": 35,
    "start_time": "2023-05-23T16:49:25.624Z"
   },
   {
    "duration": 125,
    "start_time": "2023-05-23T16:49:25.661Z"
   },
   {
    "duration": 5,
    "start_time": "2023-05-23T16:49:25.788Z"
   },
   {
    "duration": 23,
    "start_time": "2023-05-23T16:49:25.794Z"
   },
   {
    "duration": 12,
    "start_time": "2023-05-23T16:49:25.818Z"
   },
   {
    "duration": 44,
    "start_time": "2023-05-23T16:49:25.832Z"
   },
   {
    "duration": 136,
    "start_time": "2023-05-23T16:49:25.878Z"
   },
   {
    "duration": 20,
    "start_time": "2023-05-23T16:49:26.016Z"
   },
   {
    "duration": 154,
    "start_time": "2023-05-23T16:49:26.037Z"
   },
   {
    "duration": 24,
    "start_time": "2023-05-23T16:49:26.193Z"
   },
   {
    "duration": 13,
    "start_time": "2023-05-23T16:49:26.218Z"
   },
   {
    "duration": 12,
    "start_time": "2023-05-23T16:49:26.233Z"
   },
   {
    "duration": 13,
    "start_time": "2023-05-23T16:49:26.257Z"
   },
   {
    "duration": 22,
    "start_time": "2023-05-23T16:49:26.272Z"
   },
   {
    "duration": 45,
    "start_time": "2023-05-23T16:49:26.296Z"
   },
   {
    "duration": 0,
    "start_time": "2023-05-23T16:49:26.343Z"
   },
   {
    "duration": 0,
    "start_time": "2023-05-23T16:49:26.345Z"
   },
   {
    "duration": 0,
    "start_time": "2023-05-23T16:49:26.346Z"
   },
   {
    "duration": 0,
    "start_time": "2023-05-23T16:49:26.347Z"
   },
   {
    "duration": 1254,
    "start_time": "2023-05-23T17:32:07.658Z"
   },
   {
    "duration": 193,
    "start_time": "2023-05-23T17:32:08.915Z"
   },
   {
    "duration": 48,
    "start_time": "2023-05-23T17:32:09.112Z"
   },
   {
    "duration": 18,
    "start_time": "2023-05-23T17:32:09.162Z"
   },
   {
    "duration": 31,
    "start_time": "2023-05-23T17:32:09.182Z"
   },
   {
    "duration": 44,
    "start_time": "2023-05-23T17:32:09.215Z"
   },
   {
    "duration": 34,
    "start_time": "2023-05-23T17:32:09.261Z"
   },
   {
    "duration": 11,
    "start_time": "2023-05-23T17:32:09.297Z"
   },
   {
    "duration": 53,
    "start_time": "2023-05-23T17:32:09.309Z"
   },
   {
    "duration": 56,
    "start_time": "2023-05-23T17:32:09.364Z"
   },
   {
    "duration": 8,
    "start_time": "2023-05-23T17:32:09.422Z"
   },
   {
    "duration": 30,
    "start_time": "2023-05-23T17:32:09.433Z"
   },
   {
    "duration": 48,
    "start_time": "2023-05-23T17:32:09.465Z"
   },
   {
    "duration": 5,
    "start_time": "2023-05-23T17:32:09.516Z"
   },
   {
    "duration": 269,
    "start_time": "2023-05-23T17:32:09.523Z"
   },
   {
    "duration": 29,
    "start_time": "2023-05-23T17:32:09.794Z"
   },
   {
    "duration": 205,
    "start_time": "2023-05-23T17:32:09.825Z"
   },
   {
    "duration": 12,
    "start_time": "2023-05-23T17:32:10.032Z"
   },
   {
    "duration": 30,
    "start_time": "2023-05-23T17:32:10.046Z"
   },
   {
    "duration": 34,
    "start_time": "2023-05-23T17:32:10.079Z"
   },
   {
    "duration": 42,
    "start_time": "2023-05-23T17:32:10.116Z"
   },
   {
    "duration": 173,
    "start_time": "2023-05-23T17:32:10.161Z"
   },
   {
    "duration": 30,
    "start_time": "2023-05-23T17:32:10.337Z"
   },
   {
    "duration": 143,
    "start_time": "2023-05-23T17:32:10.370Z"
   },
   {
    "duration": 7,
    "start_time": "2023-05-23T17:32:10.515Z"
   },
   {
    "duration": 44,
    "start_time": "2023-05-23T17:32:10.524Z"
   },
   {
    "duration": 152,
    "start_time": "2023-05-23T17:32:10.570Z"
   },
   {
    "duration": 6,
    "start_time": "2023-05-23T17:32:10.725Z"
   },
   {
    "duration": 78,
    "start_time": "2023-05-23T17:32:10.733Z"
   },
   {
    "duration": 13,
    "start_time": "2023-05-23T17:32:10.813Z"
   },
   {
    "duration": 33,
    "start_time": "2023-05-23T17:32:10.829Z"
   },
   {
    "duration": 170,
    "start_time": "2023-05-23T17:32:10.864Z"
   },
   {
    "duration": 29,
    "start_time": "2023-05-23T17:32:11.036Z"
   },
   {
    "duration": 158,
    "start_time": "2023-05-23T17:32:11.067Z"
   },
   {
    "duration": 53,
    "start_time": "2023-05-23T17:32:11.228Z"
   },
   {
    "duration": 18,
    "start_time": "2023-05-23T17:32:11.283Z"
   },
   {
    "duration": 3,
    "start_time": "2023-05-23T17:32:11.303Z"
   },
   {
    "duration": 13,
    "start_time": "2023-05-23T17:32:11.309Z"
   },
   {
    "duration": 57,
    "start_time": "2023-05-23T17:32:11.325Z"
   },
   {
    "duration": 43,
    "start_time": "2023-05-23T17:32:11.383Z"
   },
   {
    "duration": 0,
    "start_time": "2023-05-23T17:32:11.428Z"
   },
   {
    "duration": 0,
    "start_time": "2023-05-23T17:32:11.430Z"
   },
   {
    "duration": 0,
    "start_time": "2023-05-23T17:32:11.431Z"
   },
   {
    "duration": 0,
    "start_time": "2023-05-23T17:32:11.433Z"
   },
   {
    "duration": 10,
    "start_time": "2023-05-23T17:33:37.060Z"
   },
   {
    "duration": 19,
    "start_time": "2023-05-23T17:33:49.844Z"
   },
   {
    "duration": 13,
    "start_time": "2023-05-23T17:35:03.505Z"
   },
   {
    "duration": 109,
    "start_time": "2023-05-23T17:35:12.006Z"
   },
   {
    "duration": 17,
    "start_time": "2023-05-23T17:36:23.584Z"
   },
   {
    "duration": 19,
    "start_time": "2023-05-23T17:36:30.770Z"
   },
   {
    "duration": 8,
    "start_time": "2023-05-23T17:42:22.672Z"
   },
   {
    "duration": 31,
    "start_time": "2023-05-23T17:44:33.050Z"
   },
   {
    "duration": 30,
    "start_time": "2023-05-23T17:53:18.592Z"
   },
   {
    "duration": 32,
    "start_time": "2023-05-23T17:53:58.906Z"
   },
   {
    "duration": 1179,
    "start_time": "2023-05-23T17:54:09.802Z"
   },
   {
    "duration": 132,
    "start_time": "2023-05-23T17:54:10.983Z"
   },
   {
    "duration": 39,
    "start_time": "2023-05-23T17:54:11.117Z"
   },
   {
    "duration": 12,
    "start_time": "2023-05-23T17:54:11.158Z"
   },
   {
    "duration": 4,
    "start_time": "2023-05-23T17:54:11.173Z"
   },
   {
    "duration": 64,
    "start_time": "2023-05-23T17:54:11.179Z"
   },
   {
    "duration": 29,
    "start_time": "2023-05-23T17:54:11.245Z"
   },
   {
    "duration": 36,
    "start_time": "2023-05-23T17:54:11.277Z"
   },
   {
    "duration": 49,
    "start_time": "2023-05-23T17:54:11.315Z"
   },
   {
    "duration": 49,
    "start_time": "2023-05-23T17:54:11.366Z"
   },
   {
    "duration": 5,
    "start_time": "2023-05-23T17:54:11.417Z"
   },
   {
    "duration": 34,
    "start_time": "2023-05-23T17:54:11.424Z"
   },
   {
    "duration": 42,
    "start_time": "2023-05-23T17:54:11.461Z"
   },
   {
    "duration": 4,
    "start_time": "2023-05-23T17:54:11.506Z"
   },
   {
    "duration": 244,
    "start_time": "2023-05-23T17:54:11.512Z"
   },
   {
    "duration": 20,
    "start_time": "2023-05-23T17:54:11.758Z"
   },
   {
    "duration": 172,
    "start_time": "2023-05-23T17:54:11.780Z"
   },
   {
    "duration": 10,
    "start_time": "2023-05-23T17:54:11.957Z"
   },
   {
    "duration": 5,
    "start_time": "2023-05-23T17:54:11.969Z"
   },
   {
    "duration": 8,
    "start_time": "2023-05-23T17:54:11.976Z"
   },
   {
    "duration": 24,
    "start_time": "2023-05-23T17:54:11.985Z"
   },
   {
    "duration": 165,
    "start_time": "2023-05-23T17:54:12.011Z"
   },
   {
    "duration": 14,
    "start_time": "2023-05-23T17:54:12.178Z"
   },
   {
    "duration": 136,
    "start_time": "2023-05-23T17:54:12.193Z"
   },
   {
    "duration": 6,
    "start_time": "2023-05-23T17:54:12.330Z"
   },
   {
    "duration": 28,
    "start_time": "2023-05-23T17:54:12.337Z"
   },
   {
    "duration": 127,
    "start_time": "2023-05-23T17:54:12.367Z"
   },
   {
    "duration": 5,
    "start_time": "2023-05-23T17:54:12.496Z"
   },
   {
    "duration": 23,
    "start_time": "2023-05-23T17:54:12.503Z"
   },
   {
    "duration": 34,
    "start_time": "2023-05-23T17:54:12.528Z"
   },
   {
    "duration": 20,
    "start_time": "2023-05-23T17:54:12.563Z"
   },
   {
    "duration": 146,
    "start_time": "2023-05-23T17:54:12.585Z"
   },
   {
    "duration": 28,
    "start_time": "2023-05-23T17:54:12.733Z"
   },
   {
    "duration": 133,
    "start_time": "2023-05-23T17:54:12.763Z"
   },
   {
    "duration": 26,
    "start_time": "2023-05-23T17:54:12.897Z"
   },
   {
    "duration": 36,
    "start_time": "2023-05-23T17:54:12.925Z"
   },
   {
    "duration": 14,
    "start_time": "2023-05-23T17:54:12.962Z"
   },
   {
    "duration": 3,
    "start_time": "2023-05-23T17:54:12.977Z"
   },
   {
    "duration": 8,
    "start_time": "2023-05-23T17:54:12.981Z"
   },
   {
    "duration": 24,
    "start_time": "2023-05-23T17:54:12.991Z"
   },
   {
    "duration": 40,
    "start_time": "2023-05-23T17:54:13.018Z"
   },
   {
    "duration": 112,
    "start_time": "2023-05-23T17:54:13.059Z"
   },
   {
    "duration": 0,
    "start_time": "2023-05-23T17:54:13.173Z"
   },
   {
    "duration": 0,
    "start_time": "2023-05-23T17:54:13.174Z"
   },
   {
    "duration": 0,
    "start_time": "2023-05-23T17:54:13.175Z"
   },
   {
    "duration": 22,
    "start_time": "2023-05-23T17:56:39.165Z"
   },
   {
    "duration": 1156,
    "start_time": "2023-05-23T17:56:49.192Z"
   },
   {
    "duration": 123,
    "start_time": "2023-05-23T17:56:50.350Z"
   },
   {
    "duration": 36,
    "start_time": "2023-05-23T17:56:50.474Z"
   },
   {
    "duration": 11,
    "start_time": "2023-05-23T17:56:50.513Z"
   },
   {
    "duration": 12,
    "start_time": "2023-05-23T17:56:50.526Z"
   },
   {
    "duration": 32,
    "start_time": "2023-05-23T17:56:50.540Z"
   },
   {
    "duration": 16,
    "start_time": "2023-05-23T17:56:50.574Z"
   },
   {
    "duration": 9,
    "start_time": "2023-05-23T17:56:50.591Z"
   },
   {
    "duration": 59,
    "start_time": "2023-05-23T17:56:50.601Z"
   },
   {
    "duration": 49,
    "start_time": "2023-05-23T17:56:50.663Z"
   },
   {
    "duration": 6,
    "start_time": "2023-05-23T17:56:50.714Z"
   },
   {
    "duration": 34,
    "start_time": "2023-05-23T17:56:50.722Z"
   },
   {
    "duration": 45,
    "start_time": "2023-05-23T17:56:50.759Z"
   },
   {
    "duration": 5,
    "start_time": "2023-05-23T17:56:50.806Z"
   },
   {
    "duration": 246,
    "start_time": "2023-05-23T17:56:50.812Z"
   },
   {
    "duration": 22,
    "start_time": "2023-05-23T17:56:51.061Z"
   },
   {
    "duration": 185,
    "start_time": "2023-05-23T17:56:51.085Z"
   },
   {
    "duration": 12,
    "start_time": "2023-05-23T17:56:51.272Z"
   },
   {
    "duration": 6,
    "start_time": "2023-05-23T17:56:51.286Z"
   },
   {
    "duration": 8,
    "start_time": "2023-05-23T17:56:51.293Z"
   },
   {
    "duration": 11,
    "start_time": "2023-05-23T17:56:51.303Z"
   },
   {
    "duration": 175,
    "start_time": "2023-05-23T17:56:51.316Z"
   },
   {
    "duration": 13,
    "start_time": "2023-05-23T17:56:51.493Z"
   },
   {
    "duration": 139,
    "start_time": "2023-05-23T17:56:51.508Z"
   },
   {
    "duration": 6,
    "start_time": "2023-05-23T17:56:51.655Z"
   },
   {
    "duration": 18,
    "start_time": "2023-05-23T17:56:51.662Z"
   },
   {
    "duration": 134,
    "start_time": "2023-05-23T17:56:51.682Z"
   },
   {
    "duration": 4,
    "start_time": "2023-05-23T17:56:51.820Z"
   },
   {
    "duration": 34,
    "start_time": "2023-05-23T17:56:51.826Z"
   },
   {
    "duration": 12,
    "start_time": "2023-05-23T17:56:51.862Z"
   },
   {
    "duration": 20,
    "start_time": "2023-05-23T17:56:51.876Z"
   },
   {
    "duration": 150,
    "start_time": "2023-05-23T17:56:51.898Z"
   },
   {
    "duration": 22,
    "start_time": "2023-05-23T17:56:52.051Z"
   },
   {
    "duration": 145,
    "start_time": "2023-05-23T17:56:52.075Z"
   },
   {
    "duration": 34,
    "start_time": "2023-05-23T17:56:52.223Z"
   },
   {
    "duration": 124,
    "start_time": "2023-05-23T17:56:52.258Z"
   },
   {
    "duration": 0,
    "start_time": "2023-05-23T17:56:52.383Z"
   },
   {
    "duration": 0,
    "start_time": "2023-05-23T17:56:52.384Z"
   },
   {
    "duration": 0,
    "start_time": "2023-05-23T17:56:52.386Z"
   },
   {
    "duration": 0,
    "start_time": "2023-05-23T17:56:52.387Z"
   },
   {
    "duration": 0,
    "start_time": "2023-05-23T17:56:52.388Z"
   },
   {
    "duration": 0,
    "start_time": "2023-05-23T17:56:52.389Z"
   },
   {
    "duration": 0,
    "start_time": "2023-05-23T17:56:52.390Z"
   },
   {
    "duration": 0,
    "start_time": "2023-05-23T17:56:52.391Z"
   },
   {
    "duration": 0,
    "start_time": "2023-05-23T17:56:52.392Z"
   },
   {
    "duration": 20,
    "start_time": "2023-05-23T17:58:35.268Z"
   },
   {
    "duration": 27,
    "start_time": "2023-05-23T17:58:41.402Z"
   },
   {
    "duration": 23,
    "start_time": "2023-05-23T17:59:15.426Z"
   },
   {
    "duration": 33,
    "start_time": "2023-05-23T17:59:21.732Z"
   },
   {
    "duration": 1188,
    "start_time": "2023-05-23T17:59:29.662Z"
   },
   {
    "duration": 134,
    "start_time": "2023-05-23T17:59:30.855Z"
   },
   {
    "duration": 38,
    "start_time": "2023-05-23T17:59:30.991Z"
   },
   {
    "duration": 44,
    "start_time": "2023-05-23T17:59:31.031Z"
   },
   {
    "duration": 14,
    "start_time": "2023-05-23T17:59:31.078Z"
   },
   {
    "duration": 61,
    "start_time": "2023-05-23T17:59:31.094Z"
   },
   {
    "duration": 76,
    "start_time": "2023-05-23T17:59:31.157Z"
   },
   {
    "duration": 23,
    "start_time": "2023-05-23T17:59:31.234Z"
   },
   {
    "duration": 74,
    "start_time": "2023-05-23T17:59:31.258Z"
   },
   {
    "duration": 50,
    "start_time": "2023-05-23T17:59:31.333Z"
   },
   {
    "duration": 6,
    "start_time": "2023-05-23T17:59:31.385Z"
   },
   {
    "duration": 29,
    "start_time": "2023-05-23T17:59:31.393Z"
   },
   {
    "duration": 66,
    "start_time": "2023-05-23T17:59:31.424Z"
   },
   {
    "duration": 5,
    "start_time": "2023-05-23T17:59:31.494Z"
   },
   {
    "duration": 260,
    "start_time": "2023-05-23T17:59:31.500Z"
   },
   {
    "duration": 23,
    "start_time": "2023-05-23T17:59:31.762Z"
   },
   {
    "duration": 179,
    "start_time": "2023-05-23T17:59:31.787Z"
   },
   {
    "duration": 12,
    "start_time": "2023-05-23T17:59:31.967Z"
   },
   {
    "duration": 22,
    "start_time": "2023-05-23T17:59:31.980Z"
   },
   {
    "duration": 6,
    "start_time": "2023-05-23T17:59:32.003Z"
   },
   {
    "duration": 20,
    "start_time": "2023-05-23T17:59:32.011Z"
   },
   {
    "duration": 162,
    "start_time": "2023-05-23T17:59:32.033Z"
   },
   {
    "duration": 13,
    "start_time": "2023-05-23T17:59:32.197Z"
   },
   {
    "duration": 134,
    "start_time": "2023-05-23T17:59:32.212Z"
   },
   {
    "duration": 5,
    "start_time": "2023-05-23T17:59:32.356Z"
   },
   {
    "duration": 17,
    "start_time": "2023-05-23T17:59:32.363Z"
   },
   {
    "duration": 131,
    "start_time": "2023-05-23T17:59:32.382Z"
   },
   {
    "duration": 5,
    "start_time": "2023-05-23T17:59:32.515Z"
   },
   {
    "duration": 36,
    "start_time": "2023-05-23T17:59:32.522Z"
   },
   {
    "duration": 13,
    "start_time": "2023-05-23T17:59:32.560Z"
   },
   {
    "duration": 41,
    "start_time": "2023-05-23T17:59:32.574Z"
   },
   {
    "duration": 131,
    "start_time": "2023-05-23T17:59:32.617Z"
   },
   {
    "duration": 24,
    "start_time": "2023-05-23T17:59:32.750Z"
   },
   {
    "duration": 142,
    "start_time": "2023-05-23T17:59:32.776Z"
   },
   {
    "duration": 26,
    "start_time": "2023-05-23T17:59:32.919Z"
   },
   {
    "duration": 27,
    "start_time": "2023-05-23T17:59:32.956Z"
   },
   {
    "duration": 122,
    "start_time": "2023-05-23T17:59:32.985Z"
   },
   {
    "duration": 0,
    "start_time": "2023-05-23T17:59:33.109Z"
   },
   {
    "duration": 0,
    "start_time": "2023-05-23T17:59:33.110Z"
   },
   {
    "duration": 0,
    "start_time": "2023-05-23T17:59:33.111Z"
   },
   {
    "duration": 0,
    "start_time": "2023-05-23T17:59:33.113Z"
   },
   {
    "duration": 0,
    "start_time": "2023-05-23T17:59:33.114Z"
   },
   {
    "duration": 0,
    "start_time": "2023-05-23T17:59:33.116Z"
   },
   {
    "duration": 0,
    "start_time": "2023-05-23T17:59:33.117Z"
   },
   {
    "duration": 0,
    "start_time": "2023-05-23T17:59:33.118Z"
   },
   {
    "duration": 0,
    "start_time": "2023-05-23T17:59:33.120Z"
   },
   {
    "duration": 19,
    "start_time": "2023-05-23T17:59:43.310Z"
   },
   {
    "duration": 28,
    "start_time": "2023-05-23T17:59:51.174Z"
   },
   {
    "duration": 25,
    "start_time": "2023-05-23T18:00:19.479Z"
   },
   {
    "duration": 13,
    "start_time": "2023-05-23T18:01:08.583Z"
   },
   {
    "duration": 28,
    "start_time": "2023-05-23T18:01:20.166Z"
   },
   {
    "duration": 1269,
    "start_time": "2023-05-23T18:01:37.653Z"
   },
   {
    "duration": 158,
    "start_time": "2023-05-23T18:01:38.924Z"
   },
   {
    "duration": 46,
    "start_time": "2023-05-23T18:01:39.084Z"
   },
   {
    "duration": 12,
    "start_time": "2023-05-23T18:01:39.132Z"
   },
   {
    "duration": 25,
    "start_time": "2023-05-23T18:01:39.146Z"
   },
   {
    "duration": 29,
    "start_time": "2023-05-23T18:01:39.173Z"
   },
   {
    "duration": 19,
    "start_time": "2023-05-23T18:01:39.204Z"
   },
   {
    "duration": 4,
    "start_time": "2023-05-23T18:01:39.225Z"
   },
   {
    "duration": 61,
    "start_time": "2023-05-23T18:01:39.230Z"
   },
   {
    "duration": 50,
    "start_time": "2023-05-23T18:01:39.294Z"
   },
   {
    "duration": 6,
    "start_time": "2023-05-23T18:01:39.356Z"
   },
   {
    "duration": 10,
    "start_time": "2023-05-23T18:01:39.363Z"
   },
   {
    "duration": 43,
    "start_time": "2023-05-23T18:01:39.374Z"
   },
   {
    "duration": 4,
    "start_time": "2023-05-23T18:01:39.419Z"
   },
   {
    "duration": 252,
    "start_time": "2023-05-23T18:01:39.425Z"
   },
   {
    "duration": 21,
    "start_time": "2023-05-23T18:01:39.679Z"
   },
   {
    "duration": 192,
    "start_time": "2023-05-23T18:01:39.702Z"
   },
   {
    "duration": 11,
    "start_time": "2023-05-23T18:01:39.896Z"
   },
   {
    "duration": 11,
    "start_time": "2023-05-23T18:01:39.909Z"
   },
   {
    "duration": 11,
    "start_time": "2023-05-23T18:01:39.922Z"
   },
   {
    "duration": 28,
    "start_time": "2023-05-23T18:01:39.935Z"
   },
   {
    "duration": 173,
    "start_time": "2023-05-23T18:01:39.965Z"
   },
   {
    "duration": 22,
    "start_time": "2023-05-23T18:01:40.140Z"
   },
   {
    "duration": 143,
    "start_time": "2023-05-23T18:01:40.164Z"
   },
   {
    "duration": 6,
    "start_time": "2023-05-23T18:01:40.308Z"
   },
   {
    "duration": 17,
    "start_time": "2023-05-23T18:01:40.316Z"
   },
   {
    "duration": 145,
    "start_time": "2023-05-23T18:01:40.335Z"
   },
   {
    "duration": 5,
    "start_time": "2023-05-23T18:01:40.484Z"
   },
   {
    "duration": 40,
    "start_time": "2023-05-23T18:01:40.491Z"
   },
   {
    "duration": 24,
    "start_time": "2023-05-23T18:01:40.532Z"
   },
   {
    "duration": 23,
    "start_time": "2023-05-23T18:01:40.558Z"
   },
   {
    "duration": 155,
    "start_time": "2023-05-23T18:01:40.582Z"
   },
   {
    "duration": 30,
    "start_time": "2023-05-23T18:01:40.739Z"
   },
   {
    "duration": 153,
    "start_time": "2023-05-23T18:01:40.770Z"
   },
   {
    "duration": 35,
    "start_time": "2023-05-23T18:01:40.925Z"
   },
   {
    "duration": 23,
    "start_time": "2023-05-23T18:01:40.962Z"
   },
   {
    "duration": 127,
    "start_time": "2023-05-23T18:01:40.987Z"
   },
   {
    "duration": 0,
    "start_time": "2023-05-23T18:01:41.116Z"
   },
   {
    "duration": 0,
    "start_time": "2023-05-23T18:01:41.117Z"
   },
   {
    "duration": 0,
    "start_time": "2023-05-23T18:01:41.118Z"
   },
   {
    "duration": 0,
    "start_time": "2023-05-23T18:01:41.120Z"
   },
   {
    "duration": 0,
    "start_time": "2023-05-23T18:01:41.121Z"
   },
   {
    "duration": 0,
    "start_time": "2023-05-23T18:01:41.121Z"
   },
   {
    "duration": 0,
    "start_time": "2023-05-23T18:01:41.122Z"
   },
   {
    "duration": 0,
    "start_time": "2023-05-23T18:01:41.124Z"
   },
   {
    "duration": 0,
    "start_time": "2023-05-23T18:01:41.125Z"
   },
   {
    "duration": 0,
    "start_time": "2023-05-23T18:01:41.126Z"
   },
   {
    "duration": 16,
    "start_time": "2023-05-23T18:02:16.628Z"
   },
   {
    "duration": 15,
    "start_time": "2023-05-23T18:02:40.759Z"
   },
   {
    "duration": 12,
    "start_time": "2023-05-23T18:03:02.010Z"
   },
   {
    "duration": 12,
    "start_time": "2023-05-23T18:03:24.483Z"
   },
   {
    "duration": 13,
    "start_time": "2023-05-23T18:03:30.957Z"
   },
   {
    "duration": 7,
    "start_time": "2023-05-23T18:05:08.668Z"
   },
   {
    "duration": 12,
    "start_time": "2023-05-23T18:05:23.958Z"
   },
   {
    "duration": 8,
    "start_time": "2023-05-23T18:05:44.786Z"
   },
   {
    "duration": 8,
    "start_time": "2023-05-23T18:06:01.285Z"
   },
   {
    "duration": 11,
    "start_time": "2023-05-23T18:06:15.883Z"
   },
   {
    "duration": 8,
    "start_time": "2023-05-23T18:06:44.981Z"
   },
   {
    "duration": 8,
    "start_time": "2023-05-23T18:07:10.197Z"
   },
   {
    "duration": 13,
    "start_time": "2023-05-23T18:08:37.760Z"
   },
   {
    "duration": 24,
    "start_time": "2023-05-23T18:09:58.458Z"
   },
   {
    "duration": 15,
    "start_time": "2023-05-23T18:12:08.596Z"
   },
   {
    "duration": 12,
    "start_time": "2023-05-23T18:12:16.177Z"
   },
   {
    "duration": 12,
    "start_time": "2023-05-23T18:12:46.150Z"
   },
   {
    "duration": 14,
    "start_time": "2023-05-23T18:13:38.213Z"
   },
   {
    "duration": 12,
    "start_time": "2023-05-23T18:13:45.337Z"
   },
   {
    "duration": 15,
    "start_time": "2023-05-23T18:16:05.924Z"
   },
   {
    "duration": 13,
    "start_time": "2023-05-23T18:16:17.199Z"
   },
   {
    "duration": 13,
    "start_time": "2023-05-23T18:16:47.737Z"
   },
   {
    "duration": 25,
    "start_time": "2023-05-23T18:16:57.774Z"
   },
   {
    "duration": 23,
    "start_time": "2023-05-23T18:17:14.979Z"
   },
   {
    "duration": 20,
    "start_time": "2023-05-23T18:17:21.613Z"
   },
   {
    "duration": 3,
    "start_time": "2023-05-23T18:21:34.122Z"
   },
   {
    "duration": 3,
    "start_time": "2023-05-23T18:22:05.347Z"
   },
   {
    "duration": 24,
    "start_time": "2023-05-23T18:22:12.852Z"
   },
   {
    "duration": 17,
    "start_time": "2023-05-23T18:23:20.709Z"
   },
   {
    "duration": 10,
    "start_time": "2023-05-23T18:24:16.584Z"
   },
   {
    "duration": 23,
    "start_time": "2023-05-23T18:31:56.362Z"
   },
   {
    "duration": 23,
    "start_time": "2023-05-23T18:32:12.855Z"
   },
   {
    "duration": 29,
    "start_time": "2023-05-23T18:32:28.179Z"
   },
   {
    "duration": 9,
    "start_time": "2023-05-23T18:33:06.256Z"
   },
   {
    "duration": 15,
    "start_time": "2023-05-23T18:33:16.509Z"
   },
   {
    "duration": 27,
    "start_time": "2023-05-23T18:33:43.507Z"
   },
   {
    "duration": 16,
    "start_time": "2023-05-23T18:34:00.364Z"
   },
   {
    "duration": 1260,
    "start_time": "2023-05-23T18:34:28.203Z"
   },
   {
    "duration": 144,
    "start_time": "2023-05-23T18:34:29.465Z"
   },
   {
    "duration": 36,
    "start_time": "2023-05-23T18:34:29.611Z"
   },
   {
    "duration": 12,
    "start_time": "2023-05-23T18:34:29.650Z"
   },
   {
    "duration": 4,
    "start_time": "2023-05-23T18:34:29.664Z"
   },
   {
    "duration": 29,
    "start_time": "2023-05-23T18:34:29.670Z"
   },
   {
    "duration": 17,
    "start_time": "2023-05-23T18:34:29.701Z"
   },
   {
    "duration": 5,
    "start_time": "2023-05-23T18:34:29.720Z"
   },
   {
    "duration": 74,
    "start_time": "2023-05-23T18:34:29.727Z"
   },
   {
    "duration": 68,
    "start_time": "2023-05-23T18:34:29.805Z"
   },
   {
    "duration": 7,
    "start_time": "2023-05-23T18:34:29.875Z"
   },
   {
    "duration": 14,
    "start_time": "2023-05-23T18:34:29.884Z"
   },
   {
    "duration": 59,
    "start_time": "2023-05-23T18:34:29.900Z"
   },
   {
    "duration": 5,
    "start_time": "2023-05-23T18:34:29.961Z"
   },
   {
    "duration": 241,
    "start_time": "2023-05-23T18:34:29.968Z"
   },
   {
    "duration": 21,
    "start_time": "2023-05-23T18:34:30.210Z"
   },
   {
    "duration": 177,
    "start_time": "2023-05-23T18:34:30.233Z"
   },
   {
    "duration": 13,
    "start_time": "2023-05-23T18:34:30.412Z"
   },
   {
    "duration": 38,
    "start_time": "2023-05-23T18:34:30.427Z"
   },
   {
    "duration": 38,
    "start_time": "2023-05-23T18:34:30.467Z"
   },
   {
    "duration": 43,
    "start_time": "2023-05-23T18:34:30.507Z"
   },
   {
    "duration": 173,
    "start_time": "2023-05-23T18:34:30.552Z"
   },
   {
    "duration": 13,
    "start_time": "2023-05-23T18:34:30.727Z"
   },
   {
    "duration": 170,
    "start_time": "2023-05-23T18:34:30.742Z"
   },
   {
    "duration": 5,
    "start_time": "2023-05-23T18:34:30.914Z"
   },
   {
    "duration": 58,
    "start_time": "2023-05-23T18:34:30.921Z"
   },
   {
    "duration": 161,
    "start_time": "2023-05-23T18:34:30.982Z"
   },
   {
    "duration": 13,
    "start_time": "2023-05-23T18:34:31.146Z"
   },
   {
    "duration": 76,
    "start_time": "2023-05-23T18:34:31.161Z"
   },
   {
    "duration": 25,
    "start_time": "2023-05-23T18:34:31.239Z"
   },
   {
    "duration": 39,
    "start_time": "2023-05-23T18:34:31.266Z"
   },
   {
    "duration": 149,
    "start_time": "2023-05-23T18:34:31.307Z"
   },
   {
    "duration": 23,
    "start_time": "2023-05-23T18:34:31.458Z"
   },
   {
    "duration": 143,
    "start_time": "2023-05-23T18:34:31.484Z"
   },
   {
    "duration": 39,
    "start_time": "2023-05-23T18:34:31.629Z"
   },
   {
    "duration": 27,
    "start_time": "2023-05-23T18:34:31.670Z"
   },
   {
    "duration": 128,
    "start_time": "2023-05-23T18:34:31.700Z"
   },
   {
    "duration": 0,
    "start_time": "2023-05-23T18:34:31.829Z"
   },
   {
    "duration": 0,
    "start_time": "2023-05-23T18:34:31.831Z"
   },
   {
    "duration": 0,
    "start_time": "2023-05-23T18:34:31.832Z"
   },
   {
    "duration": 0,
    "start_time": "2023-05-23T18:34:31.833Z"
   },
   {
    "duration": 0,
    "start_time": "2023-05-23T18:34:31.834Z"
   },
   {
    "duration": 0,
    "start_time": "2023-05-23T18:34:31.835Z"
   },
   {
    "duration": 0,
    "start_time": "2023-05-23T18:34:31.837Z"
   },
   {
    "duration": 0,
    "start_time": "2023-05-23T18:34:31.838Z"
   },
   {
    "duration": 0,
    "start_time": "2023-05-23T18:34:31.857Z"
   },
   {
    "duration": 0,
    "start_time": "2023-05-23T18:34:31.858Z"
   },
   {
    "duration": 0,
    "start_time": "2023-05-23T18:34:31.860Z"
   },
   {
    "duration": 1068,
    "start_time": "2023-05-23T18:35:25.211Z"
   },
   {
    "duration": 127,
    "start_time": "2023-05-23T18:35:26.281Z"
   },
   {
    "duration": 34,
    "start_time": "2023-05-23T18:35:26.410Z"
   },
   {
    "duration": 11,
    "start_time": "2023-05-23T18:35:26.447Z"
   },
   {
    "duration": 4,
    "start_time": "2023-05-23T18:35:26.460Z"
   },
   {
    "duration": 28,
    "start_time": "2023-05-23T18:35:26.465Z"
   },
   {
    "duration": 17,
    "start_time": "2023-05-23T18:35:26.494Z"
   },
   {
    "duration": 3,
    "start_time": "2023-05-23T18:35:26.512Z"
   },
   {
    "duration": 66,
    "start_time": "2023-05-23T18:35:26.517Z"
   },
   {
    "duration": 49,
    "start_time": "2023-05-23T18:35:26.587Z"
   },
   {
    "duration": 18,
    "start_time": "2023-05-23T18:35:26.638Z"
   },
   {
    "duration": 10,
    "start_time": "2023-05-23T18:35:26.659Z"
   },
   {
    "duration": 42,
    "start_time": "2023-05-23T18:35:26.670Z"
   },
   {
    "duration": 5,
    "start_time": "2023-05-23T18:35:26.713Z"
   },
   {
    "duration": 254,
    "start_time": "2023-05-23T18:35:26.720Z"
   },
   {
    "duration": 19,
    "start_time": "2023-05-23T18:35:26.976Z"
   },
   {
    "duration": 174,
    "start_time": "2023-05-23T18:35:26.997Z"
   },
   {
    "duration": 11,
    "start_time": "2023-05-23T18:35:27.173Z"
   },
   {
    "duration": 5,
    "start_time": "2023-05-23T18:35:27.185Z"
   },
   {
    "duration": 6,
    "start_time": "2023-05-23T18:35:27.191Z"
   },
   {
    "duration": 27,
    "start_time": "2023-05-23T18:35:27.198Z"
   },
   {
    "duration": 180,
    "start_time": "2023-05-23T18:35:27.227Z"
   },
   {
    "duration": 16,
    "start_time": "2023-05-23T18:35:27.409Z"
   },
   {
    "duration": 145,
    "start_time": "2023-05-23T18:35:27.427Z"
   },
   {
    "duration": 5,
    "start_time": "2023-05-23T18:35:27.573Z"
   },
   {
    "duration": 24,
    "start_time": "2023-05-23T18:35:27.580Z"
   },
   {
    "duration": 128,
    "start_time": "2023-05-23T18:35:27.606Z"
   },
   {
    "duration": 5,
    "start_time": "2023-05-23T18:35:27.738Z"
   },
   {
    "duration": 23,
    "start_time": "2023-05-23T18:35:27.757Z"
   },
   {
    "duration": 13,
    "start_time": "2023-05-23T18:35:27.782Z"
   },
   {
    "duration": 20,
    "start_time": "2023-05-23T18:35:27.797Z"
   },
   {
    "duration": 158,
    "start_time": "2023-05-23T18:35:27.818Z"
   },
   {
    "duration": 19,
    "start_time": "2023-05-23T18:35:27.978Z"
   },
   {
    "duration": 143,
    "start_time": "2023-05-23T18:35:27.999Z"
   },
   {
    "duration": 29,
    "start_time": "2023-05-23T18:35:28.144Z"
   },
   {
    "duration": 23,
    "start_time": "2023-05-23T18:35:28.174Z"
   },
   {
    "duration": 12,
    "start_time": "2023-05-23T18:35:28.198Z"
   },
   {
    "duration": 8,
    "start_time": "2023-05-23T18:35:28.212Z"
   },
   {
    "duration": 54,
    "start_time": "2023-05-23T18:35:28.222Z"
   },
   {
    "duration": 16,
    "start_time": "2023-05-23T18:35:28.278Z"
   },
   {
    "duration": 17,
    "start_time": "2023-05-23T18:35:28.296Z"
   },
   {
    "duration": 44,
    "start_time": "2023-05-23T18:35:28.314Z"
   },
   {
    "duration": 9,
    "start_time": "2023-05-23T18:35:28.360Z"
   },
   {
    "duration": 39,
    "start_time": "2023-05-23T18:35:28.371Z"
   },
   {
    "duration": 71,
    "start_time": "2023-05-23T18:35:28.412Z"
   },
   {
    "duration": 31,
    "start_time": "2023-05-23T18:35:28.485Z"
   },
   {
    "duration": 18,
    "start_time": "2023-05-23T18:35:28.518Z"
   },
   {
    "duration": 33,
    "start_time": "2023-05-23T18:35:28.538Z"
   },
   {
    "duration": 26,
    "start_time": "2023-05-23T18:36:08.104Z"
   },
   {
    "duration": 46,
    "start_time": "2023-05-23T18:36:37.259Z"
   },
   {
    "duration": 126,
    "start_time": "2023-05-23T18:36:44.073Z"
   },
   {
    "duration": 19,
    "start_time": "2023-05-23T18:38:18.279Z"
   },
   {
    "duration": 26,
    "start_time": "2023-05-23T18:41:45.711Z"
   },
   {
    "duration": 60,
    "start_time": "2023-05-23T18:41:58.757Z"
   },
   {
    "duration": 33,
    "start_time": "2023-05-23T18:42:03.877Z"
   },
   {
    "duration": 51,
    "start_time": "2023-05-23T18:43:05.736Z"
   },
   {
    "duration": 47,
    "start_time": "2023-05-23T18:43:23.087Z"
   },
   {
    "duration": 1279,
    "start_time": "2023-05-23T18:43:30.127Z"
   },
   {
    "duration": 137,
    "start_time": "2023-05-23T18:43:31.408Z"
   },
   {
    "duration": 37,
    "start_time": "2023-05-23T18:43:31.547Z"
   },
   {
    "duration": 13,
    "start_time": "2023-05-23T18:43:31.586Z"
   },
   {
    "duration": 86,
    "start_time": "2023-05-23T18:43:31.601Z"
   },
   {
    "duration": 6,
    "start_time": "2023-05-23T18:43:31.692Z"
   },
   {
    "duration": 37,
    "start_time": "2023-05-23T18:43:31.700Z"
   },
   {
    "duration": 27,
    "start_time": "2023-05-23T18:43:31.740Z"
   },
   {
    "duration": 16,
    "start_time": "2023-05-23T18:43:31.768Z"
   },
   {
    "duration": 77,
    "start_time": "2023-05-23T18:43:31.788Z"
   },
   {
    "duration": 67,
    "start_time": "2023-05-23T18:43:31.867Z"
   },
   {
    "duration": 27,
    "start_time": "2023-05-23T18:43:31.937Z"
   },
   {
    "duration": 33,
    "start_time": "2023-05-23T18:43:31.966Z"
   },
   {
    "duration": 89,
    "start_time": "2023-05-23T18:43:32.001Z"
   },
   {
    "duration": 6,
    "start_time": "2023-05-23T18:43:32.092Z"
   },
   {
    "duration": 255,
    "start_time": "2023-05-23T18:43:32.100Z"
   },
   {
    "duration": 30,
    "start_time": "2023-05-23T18:43:32.357Z"
   },
   {
    "duration": 187,
    "start_time": "2023-05-23T18:43:32.389Z"
   },
   {
    "duration": 14,
    "start_time": "2023-05-23T18:43:32.578Z"
   },
   {
    "duration": 8,
    "start_time": "2023-05-23T18:43:32.594Z"
   },
   {
    "duration": 21,
    "start_time": "2023-05-23T18:43:32.604Z"
   },
   {
    "duration": 52,
    "start_time": "2023-05-23T18:43:32.627Z"
   },
   {
    "duration": 204,
    "start_time": "2023-05-23T18:43:32.681Z"
   },
   {
    "duration": 13,
    "start_time": "2023-05-23T18:43:32.887Z"
   },
   {
    "duration": 146,
    "start_time": "2023-05-23T18:43:32.902Z"
   },
   {
    "duration": 10,
    "start_time": "2023-05-23T18:43:33.050Z"
   },
   {
    "duration": 25,
    "start_time": "2023-05-23T18:43:33.061Z"
   },
   {
    "duration": 133,
    "start_time": "2023-05-23T18:43:33.090Z"
   },
   {
    "duration": 6,
    "start_time": "2023-05-23T18:43:33.225Z"
   },
   {
    "duration": 56,
    "start_time": "2023-05-23T18:43:33.233Z"
   },
   {
    "duration": 16,
    "start_time": "2023-05-23T18:43:33.290Z"
   },
   {
    "duration": 48,
    "start_time": "2023-05-23T18:43:33.309Z"
   },
   {
    "duration": 141,
    "start_time": "2023-05-23T18:43:33.359Z"
   },
   {
    "duration": 21,
    "start_time": "2023-05-23T18:43:33.502Z"
   },
   {
    "duration": 149,
    "start_time": "2023-05-23T18:43:33.525Z"
   },
   {
    "duration": 43,
    "start_time": "2023-05-23T18:43:33.676Z"
   },
   {
    "duration": 44,
    "start_time": "2023-05-23T18:43:33.720Z"
   },
   {
    "duration": 16,
    "start_time": "2023-05-23T18:43:33.766Z"
   },
   {
    "duration": 13,
    "start_time": "2023-05-23T18:43:33.784Z"
   },
   {
    "duration": 32,
    "start_time": "2023-05-23T18:43:33.799Z"
   },
   {
    "duration": 37,
    "start_time": "2023-05-23T18:43:33.833Z"
   },
   {
    "duration": 22,
    "start_time": "2023-05-23T18:43:33.872Z"
   },
   {
    "duration": 15,
    "start_time": "2023-05-23T18:43:33.896Z"
   },
   {
    "duration": 9,
    "start_time": "2023-05-23T18:43:33.913Z"
   },
   {
    "duration": 51,
    "start_time": "2023-05-23T18:43:33.924Z"
   },
   {
    "duration": 147,
    "start_time": "2023-05-23T18:43:33.977Z"
   },
   {
    "duration": 0,
    "start_time": "2023-05-23T18:43:34.126Z"
   },
   {
    "duration": 0,
    "start_time": "2023-05-23T18:43:34.127Z"
   },
   {
    "duration": 0,
    "start_time": "2023-05-23T18:43:34.129Z"
   },
   {
    "duration": 0,
    "start_time": "2023-05-23T18:43:34.130Z"
   },
   {
    "duration": 28,
    "start_time": "2023-05-23T18:43:56.606Z"
   },
   {
    "duration": 31,
    "start_time": "2023-05-23T18:44:09.462Z"
   },
   {
    "duration": 35,
    "start_time": "2023-05-23T18:44:47.425Z"
   },
   {
    "duration": 55,
    "start_time": "2023-05-23T18:45:03.888Z"
   },
   {
    "duration": 49,
    "start_time": "2023-05-23T18:46:21.297Z"
   },
   {
    "duration": 28,
    "start_time": "2023-05-23T18:46:35.074Z"
   },
   {
    "duration": 59,
    "start_time": "2023-05-23T18:46:43.308Z"
   },
   {
    "duration": 42,
    "start_time": "2023-05-23T18:48:28.226Z"
   },
   {
    "duration": 37,
    "start_time": "2023-05-23T18:48:41.309Z"
   },
   {
    "duration": 39,
    "start_time": "2023-05-23T18:48:48.889Z"
   },
   {
    "duration": 23,
    "start_time": "2023-05-23T18:48:57.770Z"
   },
   {
    "duration": 63,
    "start_time": "2023-05-23T18:49:02.710Z"
   },
   {
    "duration": 31,
    "start_time": "2023-05-23T18:49:59.234Z"
   },
   {
    "duration": 71,
    "start_time": "2023-05-23T18:50:08.945Z"
   },
   {
    "duration": 1241,
    "start_time": "2023-05-23T18:50:28.570Z"
   },
   {
    "duration": 135,
    "start_time": "2023-05-23T18:50:29.813Z"
   },
   {
    "duration": 40,
    "start_time": "2023-05-23T18:50:29.950Z"
   },
   {
    "duration": 12,
    "start_time": "2023-05-23T18:50:29.992Z"
   },
   {
    "duration": 102,
    "start_time": "2023-05-23T18:50:30.006Z"
   },
   {
    "duration": 5,
    "start_time": "2023-05-23T18:50:30.110Z"
   },
   {
    "duration": 48,
    "start_time": "2023-05-23T18:50:30.116Z"
   },
   {
    "duration": 54,
    "start_time": "2023-05-23T18:50:30.166Z"
   },
   {
    "duration": 23,
    "start_time": "2023-05-23T18:50:30.222Z"
   },
   {
    "duration": 80,
    "start_time": "2023-05-23T18:50:30.246Z"
   },
   {
    "duration": 64,
    "start_time": "2023-05-23T18:50:30.328Z"
   },
   {
    "duration": 6,
    "start_time": "2023-05-23T18:50:30.393Z"
   },
   {
    "duration": 43,
    "start_time": "2023-05-23T18:50:30.400Z"
   },
   {
    "duration": 123,
    "start_time": "2023-05-23T18:50:30.446Z"
   },
   {
    "duration": 5,
    "start_time": "2023-05-23T18:50:30.571Z"
   },
   {
    "duration": 310,
    "start_time": "2023-05-23T18:50:30.577Z"
   },
   {
    "duration": 32,
    "start_time": "2023-05-23T18:50:30.889Z"
   },
   {
    "duration": 183,
    "start_time": "2023-05-23T18:50:30.923Z"
   },
   {
    "duration": 13,
    "start_time": "2023-05-23T18:50:31.109Z"
   },
   {
    "duration": 48,
    "start_time": "2023-05-23T18:50:31.124Z"
   },
   {
    "duration": 58,
    "start_time": "2023-05-23T18:50:31.174Z"
   },
   {
    "duration": 50,
    "start_time": "2023-05-23T18:50:31.234Z"
   },
   {
    "duration": 218,
    "start_time": "2023-05-23T18:50:31.286Z"
   },
   {
    "duration": 14,
    "start_time": "2023-05-23T18:50:31.506Z"
   },
   {
    "duration": 148,
    "start_time": "2023-05-23T18:50:31.522Z"
   },
   {
    "duration": 5,
    "start_time": "2023-05-23T18:50:31.672Z"
   },
   {
    "duration": 17,
    "start_time": "2023-05-23T18:50:31.678Z"
   },
   {
    "duration": 138,
    "start_time": "2023-05-23T18:50:31.697Z"
   },
   {
    "duration": 6,
    "start_time": "2023-05-23T18:50:31.837Z"
   },
   {
    "duration": 85,
    "start_time": "2023-05-23T18:50:31.845Z"
   },
   {
    "duration": 37,
    "start_time": "2023-05-23T18:50:31.931Z"
   },
   {
    "duration": 19,
    "start_time": "2023-05-23T18:50:31.970Z"
   },
   {
    "duration": 130,
    "start_time": "2023-05-23T18:50:31.990Z"
   },
   {
    "duration": 20,
    "start_time": "2023-05-23T18:50:32.122Z"
   },
   {
    "duration": 127,
    "start_time": "2023-05-23T18:50:32.169Z"
   },
   {
    "duration": 41,
    "start_time": "2023-05-23T18:50:32.298Z"
   },
   {
    "duration": 38,
    "start_time": "2023-05-23T18:50:32.340Z"
   },
   {
    "duration": 21,
    "start_time": "2023-05-23T18:50:32.380Z"
   },
   {
    "duration": 16,
    "start_time": "2023-05-23T18:50:32.403Z"
   },
   {
    "duration": 43,
    "start_time": "2023-05-23T18:50:32.420Z"
   },
   {
    "duration": 15,
    "start_time": "2023-05-23T18:50:32.471Z"
   },
   {
    "duration": 22,
    "start_time": "2023-05-23T18:50:32.487Z"
   },
   {
    "duration": 19,
    "start_time": "2023-05-23T18:50:32.511Z"
   },
   {
    "duration": 17,
    "start_time": "2023-05-23T18:50:32.532Z"
   },
   {
    "duration": 35,
    "start_time": "2023-05-23T18:50:32.556Z"
   },
   {
    "duration": 37,
    "start_time": "2023-05-23T18:50:32.592Z"
   },
   {
    "duration": 39,
    "start_time": "2023-05-23T18:50:32.630Z"
   },
   {
    "duration": 63,
    "start_time": "2023-05-23T18:50:32.671Z"
   },
   {
    "duration": 35,
    "start_time": "2023-05-23T18:50:32.736Z"
   },
   {
    "duration": 145,
    "start_time": "2023-05-23T18:50:32.773Z"
   },
   {
    "duration": 0,
    "start_time": "2023-05-23T18:50:32.920Z"
   },
   {
    "duration": 0,
    "start_time": "2023-05-23T18:50:32.921Z"
   },
   {
    "duration": 0,
    "start_time": "2023-05-23T18:50:32.922Z"
   },
   {
    "duration": 15,
    "start_time": "2023-05-23T18:50:57.385Z"
   },
   {
    "duration": 19,
    "start_time": "2023-05-23T18:51:08.015Z"
   },
   {
    "duration": 37,
    "start_time": "2023-05-23T18:51:18.894Z"
   },
   {
    "duration": 26,
    "start_time": "2023-05-23T18:51:25.698Z"
   },
   {
    "duration": 20,
    "start_time": "2023-05-23T18:51:31.123Z"
   },
   {
    "duration": 1152,
    "start_time": "2023-05-23T18:51:42.769Z"
   },
   {
    "duration": 129,
    "start_time": "2023-05-23T18:51:43.923Z"
   },
   {
    "duration": 37,
    "start_time": "2023-05-23T18:51:44.054Z"
   },
   {
    "duration": 12,
    "start_time": "2023-05-23T18:51:44.093Z"
   },
   {
    "duration": 84,
    "start_time": "2023-05-23T18:51:44.106Z"
   },
   {
    "duration": 5,
    "start_time": "2023-05-23T18:51:44.192Z"
   },
   {
    "duration": 22,
    "start_time": "2023-05-23T18:51:44.199Z"
   },
   {
    "duration": 35,
    "start_time": "2023-05-23T18:51:44.222Z"
   },
   {
    "duration": 5,
    "start_time": "2023-05-23T18:51:44.259Z"
   },
   {
    "duration": 59,
    "start_time": "2023-05-23T18:51:44.267Z"
   },
   {
    "duration": 77,
    "start_time": "2023-05-23T18:51:44.328Z"
   },
   {
    "duration": 6,
    "start_time": "2023-05-23T18:51:44.407Z"
   },
   {
    "duration": 9,
    "start_time": "2023-05-23T18:51:44.415Z"
   },
   {
    "duration": 68,
    "start_time": "2023-05-23T18:51:44.426Z"
   },
   {
    "duration": 4,
    "start_time": "2023-05-23T18:51:44.496Z"
   },
   {
    "duration": 237,
    "start_time": "2023-05-23T18:51:44.502Z"
   },
   {
    "duration": 36,
    "start_time": "2023-05-23T18:51:44.741Z"
   },
   {
    "duration": 173,
    "start_time": "2023-05-23T18:51:44.779Z"
   },
   {
    "duration": 13,
    "start_time": "2023-05-23T18:51:44.954Z"
   },
   {
    "duration": 5,
    "start_time": "2023-05-23T18:51:44.969Z"
   },
   {
    "duration": 22,
    "start_time": "2023-05-23T18:51:44.976Z"
   },
   {
    "duration": 58,
    "start_time": "2023-05-23T18:51:45.000Z"
   },
   {
    "duration": 170,
    "start_time": "2023-05-23T18:51:45.060Z"
   },
   {
    "duration": 24,
    "start_time": "2023-05-23T18:51:45.232Z"
   },
   {
    "duration": 120,
    "start_time": "2023-05-23T18:51:45.258Z"
   },
   {
    "duration": 5,
    "start_time": "2023-05-23T18:51:45.379Z"
   },
   {
    "duration": 26,
    "start_time": "2023-05-23T18:51:45.385Z"
   },
   {
    "duration": 122,
    "start_time": "2023-05-23T18:51:45.414Z"
   },
   {
    "duration": 6,
    "start_time": "2023-05-23T18:51:45.538Z"
   },
   {
    "duration": 48,
    "start_time": "2023-05-23T18:51:45.545Z"
   },
   {
    "duration": 15,
    "start_time": "2023-05-23T18:51:45.594Z"
   },
   {
    "duration": 46,
    "start_time": "2023-05-23T18:51:45.610Z"
   },
   {
    "duration": 138,
    "start_time": "2023-05-23T18:51:45.658Z"
   },
   {
    "duration": 20,
    "start_time": "2023-05-23T18:51:45.798Z"
   },
   {
    "duration": 147,
    "start_time": "2023-05-23T18:51:45.820Z"
   },
   {
    "duration": 44,
    "start_time": "2023-05-23T18:51:45.969Z"
   },
   {
    "duration": 41,
    "start_time": "2023-05-23T18:51:46.015Z"
   },
   {
    "duration": 17,
    "start_time": "2023-05-23T18:51:46.058Z"
   },
   {
    "duration": 11,
    "start_time": "2023-05-23T18:51:46.077Z"
   },
   {
    "duration": 27,
    "start_time": "2023-05-23T18:51:46.089Z"
   },
   {
    "duration": 40,
    "start_time": "2023-05-23T18:51:46.117Z"
   },
   {
    "duration": 20,
    "start_time": "2023-05-23T18:51:46.159Z"
   },
   {
    "duration": 14,
    "start_time": "2023-05-23T18:51:46.181Z"
   },
   {
    "duration": 8,
    "start_time": "2023-05-23T18:51:46.197Z"
   },
   {
    "duration": 17,
    "start_time": "2023-05-23T18:51:46.207Z"
   },
   {
    "duration": 64,
    "start_time": "2023-05-23T18:51:46.225Z"
   },
   {
    "duration": 105,
    "start_time": "2023-05-23T18:51:46.291Z"
   },
   {
    "duration": 0,
    "start_time": "2023-05-23T18:51:46.398Z"
   },
   {
    "duration": 0,
    "start_time": "2023-05-23T18:51:46.399Z"
   },
   {
    "duration": 0,
    "start_time": "2023-05-23T18:51:46.400Z"
   },
   {
    "duration": 0,
    "start_time": "2023-05-23T18:51:46.401Z"
   },
   {
    "duration": 0,
    "start_time": "2023-05-23T18:51:46.402Z"
   },
   {
    "duration": 0,
    "start_time": "2023-05-23T18:51:46.404Z"
   },
   {
    "duration": 18,
    "start_time": "2023-05-23T18:51:59.385Z"
   },
   {
    "duration": 9,
    "start_time": "2023-05-23T18:52:11.813Z"
   },
   {
    "duration": 18,
    "start_time": "2023-05-23T18:52:40.697Z"
   },
   {
    "duration": 22,
    "start_time": "2023-05-23T18:53:09.712Z"
   },
   {
    "duration": 27,
    "start_time": "2023-05-23T18:53:37.011Z"
   },
   {
    "duration": 21,
    "start_time": "2023-05-23T18:53:57.142Z"
   },
   {
    "duration": 18,
    "start_time": "2023-05-23T18:54:16.257Z"
   },
   {
    "duration": 14,
    "start_time": "2023-05-23T18:54:26.281Z"
   },
   {
    "duration": 15,
    "start_time": "2023-05-23T18:54:32.647Z"
   },
   {
    "duration": 1123,
    "start_time": "2023-05-23T18:57:22.550Z"
   },
   {
    "duration": 131,
    "start_time": "2023-05-23T18:57:23.675Z"
   },
   {
    "duration": 37,
    "start_time": "2023-05-23T18:57:23.808Z"
   },
   {
    "duration": 16,
    "start_time": "2023-05-23T18:57:23.846Z"
   },
   {
    "duration": 69,
    "start_time": "2023-05-23T18:57:23.864Z"
   },
   {
    "duration": 5,
    "start_time": "2023-05-23T18:57:23.935Z"
   },
   {
    "duration": 34,
    "start_time": "2023-05-23T18:57:23.941Z"
   },
   {
    "duration": 37,
    "start_time": "2023-05-23T18:57:23.977Z"
   },
   {
    "duration": 30,
    "start_time": "2023-05-23T18:57:24.016Z"
   },
   {
    "duration": 59,
    "start_time": "2023-05-23T18:57:24.048Z"
   },
   {
    "duration": 68,
    "start_time": "2023-05-23T18:57:24.108Z"
   },
   {
    "duration": 5,
    "start_time": "2023-05-23T18:57:24.178Z"
   },
   {
    "duration": 13,
    "start_time": "2023-05-23T18:57:24.185Z"
   },
   {
    "duration": 60,
    "start_time": "2023-05-23T18:57:24.201Z"
   },
   {
    "duration": 8,
    "start_time": "2023-05-23T18:57:24.263Z"
   },
   {
    "duration": 247,
    "start_time": "2023-05-23T18:57:24.273Z"
   },
   {
    "duration": 40,
    "start_time": "2023-05-23T18:57:24.521Z"
   },
   {
    "duration": 164,
    "start_time": "2023-05-23T18:57:24.563Z"
   },
   {
    "duration": 13,
    "start_time": "2023-05-23T18:57:24.729Z"
   },
   {
    "duration": 15,
    "start_time": "2023-05-23T18:57:24.745Z"
   },
   {
    "duration": 28,
    "start_time": "2023-05-23T18:57:24.761Z"
   },
   {
    "duration": 27,
    "start_time": "2023-05-23T18:57:24.791Z"
   },
   {
    "duration": 184,
    "start_time": "2023-05-23T18:57:24.820Z"
   },
   {
    "duration": 15,
    "start_time": "2023-05-23T18:57:25.005Z"
   },
   {
    "duration": 145,
    "start_time": "2023-05-23T18:57:25.022Z"
   },
   {
    "duration": 5,
    "start_time": "2023-05-23T18:57:25.169Z"
   },
   {
    "duration": 16,
    "start_time": "2023-05-23T18:57:25.175Z"
   },
   {
    "duration": 146,
    "start_time": "2023-05-23T18:57:25.192Z"
   },
   {
    "duration": 5,
    "start_time": "2023-05-23T18:57:25.340Z"
   },
   {
    "duration": 45,
    "start_time": "2023-05-23T18:57:25.346Z"
   },
   {
    "duration": 14,
    "start_time": "2023-05-23T18:57:25.393Z"
   },
   {
    "duration": 25,
    "start_time": "2023-05-23T18:57:25.409Z"
   },
   {
    "duration": 158,
    "start_time": "2023-05-23T18:57:25.436Z"
   },
   {
    "duration": 22,
    "start_time": "2023-05-23T18:57:25.596Z"
   },
   {
    "duration": 157,
    "start_time": "2023-05-23T18:57:25.620Z"
   },
   {
    "duration": 40,
    "start_time": "2023-05-23T18:57:25.778Z"
   },
   {
    "duration": 45,
    "start_time": "2023-05-23T18:57:25.820Z"
   },
   {
    "duration": 17,
    "start_time": "2023-05-23T18:57:25.867Z"
   },
   {
    "duration": 11,
    "start_time": "2023-05-23T18:57:25.886Z"
   },
   {
    "duration": 27,
    "start_time": "2023-05-23T18:57:25.899Z"
   },
   {
    "duration": 16,
    "start_time": "2023-05-23T18:57:25.958Z"
   },
   {
    "duration": 23,
    "start_time": "2023-05-23T18:57:25.976Z"
   },
   {
    "duration": 16,
    "start_time": "2023-05-23T18:57:26.001Z"
   },
   {
    "duration": 38,
    "start_time": "2023-05-23T18:57:26.019Z"
   },
   {
    "duration": 20,
    "start_time": "2023-05-23T18:57:26.059Z"
   },
   {
    "duration": 42,
    "start_time": "2023-05-23T18:57:26.082Z"
   },
   {
    "duration": 39,
    "start_time": "2023-05-23T18:57:26.126Z"
   },
   {
    "duration": 8,
    "start_time": "2023-05-23T18:57:26.167Z"
   },
   {
    "duration": 19,
    "start_time": "2023-05-23T18:57:26.178Z"
   },
   {
    "duration": 23,
    "start_time": "2023-05-23T18:57:26.199Z"
   },
   {
    "duration": 45,
    "start_time": "2023-05-23T18:57:26.224Z"
   },
   {
    "duration": 16,
    "start_time": "2023-05-23T18:57:26.271Z"
   },
   {
    "duration": 16,
    "start_time": "2023-05-23T18:57:26.289Z"
   },
   {
    "duration": 62,
    "start_time": "2023-05-23T18:57:26.307Z"
   },
   {
    "duration": 17,
    "start_time": "2023-05-23T18:57:26.371Z"
   },
   {
    "duration": 19,
    "start_time": "2023-05-23T18:57:26.389Z"
   },
   {
    "duration": 25,
    "start_time": "2023-05-23T19:00:35.212Z"
   },
   {
    "duration": 19,
    "start_time": "2023-05-23T19:00:43.206Z"
   },
   {
    "duration": 120,
    "start_time": "2023-05-23T19:01:35.943Z"
   },
   {
    "duration": 18,
    "start_time": "2023-05-23T19:02:28.822Z"
   },
   {
    "duration": 1245,
    "start_time": "2023-05-23T19:02:38.421Z"
   },
   {
    "duration": 133,
    "start_time": "2023-05-23T19:02:39.668Z"
   },
   {
    "duration": 39,
    "start_time": "2023-05-23T19:02:39.803Z"
   },
   {
    "duration": 17,
    "start_time": "2023-05-23T19:02:39.844Z"
   },
   {
    "duration": 68,
    "start_time": "2023-05-23T19:02:39.863Z"
   },
   {
    "duration": 5,
    "start_time": "2023-05-23T19:02:39.933Z"
   },
   {
    "duration": 20,
    "start_time": "2023-05-23T19:02:39.956Z"
   },
   {
    "duration": 17,
    "start_time": "2023-05-23T19:02:39.978Z"
   },
   {
    "duration": 5,
    "start_time": "2023-05-23T19:02:39.997Z"
   },
   {
    "duration": 91,
    "start_time": "2023-05-23T19:02:40.004Z"
   },
   {
    "duration": 73,
    "start_time": "2023-05-23T19:02:40.097Z"
   },
   {
    "duration": 6,
    "start_time": "2023-05-23T19:02:40.172Z"
   },
   {
    "duration": 14,
    "start_time": "2023-05-23T19:02:40.180Z"
   },
   {
    "duration": 63,
    "start_time": "2023-05-23T19:02:40.198Z"
   },
   {
    "duration": 5,
    "start_time": "2023-05-23T19:02:40.263Z"
   },
   {
    "duration": 240,
    "start_time": "2023-05-23T19:02:40.270Z"
   },
   {
    "duration": 32,
    "start_time": "2023-05-23T19:02:40.512Z"
   },
   {
    "duration": 168,
    "start_time": "2023-05-23T19:02:40.557Z"
   },
   {
    "duration": 16,
    "start_time": "2023-05-23T19:02:40.727Z"
   },
   {
    "duration": 21,
    "start_time": "2023-05-23T19:02:40.757Z"
   },
   {
    "duration": 34,
    "start_time": "2023-05-23T19:02:40.781Z"
   },
   {
    "duration": 54,
    "start_time": "2023-05-23T19:02:40.817Z"
   },
   {
    "duration": 199,
    "start_time": "2023-05-23T19:02:40.873Z"
   },
   {
    "duration": 15,
    "start_time": "2023-05-23T19:02:41.074Z"
   },
   {
    "duration": 154,
    "start_time": "2023-05-23T19:02:41.091Z"
   },
   {
    "duration": 9,
    "start_time": "2023-05-23T19:02:41.247Z"
   },
   {
    "duration": 17,
    "start_time": "2023-05-23T19:02:41.258Z"
   },
   {
    "duration": 144,
    "start_time": "2023-05-23T19:02:41.277Z"
   },
   {
    "duration": 5,
    "start_time": "2023-05-23T19:02:41.423Z"
   },
   {
    "duration": 53,
    "start_time": "2023-05-23T19:02:41.429Z"
   },
   {
    "duration": 16,
    "start_time": "2023-05-23T19:02:41.484Z"
   },
   {
    "duration": 22,
    "start_time": "2023-05-23T19:02:41.502Z"
   },
   {
    "duration": 149,
    "start_time": "2023-05-23T19:02:41.526Z"
   },
   {
    "duration": 21,
    "start_time": "2023-05-23T19:02:41.677Z"
   },
   {
    "duration": 141,
    "start_time": "2023-05-23T19:02:41.700Z"
   },
   {
    "duration": 46,
    "start_time": "2023-05-23T19:02:41.843Z"
   },
   {
    "duration": 24,
    "start_time": "2023-05-23T19:02:41.891Z"
   },
   {
    "duration": 57,
    "start_time": "2023-05-23T19:02:41.916Z"
   },
   {
    "duration": 13,
    "start_time": "2023-05-23T19:02:41.975Z"
   },
   {
    "duration": 129,
    "start_time": "2023-05-23T19:02:41.989Z"
   },
   {
    "duration": 0,
    "start_time": "2023-05-23T19:02:42.121Z"
   },
   {
    "duration": 0,
    "start_time": "2023-05-23T19:02:42.122Z"
   },
   {
    "duration": 0,
    "start_time": "2023-05-23T19:02:42.123Z"
   },
   {
    "duration": 0,
    "start_time": "2023-05-23T19:02:42.125Z"
   },
   {
    "duration": 0,
    "start_time": "2023-05-23T19:02:42.126Z"
   },
   {
    "duration": 0,
    "start_time": "2023-05-23T19:02:42.128Z"
   },
   {
    "duration": 0,
    "start_time": "2023-05-23T19:02:42.130Z"
   },
   {
    "duration": 0,
    "start_time": "2023-05-23T19:02:42.131Z"
   },
   {
    "duration": 0,
    "start_time": "2023-05-23T19:02:42.132Z"
   },
   {
    "duration": 0,
    "start_time": "2023-05-23T19:02:42.157Z"
   },
   {
    "duration": 0,
    "start_time": "2023-05-23T19:02:42.158Z"
   },
   {
    "duration": 0,
    "start_time": "2023-05-23T19:02:42.160Z"
   },
   {
    "duration": 0,
    "start_time": "2023-05-23T19:02:42.161Z"
   },
   {
    "duration": 0,
    "start_time": "2023-05-23T19:02:42.162Z"
   },
   {
    "duration": 0,
    "start_time": "2023-05-23T19:02:42.163Z"
   },
   {
    "duration": 0,
    "start_time": "2023-05-23T19:02:42.165Z"
   },
   {
    "duration": 0,
    "start_time": "2023-05-23T19:02:42.166Z"
   },
   {
    "duration": 18,
    "start_time": "2023-05-23T19:04:20.422Z"
   },
   {
    "duration": 12,
    "start_time": "2023-05-23T19:06:06.324Z"
   },
   {
    "duration": 16,
    "start_time": "2023-05-23T19:06:24.597Z"
   },
   {
    "duration": 16,
    "start_time": "2023-05-23T19:07:30.280Z"
   },
   {
    "duration": 15,
    "start_time": "2023-05-23T19:07:40.291Z"
   },
   {
    "duration": 21,
    "start_time": "2023-05-23T19:09:14.418Z"
   },
   {
    "duration": 1162,
    "start_time": "2023-05-23T19:09:27.107Z"
   },
   {
    "duration": 132,
    "start_time": "2023-05-23T19:09:28.271Z"
   },
   {
    "duration": 37,
    "start_time": "2023-05-23T19:09:28.404Z"
   },
   {
    "duration": 20,
    "start_time": "2023-05-23T19:09:28.443Z"
   },
   {
    "duration": 63,
    "start_time": "2023-05-23T19:09:28.465Z"
   },
   {
    "duration": 5,
    "start_time": "2023-05-23T19:09:28.529Z"
   },
   {
    "duration": 36,
    "start_time": "2023-05-23T19:09:28.535Z"
   },
   {
    "duration": 20,
    "start_time": "2023-05-23T19:09:28.573Z"
   },
   {
    "duration": 4,
    "start_time": "2023-05-23T19:09:28.594Z"
   },
   {
    "duration": 76,
    "start_time": "2023-05-23T19:09:28.600Z"
   },
   {
    "duration": 63,
    "start_time": "2023-05-23T19:09:28.678Z"
   },
   {
    "duration": 18,
    "start_time": "2023-05-23T19:09:28.743Z"
   },
   {
    "duration": 11,
    "start_time": "2023-05-23T19:09:28.763Z"
   },
   {
    "duration": 48,
    "start_time": "2023-05-23T19:09:28.776Z"
   },
   {
    "duration": 7,
    "start_time": "2023-05-23T19:09:28.826Z"
   },
   {
    "duration": 292,
    "start_time": "2023-05-23T19:09:28.834Z"
   },
   {
    "duration": 35,
    "start_time": "2023-05-23T19:09:29.128Z"
   },
   {
    "duration": 173,
    "start_time": "2023-05-23T19:09:29.165Z"
   },
   {
    "duration": 21,
    "start_time": "2023-05-23T19:09:29.340Z"
   },
   {
    "duration": 5,
    "start_time": "2023-05-23T19:09:29.362Z"
   },
   {
    "duration": 17,
    "start_time": "2023-05-23T19:09:29.368Z"
   },
   {
    "duration": 25,
    "start_time": "2023-05-23T19:09:29.386Z"
   },
   {
    "duration": 192,
    "start_time": "2023-05-23T19:09:29.413Z"
   },
   {
    "duration": 13,
    "start_time": "2023-05-23T19:09:29.607Z"
   },
   {
    "duration": 129,
    "start_time": "2023-05-23T19:09:29.621Z"
   },
   {
    "duration": 6,
    "start_time": "2023-05-23T19:09:29.755Z"
   },
   {
    "duration": 17,
    "start_time": "2023-05-23T19:09:29.762Z"
   },
   {
    "duration": 131,
    "start_time": "2023-05-23T19:09:29.781Z"
   },
   {
    "duration": 5,
    "start_time": "2023-05-23T19:09:29.914Z"
   },
   {
    "duration": 45,
    "start_time": "2023-05-23T19:09:29.920Z"
   },
   {
    "duration": 14,
    "start_time": "2023-05-23T19:09:29.968Z"
   },
   {
    "duration": 20,
    "start_time": "2023-05-23T19:09:29.983Z"
   },
   {
    "duration": 160,
    "start_time": "2023-05-23T19:09:30.005Z"
   },
   {
    "duration": 21,
    "start_time": "2023-05-23T19:09:30.167Z"
   },
   {
    "duration": 148,
    "start_time": "2023-05-23T19:09:30.190Z"
   },
   {
    "duration": 52,
    "start_time": "2023-05-23T19:09:30.340Z"
   },
   {
    "duration": 144,
    "start_time": "2023-05-23T19:09:30.394Z"
   },
   {
    "duration": 0,
    "start_time": "2023-05-23T19:09:30.540Z"
   },
   {
    "duration": 0,
    "start_time": "2023-05-23T19:09:30.542Z"
   },
   {
    "duration": 0,
    "start_time": "2023-05-23T19:09:30.543Z"
   },
   {
    "duration": 0,
    "start_time": "2023-05-23T19:09:30.544Z"
   },
   {
    "duration": 0,
    "start_time": "2023-05-23T19:09:30.557Z"
   },
   {
    "duration": 0,
    "start_time": "2023-05-23T19:09:30.559Z"
   },
   {
    "duration": 0,
    "start_time": "2023-05-23T19:09:30.560Z"
   },
   {
    "duration": 0,
    "start_time": "2023-05-23T19:09:30.561Z"
   },
   {
    "duration": 0,
    "start_time": "2023-05-23T19:09:30.562Z"
   },
   {
    "duration": 0,
    "start_time": "2023-05-23T19:09:30.563Z"
   },
   {
    "duration": 0,
    "start_time": "2023-05-23T19:09:30.564Z"
   },
   {
    "duration": 0,
    "start_time": "2023-05-23T19:09:30.566Z"
   },
   {
    "duration": 0,
    "start_time": "2023-05-23T19:09:30.567Z"
   },
   {
    "duration": 0,
    "start_time": "2023-05-23T19:09:30.568Z"
   },
   {
    "duration": 0,
    "start_time": "2023-05-23T19:09:30.569Z"
   },
   {
    "duration": 0,
    "start_time": "2023-05-23T19:09:30.570Z"
   },
   {
    "duration": 0,
    "start_time": "2023-05-23T19:09:30.570Z"
   },
   {
    "duration": 0,
    "start_time": "2023-05-23T19:09:30.571Z"
   },
   {
    "duration": 0,
    "start_time": "2023-05-23T19:09:30.572Z"
   },
   {
    "duration": 12,
    "start_time": "2023-05-23T19:09:46.938Z"
   },
   {
    "duration": 16,
    "start_time": "2023-05-23T19:10:23.748Z"
   },
   {
    "duration": 1135,
    "start_time": "2023-05-23T19:10:33.245Z"
   },
   {
    "duration": 132,
    "start_time": "2023-05-23T19:10:34.382Z"
   },
   {
    "duration": 39,
    "start_time": "2023-05-23T19:10:34.516Z"
   },
   {
    "duration": 13,
    "start_time": "2023-05-23T19:10:34.557Z"
   },
   {
    "duration": 83,
    "start_time": "2023-05-23T19:10:34.573Z"
   },
   {
    "duration": 6,
    "start_time": "2023-05-23T19:10:34.658Z"
   },
   {
    "duration": 20,
    "start_time": "2023-05-23T19:10:34.666Z"
   },
   {
    "duration": 20,
    "start_time": "2023-05-23T19:10:34.688Z"
   },
   {
    "duration": 4,
    "start_time": "2023-05-23T19:10:34.710Z"
   },
   {
    "duration": 79,
    "start_time": "2023-05-23T19:10:34.716Z"
   },
   {
    "duration": 74,
    "start_time": "2023-05-23T19:10:34.797Z"
   },
   {
    "duration": 7,
    "start_time": "2023-05-23T19:10:34.873Z"
   },
   {
    "duration": 9,
    "start_time": "2023-05-23T19:10:34.882Z"
   },
   {
    "duration": 63,
    "start_time": "2023-05-23T19:10:34.894Z"
   },
   {
    "duration": 6,
    "start_time": "2023-05-23T19:10:34.959Z"
   },
   {
    "duration": 227,
    "start_time": "2023-05-23T19:10:34.967Z"
   },
   {
    "duration": 32,
    "start_time": "2023-05-23T19:10:35.196Z"
   },
   {
    "duration": 172,
    "start_time": "2023-05-23T19:10:35.231Z"
   },
   {
    "duration": 12,
    "start_time": "2023-05-23T19:10:35.404Z"
   },
   {
    "duration": 18,
    "start_time": "2023-05-23T19:10:35.418Z"
   },
   {
    "duration": 26,
    "start_time": "2023-05-23T19:10:35.438Z"
   },
   {
    "duration": 27,
    "start_time": "2023-05-23T19:10:35.466Z"
   },
   {
    "duration": 180,
    "start_time": "2023-05-23T19:10:35.494Z"
   },
   {
    "duration": 12,
    "start_time": "2023-05-23T19:10:35.676Z"
   },
   {
    "duration": 122,
    "start_time": "2023-05-23T19:10:35.690Z"
   },
   {
    "duration": 6,
    "start_time": "2023-05-23T19:10:35.814Z"
   },
   {
    "duration": 27,
    "start_time": "2023-05-23T19:10:35.822Z"
   },
   {
    "duration": 119,
    "start_time": "2023-05-23T19:10:35.857Z"
   },
   {
    "duration": 8,
    "start_time": "2023-05-23T19:10:35.979Z"
   },
   {
    "duration": 50,
    "start_time": "2023-05-23T19:10:35.989Z"
   },
   {
    "duration": 23,
    "start_time": "2023-05-23T19:10:36.041Z"
   },
   {
    "duration": 20,
    "start_time": "2023-05-23T19:10:36.066Z"
   },
   {
    "duration": 134,
    "start_time": "2023-05-23T19:10:36.088Z"
   },
   {
    "duration": 22,
    "start_time": "2023-05-23T19:10:36.224Z"
   },
   {
    "duration": 147,
    "start_time": "2023-05-23T19:10:36.256Z"
   },
   {
    "duration": 40,
    "start_time": "2023-05-23T19:10:36.405Z"
   },
   {
    "duration": 13,
    "start_time": "2023-05-23T19:10:36.457Z"
   },
   {
    "duration": 40,
    "start_time": "2023-05-23T19:10:36.471Z"
   },
   {
    "duration": 101,
    "start_time": "2023-05-23T19:10:36.513Z"
   },
   {
    "duration": 0,
    "start_time": "2023-05-23T19:10:36.616Z"
   },
   {
    "duration": 0,
    "start_time": "2023-05-23T19:10:36.618Z"
   },
   {
    "duration": 0,
    "start_time": "2023-05-23T19:10:36.620Z"
   },
   {
    "duration": 0,
    "start_time": "2023-05-23T19:10:36.620Z"
   },
   {
    "duration": 0,
    "start_time": "2023-05-23T19:10:36.621Z"
   },
   {
    "duration": 0,
    "start_time": "2023-05-23T19:10:36.622Z"
   },
   {
    "duration": 0,
    "start_time": "2023-05-23T19:10:36.623Z"
   },
   {
    "duration": 0,
    "start_time": "2023-05-23T19:10:36.624Z"
   },
   {
    "duration": 0,
    "start_time": "2023-05-23T19:10:36.625Z"
   },
   {
    "duration": 0,
    "start_time": "2023-05-23T19:10:36.626Z"
   },
   {
    "duration": 0,
    "start_time": "2023-05-23T19:10:36.627Z"
   },
   {
    "duration": 0,
    "start_time": "2023-05-23T19:10:36.628Z"
   },
   {
    "duration": 0,
    "start_time": "2023-05-23T19:10:36.629Z"
   },
   {
    "duration": 0,
    "start_time": "2023-05-23T19:10:36.629Z"
   },
   {
    "duration": 0,
    "start_time": "2023-05-23T19:10:36.630Z"
   },
   {
    "duration": 0,
    "start_time": "2023-05-23T19:10:36.657Z"
   },
   {
    "duration": 0,
    "start_time": "2023-05-23T19:10:36.658Z"
   },
   {
    "duration": 0,
    "start_time": "2023-05-23T19:10:36.659Z"
   },
   {
    "duration": 0,
    "start_time": "2023-05-23T19:10:36.660Z"
   },
   {
    "duration": 15,
    "start_time": "2023-05-23T19:10:52.386Z"
   },
   {
    "duration": 10,
    "start_time": "2023-05-23T19:11:34.984Z"
   },
   {
    "duration": 1154,
    "start_time": "2023-05-23T19:11:42.809Z"
   },
   {
    "duration": 128,
    "start_time": "2023-05-23T19:11:43.965Z"
   },
   {
    "duration": 34,
    "start_time": "2023-05-23T19:11:44.094Z"
   },
   {
    "duration": 11,
    "start_time": "2023-05-23T19:11:44.129Z"
   },
   {
    "duration": 70,
    "start_time": "2023-05-23T19:11:44.142Z"
   },
   {
    "duration": 4,
    "start_time": "2023-05-23T19:11:44.214Z"
   },
   {
    "duration": 26,
    "start_time": "2023-05-23T19:11:44.219Z"
   },
   {
    "duration": 24,
    "start_time": "2023-05-23T19:11:44.247Z"
   },
   {
    "duration": 4,
    "start_time": "2023-05-23T19:11:44.273Z"
   },
   {
    "duration": 83,
    "start_time": "2023-05-23T19:11:44.280Z"
   },
   {
    "duration": 60,
    "start_time": "2023-05-23T19:11:44.365Z"
   },
   {
    "duration": 6,
    "start_time": "2023-05-23T19:11:44.426Z"
   },
   {
    "duration": 28,
    "start_time": "2023-05-23T19:11:44.433Z"
   },
   {
    "duration": 56,
    "start_time": "2023-05-23T19:11:44.463Z"
   },
   {
    "duration": 5,
    "start_time": "2023-05-23T19:11:44.521Z"
   },
   {
    "duration": 237,
    "start_time": "2023-05-23T19:11:44.528Z"
   },
   {
    "duration": 29,
    "start_time": "2023-05-23T19:11:44.766Z"
   },
   {
    "duration": 165,
    "start_time": "2023-05-23T19:11:44.797Z"
   },
   {
    "duration": 13,
    "start_time": "2023-05-23T19:11:44.963Z"
   },
   {
    "duration": 11,
    "start_time": "2023-05-23T19:11:44.977Z"
   },
   {
    "duration": 26,
    "start_time": "2023-05-23T19:11:44.989Z"
   },
   {
    "duration": 54,
    "start_time": "2023-05-23T19:11:45.017Z"
   },
   {
    "duration": 179,
    "start_time": "2023-05-23T19:11:45.072Z"
   },
   {
    "duration": 12,
    "start_time": "2023-05-23T19:11:45.253Z"
   },
   {
    "duration": 130,
    "start_time": "2023-05-23T19:11:45.267Z"
   },
   {
    "duration": 5,
    "start_time": "2023-05-23T19:11:45.399Z"
   },
   {
    "duration": 21,
    "start_time": "2023-05-23T19:11:45.406Z"
   },
   {
    "duration": 135,
    "start_time": "2023-05-23T19:11:45.431Z"
   },
   {
    "duration": 5,
    "start_time": "2023-05-23T19:11:45.568Z"
   },
   {
    "duration": 45,
    "start_time": "2023-05-23T19:11:45.575Z"
   },
   {
    "duration": 15,
    "start_time": "2023-05-23T19:11:45.621Z"
   },
   {
    "duration": 35,
    "start_time": "2023-05-23T19:11:45.638Z"
   },
   {
    "duration": 140,
    "start_time": "2023-05-23T19:11:45.674Z"
   },
   {
    "duration": 19,
    "start_time": "2023-05-23T19:11:45.816Z"
   },
   {
    "duration": 148,
    "start_time": "2023-05-23T19:11:45.837Z"
   },
   {
    "duration": 42,
    "start_time": "2023-05-23T19:11:45.987Z"
   },
   {
    "duration": 31,
    "start_time": "2023-05-23T19:11:46.032Z"
   },
   {
    "duration": 105,
    "start_time": "2023-05-23T19:11:46.065Z"
   },
   {
    "duration": 0,
    "start_time": "2023-05-23T19:11:46.171Z"
   },
   {
    "duration": 0,
    "start_time": "2023-05-23T19:11:46.173Z"
   },
   {
    "duration": 0,
    "start_time": "2023-05-23T19:11:46.174Z"
   },
   {
    "duration": 0,
    "start_time": "2023-05-23T19:11:46.175Z"
   },
   {
    "duration": 0,
    "start_time": "2023-05-23T19:11:46.176Z"
   },
   {
    "duration": 0,
    "start_time": "2023-05-23T19:11:46.177Z"
   },
   {
    "duration": 0,
    "start_time": "2023-05-23T19:11:46.178Z"
   },
   {
    "duration": 0,
    "start_time": "2023-05-23T19:11:46.179Z"
   },
   {
    "duration": 0,
    "start_time": "2023-05-23T19:11:46.180Z"
   },
   {
    "duration": 0,
    "start_time": "2023-05-23T19:11:46.181Z"
   },
   {
    "duration": 0,
    "start_time": "2023-05-23T19:11:46.182Z"
   },
   {
    "duration": 0,
    "start_time": "2023-05-23T19:11:46.183Z"
   },
   {
    "duration": 0,
    "start_time": "2023-05-23T19:11:46.184Z"
   },
   {
    "duration": 0,
    "start_time": "2023-05-23T19:11:46.185Z"
   },
   {
    "duration": 0,
    "start_time": "2023-05-23T19:11:46.186Z"
   },
   {
    "duration": 0,
    "start_time": "2023-05-23T19:11:46.187Z"
   },
   {
    "duration": 0,
    "start_time": "2023-05-23T19:11:46.188Z"
   },
   {
    "duration": 0,
    "start_time": "2023-05-23T19:11:46.189Z"
   },
   {
    "duration": 0,
    "start_time": "2023-05-23T19:11:46.190Z"
   },
   {
    "duration": 1,
    "start_time": "2023-05-23T19:11:46.190Z"
   },
   {
    "duration": 12,
    "start_time": "2023-05-23T19:12:09.535Z"
   },
   {
    "duration": 13,
    "start_time": "2023-05-23T19:12:13.921Z"
   },
   {
    "duration": 38,
    "start_time": "2023-05-23T19:13:06.231Z"
   },
   {
    "duration": 32,
    "start_time": "2023-05-23T19:13:21.639Z"
   },
   {
    "duration": 10,
    "start_time": "2023-05-23T19:13:42.214Z"
   },
   {
    "duration": 15,
    "start_time": "2023-05-23T19:14:00.967Z"
   },
   {
    "duration": 39,
    "start_time": "2023-05-23T19:15:25.465Z"
   },
   {
    "duration": 1168,
    "start_time": "2023-05-23T19:17:13.721Z"
   },
   {
    "duration": 129,
    "start_time": "2023-05-23T19:17:14.891Z"
   },
   {
    "duration": 36,
    "start_time": "2023-05-23T19:17:15.021Z"
   },
   {
    "duration": 16,
    "start_time": "2023-05-23T19:17:15.058Z"
   },
   {
    "duration": 75,
    "start_time": "2023-05-23T19:17:15.076Z"
   },
   {
    "duration": 4,
    "start_time": "2023-05-23T19:17:15.153Z"
   },
   {
    "duration": 35,
    "start_time": "2023-05-23T19:17:15.159Z"
   },
   {
    "duration": 47,
    "start_time": "2023-05-23T19:17:15.196Z"
   },
   {
    "duration": 26,
    "start_time": "2023-05-23T19:17:15.245Z"
   },
   {
    "duration": 62,
    "start_time": "2023-05-23T19:17:15.274Z"
   },
   {
    "duration": 59,
    "start_time": "2023-05-23T19:17:15.338Z"
   },
   {
    "duration": 6,
    "start_time": "2023-05-23T19:17:15.399Z"
   },
   {
    "duration": 16,
    "start_time": "2023-05-23T19:17:15.407Z"
   },
   {
    "duration": 71,
    "start_time": "2023-05-23T19:17:15.425Z"
   },
   {
    "duration": 5,
    "start_time": "2023-05-23T19:17:15.498Z"
   },
   {
    "duration": 254,
    "start_time": "2023-05-23T19:17:15.504Z"
   },
   {
    "duration": 29,
    "start_time": "2023-05-23T19:17:15.760Z"
   },
   {
    "duration": 168,
    "start_time": "2023-05-23T19:17:15.790Z"
   },
   {
    "duration": 13,
    "start_time": "2023-05-23T19:17:15.960Z"
   },
   {
    "duration": 17,
    "start_time": "2023-05-23T19:17:15.975Z"
   },
   {
    "duration": 25,
    "start_time": "2023-05-23T19:17:15.994Z"
   },
   {
    "duration": 42,
    "start_time": "2023-05-23T19:17:16.021Z"
   },
   {
    "duration": 171,
    "start_time": "2023-05-23T19:17:16.064Z"
   },
   {
    "duration": 19,
    "start_time": "2023-05-23T19:17:16.237Z"
   },
   {
    "duration": 126,
    "start_time": "2023-05-23T19:17:16.258Z"
   },
   {
    "duration": 5,
    "start_time": "2023-05-23T19:17:16.386Z"
   },
   {
    "duration": 16,
    "start_time": "2023-05-23T19:17:16.392Z"
   },
   {
    "duration": 130,
    "start_time": "2023-05-23T19:17:16.412Z"
   },
   {
    "duration": 13,
    "start_time": "2023-05-23T19:17:16.544Z"
   },
   {
    "duration": 42,
    "start_time": "2023-05-23T19:17:16.559Z"
   },
   {
    "duration": 16,
    "start_time": "2023-05-23T19:17:16.603Z"
   },
   {
    "duration": 46,
    "start_time": "2023-05-23T19:17:16.621Z"
   },
   {
    "duration": 131,
    "start_time": "2023-05-23T19:17:16.669Z"
   },
   {
    "duration": 19,
    "start_time": "2023-05-23T19:17:16.802Z"
   },
   {
    "duration": 142,
    "start_time": "2023-05-23T19:17:16.823Z"
   },
   {
    "duration": 41,
    "start_time": "2023-05-23T19:17:16.967Z"
   },
   {
    "duration": 52,
    "start_time": "2023-05-23T19:17:17.010Z"
   },
   {
    "duration": 42,
    "start_time": "2023-05-23T19:17:17.064Z"
   },
   {
    "duration": 15,
    "start_time": "2023-05-23T19:17:17.108Z"
   },
   {
    "duration": 32,
    "start_time": "2023-05-23T19:17:17.125Z"
   },
   {
    "duration": 64,
    "start_time": "2023-05-23T19:17:17.159Z"
   },
   {
    "duration": 19,
    "start_time": "2023-05-23T19:17:17.225Z"
   },
   {
    "duration": 24,
    "start_time": "2023-05-23T19:17:17.247Z"
   },
   {
    "duration": 16,
    "start_time": "2023-05-23T19:17:17.273Z"
   },
   {
    "duration": 9,
    "start_time": "2023-05-23T19:17:17.290Z"
   },
   {
    "duration": 22,
    "start_time": "2023-05-23T19:17:17.300Z"
   },
   {
    "duration": 64,
    "start_time": "2023-05-23T19:17:17.324Z"
   },
   {
    "duration": 27,
    "start_time": "2023-05-23T19:17:17.389Z"
   },
   {
    "duration": 11,
    "start_time": "2023-05-23T19:17:17.418Z"
   },
   {
    "duration": 44,
    "start_time": "2023-05-23T19:17:17.430Z"
   },
   {
    "duration": 21,
    "start_time": "2023-05-23T19:17:17.476Z"
   },
   {
    "duration": 21,
    "start_time": "2023-05-23T19:17:17.499Z"
   },
   {
    "duration": 42,
    "start_time": "2023-05-23T19:17:17.522Z"
   },
   {
    "duration": 15,
    "start_time": "2023-05-23T19:17:17.566Z"
   },
   {
    "duration": 50,
    "start_time": "2023-05-23T19:17:17.583Z"
   },
   {
    "duration": 34,
    "start_time": "2023-05-23T19:17:17.635Z"
   },
   {
    "duration": 17,
    "start_time": "2023-05-23T19:17:17.670Z"
   },
   {
    "duration": 185,
    "start_time": "2023-05-23T19:21:21.609Z"
   },
   {
    "duration": 1214,
    "start_time": "2023-05-23T19:21:50.086Z"
   },
   {
    "duration": 301,
    "start_time": "2023-05-23T19:21:51.301Z"
   },
   {
    "duration": 48,
    "start_time": "2023-05-23T19:21:51.603Z"
   },
   {
    "duration": 12,
    "start_time": "2023-05-23T19:21:51.655Z"
   },
   {
    "duration": 63,
    "start_time": "2023-05-23T19:21:51.669Z"
   },
   {
    "duration": 6,
    "start_time": "2023-05-23T19:21:51.734Z"
   },
   {
    "duration": 20,
    "start_time": "2023-05-23T19:21:51.758Z"
   },
   {
    "duration": 30,
    "start_time": "2023-05-23T19:21:51.780Z"
   },
   {
    "duration": 14,
    "start_time": "2023-05-23T19:21:51.812Z"
   },
   {
    "duration": 62,
    "start_time": "2023-05-23T19:21:51.830Z"
   },
   {
    "duration": 73,
    "start_time": "2023-05-23T19:21:51.894Z"
   },
   {
    "duration": 6,
    "start_time": "2023-05-23T19:21:51.969Z"
   },
   {
    "duration": 25,
    "start_time": "2023-05-23T19:21:51.977Z"
   },
   {
    "duration": 69,
    "start_time": "2023-05-23T19:21:52.004Z"
   },
   {
    "duration": 4,
    "start_time": "2023-05-23T19:21:52.075Z"
   },
   {
    "duration": 281,
    "start_time": "2023-05-23T19:21:52.081Z"
   },
   {
    "duration": 32,
    "start_time": "2023-05-23T19:21:52.363Z"
   },
   {
    "duration": 171,
    "start_time": "2023-05-23T19:21:52.396Z"
   },
   {
    "duration": 15,
    "start_time": "2023-05-23T19:21:52.568Z"
   },
   {
    "duration": 6,
    "start_time": "2023-05-23T19:21:52.585Z"
   },
   {
    "duration": 24,
    "start_time": "2023-05-23T19:21:52.593Z"
   },
   {
    "duration": 51,
    "start_time": "2023-05-23T19:21:52.620Z"
   },
   {
    "duration": 178,
    "start_time": "2023-05-23T19:21:52.673Z"
   },
   {
    "duration": 14,
    "start_time": "2023-05-23T19:21:52.852Z"
   },
   {
    "duration": 138,
    "start_time": "2023-05-23T19:21:52.868Z"
   },
   {
    "duration": 6,
    "start_time": "2023-05-23T19:21:53.008Z"
   },
   {
    "duration": 29,
    "start_time": "2023-05-23T19:21:53.016Z"
   },
   {
    "duration": 124,
    "start_time": "2023-05-23T19:21:53.050Z"
   },
   {
    "duration": 5,
    "start_time": "2023-05-23T19:21:53.177Z"
   },
   {
    "duration": 55,
    "start_time": "2023-05-23T19:21:53.184Z"
   },
   {
    "duration": 29,
    "start_time": "2023-05-23T19:21:53.241Z"
   },
   {
    "duration": 41,
    "start_time": "2023-05-23T19:21:53.272Z"
   },
   {
    "duration": 133,
    "start_time": "2023-05-23T19:21:53.315Z"
   },
   {
    "duration": 23,
    "start_time": "2023-05-23T19:21:53.449Z"
   },
   {
    "duration": 142,
    "start_time": "2023-05-23T19:21:53.473Z"
   },
   {
    "duration": 49,
    "start_time": "2023-05-23T19:21:53.617Z"
   },
   {
    "duration": 35,
    "start_time": "2023-05-23T19:21:53.669Z"
   },
   {
    "duration": 64,
    "start_time": "2023-05-23T19:21:53.706Z"
   },
   {
    "duration": 16,
    "start_time": "2023-05-23T19:21:53.772Z"
   },
   {
    "duration": 29,
    "start_time": "2023-05-23T19:21:53.789Z"
   },
   {
    "duration": 38,
    "start_time": "2023-05-23T19:21:53.820Z"
   },
   {
    "duration": 16,
    "start_time": "2023-05-23T19:21:53.860Z"
   },
   {
    "duration": 20,
    "start_time": "2023-05-23T19:21:53.877Z"
   },
   {
    "duration": 14,
    "start_time": "2023-05-23T19:21:53.899Z"
   },
   {
    "duration": 45,
    "start_time": "2023-05-23T19:21:53.915Z"
   },
   {
    "duration": 17,
    "start_time": "2023-05-23T19:21:53.961Z"
   },
   {
    "duration": 35,
    "start_time": "2023-05-23T19:21:53.980Z"
   },
   {
    "duration": 48,
    "start_time": "2023-05-23T19:21:54.017Z"
   },
   {
    "duration": 9,
    "start_time": "2023-05-23T19:21:54.067Z"
   },
   {
    "duration": 30,
    "start_time": "2023-05-23T19:21:54.078Z"
   },
   {
    "duration": 22,
    "start_time": "2023-05-23T19:21:54.110Z"
   },
   {
    "duration": 37,
    "start_time": "2023-05-23T19:21:54.134Z"
   },
   {
    "duration": 17,
    "start_time": "2023-05-23T19:21:54.173Z"
   },
   {
    "duration": 17,
    "start_time": "2023-05-23T19:21:54.192Z"
   },
   {
    "duration": 68,
    "start_time": "2023-05-23T19:21:54.211Z"
   },
   {
    "duration": 17,
    "start_time": "2023-05-23T19:21:54.281Z"
   },
   {
    "duration": 18,
    "start_time": "2023-05-23T19:21:54.300Z"
   },
   {
    "duration": 124,
    "start_time": "2023-05-23T19:22:18.926Z"
   },
   {
    "duration": 188,
    "start_time": "2023-05-23T19:22:42.960Z"
   },
   {
    "duration": 50,
    "start_time": "2023-05-23T19:23:01.507Z"
   },
   {
    "duration": 1215,
    "start_time": "2023-05-23T19:23:09.777Z"
   },
   {
    "duration": 277,
    "start_time": "2023-05-23T19:23:10.994Z"
   },
   {
    "duration": 37,
    "start_time": "2023-05-23T19:23:11.273Z"
   },
   {
    "duration": 12,
    "start_time": "2023-05-23T19:23:11.312Z"
   },
   {
    "duration": 77,
    "start_time": "2023-05-23T19:23:11.326Z"
   },
   {
    "duration": 5,
    "start_time": "2023-05-23T19:23:11.405Z"
   },
   {
    "duration": 31,
    "start_time": "2023-05-23T19:23:11.411Z"
   },
   {
    "duration": 19,
    "start_time": "2023-05-23T19:23:11.444Z"
   },
   {
    "duration": 3,
    "start_time": "2023-05-23T19:23:11.465Z"
   },
   {
    "duration": 55,
    "start_time": "2023-05-23T19:23:11.471Z"
   },
   {
    "duration": 81,
    "start_time": "2023-05-23T19:23:11.528Z"
   },
   {
    "duration": 5,
    "start_time": "2023-05-23T19:23:11.612Z"
   },
   {
    "duration": 10,
    "start_time": "2023-05-23T19:23:11.619Z"
   },
   {
    "duration": 64,
    "start_time": "2023-05-23T19:23:11.631Z"
   },
   {
    "duration": 5,
    "start_time": "2023-05-23T19:23:11.696Z"
   },
   {
    "duration": 243,
    "start_time": "2023-05-23T19:23:11.703Z"
   },
   {
    "duration": 31,
    "start_time": "2023-05-23T19:23:11.948Z"
   },
   {
    "duration": 172,
    "start_time": "2023-05-23T19:23:11.982Z"
   },
   {
    "duration": 13,
    "start_time": "2023-05-23T19:23:12.156Z"
   },
   {
    "duration": 6,
    "start_time": "2023-05-23T19:23:12.170Z"
   },
   {
    "duration": 25,
    "start_time": "2023-05-23T19:23:12.177Z"
   },
   {
    "duration": 30,
    "start_time": "2023-05-23T19:23:12.204Z"
   },
   {
    "duration": 180,
    "start_time": "2023-05-23T19:23:12.256Z"
   },
   {
    "duration": 21,
    "start_time": "2023-05-23T19:23:12.438Z"
   },
   {
    "duration": 133,
    "start_time": "2023-05-23T19:23:12.461Z"
   },
   {
    "duration": 6,
    "start_time": "2023-05-23T19:23:12.596Z"
   },
   {
    "duration": 32,
    "start_time": "2023-05-23T19:23:12.603Z"
   },
   {
    "duration": 138,
    "start_time": "2023-05-23T19:23:12.639Z"
   },
   {
    "duration": 5,
    "start_time": "2023-05-23T19:23:12.779Z"
   },
   {
    "duration": 59,
    "start_time": "2023-05-23T19:23:12.786Z"
   },
   {
    "duration": 17,
    "start_time": "2023-05-23T19:23:12.847Z"
   },
   {
    "duration": 21,
    "start_time": "2023-05-23T19:23:12.866Z"
   },
   {
    "duration": 146,
    "start_time": "2023-05-23T19:23:12.888Z"
   },
   {
    "duration": 28,
    "start_time": "2023-05-23T19:23:13.036Z"
   },
   {
    "duration": 134,
    "start_time": "2023-05-23T19:23:13.066Z"
   },
   {
    "duration": 67,
    "start_time": "2023-05-23T19:23:13.202Z"
   },
   {
    "duration": 34,
    "start_time": "2023-05-23T19:23:13.271Z"
   },
   {
    "duration": 55,
    "start_time": "2023-05-23T19:23:13.307Z"
   },
   {
    "duration": 28,
    "start_time": "2023-05-23T19:23:13.365Z"
   },
   {
    "duration": 22,
    "start_time": "2023-05-23T19:23:13.395Z"
   },
   {
    "duration": 63,
    "start_time": "2023-05-23T19:23:13.419Z"
   },
   {
    "duration": 21,
    "start_time": "2023-05-23T19:23:13.483Z"
   },
   {
    "duration": 50,
    "start_time": "2023-05-23T19:23:13.506Z"
   },
   {
    "duration": 19,
    "start_time": "2023-05-23T19:23:13.558Z"
   },
   {
    "duration": 8,
    "start_time": "2023-05-23T19:23:13.579Z"
   },
   {
    "duration": 31,
    "start_time": "2023-05-23T19:23:13.588Z"
   },
   {
    "duration": 52,
    "start_time": "2023-05-23T19:23:13.621Z"
   },
   {
    "duration": 22,
    "start_time": "2023-05-23T19:23:13.675Z"
   },
   {
    "duration": 13,
    "start_time": "2023-05-23T19:23:13.699Z"
   },
   {
    "duration": 19,
    "start_time": "2023-05-23T19:23:13.713Z"
   },
   {
    "duration": 39,
    "start_time": "2023-05-23T19:23:13.734Z"
   },
   {
    "duration": 24,
    "start_time": "2023-05-23T19:23:13.775Z"
   },
   {
    "duration": 18,
    "start_time": "2023-05-23T19:23:13.801Z"
   },
   {
    "duration": 15,
    "start_time": "2023-05-23T19:23:13.821Z"
   },
   {
    "duration": 79,
    "start_time": "2023-05-23T19:23:13.837Z"
   },
   {
    "duration": 18,
    "start_time": "2023-05-23T19:23:13.917Z"
   },
   {
    "duration": 30,
    "start_time": "2023-05-23T19:23:13.936Z"
   },
   {
    "duration": 1571,
    "start_time": "2023-05-23T19:24:26.713Z"
   },
   {
    "duration": 1235,
    "start_time": "2023-05-23T19:24:59.140Z"
   },
   {
    "duration": 273,
    "start_time": "2023-05-23T19:25:00.377Z"
   },
   {
    "duration": 34,
    "start_time": "2023-05-23T19:25:00.652Z"
   },
   {
    "duration": 29,
    "start_time": "2023-05-23T19:25:00.688Z"
   },
   {
    "duration": 109,
    "start_time": "2023-05-23T19:25:00.720Z"
   },
   {
    "duration": 5,
    "start_time": "2023-05-23T19:25:00.831Z"
   },
   {
    "duration": 82,
    "start_time": "2023-05-23T19:25:00.838Z"
   },
   {
    "duration": 61,
    "start_time": "2023-05-23T19:25:00.922Z"
   },
   {
    "duration": 58,
    "start_time": "2023-05-23T19:25:00.984Z"
   },
   {
    "duration": 126,
    "start_time": "2023-05-23T19:25:01.043Z"
   },
   {
    "duration": 84,
    "start_time": "2023-05-23T19:25:01.171Z"
   },
   {
    "duration": 19,
    "start_time": "2023-05-23T19:25:01.257Z"
   },
   {
    "duration": 95,
    "start_time": "2023-05-23T19:25:01.278Z"
   },
   {
    "duration": 96,
    "start_time": "2023-05-23T19:25:01.376Z"
   },
   {
    "duration": 5,
    "start_time": "2023-05-23T19:25:01.473Z"
   },
   {
    "duration": 270,
    "start_time": "2023-05-23T19:25:01.480Z"
   },
   {
    "duration": 35,
    "start_time": "2023-05-23T19:25:01.752Z"
   },
   {
    "duration": 178,
    "start_time": "2023-05-23T19:25:01.789Z"
   },
   {
    "duration": 13,
    "start_time": "2023-05-23T19:25:01.969Z"
   },
   {
    "duration": 39,
    "start_time": "2023-05-23T19:25:01.984Z"
   },
   {
    "duration": 18,
    "start_time": "2023-05-23T19:25:02.025Z"
   },
   {
    "duration": 70,
    "start_time": "2023-05-23T19:25:02.045Z"
   },
   {
    "duration": 162,
    "start_time": "2023-05-23T19:25:02.117Z"
   },
   {
    "duration": 13,
    "start_time": "2023-05-23T19:25:02.280Z"
   },
   {
    "duration": 151,
    "start_time": "2023-05-23T19:25:02.295Z"
   },
   {
    "duration": 11,
    "start_time": "2023-05-23T19:25:02.448Z"
   },
   {
    "duration": 34,
    "start_time": "2023-05-23T19:25:02.461Z"
   },
   {
    "duration": 132,
    "start_time": "2023-05-23T19:25:02.497Z"
   },
   {
    "duration": 4,
    "start_time": "2023-05-23T19:25:02.631Z"
   },
   {
    "duration": 59,
    "start_time": "2023-05-23T19:25:02.637Z"
   },
   {
    "duration": 15,
    "start_time": "2023-05-23T19:25:02.698Z"
   },
   {
    "duration": 36,
    "start_time": "2023-05-23T19:25:02.714Z"
   },
   {
    "duration": 139,
    "start_time": "2023-05-23T19:25:02.752Z"
   },
   {
    "duration": 21,
    "start_time": "2023-05-23T19:25:02.892Z"
   },
   {
    "duration": 144,
    "start_time": "2023-05-23T19:25:02.914Z"
   },
   {
    "duration": 40,
    "start_time": "2023-05-23T19:25:03.060Z"
   },
   {
    "duration": 32,
    "start_time": "2023-05-23T19:25:03.102Z"
   },
   {
    "duration": 55,
    "start_time": "2023-05-23T19:25:03.136Z"
   },
   {
    "duration": 36,
    "start_time": "2023-05-23T19:25:03.193Z"
   },
   {
    "duration": 42,
    "start_time": "2023-05-23T19:25:03.231Z"
   },
   {
    "duration": 40,
    "start_time": "2023-05-23T19:25:03.277Z"
   },
   {
    "duration": 41,
    "start_time": "2023-05-23T19:25:03.319Z"
   },
   {
    "duration": 30,
    "start_time": "2023-05-23T19:25:03.362Z"
   },
   {
    "duration": 21,
    "start_time": "2023-05-23T19:25:03.393Z"
   },
   {
    "duration": 8,
    "start_time": "2023-05-23T19:25:03.416Z"
   },
   {
    "duration": 42,
    "start_time": "2023-05-23T19:25:03.425Z"
   },
   {
    "duration": 33,
    "start_time": "2023-05-23T19:25:03.469Z"
   },
   {
    "duration": 22,
    "start_time": "2023-05-23T19:25:03.503Z"
   },
   {
    "duration": 31,
    "start_time": "2023-05-23T19:25:03.527Z"
   },
   {
    "duration": 29,
    "start_time": "2023-05-23T19:25:03.560Z"
   },
   {
    "duration": 32,
    "start_time": "2023-05-23T19:25:03.591Z"
   },
   {
    "duration": 32,
    "start_time": "2023-05-23T19:25:03.625Z"
   },
   {
    "duration": 31,
    "start_time": "2023-05-23T19:25:03.658Z"
   },
   {
    "duration": 24,
    "start_time": "2023-05-23T19:25:03.691Z"
   },
   {
    "duration": 71,
    "start_time": "2023-05-23T19:25:03.717Z"
   },
   {
    "duration": 17,
    "start_time": "2023-05-23T19:25:03.790Z"
   },
   {
    "duration": 17,
    "start_time": "2023-05-23T19:25:03.808Z"
   },
   {
    "duration": 108,
    "start_time": "2023-05-23T19:26:49.283Z"
   },
   {
    "duration": 1162,
    "start_time": "2023-05-23T19:26:57.175Z"
   },
   {
    "duration": 139,
    "start_time": "2023-05-23T19:26:58.339Z"
   },
   {
    "duration": 36,
    "start_time": "2023-05-23T19:26:58.480Z"
   },
   {
    "duration": 12,
    "start_time": "2023-05-23T19:26:58.518Z"
   },
   {
    "duration": 80,
    "start_time": "2023-05-23T19:26:58.531Z"
   },
   {
    "duration": 5,
    "start_time": "2023-05-23T19:26:58.613Z"
   },
   {
    "duration": 23,
    "start_time": "2023-05-23T19:26:58.619Z"
   },
   {
    "duration": 28,
    "start_time": "2023-05-23T19:26:58.644Z"
   },
   {
    "duration": 5,
    "start_time": "2023-05-23T19:26:58.673Z"
   },
   {
    "duration": 56,
    "start_time": "2023-05-23T19:26:58.681Z"
   },
   {
    "duration": 78,
    "start_time": "2023-05-23T19:26:58.738Z"
   },
   {
    "duration": 6,
    "start_time": "2023-05-23T19:26:58.818Z"
   },
   {
    "duration": 14,
    "start_time": "2023-05-23T19:26:58.826Z"
   },
   {
    "duration": 49,
    "start_time": "2023-05-23T19:26:58.857Z"
   },
   {
    "duration": 4,
    "start_time": "2023-05-23T19:26:58.909Z"
   },
   {
    "duration": 294,
    "start_time": "2023-05-23T19:26:58.915Z"
   },
   {
    "duration": 30,
    "start_time": "2023-05-23T19:26:59.211Z"
   },
   {
    "duration": 169,
    "start_time": "2023-05-23T19:26:59.244Z"
   },
   {
    "duration": 13,
    "start_time": "2023-05-23T19:26:59.415Z"
   },
   {
    "duration": 6,
    "start_time": "2023-05-23T19:26:59.430Z"
   },
   {
    "duration": 33,
    "start_time": "2023-05-23T19:26:59.437Z"
   },
   {
    "duration": 24,
    "start_time": "2023-05-23T19:26:59.472Z"
   },
   {
    "duration": 181,
    "start_time": "2023-05-23T19:26:59.498Z"
   },
   {
    "duration": 13,
    "start_time": "2023-05-23T19:26:59.681Z"
   },
   {
    "duration": 131,
    "start_time": "2023-05-23T19:26:59.696Z"
   },
   {
    "duration": 5,
    "start_time": "2023-05-23T19:26:59.829Z"
   },
   {
    "duration": 28,
    "start_time": "2023-05-23T19:26:59.835Z"
   },
   {
    "duration": 115,
    "start_time": "2023-05-23T19:26:59.867Z"
   },
   {
    "duration": 4,
    "start_time": "2023-05-23T19:26:59.984Z"
   },
   {
    "duration": 42,
    "start_time": "2023-05-23T19:26:59.989Z"
   },
   {
    "duration": 34,
    "start_time": "2023-05-23T19:27:00.033Z"
   },
   {
    "duration": 34,
    "start_time": "2023-05-23T19:27:00.068Z"
   },
   {
    "duration": 155,
    "start_time": "2023-05-23T19:27:00.104Z"
   },
   {
    "duration": 22,
    "start_time": "2023-05-23T19:27:00.260Z"
   },
   {
    "duration": 142,
    "start_time": "2023-05-23T19:27:00.283Z"
   },
   {
    "duration": 51,
    "start_time": "2023-05-23T19:27:00.427Z"
   },
   {
    "duration": 52,
    "start_time": "2023-05-23T19:27:00.479Z"
   },
   {
    "duration": 254,
    "start_time": "2023-05-23T19:27:00.532Z"
   },
   {
    "duration": 113,
    "start_time": "2023-05-23T19:27:00.787Z"
   },
   {
    "duration": 0,
    "start_time": "2023-05-23T19:27:00.902Z"
   },
   {
    "duration": 0,
    "start_time": "2023-05-23T19:27:00.903Z"
   },
   {
    "duration": 0,
    "start_time": "2023-05-23T19:27:00.905Z"
   },
   {
    "duration": 0,
    "start_time": "2023-05-23T19:27:00.906Z"
   },
   {
    "duration": 0,
    "start_time": "2023-05-23T19:27:00.907Z"
   },
   {
    "duration": 0,
    "start_time": "2023-05-23T19:27:00.908Z"
   },
   {
    "duration": 0,
    "start_time": "2023-05-23T19:27:00.909Z"
   },
   {
    "duration": 0,
    "start_time": "2023-05-23T19:27:00.910Z"
   },
   {
    "duration": 0,
    "start_time": "2023-05-23T19:27:00.911Z"
   },
   {
    "duration": 0,
    "start_time": "2023-05-23T19:27:00.912Z"
   },
   {
    "duration": 0,
    "start_time": "2023-05-23T19:27:00.914Z"
   },
   {
    "duration": 0,
    "start_time": "2023-05-23T19:27:00.914Z"
   },
   {
    "duration": 0,
    "start_time": "2023-05-23T19:27:00.916Z"
   },
   {
    "duration": 0,
    "start_time": "2023-05-23T19:27:00.916Z"
   },
   {
    "duration": 0,
    "start_time": "2023-05-23T19:27:00.917Z"
   },
   {
    "duration": 0,
    "start_time": "2023-05-23T19:27:00.918Z"
   },
   {
    "duration": 0,
    "start_time": "2023-05-23T19:27:00.919Z"
   },
   {
    "duration": 0,
    "start_time": "2023-05-23T19:27:00.920Z"
   },
   {
    "duration": 757,
    "start_time": "2023-05-23T19:27:33.941Z"
   },
   {
    "duration": 1249,
    "start_time": "2023-05-23T19:28:02.843Z"
   },
   {
    "duration": 273,
    "start_time": "2023-05-23T19:28:04.094Z"
   },
   {
    "duration": 38,
    "start_time": "2023-05-23T19:28:04.369Z"
   },
   {
    "duration": 13,
    "start_time": "2023-05-23T19:28:04.409Z"
   },
   {
    "duration": 78,
    "start_time": "2023-05-23T19:28:04.425Z"
   },
   {
    "duration": 5,
    "start_time": "2023-05-23T19:28:04.505Z"
   },
   {
    "duration": 24,
    "start_time": "2023-05-23T19:28:04.512Z"
   },
   {
    "duration": 30,
    "start_time": "2023-05-23T19:28:04.539Z"
   },
   {
    "duration": 14,
    "start_time": "2023-05-23T19:28:04.571Z"
   },
   {
    "duration": 70,
    "start_time": "2023-05-23T19:28:04.587Z"
   },
   {
    "duration": 68,
    "start_time": "2023-05-23T19:28:04.659Z"
   },
   {
    "duration": 7,
    "start_time": "2023-05-23T19:28:04.729Z"
   },
   {
    "duration": 9,
    "start_time": "2023-05-23T19:28:04.757Z"
   },
   {
    "duration": 77,
    "start_time": "2023-05-23T19:28:04.769Z"
   },
   {
    "duration": 4,
    "start_time": "2023-05-23T19:28:04.848Z"
   },
   {
    "duration": 251,
    "start_time": "2023-05-23T19:28:04.854Z"
   },
   {
    "duration": 33,
    "start_time": "2023-05-23T19:28:05.106Z"
   },
   {
    "duration": 194,
    "start_time": "2023-05-23T19:28:05.141Z"
   },
   {
    "duration": 23,
    "start_time": "2023-05-23T19:28:05.337Z"
   },
   {
    "duration": 8,
    "start_time": "2023-05-23T19:28:05.362Z"
   },
   {
    "duration": 27,
    "start_time": "2023-05-23T19:28:05.372Z"
   },
   {
    "duration": 46,
    "start_time": "2023-05-23T19:28:05.401Z"
   },
   {
    "duration": 193,
    "start_time": "2023-05-23T19:28:05.449Z"
   },
   {
    "duration": 20,
    "start_time": "2023-05-23T19:28:05.645Z"
   },
   {
    "duration": 134,
    "start_time": "2023-05-23T19:28:05.667Z"
   },
   {
    "duration": 6,
    "start_time": "2023-05-23T19:28:05.803Z"
   },
   {
    "duration": 40,
    "start_time": "2023-05-23T19:28:05.810Z"
   },
   {
    "duration": 149,
    "start_time": "2023-05-23T19:28:05.852Z"
   },
   {
    "duration": 6,
    "start_time": "2023-05-23T19:28:06.003Z"
   },
   {
    "duration": 71,
    "start_time": "2023-05-23T19:28:06.010Z"
   },
   {
    "duration": 18,
    "start_time": "2023-05-23T19:28:06.083Z"
   },
   {
    "duration": 24,
    "start_time": "2023-05-23T19:28:06.103Z"
   },
   {
    "duration": 147,
    "start_time": "2023-05-23T19:28:06.129Z"
   },
   {
    "duration": 20,
    "start_time": "2023-05-23T19:28:06.278Z"
   },
   {
    "duration": 156,
    "start_time": "2023-05-23T19:28:06.300Z"
   },
   {
    "duration": 43,
    "start_time": "2023-05-23T19:28:06.458Z"
   },
   {
    "duration": 55,
    "start_time": "2023-05-23T19:28:06.503Z"
   },
   {
    "duration": 25,
    "start_time": "2023-05-23T19:28:06.560Z"
   },
   {
    "duration": 18,
    "start_time": "2023-05-23T19:28:06.587Z"
   },
   {
    "duration": 13,
    "start_time": "2023-05-23T19:28:06.607Z"
   },
   {
    "duration": 64,
    "start_time": "2023-05-23T19:28:06.624Z"
   },
   {
    "duration": 16,
    "start_time": "2023-05-23T19:28:06.690Z"
   },
   {
    "duration": 27,
    "start_time": "2023-05-23T19:28:06.708Z"
   },
   {
    "duration": 28,
    "start_time": "2023-05-23T19:28:06.737Z"
   },
   {
    "duration": 8,
    "start_time": "2023-05-23T19:28:06.767Z"
   },
   {
    "duration": 55,
    "start_time": "2023-05-23T19:28:06.777Z"
   },
   {
    "duration": 37,
    "start_time": "2023-05-23T19:28:06.834Z"
   },
   {
    "duration": 25,
    "start_time": "2023-05-23T19:28:06.873Z"
   },
   {
    "duration": 7,
    "start_time": "2023-05-23T19:28:06.900Z"
   },
   {
    "duration": 30,
    "start_time": "2023-05-23T19:28:06.909Z"
   },
   {
    "duration": 34,
    "start_time": "2023-05-23T19:28:06.941Z"
   },
   {
    "duration": 20,
    "start_time": "2023-05-23T19:28:06.977Z"
   },
   {
    "duration": 19,
    "start_time": "2023-05-23T19:28:06.999Z"
   },
   {
    "duration": 48,
    "start_time": "2023-05-23T19:28:07.021Z"
   },
   {
    "duration": 47,
    "start_time": "2023-05-23T19:28:07.070Z"
   },
   {
    "duration": 19,
    "start_time": "2023-05-23T19:28:07.118Z"
   },
   {
    "duration": 21,
    "start_time": "2023-05-23T19:28:07.156Z"
   },
   {
    "duration": 105,
    "start_time": "2023-05-23T19:29:39.866Z"
   },
   {
    "duration": 1163,
    "start_time": "2023-05-23T19:29:45.612Z"
   },
   {
    "duration": 130,
    "start_time": "2023-05-23T19:29:46.777Z"
   },
   {
    "duration": 34,
    "start_time": "2023-05-23T19:29:46.908Z"
   },
   {
    "duration": 12,
    "start_time": "2023-05-23T19:29:46.944Z"
   },
   {
    "duration": 65,
    "start_time": "2023-05-23T19:29:46.957Z"
   },
   {
    "duration": 4,
    "start_time": "2023-05-23T19:29:47.024Z"
   },
   {
    "duration": 38,
    "start_time": "2023-05-23T19:29:47.030Z"
   },
   {
    "duration": 23,
    "start_time": "2023-05-23T19:29:47.070Z"
   },
   {
    "duration": 3,
    "start_time": "2023-05-23T19:29:47.095Z"
   },
   {
    "duration": 62,
    "start_time": "2023-05-23T19:29:47.101Z"
   },
   {
    "duration": 64,
    "start_time": "2023-05-23T19:29:47.165Z"
   },
   {
    "duration": 7,
    "start_time": "2023-05-23T19:29:47.231Z"
   },
   {
    "duration": 26,
    "start_time": "2023-05-23T19:29:47.239Z"
   },
   {
    "duration": 57,
    "start_time": "2023-05-23T19:29:47.267Z"
   },
   {
    "duration": 4,
    "start_time": "2023-05-23T19:29:47.326Z"
   },
   {
    "duration": 248,
    "start_time": "2023-05-23T19:29:47.332Z"
   },
   {
    "duration": 32,
    "start_time": "2023-05-23T19:29:47.582Z"
   },
   {
    "duration": 169,
    "start_time": "2023-05-23T19:29:47.617Z"
   },
   {
    "duration": 14,
    "start_time": "2023-05-23T19:29:47.787Z"
   },
   {
    "duration": 5,
    "start_time": "2023-05-23T19:29:47.803Z"
   },
   {
    "duration": 19,
    "start_time": "2023-05-23T19:29:47.810Z"
   },
   {
    "duration": 49,
    "start_time": "2023-05-23T19:29:47.830Z"
   },
   {
    "duration": 175,
    "start_time": "2023-05-23T19:29:47.881Z"
   },
   {
    "duration": 14,
    "start_time": "2023-05-23T19:29:48.058Z"
   },
   {
    "duration": 134,
    "start_time": "2023-05-23T19:29:48.074Z"
   },
   {
    "duration": 5,
    "start_time": "2023-05-23T19:29:48.210Z"
   },
   {
    "duration": 23,
    "start_time": "2023-05-23T19:29:48.217Z"
   },
   {
    "duration": 130,
    "start_time": "2023-05-23T19:29:48.244Z"
   },
   {
    "duration": 6,
    "start_time": "2023-05-23T19:29:48.376Z"
   },
   {
    "duration": 42,
    "start_time": "2023-05-23T19:29:48.384Z"
   },
   {
    "duration": 29,
    "start_time": "2023-05-23T19:29:48.427Z"
   },
   {
    "duration": 23,
    "start_time": "2023-05-23T19:29:48.458Z"
   },
   {
    "duration": 143,
    "start_time": "2023-05-23T19:29:48.484Z"
   },
   {
    "duration": 29,
    "start_time": "2023-05-23T19:29:48.629Z"
   },
   {
    "duration": 137,
    "start_time": "2023-05-23T19:29:48.660Z"
   },
   {
    "duration": 38,
    "start_time": "2023-05-23T19:29:48.799Z"
   },
   {
    "duration": 47,
    "start_time": "2023-05-23T19:29:48.839Z"
   },
   {
    "duration": 27,
    "start_time": "2023-05-23T19:29:48.889Z"
   },
   {
    "duration": 45,
    "start_time": "2023-05-23T19:29:48.918Z"
   },
   {
    "duration": 19,
    "start_time": "2023-05-23T19:29:48.965Z"
   },
   {
    "duration": 36,
    "start_time": "2023-05-23T19:29:48.986Z"
   },
   {
    "duration": 40,
    "start_time": "2023-05-23T19:29:49.024Z"
   },
   {
    "duration": 25,
    "start_time": "2023-05-23T19:29:49.066Z"
   },
   {
    "duration": 17,
    "start_time": "2023-05-23T19:29:49.094Z"
   },
   {
    "duration": 12,
    "start_time": "2023-05-23T19:29:49.112Z"
   },
   {
    "duration": 20,
    "start_time": "2023-05-23T19:29:49.156Z"
   },
   {
    "duration": 37,
    "start_time": "2023-05-23T19:29:49.178Z"
   },
   {
    "duration": 47,
    "start_time": "2023-05-23T19:29:49.217Z"
   },
   {
    "duration": 10,
    "start_time": "2023-05-23T19:29:49.266Z"
   },
   {
    "duration": 24,
    "start_time": "2023-05-23T19:29:49.278Z"
   },
   {
    "duration": 23,
    "start_time": "2023-05-23T19:29:49.304Z"
   },
   {
    "duration": 37,
    "start_time": "2023-05-23T19:29:49.329Z"
   },
   {
    "duration": 18,
    "start_time": "2023-05-23T19:29:49.367Z"
   },
   {
    "duration": 17,
    "start_time": "2023-05-23T19:29:49.386Z"
   },
   {
    "duration": 66,
    "start_time": "2023-05-23T19:29:49.404Z"
   },
   {
    "duration": 19,
    "start_time": "2023-05-23T19:29:49.472Z"
   },
   {
    "duration": 18,
    "start_time": "2023-05-23T19:29:49.493Z"
   },
   {
    "duration": 173,
    "start_time": "2023-05-23T19:30:23.767Z"
   },
   {
    "duration": 13,
    "start_time": "2023-05-23T19:39:53.341Z"
   },
   {
    "duration": 1259,
    "start_time": "2023-05-23T19:39:59.478Z"
   },
   {
    "duration": 151,
    "start_time": "2023-05-23T19:40:00.740Z"
   },
   {
    "duration": 35,
    "start_time": "2023-05-23T19:40:00.894Z"
   },
   {
    "duration": 32,
    "start_time": "2023-05-23T19:40:00.931Z"
   },
   {
    "duration": 106,
    "start_time": "2023-05-23T19:40:00.966Z"
   },
   {
    "duration": 5,
    "start_time": "2023-05-23T19:40:01.075Z"
   },
   {
    "duration": 62,
    "start_time": "2023-05-23T19:40:01.082Z"
   },
   {
    "duration": 72,
    "start_time": "2023-05-23T19:40:01.146Z"
   },
   {
    "duration": 71,
    "start_time": "2023-05-23T19:40:01.219Z"
   },
   {
    "duration": 133,
    "start_time": "2023-05-23T19:40:01.292Z"
   },
   {
    "duration": 82,
    "start_time": "2023-05-23T19:40:01.427Z"
   },
   {
    "duration": 6,
    "start_time": "2023-05-23T19:40:01.511Z"
   },
   {
    "duration": 50,
    "start_time": "2023-05-23T19:40:01.518Z"
   },
   {
    "duration": 179,
    "start_time": "2023-05-23T19:40:01.574Z"
   },
   {
    "duration": 53,
    "start_time": "2023-05-23T19:40:01.755Z"
   },
   {
    "duration": 335,
    "start_time": "2023-05-23T19:40:01.810Z"
   },
   {
    "duration": 42,
    "start_time": "2023-05-23T19:40:02.146Z"
   },
   {
    "duration": 199,
    "start_time": "2023-05-23T19:40:02.190Z"
   },
   {
    "duration": 13,
    "start_time": "2023-05-23T19:40:02.391Z"
   },
   {
    "duration": 25,
    "start_time": "2023-05-23T19:40:02.406Z"
   },
   {
    "duration": 53,
    "start_time": "2023-05-23T19:40:02.432Z"
   },
   {
    "duration": 33,
    "start_time": "2023-05-23T19:40:02.487Z"
   },
   {
    "duration": 211,
    "start_time": "2023-05-23T19:40:02.522Z"
   },
   {
    "duration": 13,
    "start_time": "2023-05-23T19:40:02.734Z"
   },
   {
    "duration": 152,
    "start_time": "2023-05-23T19:40:02.756Z"
   },
   {
    "duration": 5,
    "start_time": "2023-05-23T19:40:02.910Z"
   },
   {
    "duration": 77,
    "start_time": "2023-05-23T19:40:02.917Z"
   },
   {
    "duration": 137,
    "start_time": "2023-05-23T19:40:02.996Z"
   },
   {
    "duration": 5,
    "start_time": "2023-05-23T19:40:03.135Z"
   },
   {
    "duration": 77,
    "start_time": "2023-05-23T19:40:03.141Z"
   },
   {
    "duration": 34,
    "start_time": "2023-05-23T19:40:03.220Z"
   },
   {
    "duration": 67,
    "start_time": "2023-05-23T19:40:03.256Z"
   },
   {
    "duration": 187,
    "start_time": "2023-05-23T19:40:03.325Z"
   },
   {
    "duration": 20,
    "start_time": "2023-05-23T19:40:03.514Z"
   },
   {
    "duration": 152,
    "start_time": "2023-05-23T19:40:03.535Z"
   },
   {
    "duration": 46,
    "start_time": "2023-05-23T19:40:03.689Z"
   },
   {
    "duration": 28,
    "start_time": "2023-05-23T19:40:03.737Z"
   },
   {
    "duration": 84,
    "start_time": "2023-05-23T19:40:03.766Z"
   },
   {
    "duration": 0,
    "start_time": "2023-05-23T19:40:03.852Z"
   },
   {
    "duration": 0,
    "start_time": "2023-05-23T19:40:03.854Z"
   },
   {
    "duration": 0,
    "start_time": "2023-05-23T19:40:03.855Z"
   },
   {
    "duration": 0,
    "start_time": "2023-05-23T19:40:03.856Z"
   },
   {
    "duration": 0,
    "start_time": "2023-05-23T19:40:03.858Z"
   },
   {
    "duration": 0,
    "start_time": "2023-05-23T19:40:03.859Z"
   },
   {
    "duration": 0,
    "start_time": "2023-05-23T19:40:03.860Z"
   },
   {
    "duration": 1,
    "start_time": "2023-05-23T19:40:03.861Z"
   },
   {
    "duration": 0,
    "start_time": "2023-05-23T19:40:03.862Z"
   },
   {
    "duration": 0,
    "start_time": "2023-05-23T19:40:03.864Z"
   },
   {
    "duration": 0,
    "start_time": "2023-05-23T19:40:03.865Z"
   },
   {
    "duration": 0,
    "start_time": "2023-05-23T19:40:03.866Z"
   },
   {
    "duration": 0,
    "start_time": "2023-05-23T19:40:03.867Z"
   },
   {
    "duration": 0,
    "start_time": "2023-05-23T19:40:03.868Z"
   },
   {
    "duration": 0,
    "start_time": "2023-05-23T19:40:03.869Z"
   },
   {
    "duration": 0,
    "start_time": "2023-05-23T19:40:03.870Z"
   },
   {
    "duration": 0,
    "start_time": "2023-05-23T19:40:03.872Z"
   },
   {
    "duration": 0,
    "start_time": "2023-05-23T19:40:03.873Z"
   },
   {
    "duration": 0,
    "start_time": "2023-05-23T19:40:03.874Z"
   },
   {
    "duration": 0,
    "start_time": "2023-05-23T19:40:03.875Z"
   },
   {
    "duration": 69,
    "start_time": "2023-05-23T19:40:57.217Z"
   },
   {
    "duration": 24,
    "start_time": "2023-05-23T19:41:28.619Z"
   },
   {
    "duration": 107,
    "start_time": "2023-05-23T19:42:32.799Z"
   },
   {
    "duration": 52,
    "start_time": "2023-05-23T19:42:38.092Z"
   },
   {
    "duration": 56,
    "start_time": "2023-05-23T19:43:20.742Z"
   },
   {
    "duration": 43,
    "start_time": "2023-05-23T19:43:34.190Z"
   },
   {
    "duration": 13,
    "start_time": "2023-05-23T19:44:54.417Z"
   },
   {
    "duration": 23,
    "start_time": "2023-05-23T19:48:39.143Z"
   },
   {
    "duration": 20,
    "start_time": "2023-05-23T19:48:52.154Z"
   },
   {
    "duration": 1204,
    "start_time": "2023-05-23T19:49:05.074Z"
   },
   {
    "duration": 136,
    "start_time": "2023-05-23T19:49:06.280Z"
   },
   {
    "duration": 36,
    "start_time": "2023-05-23T19:49:06.418Z"
   },
   {
    "duration": 12,
    "start_time": "2023-05-23T19:49:06.456Z"
   },
   {
    "duration": 67,
    "start_time": "2023-05-23T19:49:06.470Z"
   },
   {
    "duration": 4,
    "start_time": "2023-05-23T19:49:06.557Z"
   },
   {
    "duration": 20,
    "start_time": "2023-05-23T19:49:06.563Z"
   },
   {
    "duration": 15,
    "start_time": "2023-05-23T19:49:06.584Z"
   },
   {
    "duration": 4,
    "start_time": "2023-05-23T19:49:06.601Z"
   },
   {
    "duration": 89,
    "start_time": "2023-05-23T19:49:06.607Z"
   },
   {
    "duration": 69,
    "start_time": "2023-05-23T19:49:06.698Z"
   },
   {
    "duration": 6,
    "start_time": "2023-05-23T19:49:06.768Z"
   },
   {
    "duration": 14,
    "start_time": "2023-05-23T19:49:06.776Z"
   },
   {
    "duration": 69,
    "start_time": "2023-05-23T19:49:06.792Z"
   },
   {
    "duration": 5,
    "start_time": "2023-05-23T19:49:06.862Z"
   },
   {
    "duration": 229,
    "start_time": "2023-05-23T19:49:06.868Z"
   },
   {
    "duration": 30,
    "start_time": "2023-05-23T19:49:07.099Z"
   },
   {
    "duration": 186,
    "start_time": "2023-05-23T19:49:07.131Z"
   },
   {
    "duration": 15,
    "start_time": "2023-05-23T19:49:07.318Z"
   },
   {
    "duration": 21,
    "start_time": "2023-05-23T19:49:07.335Z"
   },
   {
    "duration": 45,
    "start_time": "2023-05-23T19:49:07.359Z"
   },
   {
    "duration": 48,
    "start_time": "2023-05-23T19:49:07.406Z"
   },
   {
    "duration": 201,
    "start_time": "2023-05-23T19:49:07.456Z"
   },
   {
    "duration": 16,
    "start_time": "2023-05-23T19:49:07.659Z"
   },
   {
    "duration": 147,
    "start_time": "2023-05-23T19:49:07.677Z"
   },
   {
    "duration": 7,
    "start_time": "2023-05-23T19:49:07.826Z"
   },
   {
    "duration": 30,
    "start_time": "2023-05-23T19:49:07.834Z"
   },
   {
    "duration": 152,
    "start_time": "2023-05-23T19:49:07.869Z"
   },
   {
    "duration": 5,
    "start_time": "2023-05-23T19:49:08.023Z"
   },
   {
    "duration": 55,
    "start_time": "2023-05-23T19:49:08.030Z"
   },
   {
    "duration": 17,
    "start_time": "2023-05-23T19:49:08.087Z"
   },
   {
    "duration": 53,
    "start_time": "2023-05-23T19:49:08.106Z"
   },
   {
    "duration": 139,
    "start_time": "2023-05-23T19:49:08.160Z"
   },
   {
    "duration": 27,
    "start_time": "2023-05-23T19:49:08.306Z"
   },
   {
    "duration": 189,
    "start_time": "2023-05-23T19:49:08.335Z"
   },
   {
    "duration": 66,
    "start_time": "2023-05-23T19:49:08.527Z"
   },
   {
    "duration": 13,
    "start_time": "2023-05-23T19:49:08.596Z"
   },
   {
    "duration": 211,
    "start_time": "2023-05-23T19:49:08.611Z"
   },
   {
    "duration": 39,
    "start_time": "2023-05-23T19:49:08.826Z"
   },
   {
    "duration": 19,
    "start_time": "2023-05-23T19:49:08.867Z"
   },
   {
    "duration": 9,
    "start_time": "2023-05-23T19:49:08.889Z"
   },
   {
    "duration": 20,
    "start_time": "2023-05-23T19:49:08.900Z"
   },
   {
    "duration": 47,
    "start_time": "2023-05-23T19:49:08.922Z"
   },
   {
    "duration": 20,
    "start_time": "2023-05-23T19:49:08.971Z"
   },
   {
    "duration": 17,
    "start_time": "2023-05-23T19:49:08.994Z"
   },
   {
    "duration": 13,
    "start_time": "2023-05-23T19:49:09.013Z"
   },
   {
    "duration": 25,
    "start_time": "2023-05-23T19:49:09.056Z"
   },
   {
    "duration": 51,
    "start_time": "2023-05-23T19:49:09.084Z"
   },
   {
    "duration": 38,
    "start_time": "2023-05-23T19:49:09.136Z"
   },
   {
    "duration": 7,
    "start_time": "2023-05-23T19:49:09.176Z"
   },
   {
    "duration": 19,
    "start_time": "2023-05-23T19:49:09.185Z"
   },
   {
    "duration": 51,
    "start_time": "2023-05-23T19:49:09.207Z"
   },
   {
    "duration": 20,
    "start_time": "2023-05-23T19:49:09.260Z"
   },
   {
    "duration": 24,
    "start_time": "2023-05-23T19:49:09.283Z"
   },
   {
    "duration": 25,
    "start_time": "2023-05-23T19:49:09.309Z"
   },
   {
    "duration": 61,
    "start_time": "2023-05-23T19:49:09.355Z"
   },
   {
    "duration": 40,
    "start_time": "2023-05-23T19:49:09.418Z"
   },
   {
    "duration": 20,
    "start_time": "2023-05-23T19:49:09.460Z"
   },
   {
    "duration": 22,
    "start_time": "2023-05-23T19:49:38.718Z"
   },
   {
    "duration": 17,
    "start_time": "2023-05-23T19:49:52.566Z"
   },
   {
    "duration": 21,
    "start_time": "2023-05-23T19:50:15.649Z"
   },
   {
    "duration": 16,
    "start_time": "2023-05-23T19:51:05.645Z"
   },
   {
    "duration": 22,
    "start_time": "2023-05-23T19:51:16.546Z"
   },
   {
    "duration": 18,
    "start_time": "2023-05-23T19:51:23.504Z"
   },
   {
    "duration": 48,
    "start_time": "2023-05-23T19:52:40.725Z"
   },
   {
    "duration": 49,
    "start_time": "2023-05-23T19:52:51.541Z"
   },
   {
    "duration": 55,
    "start_time": "2023-05-23T19:53:01.845Z"
   },
   {
    "duration": 17,
    "start_time": "2023-05-23T19:54:11.221Z"
   },
   {
    "duration": 99,
    "start_time": "2023-05-23T19:54:21.554Z"
   },
   {
    "duration": 1209,
    "start_time": "2023-05-23T19:55:20.677Z"
   },
   {
    "duration": 135,
    "start_time": "2023-05-23T19:55:21.888Z"
   },
   {
    "duration": 38,
    "start_time": "2023-05-23T19:55:22.025Z"
   },
   {
    "duration": 12,
    "start_time": "2023-05-23T19:55:22.065Z"
   },
   {
    "duration": 86,
    "start_time": "2023-05-23T19:55:22.078Z"
   },
   {
    "duration": 5,
    "start_time": "2023-05-23T19:55:22.166Z"
   },
   {
    "duration": 21,
    "start_time": "2023-05-23T19:55:22.173Z"
   },
   {
    "duration": 17,
    "start_time": "2023-05-23T19:55:22.196Z"
   },
   {
    "duration": 5,
    "start_time": "2023-05-23T19:55:22.214Z"
   },
   {
    "duration": 93,
    "start_time": "2023-05-23T19:55:22.222Z"
   },
   {
    "duration": 69,
    "start_time": "2023-05-23T19:55:22.316Z"
   },
   {
    "duration": 5,
    "start_time": "2023-05-23T19:55:22.387Z"
   },
   {
    "duration": 25,
    "start_time": "2023-05-23T19:55:22.394Z"
   },
   {
    "duration": 57,
    "start_time": "2023-05-23T19:55:22.420Z"
   },
   {
    "duration": 4,
    "start_time": "2023-05-23T19:55:22.478Z"
   },
   {
    "duration": 252,
    "start_time": "2023-05-23T19:55:22.484Z"
   },
   {
    "duration": 42,
    "start_time": "2023-05-23T19:55:22.737Z"
   },
   {
    "duration": 175,
    "start_time": "2023-05-23T19:55:22.781Z"
   },
   {
    "duration": 13,
    "start_time": "2023-05-23T19:55:22.958Z"
   },
   {
    "duration": 5,
    "start_time": "2023-05-23T19:55:22.973Z"
   },
   {
    "duration": 26,
    "start_time": "2023-05-23T19:55:22.979Z"
   },
   {
    "duration": 52,
    "start_time": "2023-05-23T19:55:23.007Z"
   },
   {
    "duration": 182,
    "start_time": "2023-05-23T19:55:23.061Z"
   },
   {
    "duration": 33,
    "start_time": "2023-05-23T19:55:23.245Z"
   },
   {
    "duration": 134,
    "start_time": "2023-05-23T19:55:23.279Z"
   },
   {
    "duration": 6,
    "start_time": "2023-05-23T19:55:23.415Z"
   },
   {
    "duration": 31,
    "start_time": "2023-05-23T19:55:23.422Z"
   },
   {
    "duration": 132,
    "start_time": "2023-05-23T19:55:23.458Z"
   },
   {
    "duration": 5,
    "start_time": "2023-05-23T19:55:23.592Z"
   },
   {
    "duration": 44,
    "start_time": "2023-05-23T19:55:23.598Z"
   },
   {
    "duration": 25,
    "start_time": "2023-05-23T19:55:23.644Z"
   },
   {
    "duration": 20,
    "start_time": "2023-05-23T19:55:23.671Z"
   },
   {
    "duration": 153,
    "start_time": "2023-05-23T19:55:23.693Z"
   },
   {
    "duration": 25,
    "start_time": "2023-05-23T19:55:23.848Z"
   },
   {
    "duration": 147,
    "start_time": "2023-05-23T19:55:23.875Z"
   },
   {
    "duration": 55,
    "start_time": "2023-05-23T19:55:24.024Z"
   },
   {
    "duration": 112,
    "start_time": "2023-05-23T19:55:24.081Z"
   },
   {
    "duration": 118,
    "start_time": "2023-05-23T19:55:24.195Z"
   },
   {
    "duration": 0,
    "start_time": "2023-05-23T19:55:24.315Z"
   },
   {
    "duration": 1,
    "start_time": "2023-05-23T19:55:24.316Z"
   },
   {
    "duration": 1,
    "start_time": "2023-05-23T19:55:24.317Z"
   },
   {
    "duration": 0,
    "start_time": "2023-05-23T19:55:24.319Z"
   },
   {
    "duration": 0,
    "start_time": "2023-05-23T19:55:24.320Z"
   },
   {
    "duration": 0,
    "start_time": "2023-05-23T19:55:24.321Z"
   },
   {
    "duration": 0,
    "start_time": "2023-05-23T19:55:24.322Z"
   },
   {
    "duration": 0,
    "start_time": "2023-05-23T19:55:24.323Z"
   },
   {
    "duration": 0,
    "start_time": "2023-05-23T19:55:24.324Z"
   },
   {
    "duration": 0,
    "start_time": "2023-05-23T19:55:24.325Z"
   },
   {
    "duration": 0,
    "start_time": "2023-05-23T19:55:24.326Z"
   },
   {
    "duration": 0,
    "start_time": "2023-05-23T19:55:24.328Z"
   },
   {
    "duration": 0,
    "start_time": "2023-05-23T19:55:24.328Z"
   },
   {
    "duration": 0,
    "start_time": "2023-05-23T19:55:24.357Z"
   },
   {
    "duration": 0,
    "start_time": "2023-05-23T19:55:24.358Z"
   },
   {
    "duration": 0,
    "start_time": "2023-05-23T19:55:24.359Z"
   },
   {
    "duration": 0,
    "start_time": "2023-05-23T19:55:24.360Z"
   },
   {
    "duration": 0,
    "start_time": "2023-05-23T19:55:24.361Z"
   },
   {
    "duration": 17,
    "start_time": "2023-05-23T19:56:05.965Z"
   },
   {
    "duration": 17,
    "start_time": "2023-05-23T19:56:28.863Z"
   },
   {
    "duration": 1249,
    "start_time": "2023-05-23T19:56:40.045Z"
   },
   {
    "duration": 144,
    "start_time": "2023-05-23T19:56:41.297Z"
   },
   {
    "duration": 37,
    "start_time": "2023-05-23T19:56:41.442Z"
   },
   {
    "duration": 12,
    "start_time": "2023-05-23T19:56:41.481Z"
   },
   {
    "duration": 97,
    "start_time": "2023-05-23T19:56:41.496Z"
   },
   {
    "duration": 4,
    "start_time": "2023-05-23T19:56:41.595Z"
   },
   {
    "duration": 21,
    "start_time": "2023-05-23T19:56:41.601Z"
   },
   {
    "duration": 135,
    "start_time": "2023-05-23T19:56:41.623Z"
   },
   {
    "duration": 4,
    "start_time": "2023-05-23T19:56:41.760Z"
   },
   {
    "duration": 62,
    "start_time": "2023-05-23T19:56:41.765Z"
   },
   {
    "duration": 83,
    "start_time": "2023-05-23T19:56:41.829Z"
   },
   {
    "duration": 6,
    "start_time": "2023-05-23T19:56:41.914Z"
   },
   {
    "duration": 7,
    "start_time": "2023-05-23T19:56:41.922Z"
   },
   {
    "duration": 75,
    "start_time": "2023-05-23T19:56:41.932Z"
   },
   {
    "duration": 5,
    "start_time": "2023-05-23T19:56:42.009Z"
   },
   {
    "duration": 253,
    "start_time": "2023-05-23T19:56:42.015Z"
   },
   {
    "duration": 31,
    "start_time": "2023-05-23T19:56:42.270Z"
   },
   {
    "duration": 185,
    "start_time": "2023-05-23T19:56:42.303Z"
   },
   {
    "duration": 15,
    "start_time": "2023-05-23T19:56:42.489Z"
   },
   {
    "duration": 13,
    "start_time": "2023-05-23T19:56:42.506Z"
   },
   {
    "duration": 45,
    "start_time": "2023-05-23T19:56:42.521Z"
   },
   {
    "duration": 46,
    "start_time": "2023-05-23T19:56:42.569Z"
   },
   {
    "duration": 201,
    "start_time": "2023-05-23T19:56:42.617Z"
   },
   {
    "duration": 13,
    "start_time": "2023-05-23T19:56:42.820Z"
   },
   {
    "duration": 141,
    "start_time": "2023-05-23T19:56:42.835Z"
   },
   {
    "duration": 5,
    "start_time": "2023-05-23T19:56:42.978Z"
   },
   {
    "duration": 18,
    "start_time": "2023-05-23T19:56:42.985Z"
   },
   {
    "duration": 144,
    "start_time": "2023-05-23T19:56:43.005Z"
   },
   {
    "duration": 8,
    "start_time": "2023-05-23T19:56:43.151Z"
   },
   {
    "duration": 41,
    "start_time": "2023-05-23T19:56:43.161Z"
   },
   {
    "duration": 15,
    "start_time": "2023-05-23T19:56:43.204Z"
   },
   {
    "duration": 49,
    "start_time": "2023-05-23T19:56:43.221Z"
   },
   {
    "duration": 139,
    "start_time": "2023-05-23T19:56:43.272Z"
   },
   {
    "duration": 19,
    "start_time": "2023-05-23T19:56:43.413Z"
   },
   {
    "duration": 164,
    "start_time": "2023-05-23T19:56:43.434Z"
   },
   {
    "duration": 52,
    "start_time": "2023-05-23T19:56:43.600Z"
   },
   {
    "duration": 18,
    "start_time": "2023-05-23T19:56:43.656Z"
   },
   {
    "duration": 116,
    "start_time": "2023-05-23T19:56:43.676Z"
   },
   {
    "duration": 194,
    "start_time": "2023-05-23T19:56:43.794Z"
   },
   {
    "duration": 0,
    "start_time": "2023-05-23T19:56:43.991Z"
   },
   {
    "duration": 0,
    "start_time": "2023-05-23T19:56:43.992Z"
   },
   {
    "duration": 0,
    "start_time": "2023-05-23T19:56:43.993Z"
   },
   {
    "duration": 0,
    "start_time": "2023-05-23T19:56:43.994Z"
   },
   {
    "duration": 0,
    "start_time": "2023-05-23T19:56:43.995Z"
   },
   {
    "duration": 0,
    "start_time": "2023-05-23T19:56:43.996Z"
   },
   {
    "duration": 0,
    "start_time": "2023-05-23T19:56:43.998Z"
   },
   {
    "duration": 0,
    "start_time": "2023-05-23T19:56:43.998Z"
   },
   {
    "duration": 0,
    "start_time": "2023-05-23T19:56:43.999Z"
   },
   {
    "duration": 0,
    "start_time": "2023-05-23T19:56:44.000Z"
   },
   {
    "duration": 0,
    "start_time": "2023-05-23T19:56:44.001Z"
   },
   {
    "duration": 0,
    "start_time": "2023-05-23T19:56:44.002Z"
   },
   {
    "duration": 0,
    "start_time": "2023-05-23T19:56:44.003Z"
   },
   {
    "duration": 0,
    "start_time": "2023-05-23T19:56:44.005Z"
   },
   {
    "duration": 0,
    "start_time": "2023-05-23T19:56:44.006Z"
   },
   {
    "duration": 0,
    "start_time": "2023-05-23T19:56:44.007Z"
   },
   {
    "duration": 0,
    "start_time": "2023-05-23T19:56:44.008Z"
   },
   {
    "duration": 0,
    "start_time": "2023-05-23T19:56:44.009Z"
   },
   {
    "duration": 13,
    "start_time": "2023-05-23T19:57:02.760Z"
   },
   {
    "duration": 10,
    "start_time": "2023-05-23T19:57:11.573Z"
   },
   {
    "duration": 19,
    "start_time": "2023-05-23T19:57:15.965Z"
   },
   {
    "duration": 14,
    "start_time": "2023-05-23T19:57:23.068Z"
   },
   {
    "duration": 14,
    "start_time": "2023-05-23T19:57:27.565Z"
   },
   {
    "duration": 14,
    "start_time": "2023-05-23T19:57:30.340Z"
   },
   {
    "duration": 20,
    "start_time": "2023-05-23T19:57:32.945Z"
   },
   {
    "duration": 9,
    "start_time": "2023-05-23T19:57:36.620Z"
   },
   {
    "duration": 280,
    "start_time": "2023-05-23T19:58:42.557Z"
   },
   {
    "duration": 19,
    "start_time": "2023-05-23T19:58:50.534Z"
   },
   {
    "duration": 11,
    "start_time": "2023-05-23T19:59:00.471Z"
   },
   {
    "duration": 9,
    "start_time": "2023-05-23T19:59:04.601Z"
   },
   {
    "duration": 16,
    "start_time": "2023-05-23T19:59:08.312Z"
   },
   {
    "duration": 6,
    "start_time": "2023-05-23T19:59:12.297Z"
   },
   {
    "duration": 7,
    "start_time": "2023-05-23T19:59:14.897Z"
   },
   {
    "duration": 13,
    "start_time": "2023-05-23T19:59:16.578Z"
   },
   {
    "duration": 15,
    "start_time": "2023-05-23T19:59:24.485Z"
   },
   {
    "duration": 43,
    "start_time": "2023-05-23T20:03:03.896Z"
   },
   {
    "duration": 49,
    "start_time": "2023-05-23T20:11:12.485Z"
   },
   {
    "duration": 1183,
    "start_time": "2023-05-23T20:11:22.000Z"
   },
   {
    "duration": 139,
    "start_time": "2023-05-23T20:11:23.185Z"
   },
   {
    "duration": 39,
    "start_time": "2023-05-23T20:11:23.326Z"
   },
   {
    "duration": 17,
    "start_time": "2023-05-23T20:11:23.368Z"
   },
   {
    "duration": 86,
    "start_time": "2023-05-23T20:11:23.388Z"
   },
   {
    "duration": 5,
    "start_time": "2023-05-23T20:11:23.475Z"
   },
   {
    "duration": 24,
    "start_time": "2023-05-23T20:11:23.481Z"
   },
   {
    "duration": 17,
    "start_time": "2023-05-23T20:11:23.507Z"
   },
   {
    "duration": 6,
    "start_time": "2023-05-23T20:11:23.525Z"
   },
   {
    "duration": 81,
    "start_time": "2023-05-23T20:11:23.534Z"
   },
   {
    "duration": 76,
    "start_time": "2023-05-23T20:11:23.617Z"
   },
   {
    "duration": 6,
    "start_time": "2023-05-23T20:11:23.695Z"
   },
   {
    "duration": 9,
    "start_time": "2023-05-23T20:11:23.702Z"
   },
   {
    "duration": 77,
    "start_time": "2023-05-23T20:11:23.713Z"
   },
   {
    "duration": 5,
    "start_time": "2023-05-23T20:11:23.792Z"
   },
   {
    "duration": 256,
    "start_time": "2023-05-23T20:11:23.798Z"
   },
   {
    "duration": 32,
    "start_time": "2023-05-23T20:11:24.057Z"
   },
   {
    "duration": 184,
    "start_time": "2023-05-23T20:11:24.090Z"
   },
   {
    "duration": 19,
    "start_time": "2023-05-23T20:11:24.276Z"
   },
   {
    "duration": 7,
    "start_time": "2023-05-23T20:11:24.298Z"
   },
   {
    "duration": 53,
    "start_time": "2023-05-23T20:11:24.307Z"
   },
   {
    "duration": 34,
    "start_time": "2023-05-23T20:11:24.362Z"
   },
   {
    "duration": 212,
    "start_time": "2023-05-23T20:11:24.398Z"
   },
   {
    "duration": 14,
    "start_time": "2023-05-23T20:11:24.613Z"
   },
   {
    "duration": 146,
    "start_time": "2023-05-23T20:11:24.629Z"
   },
   {
    "duration": 5,
    "start_time": "2023-05-23T20:11:24.777Z"
   },
   {
    "duration": 24,
    "start_time": "2023-05-23T20:11:24.784Z"
   },
   {
    "duration": 154,
    "start_time": "2023-05-23T20:11:24.811Z"
   },
   {
    "duration": 5,
    "start_time": "2023-05-23T20:11:24.967Z"
   },
   {
    "duration": 50,
    "start_time": "2023-05-23T20:11:24.974Z"
   },
   {
    "duration": 32,
    "start_time": "2023-05-23T20:11:25.026Z"
   },
   {
    "duration": 20,
    "start_time": "2023-05-23T20:11:25.060Z"
   },
   {
    "duration": 158,
    "start_time": "2023-05-23T20:11:25.082Z"
   },
   {
    "duration": 32,
    "start_time": "2023-05-23T20:11:25.243Z"
   },
   {
    "duration": 167,
    "start_time": "2023-05-23T20:11:25.276Z"
   },
   {
    "duration": 46,
    "start_time": "2023-05-23T20:11:25.445Z"
   },
   {
    "duration": 138,
    "start_time": "2023-05-23T20:11:25.493Z"
   },
   {
    "duration": 38,
    "start_time": "2023-05-23T20:11:25.633Z"
   },
   {
    "duration": 12,
    "start_time": "2023-05-23T20:11:25.673Z"
   },
   {
    "duration": 17,
    "start_time": "2023-05-23T20:11:25.687Z"
   },
   {
    "duration": 16,
    "start_time": "2023-05-23T20:11:25.706Z"
   },
   {
    "duration": 35,
    "start_time": "2023-05-23T20:11:25.723Z"
   },
   {
    "duration": 16,
    "start_time": "2023-05-23T20:11:25.759Z"
   },
   {
    "duration": 10,
    "start_time": "2023-05-23T20:11:25.776Z"
   },
   {
    "duration": 17,
    "start_time": "2023-05-23T20:11:25.788Z"
   },
   {
    "duration": 268,
    "start_time": "2023-05-23T20:11:25.808Z"
   },
   {
    "duration": 14,
    "start_time": "2023-05-23T20:11:26.079Z"
   },
   {
    "duration": 15,
    "start_time": "2023-05-23T20:11:26.094Z"
   },
   {
    "duration": 12,
    "start_time": "2023-05-23T20:11:26.111Z"
   },
   {
    "duration": 43,
    "start_time": "2023-05-23T20:11:26.125Z"
   },
   {
    "duration": 7,
    "start_time": "2023-05-23T20:11:26.170Z"
   },
   {
    "duration": 18,
    "start_time": "2023-05-23T20:11:26.179Z"
   },
   {
    "duration": 76,
    "start_time": "2023-05-23T20:11:26.200Z"
   },
   {
    "duration": 24,
    "start_time": "2023-05-23T20:11:26.277Z"
   },
   {
    "duration": 19,
    "start_time": "2023-05-23T20:11:26.303Z"
   },
   {
    "duration": 48,
    "start_time": "2023-05-24T10:22:21.470Z"
   },
   {
    "duration": 1426,
    "start_time": "2023-05-24T10:22:33.766Z"
   },
   {
    "duration": 292,
    "start_time": "2023-05-24T10:22:35.194Z"
   },
   {
    "duration": 43,
    "start_time": "2023-05-24T10:22:35.488Z"
   },
   {
    "duration": 12,
    "start_time": "2023-05-24T10:22:35.533Z"
   },
   {
    "duration": 70,
    "start_time": "2023-05-24T10:22:35.547Z"
   },
   {
    "duration": 4,
    "start_time": "2023-05-24T10:22:35.619Z"
   },
   {
    "duration": 34,
    "start_time": "2023-05-24T10:22:35.625Z"
   },
   {
    "duration": 28,
    "start_time": "2023-05-24T10:22:35.661Z"
   },
   {
    "duration": 7,
    "start_time": "2023-05-24T10:22:35.691Z"
   },
   {
    "duration": 76,
    "start_time": "2023-05-24T10:22:35.700Z"
   },
   {
    "duration": 63,
    "start_time": "2023-05-24T10:22:35.778Z"
   },
   {
    "duration": 6,
    "start_time": "2023-05-24T10:22:35.856Z"
   },
   {
    "duration": 20,
    "start_time": "2023-05-24T10:22:35.864Z"
   },
   {
    "duration": 56,
    "start_time": "2023-05-24T10:22:35.886Z"
   },
   {
    "duration": 15,
    "start_time": "2023-05-24T10:22:35.943Z"
   },
   {
    "duration": 253,
    "start_time": "2023-05-24T10:22:35.960Z"
   },
   {
    "duration": 42,
    "start_time": "2023-05-24T10:22:36.215Z"
   },
   {
    "duration": 199,
    "start_time": "2023-05-24T10:22:36.259Z"
   },
   {
    "duration": 14,
    "start_time": "2023-05-24T10:22:36.460Z"
   },
   {
    "duration": 13,
    "start_time": "2023-05-24T10:22:36.476Z"
   },
   {
    "duration": 30,
    "start_time": "2023-05-24T10:22:36.491Z"
   },
   {
    "duration": 69,
    "start_time": "2023-05-24T10:22:36.523Z"
   },
   {
    "duration": 173,
    "start_time": "2023-05-24T10:22:36.594Z"
   },
   {
    "duration": 14,
    "start_time": "2023-05-24T10:22:36.768Z"
   },
   {
    "duration": 142,
    "start_time": "2023-05-24T10:22:36.784Z"
   },
   {
    "duration": 5,
    "start_time": "2023-05-24T10:22:36.928Z"
   },
   {
    "duration": 30,
    "start_time": "2023-05-24T10:22:36.935Z"
   },
   {
    "duration": 136,
    "start_time": "2023-05-24T10:22:36.967Z"
   },
   {
    "duration": 5,
    "start_time": "2023-05-24T10:22:37.105Z"
   },
   {
    "duration": 85,
    "start_time": "2023-05-24T10:22:37.111Z"
   },
   {
    "duration": 15,
    "start_time": "2023-05-24T10:22:37.198Z"
   },
   {
    "duration": 22,
    "start_time": "2023-05-24T10:22:37.214Z"
   },
   {
    "duration": 171,
    "start_time": "2023-05-24T10:22:37.238Z"
   },
   {
    "duration": 25,
    "start_time": "2023-05-24T10:22:37.411Z"
   },
   {
    "duration": 159,
    "start_time": "2023-05-24T10:22:37.438Z"
   },
   {
    "duration": 58,
    "start_time": "2023-05-24T10:22:37.599Z"
   },
   {
    "duration": 125,
    "start_time": "2023-05-24T10:22:37.659Z"
   },
   {
    "duration": 12,
    "start_time": "2023-05-24T10:22:37.786Z"
   },
   {
    "duration": 8,
    "start_time": "2023-05-24T10:22:37.800Z"
   },
   {
    "duration": 120,
    "start_time": "2023-05-24T10:22:37.810Z"
   },
   {
    "duration": 24,
    "start_time": "2023-05-24T10:22:37.933Z"
   },
   {
    "duration": 12,
    "start_time": "2023-05-24T10:22:37.959Z"
   },
   {
    "duration": 13,
    "start_time": "2023-05-24T10:22:37.972Z"
   },
   {
    "duration": 8,
    "start_time": "2023-05-24T10:22:37.987Z"
   },
   {
    "duration": 17,
    "start_time": "2023-05-24T10:22:37.997Z"
   },
   {
    "duration": 244,
    "start_time": "2023-05-24T10:22:38.016Z"
   },
   {
    "duration": 14,
    "start_time": "2023-05-24T10:22:38.262Z"
   },
   {
    "duration": 20,
    "start_time": "2023-05-24T10:22:38.278Z"
   },
   {
    "duration": 8,
    "start_time": "2023-05-24T10:22:38.301Z"
   },
   {
    "duration": 13,
    "start_time": "2023-05-24T10:22:38.311Z"
   },
   {
    "duration": 35,
    "start_time": "2023-05-24T10:22:38.326Z"
   },
   {
    "duration": 18,
    "start_time": "2023-05-24T10:22:38.364Z"
   },
   {
    "duration": 47,
    "start_time": "2023-05-24T10:22:38.384Z"
   },
   {
    "duration": 23,
    "start_time": "2023-05-24T10:22:38.457Z"
   },
   {
    "duration": 20,
    "start_time": "2023-05-24T10:22:38.482Z"
   },
   {
    "duration": 45,
    "start_time": "2023-05-24T10:25:13.333Z"
   },
   {
    "duration": 20,
    "start_time": "2023-05-24T10:26:42.405Z"
   },
   {
    "duration": 19,
    "start_time": "2023-05-24T10:28:18.272Z"
   },
   {
    "duration": 7,
    "start_time": "2023-05-24T10:30:50.762Z"
   },
   {
    "duration": 11,
    "start_time": "2023-05-24T10:31:10.974Z"
   },
   {
    "duration": 48,
    "start_time": "2023-05-24T10:38:01.150Z"
   },
   {
    "duration": 51,
    "start_time": "2023-05-24T10:40:17.362Z"
   },
   {
    "duration": 117,
    "start_time": "2023-05-24T10:40:31.377Z"
   },
   {
    "duration": 15,
    "start_time": "2023-05-24T10:42:25.686Z"
   },
   {
    "duration": 14,
    "start_time": "2023-05-24T10:42:39.982Z"
   },
   {
    "duration": 1104,
    "start_time": "2023-05-24T10:44:43.850Z"
   },
   {
    "duration": 14,
    "start_time": "2023-05-24T10:45:54.817Z"
   },
   {
    "duration": 1202,
    "start_time": "2023-05-24T10:46:02.173Z"
   },
   {
    "duration": 128,
    "start_time": "2023-05-24T10:46:03.377Z"
   },
   {
    "duration": 38,
    "start_time": "2023-05-24T10:46:03.507Z"
   },
   {
    "duration": 38,
    "start_time": "2023-05-24T10:46:03.547Z"
   },
   {
    "duration": 66,
    "start_time": "2023-05-24T10:46:03.588Z"
   },
   {
    "duration": 5,
    "start_time": "2023-05-24T10:46:03.656Z"
   },
   {
    "duration": 43,
    "start_time": "2023-05-24T10:46:03.663Z"
   },
   {
    "duration": 39,
    "start_time": "2023-05-24T10:46:03.707Z"
   },
   {
    "duration": 11,
    "start_time": "2023-05-24T10:46:03.748Z"
   },
   {
    "duration": 69,
    "start_time": "2023-05-24T10:46:03.762Z"
   },
   {
    "duration": 59,
    "start_time": "2023-05-24T10:46:03.833Z"
   },
   {
    "duration": 6,
    "start_time": "2023-05-24T10:46:03.894Z"
   },
   {
    "duration": 25,
    "start_time": "2023-05-24T10:46:03.902Z"
   },
   {
    "duration": 56,
    "start_time": "2023-05-24T10:46:03.929Z"
   },
   {
    "duration": 4,
    "start_time": "2023-05-24T10:46:03.988Z"
   },
   {
    "duration": 239,
    "start_time": "2023-05-24T10:46:03.994Z"
   },
   {
    "duration": 44,
    "start_time": "2023-05-24T10:46:04.235Z"
   },
   {
    "duration": 169,
    "start_time": "2023-05-24T10:46:04.281Z"
   },
   {
    "duration": 15,
    "start_time": "2023-05-24T10:46:04.456Z"
   },
   {
    "duration": 11,
    "start_time": "2023-05-24T10:46:04.473Z"
   },
   {
    "duration": 25,
    "start_time": "2023-05-24T10:46:04.487Z"
   },
   {
    "duration": 53,
    "start_time": "2023-05-24T10:46:04.514Z"
   },
   {
    "duration": 185,
    "start_time": "2023-05-24T10:46:04.569Z"
   },
   {
    "duration": 14,
    "start_time": "2023-05-24T10:46:04.757Z"
   },
   {
    "duration": 142,
    "start_time": "2023-05-24T10:46:04.773Z"
   },
   {
    "duration": 6,
    "start_time": "2023-05-24T10:46:04.917Z"
   },
   {
    "duration": 31,
    "start_time": "2023-05-24T10:46:04.925Z"
   },
   {
    "duration": 127,
    "start_time": "2023-05-24T10:46:04.961Z"
   },
   {
    "duration": 6,
    "start_time": "2023-05-24T10:46:05.090Z"
   },
   {
    "duration": 64,
    "start_time": "2023-05-24T10:46:05.097Z"
   },
   {
    "duration": 14,
    "start_time": "2023-05-24T10:46:05.162Z"
   },
   {
    "duration": 21,
    "start_time": "2023-05-24T10:46:05.178Z"
   },
   {
    "duration": 145,
    "start_time": "2023-05-24T10:46:05.200Z"
   },
   {
    "duration": 25,
    "start_time": "2023-05-24T10:46:05.347Z"
   },
   {
    "duration": 160,
    "start_time": "2023-05-24T10:46:05.374Z"
   },
   {
    "duration": 53,
    "start_time": "2023-05-24T10:46:05.536Z"
   },
   {
    "duration": 121,
    "start_time": "2023-05-24T10:46:05.591Z"
   },
   {
    "duration": 12,
    "start_time": "2023-05-24T10:46:05.714Z"
   },
   {
    "duration": 23,
    "start_time": "2023-05-24T10:46:05.727Z"
   },
   {
    "duration": 16,
    "start_time": "2023-05-24T10:46:05.752Z"
   },
   {
    "duration": 13,
    "start_time": "2023-05-24T10:46:05.770Z"
   },
   {
    "duration": 24,
    "start_time": "2023-05-24T10:46:05.785Z"
   },
   {
    "duration": 27,
    "start_time": "2023-05-24T10:46:05.810Z"
   },
   {
    "duration": 35,
    "start_time": "2023-05-24T10:46:05.839Z"
   },
   {
    "duration": 35,
    "start_time": "2023-05-24T10:46:05.875Z"
   },
   {
    "duration": 241,
    "start_time": "2023-05-24T10:46:05.912Z"
   },
   {
    "duration": 13,
    "start_time": "2023-05-24T10:46:06.156Z"
   },
   {
    "duration": 24,
    "start_time": "2023-05-24T10:46:06.171Z"
   },
   {
    "duration": 9,
    "start_time": "2023-05-24T10:46:06.197Z"
   },
   {
    "duration": 14,
    "start_time": "2023-05-24T10:46:06.208Z"
   },
   {
    "duration": 11,
    "start_time": "2023-05-24T10:46:06.223Z"
   },
   {
    "duration": 30,
    "start_time": "2023-05-24T10:46:06.236Z"
   },
   {
    "duration": 1111,
    "start_time": "2023-05-24T10:46:06.268Z"
   },
   {
    "duration": 0,
    "start_time": "2023-05-24T10:46:07.381Z"
   },
   {
    "duration": 0,
    "start_time": "2023-05-24T10:46:07.382Z"
   },
   {
    "duration": 52,
    "start_time": "2023-05-24T10:46:24.058Z"
   },
   {
    "duration": 55,
    "start_time": "2023-05-24T10:48:08.681Z"
   },
   {
    "duration": 51,
    "start_time": "2023-05-24T10:48:16.877Z"
   },
   {
    "duration": 50,
    "start_time": "2023-05-24T10:48:33.996Z"
   },
   {
    "duration": 52,
    "start_time": "2023-05-24T10:48:38.999Z"
   },
   {
    "duration": 52,
    "start_time": "2023-05-24T10:48:43.498Z"
   },
   {
    "duration": 55,
    "start_time": "2023-05-24T10:48:49.494Z"
   },
   {
    "duration": 45,
    "start_time": "2023-05-24T10:49:41.376Z"
   },
   {
    "duration": 10,
    "start_time": "2023-05-24T10:51:04.521Z"
   },
   {
    "duration": 51,
    "start_time": "2023-05-24T10:51:25.307Z"
   },
   {
    "duration": 9,
    "start_time": "2023-05-24T10:51:29.093Z"
   },
   {
    "duration": 49,
    "start_time": "2023-05-24T10:52:15.262Z"
   },
   {
    "duration": 10,
    "start_time": "2023-05-24T10:52:23.128Z"
   },
   {
    "duration": 12,
    "start_time": "2023-05-24T10:52:36.015Z"
   },
   {
    "duration": 9,
    "start_time": "2023-05-24T10:53:25.581Z"
   },
   {
    "duration": 9,
    "start_time": "2023-05-24T10:53:29.963Z"
   },
   {
    "duration": 9,
    "start_time": "2023-05-24T10:53:45.661Z"
   },
   {
    "duration": 11,
    "start_time": "2023-05-24T10:54:09.117Z"
   },
   {
    "duration": 50,
    "start_time": "2023-05-24T10:54:24.711Z"
   },
   {
    "duration": 18,
    "start_time": "2023-05-24T10:54:32.054Z"
   },
   {
    "duration": 211,
    "start_time": "2023-05-24T10:55:02.558Z"
   },
   {
    "duration": 19,
    "start_time": "2023-05-24T10:55:11.996Z"
   },
   {
    "duration": 1251,
    "start_time": "2023-05-24T10:57:05.146Z"
   },
   {
    "duration": 135,
    "start_time": "2023-05-24T10:57:06.399Z"
   },
   {
    "duration": 39,
    "start_time": "2023-05-24T10:57:06.536Z"
   },
   {
    "duration": 13,
    "start_time": "2023-05-24T10:57:06.577Z"
   },
   {
    "duration": 82,
    "start_time": "2023-05-24T10:57:06.591Z"
   },
   {
    "duration": 5,
    "start_time": "2023-05-24T10:57:06.675Z"
   },
   {
    "duration": 60,
    "start_time": "2023-05-24T10:57:06.681Z"
   },
   {
    "duration": 34,
    "start_time": "2023-05-24T10:57:06.743Z"
   },
   {
    "duration": 8,
    "start_time": "2023-05-24T10:57:06.779Z"
   },
   {
    "duration": 73,
    "start_time": "2023-05-24T10:57:06.790Z"
   },
   {
    "duration": 62,
    "start_time": "2023-05-24T10:57:06.866Z"
   },
   {
    "duration": 6,
    "start_time": "2023-05-24T10:57:06.929Z"
   },
   {
    "duration": 8,
    "start_time": "2023-05-24T10:57:06.957Z"
   },
   {
    "duration": 55,
    "start_time": "2023-05-24T10:57:06.967Z"
   },
   {
    "duration": 5,
    "start_time": "2023-05-24T10:57:07.024Z"
   },
   {
    "duration": 259,
    "start_time": "2023-05-24T10:57:07.030Z"
   },
   {
    "duration": 32,
    "start_time": "2023-05-24T10:57:07.291Z"
   },
   {
    "duration": 200,
    "start_time": "2023-05-24T10:57:07.325Z"
   },
   {
    "duration": 14,
    "start_time": "2023-05-24T10:57:07.527Z"
   },
   {
    "duration": 14,
    "start_time": "2023-05-24T10:57:07.543Z"
   },
   {
    "duration": 26,
    "start_time": "2023-05-24T10:57:07.559Z"
   },
   {
    "duration": 38,
    "start_time": "2023-05-24T10:57:07.587Z"
   },
   {
    "duration": 190,
    "start_time": "2023-05-24T10:57:07.627Z"
   },
   {
    "duration": 14,
    "start_time": "2023-05-24T10:57:07.818Z"
   },
   {
    "duration": 147,
    "start_time": "2023-05-24T10:57:07.834Z"
   },
   {
    "duration": 6,
    "start_time": "2023-05-24T10:57:07.983Z"
   },
   {
    "duration": 20,
    "start_time": "2023-05-24T10:57:07.990Z"
   },
   {
    "duration": 145,
    "start_time": "2023-05-24T10:57:08.014Z"
   },
   {
    "duration": 5,
    "start_time": "2023-05-24T10:57:08.161Z"
   },
   {
    "duration": 47,
    "start_time": "2023-05-24T10:57:08.168Z"
   },
   {
    "duration": 14,
    "start_time": "2023-05-24T10:57:08.217Z"
   },
   {
    "duration": 38,
    "start_time": "2023-05-24T10:57:08.233Z"
   },
   {
    "duration": 159,
    "start_time": "2023-05-24T10:57:08.273Z"
   },
   {
    "duration": 31,
    "start_time": "2023-05-24T10:57:08.434Z"
   },
   {
    "duration": 138,
    "start_time": "2023-05-24T10:57:08.467Z"
   },
   {
    "duration": 54,
    "start_time": "2023-05-24T10:57:08.607Z"
   },
   {
    "duration": 131,
    "start_time": "2023-05-24T10:57:08.663Z"
   },
   {
    "duration": 10,
    "start_time": "2023-05-24T10:57:08.796Z"
   },
   {
    "duration": 7,
    "start_time": "2023-05-24T10:57:08.808Z"
   },
   {
    "duration": 42,
    "start_time": "2023-05-24T10:57:08.817Z"
   },
   {
    "duration": 20,
    "start_time": "2023-05-24T10:57:08.861Z"
   },
   {
    "duration": 16,
    "start_time": "2023-05-24T10:57:08.884Z"
   },
   {
    "duration": 17,
    "start_time": "2023-05-24T10:57:08.902Z"
   },
   {
    "duration": 42,
    "start_time": "2023-05-24T10:57:08.921Z"
   },
   {
    "duration": 59,
    "start_time": "2023-05-24T10:57:08.965Z"
   },
   {
    "duration": 237,
    "start_time": "2023-05-24T10:57:09.026Z"
   },
   {
    "duration": 14,
    "start_time": "2023-05-24T10:57:09.265Z"
   },
   {
    "duration": 15,
    "start_time": "2023-05-24T10:57:09.281Z"
   },
   {
    "duration": 12,
    "start_time": "2023-05-24T10:57:09.298Z"
   },
   {
    "duration": 16,
    "start_time": "2023-05-24T10:57:09.311Z"
   },
   {
    "duration": 6,
    "start_time": "2023-05-24T10:57:09.356Z"
   },
   {
    "duration": 12,
    "start_time": "2023-05-24T10:57:09.364Z"
   },
   {
    "duration": 55,
    "start_time": "2023-05-24T10:57:09.378Z"
   },
   {
    "duration": 31,
    "start_time": "2023-05-24T10:57:09.434Z"
   },
   {
    "duration": 29,
    "start_time": "2023-05-24T10:57:09.467Z"
   },
   {
    "duration": 23,
    "start_time": "2023-05-24T10:57:09.498Z"
   },
   {
    "duration": 57,
    "start_time": "2023-05-24T10:59:37.466Z"
   },
   {
    "duration": 13,
    "start_time": "2023-05-24T10:59:44.250Z"
   },
   {
    "duration": 1171,
    "start_time": "2023-05-24T10:59:59.620Z"
   },
   {
    "duration": 132,
    "start_time": "2023-05-24T11:00:00.793Z"
   },
   {
    "duration": 36,
    "start_time": "2023-05-24T11:00:00.927Z"
   },
   {
    "duration": 57,
    "start_time": "2023-05-24T11:00:00.965Z"
   },
   {
    "duration": 109,
    "start_time": "2023-05-24T11:00:01.024Z"
   },
   {
    "duration": 11,
    "start_time": "2023-05-24T11:00:01.136Z"
   },
   {
    "duration": 103,
    "start_time": "2023-05-24T11:00:01.149Z"
   },
   {
    "duration": 127,
    "start_time": "2023-05-24T11:00:01.254Z"
   },
   {
    "duration": 112,
    "start_time": "2023-05-24T11:00:01.383Z"
   },
   {
    "duration": 224,
    "start_time": "2023-05-24T11:00:01.498Z"
   },
   {
    "duration": 114,
    "start_time": "2023-05-24T11:00:01.724Z"
   },
   {
    "duration": 12,
    "start_time": "2023-05-24T11:00:01.840Z"
   },
   {
    "duration": 97,
    "start_time": "2023-05-24T11:00:01.853Z"
   },
   {
    "duration": 123,
    "start_time": "2023-05-24T11:00:01.952Z"
   },
   {
    "duration": 11,
    "start_time": "2023-05-24T11:00:02.077Z"
   },
   {
    "duration": 294,
    "start_time": "2023-05-24T11:00:02.090Z"
   },
   {
    "duration": 45,
    "start_time": "2023-05-24T11:00:02.386Z"
   },
   {
    "duration": 239,
    "start_time": "2023-05-24T11:00:02.433Z"
   },
   {
    "duration": 13,
    "start_time": "2023-05-24T11:00:02.674Z"
   },
   {
    "duration": 70,
    "start_time": "2023-05-24T11:00:02.689Z"
   },
   {
    "duration": 79,
    "start_time": "2023-05-24T11:00:02.761Z"
   },
   {
    "duration": 105,
    "start_time": "2023-05-24T11:00:02.841Z"
   },
   {
    "duration": 235,
    "start_time": "2023-05-24T11:00:02.948Z"
   },
   {
    "duration": 13,
    "start_time": "2023-05-24T11:00:03.185Z"
   },
   {
    "duration": 191,
    "start_time": "2023-05-24T11:00:03.200Z"
   },
   {
    "duration": 6,
    "start_time": "2023-05-24T11:00:03.393Z"
   },
   {
    "duration": 97,
    "start_time": "2023-05-24T11:00:03.400Z"
   },
   {
    "duration": 209,
    "start_time": "2023-05-24T11:00:03.501Z"
   },
   {
    "duration": 5,
    "start_time": "2023-05-24T11:00:03.712Z"
   },
   {
    "duration": 101,
    "start_time": "2023-05-24T11:00:03.718Z"
   },
   {
    "duration": 14,
    "start_time": "2023-05-24T11:00:03.820Z"
   },
   {
    "duration": 54,
    "start_time": "2023-05-24T11:00:03.836Z"
   },
   {
    "duration": 141,
    "start_time": "2023-05-24T11:00:03.892Z"
   },
   {
    "duration": 36,
    "start_time": "2023-05-24T11:00:04.035Z"
   },
   {
    "duration": 146,
    "start_time": "2023-05-24T11:00:04.073Z"
   },
   {
    "duration": 49,
    "start_time": "2023-05-24T11:00:04.221Z"
   },
   {
    "duration": 107,
    "start_time": "2023-05-24T11:00:04.272Z"
   },
   {
    "duration": 12,
    "start_time": "2023-05-24T11:00:04.380Z"
   },
   {
    "duration": 133,
    "start_time": "2023-05-24T11:00:04.394Z"
   },
   {
    "duration": 70,
    "start_time": "2023-05-24T11:00:04.529Z"
   },
   {
    "duration": 63,
    "start_time": "2023-05-24T11:00:04.601Z"
   },
   {
    "duration": 34,
    "start_time": "2023-05-24T11:00:04.666Z"
   },
   {
    "duration": 48,
    "start_time": "2023-05-24T11:00:04.702Z"
   },
   {
    "duration": 38,
    "start_time": "2023-05-24T11:00:04.752Z"
   },
   {
    "duration": 31,
    "start_time": "2023-05-24T11:00:04.792Z"
   },
   {
    "duration": 234,
    "start_time": "2023-05-24T11:00:04.825Z"
   },
   {
    "duration": 14,
    "start_time": "2023-05-24T11:00:05.061Z"
   },
   {
    "duration": 45,
    "start_time": "2023-05-24T11:00:05.077Z"
   },
   {
    "duration": 30,
    "start_time": "2023-05-24T11:00:05.124Z"
   },
   {
    "duration": 48,
    "start_time": "2023-05-24T11:00:05.156Z"
   },
   {
    "duration": 7,
    "start_time": "2023-05-24T11:00:05.206Z"
   },
   {
    "duration": 15,
    "start_time": "2023-05-24T11:00:05.215Z"
   },
   {
    "duration": 88,
    "start_time": "2023-05-24T11:00:05.231Z"
   },
   {
    "duration": 12,
    "start_time": "2023-05-24T11:00:05.321Z"
   },
   {
    "duration": 33,
    "start_time": "2023-05-24T11:00:05.335Z"
   },
   {
    "duration": 41,
    "start_time": "2023-05-24T11:00:05.370Z"
   },
   {
    "duration": 13,
    "start_time": "2023-05-24T11:00:25.761Z"
   },
   {
    "duration": 13,
    "start_time": "2023-05-24T11:02:50.386Z"
   },
   {
    "duration": 13,
    "start_time": "2023-05-24T11:03:13.686Z"
   },
   {
    "duration": 14,
    "start_time": "2023-05-24T11:05:43.604Z"
   },
   {
    "duration": 13,
    "start_time": "2023-05-24T11:05:49.460Z"
   },
   {
    "duration": 13,
    "start_time": "2023-05-24T11:05:54.946Z"
   },
   {
    "duration": 13,
    "start_time": "2023-05-24T11:06:13.290Z"
   },
   {
    "duration": 249,
    "start_time": "2023-05-24T11:07:03.962Z"
   },
   {
    "duration": 45,
    "start_time": "2023-05-24T11:07:33.674Z"
   },
   {
    "duration": 53,
    "start_time": "2023-05-24T11:07:46.111Z"
   },
   {
    "duration": 13,
    "start_time": "2023-05-24T11:07:50.787Z"
   },
   {
    "duration": 13,
    "start_time": "2023-05-24T11:08:11.561Z"
   },
   {
    "duration": 3,
    "start_time": "2023-05-24T11:09:56.846Z"
   },
   {
    "duration": 12,
    "start_time": "2023-05-24T11:10:12.266Z"
   },
   {
    "duration": 51,
    "start_time": "2023-05-24T11:10:29.066Z"
   },
   {
    "duration": 10,
    "start_time": "2023-05-24T11:10:36.114Z"
   },
   {
    "duration": 1245,
    "start_time": "2023-05-24T11:11:00.844Z"
   },
   {
    "duration": 131,
    "start_time": "2023-05-24T11:11:02.091Z"
   },
   {
    "duration": 36,
    "start_time": "2023-05-24T11:11:02.223Z"
   },
   {
    "duration": 23,
    "start_time": "2023-05-24T11:11:02.261Z"
   },
   {
    "duration": 84,
    "start_time": "2023-05-24T11:11:02.285Z"
   },
   {
    "duration": 5,
    "start_time": "2023-05-24T11:11:02.371Z"
   },
   {
    "duration": 71,
    "start_time": "2023-05-24T11:11:02.377Z"
   },
   {
    "duration": 85,
    "start_time": "2023-05-24T11:11:02.450Z"
   },
   {
    "duration": 47,
    "start_time": "2023-05-24T11:11:02.537Z"
   },
   {
    "duration": 101,
    "start_time": "2023-05-24T11:11:02.587Z"
   },
   {
    "duration": 84,
    "start_time": "2023-05-24T11:11:02.690Z"
   },
   {
    "duration": 7,
    "start_time": "2023-05-24T11:11:02.776Z"
   },
   {
    "duration": 62,
    "start_time": "2023-05-24T11:11:02.784Z"
   },
   {
    "duration": 71,
    "start_time": "2023-05-24T11:11:02.848Z"
   },
   {
    "duration": 16,
    "start_time": "2023-05-24T11:11:02.921Z"
   },
   {
    "duration": 252,
    "start_time": "2023-05-24T11:11:02.939Z"
   },
   {
    "duration": 32,
    "start_time": "2023-05-24T11:11:03.193Z"
   },
   {
    "duration": 181,
    "start_time": "2023-05-24T11:11:03.227Z"
   },
   {
    "duration": 13,
    "start_time": "2023-05-24T11:11:03.409Z"
   },
   {
    "duration": 7,
    "start_time": "2023-05-24T11:11:03.423Z"
   },
   {
    "duration": 38,
    "start_time": "2023-05-24T11:11:03.432Z"
   },
   {
    "duration": 55,
    "start_time": "2023-05-24T11:11:03.472Z"
   },
   {
    "duration": 177,
    "start_time": "2023-05-24T11:11:03.529Z"
   },
   {
    "duration": 14,
    "start_time": "2023-05-24T11:11:03.708Z"
   },
   {
    "duration": 142,
    "start_time": "2023-05-24T11:11:03.724Z"
   },
   {
    "duration": 7,
    "start_time": "2023-05-24T11:11:03.868Z"
   },
   {
    "duration": 59,
    "start_time": "2023-05-24T11:11:03.877Z"
   },
   {
    "duration": 152,
    "start_time": "2023-05-24T11:11:03.941Z"
   },
   {
    "duration": 6,
    "start_time": "2023-05-24T11:11:04.095Z"
   },
   {
    "duration": 65,
    "start_time": "2023-05-24T11:11:04.103Z"
   },
   {
    "duration": 16,
    "start_time": "2023-05-24T11:11:04.169Z"
   },
   {
    "duration": 21,
    "start_time": "2023-05-24T11:11:04.187Z"
   },
   {
    "duration": 173,
    "start_time": "2023-05-24T11:11:04.210Z"
   },
   {
    "duration": 22,
    "start_time": "2023-05-24T11:11:04.385Z"
   },
   {
    "duration": 166,
    "start_time": "2023-05-24T11:11:04.409Z"
   },
   {
    "duration": 43,
    "start_time": "2023-05-24T11:11:04.577Z"
   },
   {
    "duration": 121,
    "start_time": "2023-05-24T11:11:04.621Z"
   },
   {
    "duration": 21,
    "start_time": "2023-05-24T11:11:04.743Z"
   },
   {
    "duration": 18,
    "start_time": "2023-05-24T11:11:04.765Z"
   },
   {
    "duration": 31,
    "start_time": "2023-05-24T11:11:04.785Z"
   },
   {
    "duration": 24,
    "start_time": "2023-05-24T11:11:04.817Z"
   },
   {
    "duration": 13,
    "start_time": "2023-05-24T11:11:04.843Z"
   },
   {
    "duration": 16,
    "start_time": "2023-05-24T11:11:04.858Z"
   },
   {
    "duration": 10,
    "start_time": "2023-05-24T11:11:04.876Z"
   },
   {
    "duration": 30,
    "start_time": "2023-05-24T11:11:04.888Z"
   },
   {
    "duration": 265,
    "start_time": "2023-05-24T11:11:04.920Z"
   },
   {
    "duration": 14,
    "start_time": "2023-05-24T11:11:05.187Z"
   },
   {
    "duration": 32,
    "start_time": "2023-05-24T11:11:05.202Z"
   },
   {
    "duration": 18,
    "start_time": "2023-05-24T11:11:05.236Z"
   },
   {
    "duration": 45,
    "start_time": "2023-05-24T11:11:05.256Z"
   },
   {
    "duration": 14,
    "start_time": "2023-05-24T11:11:05.303Z"
   },
   {
    "duration": 42,
    "start_time": "2023-05-24T11:11:05.319Z"
   },
   {
    "duration": 64,
    "start_time": "2023-05-24T11:11:05.363Z"
   },
   {
    "duration": 10,
    "start_time": "2023-05-24T11:11:05.429Z"
   },
   {
    "duration": 21,
    "start_time": "2023-05-24T11:11:05.456Z"
   },
   {
    "duration": 30,
    "start_time": "2023-05-24T11:11:05.479Z"
   },
   {
    "duration": 4,
    "start_time": "2023-05-24T11:12:17.469Z"
   },
   {
    "duration": 11,
    "start_time": "2023-05-24T11:12:26.973Z"
   },
   {
    "duration": 15,
    "start_time": "2023-05-24T11:13:02.453Z"
   },
   {
    "duration": 10,
    "start_time": "2023-05-24T11:13:06.683Z"
   },
   {
    "duration": 10,
    "start_time": "2023-05-24T11:13:08.819Z"
   },
   {
    "duration": 11,
    "start_time": "2023-05-24T11:13:26.893Z"
   },
   {
    "duration": 16,
    "start_time": "2023-05-24T11:13:31.561Z"
   },
   {
    "duration": 1264,
    "start_time": "2023-05-24T11:13:41.321Z"
   },
   {
    "duration": 132,
    "start_time": "2023-05-24T11:13:42.587Z"
   },
   {
    "duration": 42,
    "start_time": "2023-05-24T11:13:42.720Z"
   },
   {
    "duration": 11,
    "start_time": "2023-05-24T11:13:42.764Z"
   },
   {
    "duration": 79,
    "start_time": "2023-05-24T11:13:42.777Z"
   },
   {
    "duration": 5,
    "start_time": "2023-05-24T11:13:42.858Z"
   },
   {
    "duration": 43,
    "start_time": "2023-05-24T11:13:42.864Z"
   },
   {
    "duration": 16,
    "start_time": "2023-05-24T11:13:42.909Z"
   },
   {
    "duration": 4,
    "start_time": "2023-05-24T11:13:42.926Z"
   },
   {
    "duration": 61,
    "start_time": "2023-05-24T11:13:42.932Z"
   },
   {
    "duration": 74,
    "start_time": "2023-05-24T11:13:42.995Z"
   },
   {
    "duration": 6,
    "start_time": "2023-05-24T11:13:43.071Z"
   },
   {
    "duration": 11,
    "start_time": "2023-05-24T11:13:43.078Z"
   },
   {
    "duration": 48,
    "start_time": "2023-05-24T11:13:43.091Z"
   },
   {
    "duration": 5,
    "start_time": "2023-05-24T11:13:43.157Z"
   },
   {
    "duration": 238,
    "start_time": "2023-05-24T11:13:43.164Z"
   },
   {
    "duration": 30,
    "start_time": "2023-05-24T11:13:43.404Z"
   },
   {
    "duration": 177,
    "start_time": "2023-05-24T11:13:43.436Z"
   },
   {
    "duration": 15,
    "start_time": "2023-05-24T11:13:43.615Z"
   },
   {
    "duration": 5,
    "start_time": "2023-05-24T11:13:43.632Z"
   },
   {
    "duration": 19,
    "start_time": "2023-05-24T11:13:43.657Z"
   },
   {
    "duration": 39,
    "start_time": "2023-05-24T11:13:43.678Z"
   },
   {
    "duration": 197,
    "start_time": "2023-05-24T11:13:43.718Z"
   },
   {
    "duration": 15,
    "start_time": "2023-05-24T11:13:43.917Z"
   },
   {
    "duration": 151,
    "start_time": "2023-05-24T11:13:43.934Z"
   },
   {
    "duration": 5,
    "start_time": "2023-05-24T11:13:44.086Z"
   },
   {
    "duration": 26,
    "start_time": "2023-05-24T11:13:44.093Z"
   },
   {
    "duration": 144,
    "start_time": "2023-05-24T11:13:44.123Z"
   },
   {
    "duration": 5,
    "start_time": "2023-05-24T11:13:44.268Z"
   },
   {
    "duration": 48,
    "start_time": "2023-05-24T11:13:44.275Z"
   },
   {
    "duration": 32,
    "start_time": "2023-05-24T11:13:44.325Z"
   },
   {
    "duration": 21,
    "start_time": "2023-05-24T11:13:44.359Z"
   },
   {
    "duration": 148,
    "start_time": "2023-05-24T11:13:44.381Z"
   },
   {
    "duration": 28,
    "start_time": "2023-05-24T11:13:44.531Z"
   },
   {
    "duration": 142,
    "start_time": "2023-05-24T11:13:44.561Z"
   },
   {
    "duration": 52,
    "start_time": "2023-05-24T11:13:44.705Z"
   },
   {
    "duration": 129,
    "start_time": "2023-05-24T11:13:44.759Z"
   },
   {
    "duration": 10,
    "start_time": "2023-05-24T11:13:44.890Z"
   },
   {
    "duration": 7,
    "start_time": "2023-05-24T11:13:44.902Z"
   },
   {
    "duration": 14,
    "start_time": "2023-05-24T11:13:44.911Z"
   },
   {
    "duration": 40,
    "start_time": "2023-05-24T11:13:44.927Z"
   },
   {
    "duration": 14,
    "start_time": "2023-05-24T11:13:44.969Z"
   },
   {
    "duration": 51,
    "start_time": "2023-05-24T11:13:44.985Z"
   },
   {
    "duration": 35,
    "start_time": "2023-05-24T11:13:45.038Z"
   },
   {
    "duration": 22,
    "start_time": "2023-05-24T11:13:45.075Z"
   },
   {
    "duration": 236,
    "start_time": "2023-05-24T11:13:45.099Z"
   },
   {
    "duration": 28,
    "start_time": "2023-05-24T11:13:45.337Z"
   },
   {
    "duration": 10,
    "start_time": "2023-05-24T11:13:45.367Z"
   },
   {
    "duration": 18,
    "start_time": "2023-05-24T11:13:45.379Z"
   },
   {
    "duration": 21,
    "start_time": "2023-05-24T11:13:45.399Z"
   },
   {
    "duration": 6,
    "start_time": "2023-05-24T11:13:45.422Z"
   },
   {
    "duration": 31,
    "start_time": "2023-05-24T11:13:45.430Z"
   },
   {
    "duration": 55,
    "start_time": "2023-05-24T11:13:45.463Z"
   },
   {
    "duration": 14,
    "start_time": "2023-05-24T11:13:45.520Z"
   },
   {
    "duration": 19,
    "start_time": "2023-05-24T11:13:45.556Z"
   },
   {
    "duration": 19,
    "start_time": "2023-05-24T11:13:45.577Z"
   },
   {
    "duration": 17,
    "start_time": "2023-05-24T11:14:20.454Z"
   },
   {
    "duration": 19,
    "start_time": "2023-05-24T11:14:21.984Z"
   },
   {
    "duration": 15,
    "start_time": "2023-05-24T11:14:57.118Z"
   },
   {
    "duration": 14,
    "start_time": "2023-05-24T11:15:02.496Z"
   },
   {
    "duration": 13,
    "start_time": "2023-05-24T11:15:12.667Z"
   },
   {
    "duration": 14,
    "start_time": "2023-05-24T11:15:22.657Z"
   },
   {
    "duration": 10,
    "start_time": "2023-05-24T11:15:29.065Z"
   },
   {
    "duration": 23,
    "start_time": "2023-05-24T11:15:31.764Z"
   },
   {
    "duration": 19,
    "start_time": "2023-05-24T11:15:55.966Z"
   },
   {
    "duration": 56,
    "start_time": "2023-05-24T11:15:59.573Z"
   },
   {
    "duration": 19,
    "start_time": "2023-05-24T11:16:02.696Z"
   },
   {
    "duration": 12,
    "start_time": "2023-05-24T11:16:14.579Z"
   },
   {
    "duration": 13,
    "start_time": "2023-05-24T11:16:25.361Z"
   },
   {
    "duration": 9,
    "start_time": "2023-05-24T11:16:43.250Z"
   },
   {
    "duration": 17,
    "start_time": "2023-05-24T11:16:48.658Z"
   },
   {
    "duration": 1217,
    "start_time": "2023-05-24T11:16:53.980Z"
   },
   {
    "duration": 135,
    "start_time": "2023-05-24T11:16:55.199Z"
   },
   {
    "duration": 39,
    "start_time": "2023-05-24T11:16:55.336Z"
   },
   {
    "duration": 13,
    "start_time": "2023-05-24T11:16:55.377Z"
   },
   {
    "duration": 82,
    "start_time": "2023-05-24T11:16:55.391Z"
   },
   {
    "duration": 4,
    "start_time": "2023-05-24T11:16:55.475Z"
   },
   {
    "duration": 39,
    "start_time": "2023-05-24T11:16:55.481Z"
   },
   {
    "duration": 19,
    "start_time": "2023-05-24T11:16:55.522Z"
   },
   {
    "duration": 4,
    "start_time": "2023-05-24T11:16:55.542Z"
   },
   {
    "duration": 61,
    "start_time": "2023-05-24T11:16:55.559Z"
   },
   {
    "duration": 83,
    "start_time": "2023-05-24T11:16:55.623Z"
   },
   {
    "duration": 7,
    "start_time": "2023-05-24T11:16:55.708Z"
   },
   {
    "duration": 14,
    "start_time": "2023-05-24T11:16:55.717Z"
   },
   {
    "duration": 70,
    "start_time": "2023-05-24T11:16:55.733Z"
   },
   {
    "duration": 5,
    "start_time": "2023-05-24T11:16:55.806Z"
   },
   {
    "duration": 247,
    "start_time": "2023-05-24T11:16:55.812Z"
   },
   {
    "duration": 29,
    "start_time": "2023-05-24T11:16:56.061Z"
   },
   {
    "duration": 178,
    "start_time": "2023-05-24T11:16:56.092Z"
   },
   {
    "duration": 14,
    "start_time": "2023-05-24T11:16:56.272Z"
   },
   {
    "duration": 15,
    "start_time": "2023-05-24T11:16:56.287Z"
   },
   {
    "duration": 27,
    "start_time": "2023-05-24T11:16:56.304Z"
   },
   {
    "duration": 44,
    "start_time": "2023-05-24T11:16:56.333Z"
   },
   {
    "duration": 194,
    "start_time": "2023-05-24T11:16:56.378Z"
   },
   {
    "duration": 13,
    "start_time": "2023-05-24T11:16:56.574Z"
   },
   {
    "duration": 146,
    "start_time": "2023-05-24T11:16:56.589Z"
   },
   {
    "duration": 6,
    "start_time": "2023-05-24T11:16:56.737Z"
   },
   {
    "duration": 34,
    "start_time": "2023-05-24T11:16:56.744Z"
   },
   {
    "duration": 129,
    "start_time": "2023-05-24T11:16:56.781Z"
   },
   {
    "duration": 5,
    "start_time": "2023-05-24T11:16:56.911Z"
   },
   {
    "duration": 58,
    "start_time": "2023-05-24T11:16:56.918Z"
   },
   {
    "duration": 34,
    "start_time": "2023-05-24T11:16:56.978Z"
   },
   {
    "duration": 24,
    "start_time": "2023-05-24T11:16:57.014Z"
   },
   {
    "duration": 163,
    "start_time": "2023-05-24T11:16:57.040Z"
   },
   {
    "duration": 25,
    "start_time": "2023-05-24T11:16:57.205Z"
   },
   {
    "duration": 163,
    "start_time": "2023-05-24T11:16:57.232Z"
   },
   {
    "duration": 60,
    "start_time": "2023-05-24T11:16:57.397Z"
   },
   {
    "duration": 133,
    "start_time": "2023-05-24T11:16:57.459Z"
   },
   {
    "duration": 12,
    "start_time": "2023-05-24T11:16:57.595Z"
   },
   {
    "duration": 8,
    "start_time": "2023-05-24T11:16:57.610Z"
   },
   {
    "duration": 37,
    "start_time": "2023-05-24T11:16:57.620Z"
   },
   {
    "duration": 16,
    "start_time": "2023-05-24T11:16:57.660Z"
   },
   {
    "duration": 14,
    "start_time": "2023-05-24T11:16:57.678Z"
   },
   {
    "duration": 22,
    "start_time": "2023-05-24T11:16:57.694Z"
   },
   {
    "duration": 38,
    "start_time": "2023-05-24T11:16:57.718Z"
   },
   {
    "duration": 17,
    "start_time": "2023-05-24T11:16:57.759Z"
   },
   {
    "duration": 267,
    "start_time": "2023-05-24T11:16:57.778Z"
   },
   {
    "duration": 14,
    "start_time": "2023-05-24T11:16:58.057Z"
   },
   {
    "duration": 30,
    "start_time": "2023-05-24T11:16:58.072Z"
   },
   {
    "duration": 10,
    "start_time": "2023-05-24T11:16:58.104Z"
   },
   {
    "duration": 14,
    "start_time": "2023-05-24T11:16:58.116Z"
   },
   {
    "duration": 17,
    "start_time": "2023-05-24T11:16:58.131Z"
   },
   {
    "duration": 29,
    "start_time": "2023-05-24T11:16:58.149Z"
   },
   {
    "duration": 64,
    "start_time": "2023-05-24T11:16:58.180Z"
   },
   {
    "duration": 10,
    "start_time": "2023-05-24T11:16:58.247Z"
   },
   {
    "duration": 30,
    "start_time": "2023-05-24T11:16:58.259Z"
   },
   {
    "duration": 28,
    "start_time": "2023-05-24T11:16:58.291Z"
   },
   {
    "duration": 10,
    "start_time": "2023-05-24T11:18:37.262Z"
   },
   {
    "duration": 12,
    "start_time": "2023-05-24T11:18:48.641Z"
   },
   {
    "duration": 16,
    "start_time": "2023-05-24T11:18:54.557Z"
   },
   {
    "duration": 12,
    "start_time": "2023-05-24T11:20:02.670Z"
   },
   {
    "duration": 20,
    "start_time": "2023-05-24T11:20:07.560Z"
   },
   {
    "duration": 1201,
    "start_time": "2023-05-24T11:20:35.175Z"
   },
   {
    "duration": 132,
    "start_time": "2023-05-24T11:20:36.378Z"
   },
   {
    "duration": 38,
    "start_time": "2023-05-24T11:20:36.512Z"
   },
   {
    "duration": 14,
    "start_time": "2023-05-24T11:20:36.552Z"
   },
   {
    "duration": 71,
    "start_time": "2023-05-24T11:20:36.568Z"
   },
   {
    "duration": 4,
    "start_time": "2023-05-24T11:20:36.641Z"
   },
   {
    "duration": 29,
    "start_time": "2023-05-24T11:20:36.647Z"
   },
   {
    "duration": 37,
    "start_time": "2023-05-24T11:20:36.678Z"
   },
   {
    "duration": 4,
    "start_time": "2023-05-24T11:20:36.716Z"
   },
   {
    "duration": 67,
    "start_time": "2023-05-24T11:20:36.722Z"
   },
   {
    "duration": 71,
    "start_time": "2023-05-24T11:20:36.791Z"
   },
   {
    "duration": 7,
    "start_time": "2023-05-24T11:20:36.863Z"
   },
   {
    "duration": 23,
    "start_time": "2023-05-24T11:20:36.871Z"
   },
   {
    "duration": 59,
    "start_time": "2023-05-24T11:20:36.898Z"
   },
   {
    "duration": 5,
    "start_time": "2023-05-24T11:20:36.959Z"
   },
   {
    "duration": 245,
    "start_time": "2023-05-24T11:20:36.965Z"
   },
   {
    "duration": 30,
    "start_time": "2023-05-24T11:20:37.213Z"
   },
   {
    "duration": 194,
    "start_time": "2023-05-24T11:20:37.245Z"
   },
   {
    "duration": 16,
    "start_time": "2023-05-24T11:20:37.441Z"
   },
   {
    "duration": 6,
    "start_time": "2023-05-24T11:20:37.459Z"
   },
   {
    "duration": 26,
    "start_time": "2023-05-24T11:20:37.466Z"
   },
   {
    "duration": 40,
    "start_time": "2023-05-24T11:20:37.494Z"
   },
   {
    "duration": 182,
    "start_time": "2023-05-24T11:20:37.536Z"
   },
   {
    "duration": 14,
    "start_time": "2023-05-24T11:20:37.721Z"
   },
   {
    "duration": 143,
    "start_time": "2023-05-24T11:20:37.737Z"
   },
   {
    "duration": 5,
    "start_time": "2023-05-24T11:20:37.882Z"
   },
   {
    "duration": 25,
    "start_time": "2023-05-24T11:20:37.888Z"
   },
   {
    "duration": 154,
    "start_time": "2023-05-24T11:20:37.914Z"
   },
   {
    "duration": 5,
    "start_time": "2023-05-24T11:20:38.070Z"
   },
   {
    "duration": 62,
    "start_time": "2023-05-24T11:20:38.076Z"
   },
   {
    "duration": 13,
    "start_time": "2023-05-24T11:20:38.140Z"
   },
   {
    "duration": 19,
    "start_time": "2023-05-24T11:20:38.155Z"
   },
   {
    "duration": 148,
    "start_time": "2023-05-24T11:20:38.176Z"
   },
   {
    "duration": 19,
    "start_time": "2023-05-24T11:20:38.326Z"
   },
   {
    "duration": 162,
    "start_time": "2023-05-24T11:20:38.357Z"
   },
   {
    "duration": 50,
    "start_time": "2023-05-24T11:20:38.521Z"
   },
   {
    "duration": 121,
    "start_time": "2023-05-24T11:20:38.573Z"
   },
   {
    "duration": 12,
    "start_time": "2023-05-24T11:20:38.695Z"
   },
   {
    "duration": 10,
    "start_time": "2023-05-24T11:20:38.709Z"
   },
   {
    "duration": 36,
    "start_time": "2023-05-24T11:20:38.721Z"
   },
   {
    "duration": 15,
    "start_time": "2023-05-24T11:20:38.761Z"
   },
   {
    "duration": 12,
    "start_time": "2023-05-24T11:20:38.778Z"
   },
   {
    "duration": 17,
    "start_time": "2023-05-24T11:20:38.792Z"
   },
   {
    "duration": 12,
    "start_time": "2023-05-24T11:20:38.810Z"
   },
   {
    "duration": 21,
    "start_time": "2023-05-24T11:20:38.858Z"
   },
   {
    "duration": 257,
    "start_time": "2023-05-24T11:20:38.881Z"
   },
   {
    "duration": 18,
    "start_time": "2023-05-24T11:20:39.139Z"
   },
   {
    "duration": 9,
    "start_time": "2023-05-24T11:20:39.159Z"
   },
   {
    "duration": 18,
    "start_time": "2023-05-24T11:20:39.169Z"
   },
   {
    "duration": 14,
    "start_time": "2023-05-24T11:20:39.189Z"
   },
   {
    "duration": 6,
    "start_time": "2023-05-24T11:20:39.205Z"
   },
   {
    "duration": 18,
    "start_time": "2023-05-24T11:20:39.213Z"
   },
   {
    "duration": 74,
    "start_time": "2023-05-24T11:20:39.233Z"
   },
   {
    "duration": 10,
    "start_time": "2023-05-24T11:20:39.309Z"
   },
   {
    "duration": 46,
    "start_time": "2023-05-24T11:20:39.321Z"
   },
   {
    "duration": 19,
    "start_time": "2023-05-24T11:20:39.368Z"
   },
   {
    "duration": 1241,
    "start_time": "2023-05-24T11:22:00.565Z"
   },
   {
    "duration": 134,
    "start_time": "2023-05-24T11:22:01.809Z"
   },
   {
    "duration": 58,
    "start_time": "2023-05-24T11:22:01.945Z"
   },
   {
    "duration": 76,
    "start_time": "2023-05-24T11:22:02.004Z"
   },
   {
    "duration": 105,
    "start_time": "2023-05-24T11:22:02.082Z"
   },
   {
    "duration": 5,
    "start_time": "2023-05-24T11:22:02.188Z"
   },
   {
    "duration": 40,
    "start_time": "2023-05-24T11:22:02.194Z"
   },
   {
    "duration": 45,
    "start_time": "2023-05-24T11:22:02.236Z"
   },
   {
    "duration": 21,
    "start_time": "2023-05-24T11:22:02.282Z"
   },
   {
    "duration": 68,
    "start_time": "2023-05-24T11:22:02.305Z"
   },
   {
    "duration": 63,
    "start_time": "2023-05-24T11:22:02.375Z"
   },
   {
    "duration": 18,
    "start_time": "2023-05-24T11:22:02.439Z"
   },
   {
    "duration": 20,
    "start_time": "2023-05-24T11:22:02.459Z"
   },
   {
    "duration": 63,
    "start_time": "2023-05-24T11:22:02.482Z"
   },
   {
    "duration": 5,
    "start_time": "2023-05-24T11:22:02.546Z"
   },
   {
    "duration": 288,
    "start_time": "2023-05-24T11:22:02.553Z"
   },
   {
    "duration": 37,
    "start_time": "2023-05-24T11:22:02.843Z"
   },
   {
    "duration": 167,
    "start_time": "2023-05-24T11:22:02.882Z"
   },
   {
    "duration": 17,
    "start_time": "2023-05-24T11:22:03.050Z"
   },
   {
    "duration": 25,
    "start_time": "2023-05-24T11:22:03.068Z"
   },
   {
    "duration": 39,
    "start_time": "2023-05-24T11:22:03.095Z"
   },
   {
    "duration": 39,
    "start_time": "2023-05-24T11:22:03.136Z"
   },
   {
    "duration": 183,
    "start_time": "2023-05-24T11:22:03.177Z"
   },
   {
    "duration": 14,
    "start_time": "2023-05-24T11:22:03.362Z"
   },
   {
    "duration": 148,
    "start_time": "2023-05-24T11:22:03.378Z"
   },
   {
    "duration": 6,
    "start_time": "2023-05-24T11:22:03.528Z"
   },
   {
    "duration": 46,
    "start_time": "2023-05-24T11:22:03.536Z"
   },
   {
    "duration": 132,
    "start_time": "2023-05-24T11:22:03.584Z"
   },
   {
    "duration": 6,
    "start_time": "2023-05-24T11:22:03.718Z"
   },
   {
    "duration": 60,
    "start_time": "2023-05-24T11:22:03.725Z"
   },
   {
    "duration": 15,
    "start_time": "2023-05-24T11:22:03.786Z"
   },
   {
    "duration": 33,
    "start_time": "2023-05-24T11:22:03.803Z"
   },
   {
    "duration": 147,
    "start_time": "2023-05-24T11:22:03.838Z"
   },
   {
    "duration": 21,
    "start_time": "2023-05-24T11:22:03.987Z"
   },
   {
    "duration": 148,
    "start_time": "2023-05-24T11:22:04.010Z"
   },
   {
    "duration": 41,
    "start_time": "2023-05-24T11:22:04.160Z"
   },
   {
    "duration": 131,
    "start_time": "2023-05-24T11:22:04.203Z"
   },
   {
    "duration": 27,
    "start_time": "2023-05-24T11:22:04.337Z"
   },
   {
    "duration": 8,
    "start_time": "2023-05-24T11:22:04.367Z"
   },
   {
    "duration": 21,
    "start_time": "2023-05-24T11:22:04.377Z"
   },
   {
    "duration": 16,
    "start_time": "2023-05-24T11:22:04.403Z"
   },
   {
    "duration": 39,
    "start_time": "2023-05-24T11:22:04.421Z"
   },
   {
    "duration": 16,
    "start_time": "2023-05-24T11:22:04.462Z"
   },
   {
    "duration": 13,
    "start_time": "2023-05-24T11:22:04.480Z"
   },
   {
    "duration": 79,
    "start_time": "2023-05-24T11:22:04.495Z"
   },
   {
    "duration": 248,
    "start_time": "2023-05-24T11:22:04.576Z"
   },
   {
    "duration": 13,
    "start_time": "2023-05-24T11:22:04.826Z"
   },
   {
    "duration": 14,
    "start_time": "2023-05-24T11:22:04.857Z"
   },
   {
    "duration": 14,
    "start_time": "2023-05-24T11:22:04.873Z"
   },
   {
    "duration": 14,
    "start_time": "2023-05-24T11:22:04.888Z"
   },
   {
    "duration": 5,
    "start_time": "2023-05-24T11:22:04.904Z"
   },
   {
    "duration": 19,
    "start_time": "2023-05-24T11:22:04.911Z"
   },
   {
    "duration": 82,
    "start_time": "2023-05-24T11:22:04.932Z"
   },
   {
    "duration": 10,
    "start_time": "2023-05-24T11:22:05.016Z"
   },
   {
    "duration": 29,
    "start_time": "2023-05-24T11:22:05.028Z"
   },
   {
    "duration": 29,
    "start_time": "2023-05-24T11:22:05.059Z"
   }
  ],
  "kernelspec": {
   "display_name": "Python 3 (ipykernel)",
   "language": "python",
   "name": "python3"
  },
  "language_info": {
   "codemirror_mode": {
    "name": "ipython",
    "version": 3
   },
   "file_extension": ".py",
   "mimetype": "text/x-python",
   "name": "python",
   "nbconvert_exporter": "python",
   "pygments_lexer": "ipython3",
   "version": "3.9.5"
  },
  "toc": {
   "base_numbering": 1,
   "nav_menu": {},
   "number_sections": true,
   "sideBar": true,
   "skip_h1_title": true,
   "title_cell": "Table of Contents",
   "title_sidebar": "Contents",
   "toc_cell": false,
   "toc_position": {},
   "toc_section_display": true,
   "toc_window_display": false
  }
 },
 "nbformat": 4,
 "nbformat_minor": 2
}
